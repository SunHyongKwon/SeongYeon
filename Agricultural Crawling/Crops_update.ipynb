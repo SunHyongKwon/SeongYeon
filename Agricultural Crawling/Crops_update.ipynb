{
 "cells": [
  {
   "cell_type": "code",
   "execution_count": 7,
   "metadata": {},
   "outputs": [],
   "source": [
    "from selenium import webdriver#chrome으로 사이트 접속하기\n",
    "from selenium.webdriver.chrome.service import Service\n",
    "from webdriver_manager.chrome import ChromeDriverManager\n",
    "from selenium.webdriver.common.by import By"
   ]
  },
  {
   "cell_type": "code",
   "execution_count": 8,
   "metadata": {},
   "outputs": [],
   "source": [
    "# Chrome Browser와 Chrome Driver Version 확인하기\n",
    "chrom_options=webdriver.ChromeOptions()\n",
    "driver=webdriver.Chrome(service=Service(ChromeDriverManager().install()),options=chrom_options)\n",
    "driver.get('https://www.kamis.or.kr/customer/main/main.do')#접속하고자 하는 주소 사이트 링크"
   ]
  },
  {
   "cell_type": "code",
   "execution_count": 9,
   "metadata": {},
   "outputs": [],
   "source": [
    "from bs4 import BeautifulSoup\n",
    "import urllib.request as req\n",
    "\n",
    "url='https://www.kamis.or.kr/customer/main/main.do'\n",
    "\n",
    "# res=req.urlopen(url)\n",
    "html = driver.page_source\n",
    "\n",
    "#BeautifulSoup으로 분석하기\n",
    "soup=BeautifulSoup(html,'html.parser')"
   ]
  },
  {
   "cell_type": "code",
   "execution_count": 10,
   "metadata": {},
   "outputs": [],
   "source": [
    "# # 오늘 하루 열지 않기 누르기\n",
    "# import time\n",
    "\n",
    "# xpath='//*[@id=\"todayOpenNone1\"]'\n",
    "# area_list_raw=driver.find_element(By.XPATH,xpath).click()#클릭하게 된다.\n",
    "# time.sleep(2)"
   ]
  },
  {
   "cell_type": "code",
   "execution_count": 12,
   "metadata": {},
   "outputs": [
    {
     "name": "stdout",
     "output_type": "stream",
     "text": [
      "1 번째\n",
      "2 번째\n",
      "3 번째\n",
      "4 번째\n"
     ]
    }
   ],
   "source": [
    "list_all=[]\n",
    "for z in range(1,5):\n",
    "    #홈페이지에서 다른 카테고리 클릭하도록 하기\n",
    "    xpath=f'/html/body/div[1]/div/section[1]/div[1]/div[2]/ul/li[{z}]/h3'\n",
    "    area_list_raw=driver.find_element(By.XPATH,xpath).click()#클릭하게 된다.\n",
    "    time.sleep(2)\n",
    "    #식자재 이름 정보 가져오기\n",
    "    area=soup.select(f'#tab_tbl0{z} td:nth-child(1)')\n",
    "    areanamelist=[]\n",
    "    textlist=[]\n",
    "\n",
    "    for i in area:\n",
    "        textlist.append(i.text.strip())\n",
    "        \n",
    "    textlist\n",
    "    #식자재 단위 정보 가져오기\n",
    "    area=soup.select(f'#tab_tbl0{z} td:nth-child(2)')\n",
    "    textlist2=[]\n",
    "    print(z,'번째')\n",
    "\n",
    "    for i in area:\n",
    "        if 'kg' in i.text.strip():\n",
    "            textlist2.append(float(i.text.strip().replace('kg','')))\n",
    "        else:\n",
    "            textlist2.append(float(i.text.strip().replace('개','')))\n",
    "    #tab_tbl01 > table > tbody\n",
    "    import time\n",
    "    #식자재 가격 정보 가져오기\n",
    "    area=soup.select(f'#tab_tbl0{z} td:nth-child(3)')\n",
    "    textlist3=[]\n",
    "\n",
    "    for i in area:\n",
    "        textlist3.append(int(i.text.strip().replace(',','')))\n",
    "        \n",
    "    textlist3\n",
    "    import time\n",
    "    #선택 된 category 넣어주기\n",
    "    area=soup.select(f'body > div.wrap > div.contArea > section:nth-child(1) > div.tbl_comn.fl_l.w_half.tblArea.wholesaleArea > div.tabList > ul > li:nth-child({z}) > h3')\n",
    "    textlist4=''\n",
    "\n",
    "\n",
    "    for i in area:\n",
    "        textlist4=i.text.strip()\n",
    "        \n",
    "        \n",
    "    category=[]\n",
    "    for i in range(0,len(textlist3)):\n",
    "        category.append(textlist4)\n",
    "\n",
    "    category\n",
    "    import datetime\n",
    "    from datetime import timedelta\n",
    "\n",
    "    date=datetime.datetime.now()\n",
    "    date=date-timedelta(days=1)\n",
    "    # print(date.year,date.month,date.day-1)\n",
    "    date\n",
    "    dateall=[]\n",
    "    for i in range(0,len(textlist3)):\n",
    "        dateall.append(date.strftime('%Y-%m-%d'))\n",
    "\n",
    "    testlist_all=list(zip(textlist,textlist2,textlist3,dateall,category,textlist))\n",
    "    list_all.append(testlist_all)"
   ]
  },
  {
   "cell_type": "code",
   "execution_count": 14,
   "metadata": {},
   "outputs": [],
   "source": [
    "#홈페이지에서 다른 카테고리 클릭하도록 하기\n",
    "xpath=f'/html/body/div[1]/div/section[1]/div[1]/div[2]/ul/li[5]/h3'\n",
    "area_list_raw=driver.find_element(By.XPATH,xpath).click()#클릭하게 된다.\n",
    "time.sleep(2)\n",
    "#식자재 이름 정보 가져오기\n",
    "area=soup.select('#tab_tbl06 td:nth-child(1)')\n",
    "areanamelist=[]\n",
    "textlist=[]\n",
    "\n",
    "for i in area:\n",
    "    textlist.append(i.text.strip())\n",
    "    \n",
    "textlist\n",
    "#식자재 단위 정보 가져오기\n",
    "area=soup.select('#tab_tbl06 td:nth-child(2)')\n",
    "textlist2=[]\n",
    "\n",
    "for i in area:\n",
    "    if 'kg' in i.text.strip():\n",
    "        textlist2.append(float(i.text.strip().replace('kg','')))\n",
    "    else:\n",
    "        textlist2.append(float(i.text.strip().replace('개','')))      \n",
    "#tab_tbl01 > table > tbody\n",
    "import time\n",
    "#식자재 가격 정보 가져오기\n",
    "area=soup.select('#tab_tbl06 td:nth-child(3)')\n",
    "textlist3=[]\n",
    "\n",
    "for i in area:\n",
    "    textlist3.append(int(i.text.strip().replace(',','')))\n",
    "    \n",
    "textlist3\n",
    "import time\n",
    "#선택 된 category 넣어주기\n",
    "\n",
    "area=soup.select(f'body > div.wrap > div.contArea > section:nth-child(1) > div.tbl_comn.fl_l.w_half.tblArea.wholesaleArea > div.tabList > ul > li:nth-child(5) > h3')\n",
    "textlist4=''\n",
    "\n",
    "\n",
    "for i in area:\n",
    "    textlist4=i.text.strip()\n",
    "\n",
    "category=[]\n",
    "for i in range(0,len(textlist3)):\n",
    "    category.append(textlist4)\n",
    "\n",
    "category\n",
    "    \n",
    "textlist4\n",
    "import datetime\n",
    "from datetime import timedelta\n",
    "\n",
    "date=datetime.datetime.now()\n",
    "date=date-timedelta(days=1)\n",
    "# print(date.year,date.month,date.day-1)\n",
    "date\n",
    "dateall=[]\n",
    "for i in range(0,len(textlist3)):\n",
    "    dateall.append(date.strftime('%Y-%m-%d'))\n",
    "\n",
    "dateall\n",
    "\n",
    "\n",
    "\n",
    "testlist_all=list(zip(textlist,textlist2,textlist3,dateall,category,textlist))\n",
    "list_all.append(testlist_all)"
   ]
  },
  {
   "cell_type": "code",
   "execution_count": null,
   "metadata": {},
   "outputs": [],
   "source": [
    "# import re\n",
    "# for i in range(0,len(list_all)-1):\n",
    "#     for z in range(0,len(list_all[i])-1):\n",
    "#         if list_all[i][z][0]=='수박' or list_all[i][z][0]=='오이/다다기계통' or list_all[i][z][0]=='오이/취청' or list_all[i][z][0]=='호박/애호박' or list_all[i][z][0]=='오이/가시계통':\n",
    "#             del list_all[i][z]\n",
    "# list_all"
   ]
  },
  {
   "cell_type": "code",
   "execution_count": 15,
   "metadata": {},
   "outputs": [],
   "source": [
    "#Database에 넣어주기\n",
    "import pymysql"
   ]
  },
  {
   "cell_type": "code",
   "execution_count": 16,
   "metadata": {},
   "outputs": [],
   "source": [
    "#connection\n",
    "conn = pymysql.connect(host=\"127.0.0.1\",\n",
    "                       user = \"root\",\n",
    "                       password = \"6548\",\n",
    "                       db = \"food_price\",\n",
    "                       charset = \"utf8\"\n",
    "                       )\n",
    "# cursor\n",
    "curs = conn.cursor()#mysql접속"
   ]
  },
  {
   "cell_type": "code",
   "execution_count": 17,
   "metadata": {},
   "outputs": [],
   "source": [
    "# Update 한줄씩\n",
    "sql= \"update foodlist set foodName=%s, foodWeight=%s, foodPrice=%s, foodDate=%s, foodCategory=%s where foodName=%s\""
   ]
  },
  {
   "cell_type": "code",
   "execution_count": 18,
   "metadata": {},
   "outputs": [],
   "source": [
    "for i in range(0,len(list_all)):\n",
    "    curs.executemany(sql,tuple(list_all[i]))\n",
    "    conn.commit()"
   ]
  },
  {
   "cell_type": "code",
   "execution_count": 19,
   "metadata": {},
   "outputs": [],
   "source": [
    "conn.close()"
   ]
  }
 ],
 "metadata": {
  "kernelspec": {
   "display_name": "base",
   "language": "python",
   "name": "python3"
  },
  "language_info": {
   "codemirror_mode": {
    "name": "ipython",
    "version": 3
   },
   "file_extension": ".py",
   "mimetype": "text/x-python",
   "name": "python",
   "nbconvert_exporter": "python",
   "pygments_lexer": "ipython3",
   "version": "3.9.13"
  },
  "orig_nbformat": 4,
  "vscode": {
   "interpreter": {
    "hash": "2d2e930fe7604ee71271f8ab2510bff2754723b2642640defd859ce8bafcd122"
   }
  }
 },
 "nbformat": 4,
 "nbformat_minor": 2
}
