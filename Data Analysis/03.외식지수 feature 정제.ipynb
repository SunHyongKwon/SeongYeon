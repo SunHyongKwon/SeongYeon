{
 "cells": [
  {
   "cell_type": "code",
   "execution_count": 53,
   "metadata": {},
   "outputs": [],
   "source": [
    "import pandas as pd\n",
    "import numpy as np \n",
    "import matplotlib.pyplot as plt\n",
    "import seaborn as sns\n",
    "from matplotlib import font_manager, rc\n",
    "import platform\n",
    "import warnings"
   ]
  },
  {
   "cell_type": "code",
   "execution_count": 87,
   "metadata": {},
   "outputs": [],
   "source": [
    "plt.rcParams['axes.unicode_minus'] = False\n",
    "\n",
    "if platform.system() == 'Darwin':\n",
    "    rc('font', family='AppleGothic') # os가 macos\n",
    "elif platform.system() == 'Windows':\n",
    "    path = 'c:/Windows/Fonts/malgun.ttf' # os가 windows\n",
    "    font_name = font_manager.FontProperties(fname=path).get_name()\n",
    "    rc('font', family=font_name)\n",
    "else:\n",
    "    print(\"Unknown System\")\n",
    "\n",
    "warnings.filterwarnings('ignore')"
   ]
  },
  {
   "attachments": {},
   "cell_type": "markdown",
   "metadata": {},
   "source": [
    "### 외식지수 데이터 정제하기"
   ]
  },
  {
   "cell_type": "code",
   "execution_count": 55,
   "metadata": {},
   "outputs": [
    {
     "data": {
      "text/html": [
       "<div>\n",
       "<style scoped>\n",
       "    .dataframe tbody tr th:only-of-type {\n",
       "        vertical-align: middle;\n",
       "    }\n",
       "\n",
       "    .dataframe tbody tr th {\n",
       "        vertical-align: top;\n",
       "    }\n",
       "\n",
       "    .dataframe thead th {\n",
       "        text-align: right;\n",
       "    }\n",
       "</style>\n",
       "<table border=\"1\" class=\"dataframe\">\n",
       "  <thead>\n",
       "    <tr style=\"text-align: right;\">\n",
       "      <th></th>\n",
       "      <th>시점</th>\n",
       "      <th>외식</th>\n",
       "    </tr>\n",
       "  </thead>\n",
       "  <tbody>\n",
       "    <tr>\n",
       "      <th>0</th>\n",
       "      <td>1985.01</td>\n",
       "      <td>21.026</td>\n",
       "    </tr>\n",
       "    <tr>\n",
       "      <th>1</th>\n",
       "      <td>1985.02</td>\n",
       "      <td>21.079</td>\n",
       "    </tr>\n",
       "    <tr>\n",
       "      <th>2</th>\n",
       "      <td>1985.03</td>\n",
       "      <td>21.132</td>\n",
       "    </tr>\n",
       "    <tr>\n",
       "      <th>3</th>\n",
       "      <td>1985.04</td>\n",
       "      <td>21.184</td>\n",
       "    </tr>\n",
       "    <tr>\n",
       "      <th>4</th>\n",
       "      <td>1985.05</td>\n",
       "      <td>21.184</td>\n",
       "    </tr>\n",
       "  </tbody>\n",
       "</table>\n",
       "</div>"
      ],
      "text/plain": [
       "        시점      외식\n",
       "0  1985.01  21.026\n",
       "1  1985.02  21.079\n",
       "2  1985.03  21.132\n",
       "3  1985.04  21.184\n",
       "4  1985.05  21.184"
      ]
     },
     "execution_count": 55,
     "metadata": {},
     "output_type": "execute_result"
    }
   ],
   "source": [
    "eat_out=pd.read_csv('./Data/외식지수.csv',encoding='euc-kr',header=1)\n",
    "eat_out.head()"
   ]
  },
  {
   "cell_type": "code",
   "execution_count": 56,
   "metadata": {},
   "outputs": [],
   "source": [
    "eat_out['시점'] = eat_out['시점'].astype(np.str0).str.replace('.','/')\n",
    "eat_out['시점'] = pd.to_datetime(eat_out['시점'],format='%Y/%m')\n",
    "eat_out.columns=['날짜','외식']"
   ]
  },
  {
   "cell_type": "code",
   "execution_count": 57,
   "metadata": {},
   "outputs": [],
   "source": [
    "eat_out = pd.pivot_table(eat_out,index=['날짜'],aggfunc=np.mean)"
   ]
  },
  {
   "cell_type": "code",
   "execution_count": 58,
   "metadata": {},
   "outputs": [
    {
     "data": {
      "text/html": [
       "<div>\n",
       "<style scoped>\n",
       "    .dataframe tbody tr th:only-of-type {\n",
       "        vertical-align: middle;\n",
       "    }\n",
       "\n",
       "    .dataframe tbody tr th {\n",
       "        vertical-align: top;\n",
       "    }\n",
       "\n",
       "    .dataframe thead th {\n",
       "        text-align: right;\n",
       "    }\n",
       "</style>\n",
       "<table border=\"1\" class=\"dataframe\">\n",
       "  <thead>\n",
       "    <tr style=\"text-align: right;\">\n",
       "      <th></th>\n",
       "      <th>날짜</th>\n",
       "      <th>년도</th>\n",
       "      <th>소비량</th>\n",
       "      <th>월</th>\n",
       "    </tr>\n",
       "  </thead>\n",
       "  <tbody>\n",
       "    <tr>\n",
       "      <th>0</th>\n",
       "      <td>1997-11-01</td>\n",
       "      <td>1997</td>\n",
       "      <td>277.8</td>\n",
       "      <td>11</td>\n",
       "    </tr>\n",
       "    <tr>\n",
       "      <th>1</th>\n",
       "      <td>1997-12-01</td>\n",
       "      <td>1997</td>\n",
       "      <td>275.3</td>\n",
       "      <td>12</td>\n",
       "    </tr>\n",
       "    <tr>\n",
       "      <th>2</th>\n",
       "      <td>1998-01-01</td>\n",
       "      <td>1998</td>\n",
       "      <td>278.0</td>\n",
       "      <td>1</td>\n",
       "    </tr>\n",
       "    <tr>\n",
       "      <th>3</th>\n",
       "      <td>1998-02-01</td>\n",
       "      <td>1998</td>\n",
       "      <td>266.7</td>\n",
       "      <td>2</td>\n",
       "    </tr>\n",
       "    <tr>\n",
       "      <th>4</th>\n",
       "      <td>1998-03-01</td>\n",
       "      <td>1998</td>\n",
       "      <td>273.1</td>\n",
       "      <td>3</td>\n",
       "    </tr>\n",
       "    <tr>\n",
       "      <th>...</th>\n",
       "      <td>...</td>\n",
       "      <td>...</td>\n",
       "      <td>...</td>\n",
       "      <td>...</td>\n",
       "    </tr>\n",
       "    <tr>\n",
       "      <th>270</th>\n",
       "      <td>2022-05-01</td>\n",
       "      <td>2022</td>\n",
       "      <td>154.1</td>\n",
       "      <td>5</td>\n",
       "    </tr>\n",
       "    <tr>\n",
       "      <th>271</th>\n",
       "      <td>2022-06-01</td>\n",
       "      <td>2022</td>\n",
       "      <td>154.8</td>\n",
       "      <td>6</td>\n",
       "    </tr>\n",
       "    <tr>\n",
       "      <th>272</th>\n",
       "      <td>2022-07-01</td>\n",
       "      <td>2022</td>\n",
       "      <td>150.7</td>\n",
       "      <td>7</td>\n",
       "    </tr>\n",
       "    <tr>\n",
       "      <th>273</th>\n",
       "      <td>2022-08-01</td>\n",
       "      <td>2022</td>\n",
       "      <td>151.8</td>\n",
       "      <td>8</td>\n",
       "    </tr>\n",
       "    <tr>\n",
       "      <th>274</th>\n",
       "      <td>2022-09-01</td>\n",
       "      <td>2022</td>\n",
       "      <td>153.7</td>\n",
       "      <td>9</td>\n",
       "    </tr>\n",
       "  </tbody>\n",
       "</table>\n",
       "<p>275 rows × 4 columns</p>\n",
       "</div>"
      ],
      "text/plain": [
       "            날짜    년도    소비량   월\n",
       "0   1997-11-01  1997  277.8  11\n",
       "1   1997-12-01  1997  275.3  12\n",
       "2   1998-01-01  1998  278.0   1\n",
       "3   1998-02-01  1998  266.7   2\n",
       "4   1998-03-01  1998  273.1   3\n",
       "..         ...   ...    ...  ..\n",
       "270 2022-05-01  2022  154.1   5\n",
       "271 2022-06-01  2022  154.8   6\n",
       "272 2022-07-01  2022  150.7   7\n",
       "273 2022-08-01  2022  151.8   8\n",
       "274 2022-09-01  2022  153.7   9\n",
       "\n",
       "[275 rows x 4 columns]"
      ]
     },
     "execution_count": 58,
     "metadata": {},
     "output_type": "execute_result"
    }
   ],
   "source": [
    "target = pd.read_csv('./Data/rice_target.csv')\n",
    "target['날짜']=pd.to_datetime(target['날짜'],format='%Y-%m-%d')\n",
    "target.sort_values(by='날짜').reset_index(drop=True)"
   ]
  },
  {
   "cell_type": "code",
   "execution_count": 59,
   "metadata": {},
   "outputs": [
    {
     "data": {
      "text/html": [
       "<div>\n",
       "<style scoped>\n",
       "    .dataframe tbody tr th:only-of-type {\n",
       "        vertical-align: middle;\n",
       "    }\n",
       "\n",
       "    .dataframe tbody tr th {\n",
       "        vertical-align: top;\n",
       "    }\n",
       "\n",
       "    .dataframe thead th {\n",
       "        text-align: right;\n",
       "    }\n",
       "</style>\n",
       "<table border=\"1\" class=\"dataframe\">\n",
       "  <thead>\n",
       "    <tr style=\"text-align: right;\">\n",
       "      <th></th>\n",
       "      <th>날짜</th>\n",
       "      <th>년도</th>\n",
       "      <th>소비량</th>\n",
       "      <th>월</th>\n",
       "      <th>외식</th>\n",
       "    </tr>\n",
       "  </thead>\n",
       "  <tbody>\n",
       "    <tr>\n",
       "      <th>0</th>\n",
       "      <td>1997-11-01</td>\n",
       "      <td>1997</td>\n",
       "      <td>277.8</td>\n",
       "      <td>11</td>\n",
       "      <td>58.1630</td>\n",
       "    </tr>\n",
       "    <tr>\n",
       "      <th>1</th>\n",
       "      <td>1997-12-01</td>\n",
       "      <td>1997</td>\n",
       "      <td>275.3</td>\n",
       "      <td>12</td>\n",
       "      <td>58.8510</td>\n",
       "    </tr>\n",
       "    <tr>\n",
       "      <th>2</th>\n",
       "      <td>1998-01-01</td>\n",
       "      <td>1998</td>\n",
       "      <td>278.0</td>\n",
       "      <td>1</td>\n",
       "      <td>60.4085</td>\n",
       "    </tr>\n",
       "    <tr>\n",
       "      <th>3</th>\n",
       "      <td>1998-02-01</td>\n",
       "      <td>1998</td>\n",
       "      <td>266.7</td>\n",
       "      <td>2</td>\n",
       "      <td>61.1740</td>\n",
       "    </tr>\n",
       "    <tr>\n",
       "      <th>4</th>\n",
       "      <td>1998-03-01</td>\n",
       "      <td>1998</td>\n",
       "      <td>273.1</td>\n",
       "      <td>3</td>\n",
       "      <td>61.3860</td>\n",
       "    </tr>\n",
       "    <tr>\n",
       "      <th>...</th>\n",
       "      <td>...</td>\n",
       "      <td>...</td>\n",
       "      <td>...</td>\n",
       "      <td>...</td>\n",
       "      <td>...</td>\n",
       "    </tr>\n",
       "    <tr>\n",
       "      <th>270</th>\n",
       "      <td>2022-05-01</td>\n",
       "      <td>2022</td>\n",
       "      <td>154.1</td>\n",
       "      <td>5</td>\n",
       "      <td>109.8100</td>\n",
       "    </tr>\n",
       "    <tr>\n",
       "      <th>271</th>\n",
       "      <td>2022-06-01</td>\n",
       "      <td>2022</td>\n",
       "      <td>154.8</td>\n",
       "      <td>6</td>\n",
       "      <td>110.6700</td>\n",
       "    </tr>\n",
       "    <tr>\n",
       "      <th>272</th>\n",
       "      <td>2022-07-01</td>\n",
       "      <td>2022</td>\n",
       "      <td>150.7</td>\n",
       "      <td>7</td>\n",
       "      <td>111.3900</td>\n",
       "    </tr>\n",
       "    <tr>\n",
       "      <th>273</th>\n",
       "      <td>2022-08-01</td>\n",
       "      <td>2022</td>\n",
       "      <td>151.8</td>\n",
       "      <td>8</td>\n",
       "      <td>112.2000</td>\n",
       "    </tr>\n",
       "    <tr>\n",
       "      <th>274</th>\n",
       "      <td>2022-09-01</td>\n",
       "      <td>2022</td>\n",
       "      <td>153.7</td>\n",
       "      <td>9</td>\n",
       "      <td>112.8000</td>\n",
       "    </tr>\n",
       "  </tbody>\n",
       "</table>\n",
       "<p>275 rows × 5 columns</p>\n",
       "</div>"
      ],
      "text/plain": [
       "            날짜    년도    소비량   월        외식\n",
       "0   1997-11-01  1997  277.8  11   58.1630\n",
       "1   1997-12-01  1997  275.3  12   58.8510\n",
       "2   1998-01-01  1998  278.0   1   60.4085\n",
       "3   1998-02-01  1998  266.7   2   61.1740\n",
       "4   1998-03-01  1998  273.1   3   61.3860\n",
       "..         ...   ...    ...  ..       ...\n",
       "270 2022-05-01  2022  154.1   5  109.8100\n",
       "271 2022-06-01  2022  154.8   6  110.6700\n",
       "272 2022-07-01  2022  150.7   7  111.3900\n",
       "273 2022-08-01  2022  151.8   8  112.2000\n",
       "274 2022-09-01  2022  153.7   9  112.8000\n",
       "\n",
       "[275 rows x 5 columns]"
      ]
     },
     "execution_count": 59,
     "metadata": {},
     "output_type": "execute_result"
    }
   ],
   "source": [
    "df=pd.merge(target,eat_out,on='날짜',how='inner')\n",
    "df"
   ]
  },
  {
   "attachments": {},
   "cell_type": "markdown",
   "metadata": {},
   "source": [
    "### 외식지수 소비량 상관계수 찍기\n",
    "- 0.96로 매우 높은 역상관관계를 가진다. "
   ]
  },
  {
   "cell_type": "code",
   "execution_count": 91,
   "metadata": {},
   "outputs": [
    {
     "data": {
      "text/html": [
       "<div>\n",
       "<style scoped>\n",
       "    .dataframe tbody tr th:only-of-type {\n",
       "        vertical-align: middle;\n",
       "    }\n",
       "\n",
       "    .dataframe tbody tr th {\n",
       "        vertical-align: top;\n",
       "    }\n",
       "\n",
       "    .dataframe thead th {\n",
       "        text-align: right;\n",
       "    }\n",
       "</style>\n",
       "<table border=\"1\" class=\"dataframe\">\n",
       "  <thead>\n",
       "    <tr style=\"text-align: right;\">\n",
       "      <th></th>\n",
       "      <th>소비량</th>\n",
       "      <th>외식</th>\n",
       "    </tr>\n",
       "  </thead>\n",
       "  <tbody>\n",
       "    <tr>\n",
       "      <th>소비량</th>\n",
       "      <td>1.000000</td>\n",
       "      <td>-0.959967</td>\n",
       "    </tr>\n",
       "    <tr>\n",
       "      <th>외식</th>\n",
       "      <td>-0.959967</td>\n",
       "      <td>1.000000</td>\n",
       "    </tr>\n",
       "  </tbody>\n",
       "</table>\n",
       "</div>"
      ],
      "text/plain": [
       "          소비량        외식\n",
       "소비량  1.000000 -0.959967\n",
       "외식  -0.959967  1.000000"
      ]
     },
     "execution_count": 91,
     "metadata": {},
     "output_type": "execute_result"
    }
   ],
   "source": [
    "df[['소비량','외식']].corr()"
   ]
  },
  {
   "attachments": {},
   "cell_type": "markdown",
   "metadata": {},
   "source": [
    "### 외식지수 소비량 시각화 하기"
   ]
  },
  {
   "cell_type": "code",
   "execution_count": 88,
   "metadata": {},
   "outputs": [
    {
     "data": {
      "text/plain": [
       "<Figure size 2000x800 with 0 Axes>"
      ]
     },
     "metadata": {},
     "output_type": "display_data"
    },
    {
     "data": {
      "image/png": "[encoded data removed]",
      "text/plain": [
       "<Figure size 800x800 with 3 Axes>"
      ]
     },
     "metadata": {},
     "output_type": "display_data"
    }
   ],
   "source": [
    "plt.style.use('fivethirtyeight')\n",
    "plt.figure(figsize=(25,10))\n",
    "\n",
    "j1 = sns.jointplot(\n",
    "\tx = '외식',\n",
    "\ty = '소비량',\n",
    "\tdata = df,\n",
    "    height=10,\n",
    "    marginal_kws={'color': 'green'},\n",
    "    s = 50\n",
    ")\n",
    "\n",
    "j1.fig.suptitle(\n",
    "    '외식지수와 소비량 산점도 및 히스토그램', y=1.03, fontsize = 27\n",
    ")\n",
    "\n",
    "plt.savefig('./Plot/외식지수 와 소비량 산점도.jpg')\n",
    "plt.xlabel('외식지수')\n",
    "\n",
    "plt.show()"
   ]
  },
  {
   "attachments": {},
   "cell_type": "markdown",
   "metadata": {},
   "source": [
    "> ### 외식지수를 유도해 낼 수 있는 feature들을 만들어가면 예측력이 높은 모델을 만들 수 있을 것이라 예측 된다. "
   ]
  },
  {
   "cell_type": "code",
   "execution_count": null,
   "metadata": {},
   "outputs": [],
   "source": []
  }
 ],
 "metadata": {
  "kernelspec": {
   "display_name": "tensorflow",
   "language": "python",
   "name": "python3"
  },
  "language_info": {
   "codemirror_mode": {
    "name": "ipython",
    "version": 3
   },
   "file_extension": ".py",
   "mimetype": "text/x-python",
   "name": "python",
   "nbconvert_exporter": "python",
   "pygments_lexer": "ipython3",
   "version": "3.9.13"
  },
  "orig_nbformat": 4,
  "vscode": {
   "interpreter": {
    "hash": "a3680a952170aa4879024e73d39878b7aac962f0b16bced1a9689b2321800c8b"
   }
  }
 },
 "nbformat": 4,
 "nbformat_minor": 2
}
