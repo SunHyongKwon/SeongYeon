{
 "cells": [
  {
   "cell_type": "code",
   "execution_count": 13,
   "metadata": {},
   "outputs": [],
   "source": [
    "import numpy as np\n",
    "import pandas as pd\n",
    "from sklearn.model_selection import train_test_split , cross_validate\n",
    "from sklearn.neighbors import KNeighborsRegressor\n",
    "from sklearn.ensemble import RandomForestRegressor\n",
    "from sklearn.tree import DecisionTreeRegressor\n",
    "from sklearn.svm import SVR\n",
    "from sklearn.linear_model import LinearRegression , Lasso , Ridge , ElasticNet , QuantileRegressor"
   ]
  },
  {
   "attachments": {},
   "cell_type": "markdown",
   "metadata": {},
   "source": [
    "### 불러오기"
   ]
  },
  {
   "cell_type": "code",
   "execution_count": 14,
   "metadata": {},
   "outputs": [
    {
     "data": {
      "text/html": [
       "<div>\n",
       "<style scoped>\n",
       "    .dataframe tbody tr th:only-of-type {\n",
       "        vertical-align: middle;\n",
       "    }\n",
       "\n",
       "    .dataframe tbody tr th {\n",
       "        vertical-align: top;\n",
       "    }\n",
       "\n",
       "    .dataframe thead th {\n",
       "        text-align: right;\n",
       "    }\n",
       "</style>\n",
       "<table border=\"1\" class=\"dataframe\">\n",
       "  <thead>\n",
       "    <tr style=\"text-align: right;\">\n",
       "      <th></th>\n",
       "      <th>city</th>\n",
       "      <th>country</th>\n",
       "      <th>x1</th>\n",
       "      <th>x2</th>\n",
       "      <th>x3</th>\n",
       "      <th>x4</th>\n",
       "      <th>x5</th>\n",
       "      <th>x6</th>\n",
       "      <th>x7</th>\n",
       "      <th>x8</th>\n",
       "      <th>...</th>\n",
       "      <th>x47</th>\n",
       "      <th>x48</th>\n",
       "      <th>x49</th>\n",
       "      <th>x50</th>\n",
       "      <th>x51</th>\n",
       "      <th>x52</th>\n",
       "      <th>x53</th>\n",
       "      <th>x54</th>\n",
       "      <th>x55</th>\n",
       "      <th>data_quality</th>\n",
       "    </tr>\n",
       "  </thead>\n",
       "  <tbody>\n",
       "    <tr>\n",
       "      <th>0</th>\n",
       "      <td>Delhi</td>\n",
       "      <td>India</td>\n",
       "      <td>4.90</td>\n",
       "      <td>22.04</td>\n",
       "      <td>4.28</td>\n",
       "      <td>1.84</td>\n",
       "      <td>3.67</td>\n",
       "      <td>1.78</td>\n",
       "      <td>0.48</td>\n",
       "      <td>0.19</td>\n",
       "      <td>...</td>\n",
       "      <td>36.26</td>\n",
       "      <td>223.87</td>\n",
       "      <td>133.38</td>\n",
       "      <td>596.16</td>\n",
       "      <td>325.82</td>\n",
       "      <td>2619.46</td>\n",
       "      <td>1068.90</td>\n",
       "      <td>586.35</td>\n",
       "      <td>7.96</td>\n",
       "      <td>1</td>\n",
       "    </tr>\n",
       "    <tr>\n",
       "      <th>1</th>\n",
       "      <td>Shanghai</td>\n",
       "      <td>China</td>\n",
       "      <td>5.59</td>\n",
       "      <td>40.51</td>\n",
       "      <td>5.59</td>\n",
       "      <td>1.12</td>\n",
       "      <td>4.19</td>\n",
       "      <td>3.96</td>\n",
       "      <td>0.52</td>\n",
       "      <td>0.32</td>\n",
       "      <td>...</td>\n",
       "      <td>121.19</td>\n",
       "      <td>1080.07</td>\n",
       "      <td>564.30</td>\n",
       "      <td>2972.57</td>\n",
       "      <td>1532.23</td>\n",
       "      <td>17333.09</td>\n",
       "      <td>9174.88</td>\n",
       "      <td>1382.83</td>\n",
       "      <td>5.01</td>\n",
       "      <td>1</td>\n",
       "    </tr>\n",
       "    <tr>\n",
       "      <th>2</th>\n",
       "      <td>Jakarta</td>\n",
       "      <td>Indonesia</td>\n",
       "      <td>2.54</td>\n",
       "      <td>22.25</td>\n",
       "      <td>3.50</td>\n",
       "      <td>2.02</td>\n",
       "      <td>3.18</td>\n",
       "      <td>2.19</td>\n",
       "      <td>0.59</td>\n",
       "      <td>0.27</td>\n",
       "      <td>...</td>\n",
       "      <td>80.32</td>\n",
       "      <td>482.85</td>\n",
       "      <td>270.15</td>\n",
       "      <td>1117.69</td>\n",
       "      <td>584.37</td>\n",
       "      <td>2694.05</td>\n",
       "      <td>1269.44</td>\n",
       "      <td>483.19</td>\n",
       "      <td>9.15</td>\n",
       "      <td>1</td>\n",
       "    </tr>\n",
       "    <tr>\n",
       "      <th>3</th>\n",
       "      <td>Manila</td>\n",
       "      <td>Philippines</td>\n",
       "      <td>3.54</td>\n",
       "      <td>27.40</td>\n",
       "      <td>3.54</td>\n",
       "      <td>1.24</td>\n",
       "      <td>1.90</td>\n",
       "      <td>2.91</td>\n",
       "      <td>0.93</td>\n",
       "      <td>0.51</td>\n",
       "      <td>...</td>\n",
       "      <td>61.82</td>\n",
       "      <td>559.52</td>\n",
       "      <td>281.78</td>\n",
       "      <td>1754.40</td>\n",
       "      <td>684.81</td>\n",
       "      <td>3536.04</td>\n",
       "      <td>2596.44</td>\n",
       "      <td>419.02</td>\n",
       "      <td>7.80</td>\n",
       "      <td>1</td>\n",
       "    </tr>\n",
       "    <tr>\n",
       "      <th>4</th>\n",
       "      <td>Seoul</td>\n",
       "      <td>South Korea</td>\n",
       "      <td>7.16</td>\n",
       "      <td>52.77</td>\n",
       "      <td>6.03</td>\n",
       "      <td>3.02</td>\n",
       "      <td>4.52</td>\n",
       "      <td>3.86</td>\n",
       "      <td>1.46</td>\n",
       "      <td>0.78</td>\n",
       "      <td>...</td>\n",
       "      <td>108.30</td>\n",
       "      <td>809.83</td>\n",
       "      <td>583.60</td>\n",
       "      <td>2621.05</td>\n",
       "      <td>1683.74</td>\n",
       "      <td>21847.94</td>\n",
       "      <td>10832.90</td>\n",
       "      <td>2672.23</td>\n",
       "      <td>3.47</td>\n",
       "      <td>1</td>\n",
       "    </tr>\n",
       "  </tbody>\n",
       "</table>\n",
       "<p>5 rows × 58 columns</p>\n",
       "</div>"
      ],
      "text/plain": [
       "       city      country    x1     x2    x3    x4    x5    x6    x7    x8  \\\n",
       "0     Delhi        India  4.90  22.04  4.28  1.84  3.67  1.78  0.48  0.19   \n",
       "1  Shanghai        China  5.59  40.51  5.59  1.12  4.19  3.96  0.52  0.32   \n",
       "2   Jakarta    Indonesia  2.54  22.25  3.50  2.02  3.18  2.19  0.59  0.27   \n",
       "3    Manila  Philippines  3.54  27.40  3.54  1.24  1.90  2.91  0.93  0.51   \n",
       "4     Seoul  South Korea  7.16  52.77  6.03  3.02  4.52  3.86  1.46  0.78   \n",
       "\n",
       "   ...     x47      x48     x49      x50      x51       x52       x53  \\\n",
       "0  ...   36.26   223.87  133.38   596.16   325.82   2619.46   1068.90   \n",
       "1  ...  121.19  1080.07  564.30  2972.57  1532.23  17333.09   9174.88   \n",
       "2  ...   80.32   482.85  270.15  1117.69   584.37   2694.05   1269.44   \n",
       "3  ...   61.82   559.52  281.78  1754.40   684.81   3536.04   2596.44   \n",
       "4  ...  108.30   809.83  583.60  2621.05  1683.74  21847.94  10832.90   \n",
       "\n",
       "       x54   x55  data_quality  \n",
       "0   586.35  7.96             1  \n",
       "1  1382.83  5.01             1  \n",
       "2   483.19  9.15             1  \n",
       "3   419.02  7.80             1  \n",
       "4  2672.23  3.47             1  \n",
       "\n",
       "[5 rows x 58 columns]"
      ]
     },
     "execution_count": 14,
     "metadata": {},
     "output_type": "execute_result"
    }
   ],
   "source": [
    "cost = pd.read_csv('./Data/global_cost.csv')\n",
    "cost.head()"
   ]
  },
  {
   "cell_type": "code",
   "execution_count": 15,
   "metadata": {},
   "outputs": [],
   "source": [
    "target = cost['x1'].to_numpy()\n",
    "data = cost[cost.columns.difference(['x1','city','country','data_quality'])].to_numpy()"
   ]
  },
  {
   "cell_type": "code",
   "execution_count": 16,
   "metadata": {},
   "outputs": [
    {
     "data": {
      "text/plain": [
       "(2542,)"
      ]
     },
     "execution_count": 16,
     "metadata": {},
     "output_type": "execute_result"
    }
   ],
   "source": [
    "target.shape"
   ]
  },
  {
   "cell_type": "code",
   "execution_count": 17,
   "metadata": {},
   "outputs": [
    {
     "data": {
      "text/plain": [
       "(2542, 54)"
      ]
     },
     "execution_count": 17,
     "metadata": {},
     "output_type": "execute_result"
    }
   ],
   "source": [
    "data.shape"
   ]
  },
  {
   "attachments": {},
   "cell_type": "markdown",
   "metadata": {},
   "source": [
    "### train / test 나누기"
   ]
  },
  {
   "cell_type": "code",
   "execution_count": 18,
   "metadata": {},
   "outputs": [],
   "source": [
    "train_input , test_input , train_target , test_target = \\\n",
    "train_test_split(data,target,test_size=0.2)"
   ]
  },
  {
   "attachments": {},
   "cell_type": "markdown",
   "metadata": {},
   "source": [
    "### 모델 만들기"
   ]
  },
  {
   "cell_type": "code",
   "execution_count": 19,
   "metadata": {},
   "outputs": [],
   "source": [
    "knr = KNeighborsRegressor()\n",
    "lr = LinearRegression()\n",
    "ridge =Ridge()\n",
    "lasso = Lasso()\n",
    "dt = DecisionTreeRegressor()\n",
    "rf = RandomForestRegressor()\n",
    "svr = SVR()"
   ]
  },
  {
   "cell_type": "code",
   "execution_count": 20,
   "metadata": {},
   "outputs": [],
   "source": [
    "# 모델 리스트 만들기\n",
    "models = [knr, lr, ridge, lasso, dt, rf , svr ]"
   ]
  },
  {
   "attachments": {},
   "cell_type": "markdown",
   "metadata": {},
   "source": [
    "### 교차검증하기"
   ]
  },
  {
   "cell_type": "code",
   "execution_count": 21,
   "metadata": {},
   "outputs": [
    {
     "name": "stdout",
     "output_type": "stream",
     "text": [
      "train :  0.8067235273146244\n",
      "test :  0.6867782902010349\n",
      "--------------------------------------------------\n",
      "train :  0.8690267050121567\n",
      "test :  0.84745876052151\n",
      "--------------------------------------------------\n",
      "train :  0.8690257742474966\n",
      "test :  0.8474652717690052\n",
      "--------------------------------------------------\n",
      "train :  0.8394551619760726\n",
      "test :  0.814932913608666\n",
      "--------------------------------------------------\n",
      "train :  1.0\n",
      "test :  0.8571867186942231\n",
      "--------------------------------------------------\n",
      "train :  0.9886854688904245\n",
      "test :  0.9226256846047743\n",
      "--------------------------------------------------\n",
      "train :  0.614733701894167\n",
      "test :  0.606389458007935\n",
      "--------------------------------------------------\n"
     ]
    }
   ],
   "source": [
    "for model in models:\n",
    "    scores = cross_validate(\n",
    "        model,\n",
    "        train_input,\n",
    "        train_target,\n",
    "        return_train_score=True\n",
    "    )\n",
    "\n",
    "    print('train : ',np.mean(scores['train_score']))\n",
    "    print('test : ',np.mean(scores['test_score']))\n",
    "\n",
    "    print('-'*50)"
   ]
  },
  {
   "cell_type": "code",
   "execution_count": 22,
   "metadata": {},
   "outputs": [
    {
     "data": {
      "text/html": [
       "<style>#sk-container-id-2 {color: black;background-color: white;}#sk-container-id-2 pre{padding: 0;}#sk-container-id-2 div.sk-toggleable {background-color: white;}#sk-container-id-2 label.sk-toggleable__label {cursor: pointer;display: block;width: 100%;margin-bottom: 0;padding: 0.3em;box-sizing: border-box;text-align: center;}#sk-container-id-2 label.sk-toggleable__label-arrow:before {content: \"▸\";float: left;margin-right: 0.25em;color: #696969;}#sk-container-id-2 label.sk-toggleable__label-arrow:hover:before {color: black;}#sk-container-id-2 div.sk-estimator:hover label.sk-toggleable__label-arrow:before {color: black;}#sk-container-id-2 div.sk-toggleable__content {max-height: 0;max-width: 0;overflow: hidden;text-align: left;background-color: #f0f8ff;}#sk-container-id-2 div.sk-toggleable__content pre {margin: 0.2em;color: black;border-radius: 0.25em;background-color: #f0f8ff;}#sk-container-id-2 input.sk-toggleable__control:checked~div.sk-toggleable__content {max-height: 200px;max-width: 100%;overflow: auto;}#sk-container-id-2 input.sk-toggleable__control:checked~label.sk-toggleable__label-arrow:before {content: \"▾\";}#sk-container-id-2 div.sk-estimator input.sk-toggleable__control:checked~label.sk-toggleable__label {background-color: #d4ebff;}#sk-container-id-2 div.sk-label input.sk-toggleable__control:checked~label.sk-toggleable__label {background-color: #d4ebff;}#sk-container-id-2 input.sk-hidden--visually {border: 0;clip: rect(1px 1px 1px 1px);clip: rect(1px, 1px, 1px, 1px);height: 1px;margin: -1px;overflow: hidden;padding: 0;position: absolute;width: 1px;}#sk-container-id-2 div.sk-estimator {font-family: monospace;background-color: #f0f8ff;border: 1px dotted black;border-radius: 0.25em;box-sizing: border-box;margin-bottom: 0.5em;}#sk-container-id-2 div.sk-estimator:hover {background-color: #d4ebff;}#sk-container-id-2 div.sk-parallel-item::after {content: \"\";width: 100%;border-bottom: 1px solid gray;flex-grow: 1;}#sk-container-id-2 div.sk-label:hover label.sk-toggleable__label {background-color: #d4ebff;}#sk-container-id-2 div.sk-serial::before {content: \"\";position: absolute;border-left: 1px solid gray;box-sizing: border-box;top: 0;bottom: 0;left: 50%;z-index: 0;}#sk-container-id-2 div.sk-serial {display: flex;flex-direction: column;align-items: center;background-color: white;padding-right: 0.2em;padding-left: 0.2em;position: relative;}#sk-container-id-2 div.sk-item {position: relative;z-index: 1;}#sk-container-id-2 div.sk-parallel {display: flex;align-items: stretch;justify-content: center;background-color: white;position: relative;}#sk-container-id-2 div.sk-item::before, #sk-container-id-2 div.sk-parallel-item::before {content: \"\";position: absolute;border-left: 1px solid gray;box-sizing: border-box;top: 0;bottom: 0;left: 50%;z-index: -1;}#sk-container-id-2 div.sk-parallel-item {display: flex;flex-direction: column;z-index: 1;position: relative;background-color: white;}#sk-container-id-2 div.sk-parallel-item:first-child::after {align-self: flex-end;width: 50%;}#sk-container-id-2 div.sk-parallel-item:last-child::after {align-self: flex-start;width: 50%;}#sk-container-id-2 div.sk-parallel-item:only-child::after {width: 0;}#sk-container-id-2 div.sk-dashed-wrapped {border: 1px dashed gray;margin: 0 0.4em 0.5em 0.4em;box-sizing: border-box;padding-bottom: 0.4em;background-color: white;}#sk-container-id-2 div.sk-label label {font-family: monospace;font-weight: bold;display: inline-block;line-height: 1.2em;}#sk-container-id-2 div.sk-label-container {text-align: center;}#sk-container-id-2 div.sk-container {/* jupyter's `normalize.less` sets `[hidden] { display: none; }` but bootstrap.min.css set `[hidden] { display: none !important; }` so we also need the `!important` here to be able to override the default hidden behavior on the sphinx rendered scikit-learn.org. See: https://github.com/scikit-learn/scikit-learn/issues/21755 */display: inline-block !important;position: relative;}#sk-container-id-2 div.sk-text-repr-fallback {display: none;}</style><div id=\"sk-container-id-2\" class=\"sk-top-container\"><div class=\"sk-text-repr-fallback\"><pre>RandomForestRegressor()</pre><b>In a Jupyter environment, please rerun this cell to show the HTML representation or trust the notebook. <br />On GitHub, the HTML representation is unable to render, please try loading this page with nbviewer.org.</b></div><div class=\"sk-container\" hidden><div class=\"sk-item\"><div class=\"sk-estimator sk-toggleable\"><input class=\"sk-toggleable__control sk-hidden--visually\" id=\"sk-estimator-id-2\" type=\"checkbox\" checked><label for=\"sk-estimator-id-2\" class=\"sk-toggleable__label sk-toggleable__label-arrow\">RandomForestRegressor</label><div class=\"sk-toggleable__content\"><pre>RandomForestRegressor()</pre></div></div></div></div></div>"
      ],
      "text/plain": [
       "RandomForestRegressor()"
      ]
     },
     "execution_count": 22,
     "metadata": {},
     "output_type": "execute_result"
    }
   ],
   "source": [
    "rf.fit(train_input,train_target)"
   ]
  },
  {
   "cell_type": "code",
   "execution_count": 23,
   "metadata": {},
   "outputs": [
    {
     "data": {
      "text/plain": [
       "array([0.00241704, 0.0028427 , 0.00733655, 0.00350995, 0.00676828,\n",
       "       0.00276026, 0.00164598, 0.00292343, 0.00269747, 0.00459393,\n",
       "       0.72117095, 0.00176755, 0.00204735, 0.00237718, 0.00223135,\n",
       "       0.00150649, 0.00400577, 0.0023461 , 0.00393859, 0.00403533,\n",
       "       0.00211248, 0.0100059 , 0.0018531 , 0.00452015, 0.00531752,\n",
       "       0.00275031, 0.00170531, 0.00239525, 0.00698666, 0.00291852,\n",
       "       0.00291174, 0.0045091 , 0.00303161, 0.00218758, 0.007484  ,\n",
       "       0.01794021, 0.00257889, 0.00251854, 0.00178189, 0.00271122,\n",
       "       0.00251013, 0.00232333, 0.02002922, 0.00504394, 0.00263536,\n",
       "       0.00304752, 0.00152278, 0.00201835, 0.00881441, 0.00325852,\n",
       "       0.00396085, 0.06566145, 0.00532195, 0.00270996])"
      ]
     },
     "execution_count": 23,
     "metadata": {},
     "output_type": "execute_result"
    }
   ],
   "source": [
    "rf.feature_importances_ # 12 , 23 , 36 , 37 , 44 , 50 , 53"
   ]
  },
  {
   "cell_type": "code",
   "execution_count": 27,
   "metadata": {},
   "outputs": [
    {
     "data": {
      "text/plain": [
       "1.4128284815106216"
      ]
     },
     "execution_count": 27,
     "metadata": {},
     "output_type": "execute_result"
    }
   ],
   "source": [
    "cost['x28'].mean()"
   ]
  },
  {
   "cell_type": "code",
   "execution_count": 26,
   "metadata": {},
   "outputs": [
    {
     "data": {
      "text/plain": [
       "40.86263571990559"
      ]
     },
     "execution_count": 26,
     "metadata": {},
     "output_type": "execute_result"
    }
   ],
   "source": [
    "cost['x29'].mean()"
   ]
  },
  {
   "cell_type": "code",
   "execution_count": null,
   "metadata": {},
   "outputs": [],
   "source": []
  }
 ],
 "metadata": {
  "kernelspec": {
   "display_name": "tensorflow",
   "language": "python",
   "name": "python3"
  },
  "language_info": {
   "codemirror_mode": {
    "name": "ipython",
    "version": 3
   },
   "file_extension": ".py",
   "mimetype": "text/x-python",
   "name": "python",
   "nbconvert_exporter": "python",
   "pygments_lexer": "ipython3",
   "version": "3.9.13"
  },
  "orig_nbformat": 4,
  "vscode": {
   "interpreter": {
    "hash": "a3680a952170aa4879024e73d39878b7aac962f0b16bced1a9689b2321800c8b"
   }
  }
 },
 "nbformat": 4,
 "nbformat_minor": 2
}
