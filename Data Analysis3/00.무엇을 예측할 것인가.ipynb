{
 "cells": [
  {
   "attachments": {},
   "cell_type": "markdown",
   "metadata": {},
   "source": [
    "### 무엇을 예측할 것인가?\n",
    "- 년도별 서울시 상권과 업종별 매출 데이터를 가지고 추후에 매출이 어느정도 일지를 예상하고 <br><br>\n",
    "어느 상권에 어느 업종의 사업을 하는 것이 유리한지 매출액을 통해 파악할 수 있을 것이라 생각된다. <br><br>\n",
    "\n",
    "### 기본적으로 어떻게 예측되기를 바라는가?\n",
    "- 상권과 업종을 선택하고 그 외의 특성들을 추가로 설정했을 때, 분기별 매출이 어느정도 될 것인가를 맞추는 것이다.\n",
    "\n",
    "### 파악해야 되는 순서\n",
    "1) 상권명과 업종별을 기본 특성으로 하여서 매출을 파악할 것이기 때문에, 그 이외의 범주형 데이터들로 데이터셋을 나누어서 매출 분포가 비슷한지 아닌지 파악하기 \n",
    "<br><br>\n",
    "    - 비슷하다면 다같이 쓰면 되고 아니라면 나누어서 쓰면 된다. <br><br>\n",
    "2) 데이터셋에서의 특성 파악하기 "
   ]
  },
  {
   "attachments": {},
   "cell_type": "markdown",
   "metadata": {},
   "source": [
    "### 아이디어\n",
    "1) 월별 매출 비율이나 남성 여성의 매출 비율을 가지고 상권별 clustering 하여서 map에 표시해주기 <br><br>\n",
    "2) 업종별 점포수를 가지고 어느 상권이 어느 업종에 특화되어 있는지 파악할수도 있을 것 같다. <br><br>"
   ]
  },
  {
   "cell_type": "code",
   "execution_count": null,
   "metadata": {},
   "outputs": [],
   "source": []
  }
 ],
 "metadata": {
  "kernelspec": {
   "display_name": "Python 3",
   "language": "python",
   "name": "python3"
  },
  "language_info": {
   "name": "python",
   "version": "3.9.6"
  },
  "orig_nbformat": 4,
  "vscode": {
   "interpreter": {
    "hash": "31f2aee4e71d21fbe5cf8b01ff0e069b9275f58929596ceb00d14d90e3e16cd6"
   }
  }
 },
 "nbformat": 4,
 "nbformat_minor": 2
}
