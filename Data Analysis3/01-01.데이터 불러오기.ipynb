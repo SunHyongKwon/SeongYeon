{
 "cells": [
  {
   "cell_type": "code",
   "execution_count": 154,
   "metadata": {},
   "outputs": [],
   "source": [
    "import pandas as pd\n",
    "import numpy as np\n",
    "import matplotlib.pyplot as plt\n",
    "from matplotlib import font_manager, rc\n",
    "import platform"
   ]
  },
  {
   "cell_type": "code",
   "execution_count": 155,
   "metadata": {},
   "outputs": [],
   "source": [
    "plt.rcParams['axes.unicode_minus'] = False\n",
    "\n",
    "if platform.system() == 'Darwin':\n",
    "    rc('font', family='AppleGothic') # os가 macos\n",
    "elif platform.system() == 'Windows':\n",
    "    path = 'c:/Windows/Fonts/malgun.ttf' # os가 windows\n",
    "    font_name = font_manager.FontProperties(fname=path).get_name()\n",
    "    rc('font', family=font_name)\n",
    "else:\n",
    "    print(\"Unknown System\")"
   ]
  },
  {
   "attachments": {},
   "cell_type": "markdown",
   "metadata": {},
   "source": [
    "### 2021년 상권 업종 별 추정 매출 데이터 가져오기"
   ]
  },
  {
   "cell_type": "code",
   "execution_count": 156,
   "metadata": {},
   "outputs": [
    {
     "data": {
      "text/html": [
       "<div>\n",
       "<style scoped>\n",
       "    .dataframe tbody tr th:only-of-type {\n",
       "        vertical-align: middle;\n",
       "    }\n",
       "\n",
       "    .dataframe tbody tr th {\n",
       "        vertical-align: top;\n",
       "    }\n",
       "\n",
       "    .dataframe thead th {\n",
       "        text-align: right;\n",
       "    }\n",
       "</style>\n",
       "<table border=\"1\" class=\"dataframe\">\n",
       "  <thead>\n",
       "    <tr style=\"text-align: right;\">\n",
       "      <th></th>\n",
       "      <th>기준_년_코드</th>\n",
       "      <th>기준_분기_코드</th>\n",
       "      <th>상권_구분_코드</th>\n",
       "      <th>상권_구분_코드_명</th>\n",
       "      <th>상권_코드</th>\n",
       "      <th>상권_코드_명</th>\n",
       "      <th>서비스_업종_코드</th>\n",
       "      <th>서비스_업종_코드_명</th>\n",
       "      <th>분기당_매출_금액</th>\n",
       "      <th>분기당_매출_건수</th>\n",
       "      <th>...</th>\n",
       "      <th>시간대_건수~24_매출_건수</th>\n",
       "      <th>남성_매출_건수</th>\n",
       "      <th>여성_매출_건수</th>\n",
       "      <th>연령대_10_매출_건수</th>\n",
       "      <th>연령대_20_매출_건수</th>\n",
       "      <th>연령대_30_매출_건수</th>\n",
       "      <th>연령대_40_매출_건수</th>\n",
       "      <th>연령대_50_매출_건수</th>\n",
       "      <th>연령대_60_이상_매출_건수</th>\n",
       "      <th>점포수</th>\n",
       "    </tr>\n",
       "  </thead>\n",
       "  <tbody>\n",
       "    <tr>\n",
       "      <th>0</th>\n",
       "      <td>2021</td>\n",
       "      <td>1</td>\n",
       "      <td>A</td>\n",
       "      <td>골목상권</td>\n",
       "      <td>1000001</td>\n",
       "      <td>계동길</td>\n",
       "      <td>CS100001</td>\n",
       "      <td>한식음식점</td>\n",
       "      <td>316763168</td>\n",
       "      <td>13820</td>\n",
       "      <td>...</td>\n",
       "      <td>204</td>\n",
       "      <td>6283</td>\n",
       "      <td>4828</td>\n",
       "      <td>402</td>\n",
       "      <td>2286</td>\n",
       "      <td>2963</td>\n",
       "      <td>2673</td>\n",
       "      <td>1717</td>\n",
       "      <td>1068</td>\n",
       "      <td>16</td>\n",
       "    </tr>\n",
       "    <tr>\n",
       "      <th>1</th>\n",
       "      <td>2021</td>\n",
       "      <td>1</td>\n",
       "      <td>A</td>\n",
       "      <td>골목상권</td>\n",
       "      <td>1000001</td>\n",
       "      <td>계동길</td>\n",
       "      <td>CS100002</td>\n",
       "      <td>중식음식점</td>\n",
       "      <td>39791852</td>\n",
       "      <td>2042</td>\n",
       "      <td>...</td>\n",
       "      <td>11</td>\n",
       "      <td>825</td>\n",
       "      <td>1041</td>\n",
       "      <td>243</td>\n",
       "      <td>629</td>\n",
       "      <td>307</td>\n",
       "      <td>322</td>\n",
       "      <td>269</td>\n",
       "      <td>97</td>\n",
       "      <td>1</td>\n",
       "    </tr>\n",
       "    <tr>\n",
       "      <th>2</th>\n",
       "      <td>2021</td>\n",
       "      <td>1</td>\n",
       "      <td>A</td>\n",
       "      <td>골목상권</td>\n",
       "      <td>1000001</td>\n",
       "      <td>계동길</td>\n",
       "      <td>CS100003</td>\n",
       "      <td>일식음식점</td>\n",
       "      <td>60325474</td>\n",
       "      <td>1563</td>\n",
       "      <td>...</td>\n",
       "      <td>136</td>\n",
       "      <td>519</td>\n",
       "      <td>635</td>\n",
       "      <td>0</td>\n",
       "      <td>185</td>\n",
       "      <td>339</td>\n",
       "      <td>242</td>\n",
       "      <td>279</td>\n",
       "      <td>112</td>\n",
       "      <td>2</td>\n",
       "    </tr>\n",
       "    <tr>\n",
       "      <th>3</th>\n",
       "      <td>2021</td>\n",
       "      <td>1</td>\n",
       "      <td>A</td>\n",
       "      <td>골목상권</td>\n",
       "      <td>1000001</td>\n",
       "      <td>계동길</td>\n",
       "      <td>CS100004</td>\n",
       "      <td>양식음식점</td>\n",
       "      <td>199448496</td>\n",
       "      <td>4442</td>\n",
       "      <td>...</td>\n",
       "      <td>66</td>\n",
       "      <td>1778</td>\n",
       "      <td>2175</td>\n",
       "      <td>31</td>\n",
       "      <td>1505</td>\n",
       "      <td>1155</td>\n",
       "      <td>439</td>\n",
       "      <td>566</td>\n",
       "      <td>256</td>\n",
       "      <td>3</td>\n",
       "    </tr>\n",
       "    <tr>\n",
       "      <th>4</th>\n",
       "      <td>2021</td>\n",
       "      <td>1</td>\n",
       "      <td>A</td>\n",
       "      <td>골목상권</td>\n",
       "      <td>1000001</td>\n",
       "      <td>계동길</td>\n",
       "      <td>CS100005</td>\n",
       "      <td>제과점</td>\n",
       "      <td>165688274</td>\n",
       "      <td>18512</td>\n",
       "      <td>...</td>\n",
       "      <td>676</td>\n",
       "      <td>7523</td>\n",
       "      <td>9187</td>\n",
       "      <td>208</td>\n",
       "      <td>2471</td>\n",
       "      <td>4577</td>\n",
       "      <td>3857</td>\n",
       "      <td>2990</td>\n",
       "      <td>2609</td>\n",
       "      <td>4</td>\n",
       "    </tr>\n",
       "  </tbody>\n",
       "</table>\n",
       "<p>5 rows × 80 columns</p>\n",
       "</div>"
      ],
      "text/plain": [
       "   기준_년_코드  기준_분기_코드 상권_구분_코드 상권_구분_코드_명    상권_코드 상권_코드_명 서비스_업종_코드  \\\n",
       "0     2021         1        A       골목상권  1000001     계동길  CS100001   \n",
       "1     2021         1        A       골목상권  1000001     계동길  CS100002   \n",
       "2     2021         1        A       골목상권  1000001     계동길  CS100003   \n",
       "3     2021         1        A       골목상권  1000001     계동길  CS100004   \n",
       "4     2021         1        A       골목상권  1000001     계동길  CS100005   \n",
       "\n",
       "  서비스_업종_코드_명  분기당_매출_금액  분기당_매출_건수  ...  시간대_건수~24_매출_건수  남성_매출_건수  여성_매출_건수  \\\n",
       "0       한식음식점  316763168      13820  ...              204      6283      4828   \n",
       "1       중식음식점   39791852       2042  ...               11       825      1041   \n",
       "2       일식음식점   60325474       1563  ...              136       519       635   \n",
       "3       양식음식점  199448496       4442  ...               66      1778      2175   \n",
       "4         제과점  165688274      18512  ...              676      7523      9187   \n",
       "\n",
       "   연령대_10_매출_건수  연령대_20_매출_건수  연령대_30_매출_건수  연령대_40_매출_건수  연령대_50_매출_건수  \\\n",
       "0           402          2286          2963          2673          1717   \n",
       "1           243           629           307           322           269   \n",
       "2             0           185           339           242           279   \n",
       "3            31          1505          1155           439           566   \n",
       "4           208          2471          4577          3857          2990   \n",
       "\n",
       "   연령대_60_이상_매출_건수  점포수  \n",
       "0             1068   16  \n",
       "1               97    1  \n",
       "2              112    2  \n",
       "3              256    3  \n",
       "4             2609    4  \n",
       "\n",
       "[5 rows x 80 columns]"
      ]
     },
     "execution_count": 156,
     "metadata": {},
     "output_type": "execute_result"
    }
   ],
   "source": [
    "salary_2021 = pd.read_csv('./Data/서울시 우리마을가게 상권분석서비스(상권-추정매출)_2021년.csv',encoding='euc-kr')\n",
    "salary_2021.head()"
   ]
  },
  {
   "attachments": {},
   "cell_type": "markdown",
   "metadata": {},
   "source": [
    "### 데이터 info "
   ]
  },
  {
   "cell_type": "code",
   "execution_count": 157,
   "metadata": {},
   "outputs": [
    {
     "name": "stdout",
     "output_type": "stream",
     "text": [
      "<class 'pandas.core.frame.DataFrame'>\n",
      "RangeIndex: 128703 entries, 0 to 128702\n",
      "Data columns (total 80 columns):\n",
      " #   Column           Non-Null Count   Dtype \n",
      "---  ------           --------------   ----- \n",
      " 0   기준_년_코드          128703 non-null  int64 \n",
      " 1   기준_분기_코드         128703 non-null  int64 \n",
      " 2   상권_구분_코드         128703 non-null  object\n",
      " 3   상권_구분_코드_명       128703 non-null  object\n",
      " 4   상권_코드            128703 non-null  int64 \n",
      " 5   상권_코드_명          128703 non-null  object\n",
      " 6   서비스_업종_코드        128703 non-null  object\n",
      " 7   서비스_업종_코드_명      128703 non-null  object\n",
      " 8   분기당_매출_금액        128703 non-null  int64 \n",
      " 9   분기당_매출_건수        128703 non-null  int64 \n",
      " 10  주중_매출_비율         128703 non-null  int64 \n",
      " 11  주말_매출_비율         128703 non-null  int64 \n",
      " 12  월요일_매출_비율        128703 non-null  int64 \n",
      " 13  화요일_매출_비율        128703 non-null  int64 \n",
      " 14  수요일_매출_비율        128703 non-null  int64 \n",
      " 15  목요일_매출_비율        128703 non-null  int64 \n",
      " 16  금요일_매출_비율        128703 non-null  int64 \n",
      " 17  토요일_매출_비율        128703 non-null  int64 \n",
      " 18  일요일_매출_비율        128703 non-null  int64 \n",
      " 19  시간대_00~06_매출_비율  128703 non-null  int64 \n",
      " 20  시간대_06~11_매출_비율  128703 non-null  int64 \n",
      " 21  시간대_11~14_매출_비율  128703 non-null  int64 \n",
      " 22  시간대_14~17_매출_비율  128703 non-null  int64 \n",
      " 23  시간대_17~21_매출_비율  128703 non-null  int64 \n",
      " 24  시간대_21~24_매출_비율  128703 non-null  int64 \n",
      " 25  남성_매출_비율         128703 non-null  int64 \n",
      " 26  여성_매출_비율         128703 non-null  int64 \n",
      " 27  연령대_10_매출_비율     128703 non-null  int64 \n",
      " 28  연령대_20_매출_비율     128703 non-null  int64 \n",
      " 29  연령대_30_매출_비율     128703 non-null  int64 \n",
      " 30  연령대_40_매출_비율     128703 non-null  int64 \n",
      " 31  연령대_50_매출_비율     128703 non-null  int64 \n",
      " 32  연령대_60_이상_매출_비율  128703 non-null  int64 \n",
      " 33  주중_매출_금액         128703 non-null  int64 \n",
      " 34  주말_매출_금액         128703 non-null  int64 \n",
      " 35  월요일_매출_금액        128703 non-null  int64 \n",
      " 36  화요일_매출_금액        128703 non-null  int64 \n",
      " 37  수요일_매출_금액        128703 non-null  int64 \n",
      " 38  목요일_매출_금액        128703 non-null  int64 \n",
      " 39  금요일_매출_금액        128703 non-null  int64 \n",
      " 40  토요일_매출_금액        128703 non-null  int64 \n",
      " 41  일요일_매출_금액        128703 non-null  int64 \n",
      " 42  시간대_00~06_매출_금액  128703 non-null  int64 \n",
      " 43  시간대_06~11_매출_금액  128703 non-null  int64 \n",
      " 44  시간대_11~14_매출_금액  128703 non-null  int64 \n",
      " 45  시간대_14~17_매출_금액  128703 non-null  int64 \n",
      " 46  시간대_17~21_매출_금액  128703 non-null  int64 \n",
      " 47  시간대_21~24_매출_금액  128703 non-null  int64 \n",
      " 48  남성_매출_금액         128703 non-null  int64 \n",
      " 49  여성_매출_금액         128703 non-null  int64 \n",
      " 50  연령대_10_매출_금액     128703 non-null  int64 \n",
      " 51  연령대_20_매출_금액     128703 non-null  int64 \n",
      " 52  연령대_30_매출_금액     128703 non-null  int64 \n",
      " 53  연령대_40_매출_금액     128703 non-null  int64 \n",
      " 54  연령대_50_매출_금액     128703 non-null  int64 \n",
      " 55  연령대_60_이상_매출_금액  128703 non-null  int64 \n",
      " 56  주중_매출_건수         128703 non-null  int64 \n",
      " 57  주말_매출_건수         128703 non-null  int64 \n",
      " 58  월요일_매출_건수        128703 non-null  int64 \n",
      " 59  화요일_매출_건수        128703 non-null  int64 \n",
      " 60  수요일_매출_건수        128703 non-null  int64 \n",
      " 61  목요일_매출_건수        128703 non-null  int64 \n",
      " 62  금요일_매출_건수        128703 non-null  int64 \n",
      " 63  토요일_매출_건수        128703 non-null  int64 \n",
      " 64  일요일_매출_건수        128703 non-null  int64 \n",
      " 65  시간대_건수~06_매출_건수  128703 non-null  int64 \n",
      " 66  시간대_건수~11_매출_건수  128703 non-null  int64 \n",
      " 67  시간대_건수~14_매출_건수  128703 non-null  int64 \n",
      " 68  시간대_건수~17_매출_건수  128703 non-null  int64 \n",
      " 69  시간대_건수~21_매출_건수  128703 non-null  int64 \n",
      " 70  시간대_건수~24_매출_건수  128703 non-null  int64 \n",
      " 71  남성_매출_건수         128703 non-null  int64 \n",
      " 72  여성_매출_건수         128703 non-null  int64 \n",
      " 73  연령대_10_매출_건수     128703 non-null  int64 \n",
      " 74  연령대_20_매출_건수     128703 non-null  int64 \n",
      " 75  연령대_30_매출_건수     128703 non-null  int64 \n",
      " 76  연령대_40_매출_건수     128703 non-null  int64 \n",
      " 77  연령대_50_매출_건수     128703 non-null  int64 \n",
      " 78  연령대_60_이상_매출_건수  128703 non-null  int64 \n",
      " 79  점포수              128703 non-null  int64 \n",
      "dtypes: int64(75), object(5)\n",
      "memory usage: 78.6+ MB\n"
     ]
    }
   ],
   "source": [
    "# 전체 컬럼 맞게 들어가 있는지 확인\n",
    "salary_2021.info()"
   ]
  },
  {
   "cell_type": "code",
   "execution_count": 158,
   "metadata": {},
   "outputs": [
    {
     "data": {
      "text/plain": [
       "0"
      ]
     },
     "execution_count": 158,
     "metadata": {},
     "output_type": "execute_result"
    }
   ],
   "source": [
    "# na 값 있는지 확인\n",
    "salary_2021.isna().sum().sum()"
   ]
  },
  {
   "cell_type": "code",
   "execution_count": 159,
   "metadata": {},
   "outputs": [
    {
     "data": {
      "text/html": [
       "<div>\n",
       "<style scoped>\n",
       "    .dataframe tbody tr th:only-of-type {\n",
       "        vertical-align: middle;\n",
       "    }\n",
       "\n",
       "    .dataframe tbody tr th {\n",
       "        vertical-align: top;\n",
       "    }\n",
       "\n",
       "    .dataframe thead th {\n",
       "        text-align: right;\n",
       "    }\n",
       "</style>\n",
       "<table border=\"1\" class=\"dataframe\">\n",
       "  <thead>\n",
       "    <tr style=\"text-align: right;\">\n",
       "      <th></th>\n",
       "      <th>기준_년_코드</th>\n",
       "      <th>기준_분기_코드</th>\n",
       "      <th>상권_코드</th>\n",
       "      <th>분기당_매출_금액</th>\n",
       "      <th>분기당_매출_건수</th>\n",
       "      <th>주중_매출_비율</th>\n",
       "      <th>주말_매출_비율</th>\n",
       "      <th>월요일_매출_비율</th>\n",
       "      <th>화요일_매출_비율</th>\n",
       "      <th>수요일_매출_비율</th>\n",
       "      <th>...</th>\n",
       "      <th>시간대_건수~24_매출_건수</th>\n",
       "      <th>남성_매출_건수</th>\n",
       "      <th>여성_매출_건수</th>\n",
       "      <th>연령대_10_매출_건수</th>\n",
       "      <th>연령대_20_매출_건수</th>\n",
       "      <th>연령대_30_매출_건수</th>\n",
       "      <th>연령대_40_매출_건수</th>\n",
       "      <th>연령대_50_매출_건수</th>\n",
       "      <th>연령대_60_이상_매출_건수</th>\n",
       "      <th>점포수</th>\n",
       "    </tr>\n",
       "  </thead>\n",
       "  <tbody>\n",
       "    <tr>\n",
       "      <th>count</th>\n",
       "      <td>128703.0</td>\n",
       "      <td>128703.000000</td>\n",
       "      <td>1.287030e+05</td>\n",
       "      <td>1.287030e+05</td>\n",
       "      <td>1.287030e+05</td>\n",
       "      <td>128703.000000</td>\n",
       "      <td>128703.000000</td>\n",
       "      <td>128703.000000</td>\n",
       "      <td>128703.000000</td>\n",
       "      <td>128703.000000</td>\n",
       "      <td>...</td>\n",
       "      <td>128703.000000</td>\n",
       "      <td>1.287030e+05</td>\n",
       "      <td>1.287030e+05</td>\n",
       "      <td>128703.000000</td>\n",
       "      <td>1.287030e+05</td>\n",
       "      <td>1.287030e+05</td>\n",
       "      <td>1.287030e+05</td>\n",
       "      <td>1.287030e+05</td>\n",
       "      <td>1.287030e+05</td>\n",
       "      <td>128703.000000</td>\n",
       "    </tr>\n",
       "    <tr>\n",
       "      <th>mean</th>\n",
       "      <td>2021.0</td>\n",
       "      <td>2.492708</td>\n",
       "      <td>1.000779e+06</td>\n",
       "      <td>5.672014e+08</td>\n",
       "      <td>2.145016e+04</td>\n",
       "      <td>76.604158</td>\n",
       "      <td>23.483695</td>\n",
       "      <td>14.902900</td>\n",
       "      <td>15.013387</td>\n",
       "      <td>15.232450</td>\n",
       "      <td>...</td>\n",
       "      <td>1811.575969</td>\n",
       "      <td>1.102201e+04</td>\n",
       "      <td>9.531522e+03</td>\n",
       "      <td>353.273723</td>\n",
       "      <td>4.854337e+03</td>\n",
       "      <td>4.805921e+03</td>\n",
       "      <td>4.043129e+03</td>\n",
       "      <td>3.621689e+03</td>\n",
       "      <td>2.875179e+03</td>\n",
       "      <td>8.304608</td>\n",
       "    </tr>\n",
       "    <tr>\n",
       "      <th>std</th>\n",
       "      <td>0.0</td>\n",
       "      <td>1.116739</td>\n",
       "      <td>4.212456e+02</td>\n",
       "      <td>4.500312e+09</td>\n",
       "      <td>8.674978e+04</td>\n",
       "      <td>16.264685</td>\n",
       "      <td>16.277333</td>\n",
       "      <td>11.890384</td>\n",
       "      <td>11.764376</td>\n",
       "      <td>11.544117</td>\n",
       "      <td>...</td>\n",
       "      <td>8495.809922</td>\n",
       "      <td>4.467807e+04</td>\n",
       "      <td>4.103864e+04</td>\n",
       "      <td>2250.224617</td>\n",
       "      <td>2.321041e+04</td>\n",
       "      <td>2.141037e+04</td>\n",
       "      <td>1.656628e+04</td>\n",
       "      <td>1.453669e+04</td>\n",
       "      <td>1.837851e+04</td>\n",
       "      <td>63.430084</td>\n",
       "    </tr>\n",
       "    <tr>\n",
       "      <th>min</th>\n",
       "      <td>2021.0</td>\n",
       "      <td>1.000000</td>\n",
       "      <td>1.000001e+06</td>\n",
       "      <td>6.400000e+01</td>\n",
       "      <td>1.000000e+00</td>\n",
       "      <td>0.000000</td>\n",
       "      <td>0.000000</td>\n",
       "      <td>0.000000</td>\n",
       "      <td>0.000000</td>\n",
       "      <td>0.000000</td>\n",
       "      <td>...</td>\n",
       "      <td>0.000000</td>\n",
       "      <td>0.000000e+00</td>\n",
       "      <td>0.000000e+00</td>\n",
       "      <td>0.000000</td>\n",
       "      <td>0.000000e+00</td>\n",
       "      <td>0.000000e+00</td>\n",
       "      <td>0.000000e+00</td>\n",
       "      <td>0.000000e+00</td>\n",
       "      <td>0.000000e+00</td>\n",
       "      <td>0.000000</td>\n",
       "    </tr>\n",
       "    <tr>\n",
       "      <th>25%</th>\n",
       "      <td>2021.0</td>\n",
       "      <td>1.000000</td>\n",
       "      <td>1.000415e+06</td>\n",
       "      <td>2.352419e+07</td>\n",
       "      <td>4.360000e+02</td>\n",
       "      <td>67.000000</td>\n",
       "      <td>12.000000</td>\n",
       "      <td>10.000000</td>\n",
       "      <td>10.000000</td>\n",
       "      <td>11.000000</td>\n",
       "      <td>...</td>\n",
       "      <td>0.000000</td>\n",
       "      <td>2.010000e+02</td>\n",
       "      <td>1.630000e+02</td>\n",
       "      <td>0.000000</td>\n",
       "      <td>2.500000e+01</td>\n",
       "      <td>5.500000e+01</td>\n",
       "      <td>8.100000e+01</td>\n",
       "      <td>8.000000e+01</td>\n",
       "      <td>4.200000e+01</td>\n",
       "      <td>2.000000</td>\n",
       "    </tr>\n",
       "    <tr>\n",
       "      <th>50%</th>\n",
       "      <td>2021.0</td>\n",
       "      <td>2.000000</td>\n",
       "      <td>1.000818e+06</td>\n",
       "      <td>8.852903e+07</td>\n",
       "      <td>2.352000e+03</td>\n",
       "      <td>76.000000</td>\n",
       "      <td>24.000000</td>\n",
       "      <td>13.000000</td>\n",
       "      <td>14.000000</td>\n",
       "      <td>14.000000</td>\n",
       "      <td>...</td>\n",
       "      <td>25.000000</td>\n",
       "      <td>1.151000e+03</td>\n",
       "      <td>9.820000e+02</td>\n",
       "      <td>4.000000</td>\n",
       "      <td>2.480000e+02</td>\n",
       "      <td>3.890000e+02</td>\n",
       "      <td>4.650000e+02</td>\n",
       "      <td>4.720000e+02</td>\n",
       "      <td>2.850000e+02</td>\n",
       "      <td>4.000000</td>\n",
       "    </tr>\n",
       "    <tr>\n",
       "      <th>75%</th>\n",
       "      <td>2021.0</td>\n",
       "      <td>3.000000</td>\n",
       "      <td>1.001134e+06</td>\n",
       "      <td>3.296393e+08</td>\n",
       "      <td>1.273700e+04</td>\n",
       "      <td>89.000000</td>\n",
       "      <td>33.000000</td>\n",
       "      <td>18.000000</td>\n",
       "      <td>18.000000</td>\n",
       "      <td>18.000000</td>\n",
       "      <td>...</td>\n",
       "      <td>480.000000</td>\n",
       "      <td>6.165500e+03</td>\n",
       "      <td>5.569000e+03</td>\n",
       "      <td>89.000000</td>\n",
       "      <td>1.916000e+03</td>\n",
       "      <td>2.354000e+03</td>\n",
       "      <td>2.363000e+03</td>\n",
       "      <td>2.312000e+03</td>\n",
       "      <td>1.562000e+03</td>\n",
       "      <td>7.000000</td>\n",
       "    </tr>\n",
       "    <tr>\n",
       "      <th>max</th>\n",
       "      <td>2021.0</td>\n",
       "      <td>4.000000</td>\n",
       "      <td>1.001496e+06</td>\n",
       "      <td>4.619284e+11</td>\n",
       "      <td>4.964132e+06</td>\n",
       "      <td>100.000000</td>\n",
       "      <td>100.000000</td>\n",
       "      <td>100.000000</td>\n",
       "      <td>100.000000</td>\n",
       "      <td>100.000000</td>\n",
       "      <td>...</td>\n",
       "      <td>417681.000000</td>\n",
       "      <td>2.570529e+06</td>\n",
       "      <td>3.109243e+06</td>\n",
       "      <td>248274.000000</td>\n",
       "      <td>1.134235e+06</td>\n",
       "      <td>1.360332e+06</td>\n",
       "      <td>1.374407e+06</td>\n",
       "      <td>1.005005e+06</td>\n",
       "      <td>2.199444e+06</td>\n",
       "      <td>10121.000000</td>\n",
       "    </tr>\n",
       "  </tbody>\n",
       "</table>\n",
       "<p>8 rows × 75 columns</p>\n",
       "</div>"
      ],
      "text/plain": [
       "        기준_년_코드       기준_분기_코드         상권_코드     분기당_매출_금액     분기당_매출_건수  \\\n",
       "count  128703.0  128703.000000  1.287030e+05  1.287030e+05  1.287030e+05   \n",
       "mean     2021.0       2.492708  1.000779e+06  5.672014e+08  2.145016e+04   \n",
       "std         0.0       1.116739  4.212456e+02  4.500312e+09  8.674978e+04   \n",
       "min      2021.0       1.000000  1.000001e+06  6.400000e+01  1.000000e+00   \n",
       "25%      2021.0       1.000000  1.000415e+06  2.352419e+07  4.360000e+02   \n",
       "50%      2021.0       2.000000  1.000818e+06  8.852903e+07  2.352000e+03   \n",
       "75%      2021.0       3.000000  1.001134e+06  3.296393e+08  1.273700e+04   \n",
       "max      2021.0       4.000000  1.001496e+06  4.619284e+11  4.964132e+06   \n",
       "\n",
       "            주중_매출_비율       주말_매출_비율      월요일_매출_비율      화요일_매출_비율  \\\n",
       "count  128703.000000  128703.000000  128703.000000  128703.000000   \n",
       "mean       76.604158      23.483695      14.902900      15.013387   \n",
       "std        16.264685      16.277333      11.890384      11.764376   \n",
       "min         0.000000       0.000000       0.000000       0.000000   \n",
       "25%        67.000000      12.000000      10.000000      10.000000   \n",
       "50%        76.000000      24.000000      13.000000      14.000000   \n",
       "75%        89.000000      33.000000      18.000000      18.000000   \n",
       "max       100.000000     100.000000     100.000000     100.000000   \n",
       "\n",
       "           수요일_매출_비율  ...  시간대_건수~24_매출_건수      남성_매출_건수      여성_매출_건수  \\\n",
       "count  128703.000000  ...    128703.000000  1.287030e+05  1.287030e+05   \n",
       "mean       15.232450  ...      1811.575969  1.102201e+04  9.531522e+03   \n",
       "std        11.544117  ...      8495.809922  4.467807e+04  4.103864e+04   \n",
       "min         0.000000  ...         0.000000  0.000000e+00  0.000000e+00   \n",
       "25%        11.000000  ...         0.000000  2.010000e+02  1.630000e+02   \n",
       "50%        14.000000  ...        25.000000  1.151000e+03  9.820000e+02   \n",
       "75%        18.000000  ...       480.000000  6.165500e+03  5.569000e+03   \n",
       "max       100.000000  ...    417681.000000  2.570529e+06  3.109243e+06   \n",
       "\n",
       "        연령대_10_매출_건수  연령대_20_매출_건수  연령대_30_매출_건수  연령대_40_매출_건수  연령대_50_매출_건수  \\\n",
       "count  128703.000000  1.287030e+05  1.287030e+05  1.287030e+05  1.287030e+05   \n",
       "mean      353.273723  4.854337e+03  4.805921e+03  4.043129e+03  3.621689e+03   \n",
       "std      2250.224617  2.321041e+04  2.141037e+04  1.656628e+04  1.453669e+04   \n",
       "min         0.000000  0.000000e+00  0.000000e+00  0.000000e+00  0.000000e+00   \n",
       "25%         0.000000  2.500000e+01  5.500000e+01  8.100000e+01  8.000000e+01   \n",
       "50%         4.000000  2.480000e+02  3.890000e+02  4.650000e+02  4.720000e+02   \n",
       "75%        89.000000  1.916000e+03  2.354000e+03  2.363000e+03  2.312000e+03   \n",
       "max    248274.000000  1.134235e+06  1.360332e+06  1.374407e+06  1.005005e+06   \n",
       "\n",
       "       연령대_60_이상_매출_건수            점포수  \n",
       "count     1.287030e+05  128703.000000  \n",
       "mean      2.875179e+03       8.304608  \n",
       "std       1.837851e+04      63.430084  \n",
       "min       0.000000e+00       0.000000  \n",
       "25%       4.200000e+01       2.000000  \n",
       "50%       2.850000e+02       4.000000  \n",
       "75%       1.562000e+03       7.000000  \n",
       "max       2.199444e+06   10121.000000  \n",
       "\n",
       "[8 rows x 75 columns]"
      ]
     },
     "execution_count": 159,
     "metadata": {},
     "output_type": "execute_result"
    }
   ],
   "source": [
    "# 대략적인 데이터 분포 확인하기\n",
    "salary_2021.describe()"
   ]
  },
  {
   "cell_type": "code",
   "execution_count": 160,
   "metadata": {},
   "outputs": [
    {
     "data": {
      "text/plain": [
       "(128703, 80)"
      ]
     },
     "execution_count": 160,
     "metadata": {},
     "output_type": "execute_result"
    }
   ],
   "source": [
    "salary_2021.shape"
   ]
  },
  {
   "attachments": {},
   "cell_type": "markdown",
   "metadata": {},
   "source": [
    "### 나머지 데이터들도 이와 똑같이 해보기"
   ]
  },
  {
   "cell_type": "code",
   "execution_count": 161,
   "metadata": {},
   "outputs": [
    {
     "name": "stdout",
     "output_type": "stream",
     "text": [
      "0\n",
      "(132321, 80)\n"
     ]
    }
   ],
   "source": [
    "salary_2020 = pd.read_csv('./Data/서울시 우리마을가게 상권분석서비스(상권-추정매출)_2020년.csv',encoding='euc-kr')\n",
    "\n",
    "# 전체 컬럼 맞게 들어가 있는지 확인\n",
    "#print(salary_2020.info())\n",
    "\n",
    "print(salary_2020.isna().sum().sum())\n",
    "\n",
    "#print(salary_2020.describe())\n",
    "\n",
    "print(salary_2020.shape)"
   ]
  },
  {
   "cell_type": "code",
   "execution_count": 162,
   "metadata": {},
   "outputs": [
    {
     "name": "stdout",
     "output_type": "stream",
     "text": [
      "0\n",
      "(135578, 80)\n"
     ]
    }
   ],
   "source": [
    "salary_2019 = pd.read_csv('./Data/서울시 우리마을가게 상권분석서비스(상권-추정매출)_2019년.csv',encoding='euc-kr')\n",
    "\n",
    "print(salary_2019.isna().sum().sum())\n",
    "\n",
    "\n",
    "print(salary_2019.shape)"
   ]
  },
  {
   "cell_type": "code",
   "execution_count": 163,
   "metadata": {},
   "outputs": [
    {
     "name": "stdout",
     "output_type": "stream",
     "text": [
      "0\n",
      "(162666, 80)\n"
     ]
    }
   ],
   "source": [
    "salary_2018 = pd.read_csv('./Data/서울시 우리마을가게 상권분석서비스(상권-추정매출)_2018년.csv',encoding='euc-kr')\n",
    "\n",
    "print(salary_2018.isna().sum().sum())\n",
    "\n",
    "print(salary_2018.shape)"
   ]
  },
  {
   "cell_type": "code",
   "execution_count": 164,
   "metadata": {},
   "outputs": [
    {
     "name": "stdout",
     "output_type": "stream",
     "text": [
      "기준_년_코드            0\n",
      "기준_분기_코드           0\n",
      "상권_구분_코드           0\n",
      "상권_구분_코드_명         0\n",
      "상권_코드              0\n",
      "                  ..\n",
      "연령대_30_매출_건수       0\n",
      "연령대_40_매출_건수       0\n",
      "연령대_50_매출_건수       0\n",
      "연령대_60_이상_매출_건수    0\n",
      "점포수                0\n",
      "Length: 80, dtype: int64\n",
      "(166310, 80)\n"
     ]
    }
   ],
   "source": [
    "salary_2017 = pd.read_csv('./Data/서울시 우리마을가게 상권분석서비스(상권-추정매출)_2017년.csv',encoding='euc-kr')\n",
    "test=salary_2017.isna().sum()\n",
    "print(test[test == 0])\n",
    "\n",
    "print(salary_2017.shape)"
   ]
  },
  {
   "cell_type": "code",
   "execution_count": 165,
   "metadata": {},
   "outputs": [
    {
     "name": "stdout",
     "output_type": "stream",
     "text": [
      "0\n",
      "(166874, 80)\n"
     ]
    }
   ],
   "source": [
    "salary_2016 = pd.read_csv('./Data/서울시 우리마을가게 상권분석서비스(상권-추정매출)_2016년.csv',encoding='euc-kr')\n",
    "\n",
    "print(salary_2016.isna().sum().sum())\n",
    "\n",
    "print(salary_2016.shape)"
   ]
  },
  {
   "cell_type": "code",
   "execution_count": 166,
   "metadata": {},
   "outputs": [
    {
     "name": "stdout",
     "output_type": "stream",
     "text": [
      "0\n",
      "(164377, 80)\n"
     ]
    }
   ],
   "source": [
    "salary_2015 = pd.read_csv('./Data/서울시 우리마을가게 상권분석서비스(상권-추정매출)_2015년.csv',encoding='euc-kr')\n",
    "\n",
    "print(salary_2015.isna().sum().sum())\n",
    "\n",
    "print(salary_2015.shape)"
   ]
  },
  {
   "cell_type": "code",
   "execution_count": 167,
   "metadata": {},
   "outputs": [
    {
     "name": "stdout",
     "output_type": "stream",
     "text": [
      "0\n",
      "(162877, 80)\n"
     ]
    }
   ],
   "source": [
    "salary_2014 = pd.read_csv('./Data/서울시 우리마을가게 상권분석서비스(상권-추정매출)_2014년.csv',encoding='euc-kr')\n",
    "\n",
    "print(salary_2014.isna().sum().sum())\n",
    "\n",
    "print(salary_2014.shape)"
   ]
  },
  {
   "attachments": {},
   "cell_type": "markdown",
   "metadata": {},
   "source": [
    "##### - 다행히도 null 값이 들어간 데이터가 없다. 다 붙이고 나서 타겟 데이터의 분포를 보도록 하자."
   ]
  },
  {
   "attachments": {},
   "cell_type": "markdown",
   "metadata": {},
   "source": [
    "### 데이터 합치기"
   ]
  },
  {
   "cell_type": "code",
   "execution_count": 168,
   "metadata": {},
   "outputs": [
    {
     "data": {
      "text/plain": [
       "(1219706, 80)"
      ]
     },
     "execution_count": 168,
     "metadata": {},
     "output_type": "execute_result"
    }
   ],
   "source": [
    "salary_2020.columns = salary_2014.columns\n",
    "salary = pd.concat([salary_2014,salary_2015,salary_2016,salary_2017,salary_2018,salary_2019,salary_2020,salary_2021],ignore_index=True)\n",
    "salary.shape"
   ]
  },
  {
   "cell_type": "code",
   "execution_count": 169,
   "metadata": {},
   "outputs": [],
   "source": [
    "import warnings\n",
    "warnings.filterwarnings('ignore')"
   ]
  },
  {
   "attachments": {},
   "cell_type": "markdown",
   "metadata": {},
   "source": [
    "### 예측 가능한지 판단하기\n"
   ]
  },
  {
   "attachments": {},
   "cell_type": "markdown",
   "metadata": {},
   "source": [
    "1. 예측 가능한지 판단하기 위해 타겟 데이터인 분기당 매출 금액의 이상치를 제거하자"
   ]
  },
  {
   "cell_type": "code",
   "execution_count": 170,
   "metadata": {},
   "outputs": [
    {
     "name": "stdout",
     "output_type": "stream",
     "text": [
      "8 ~ 480608603539\n"
     ]
    }
   ],
   "source": [
    "print(salary['분기당_매출_금액'].min(),'~',salary['분기당_매출_금액'].max())\n",
    "\n",
    "### 범위가 말이 안된다 8원 판거니까 이상치를 일단 제거하자\n",
    "target= salary['분기당_매출_금액']\n",
    "target=target.dropna()"
   ]
  },
  {
   "cell_type": "code",
   "execution_count": 171,
   "metadata": {},
   "outputs": [
    {
     "data": {
      "image/png": "[encoded data removed]",
      "text/plain": [
       "<Figure size 640x480 with 1 Axes>"
      ]
     },
     "metadata": {},
     "output_type": "display_data"
    }
   ],
   "source": [
    "fig , ax = plt.subplots()\n",
    "\n",
    "ax.boxplot(\n",
    "    salary['분기당_매출_금액']\n",
    ")\n",
    "\n",
    "plt.show()"
   ]
  },
  {
   "cell_type": "code",
   "execution_count": 172,
   "metadata": {},
   "outputs": [],
   "source": [
    "# 이상치 제거하기\n",
    "oneq = target.quantile(0.25)\n",
    "twoq = target.quantile(0.5)\n",
    "threeq = target.quantile(0.75)\n",
    "\n",
    "minus = twoq - oneq\n",
    "plus = threeq - twoq\n",
    "\n",
    "iqr = threeq-oneq\n",
    "\n",
    "salary = salary[(salary['분기당_매출_금액'] <= (threeq + 1.5 * iqr + plus))  & (salary['분기당_매출_금액'] >= (oneq - 1.5 * iqr - minus))]\n"
   ]
  },
  {
   "attachments": {},
   "cell_type": "markdown",
   "metadata": {},
   "source": [
    "2) 분기당 매출 금액의 박스플롯 과 히스토그램 확인하기 <br><br>\n",
    "    - 매출 금액의 범위가 너무 넓기 때문에 분포를 정확하기 어렵다고 느껴졌다. <br><br>\n",
    "    - 표준화를 통해서 정확한 분포를 알아보려고 한다."
   ]
  },
  {
   "cell_type": "code",
   "execution_count": 173,
   "metadata": {},
   "outputs": [
    {
     "data": {
      "image/png": "[encoded data removed]",
      "text/plain": [
       "<Figure size 640x480 with 1 Axes>"
      ]
     },
     "metadata": {},
     "output_type": "display_data"
    }
   ],
   "source": [
    "fig , ax = plt.subplots()\n",
    "\n",
    "ax.boxplot(\n",
    "    salary['분기당_매출_금액']\n",
    ")\n",
    "\n",
    "plt.show()"
   ]
  },
  {
   "cell_type": "code",
   "execution_count": 258,
   "metadata": {},
   "outputs": [
    {
     "data": {
      "image/png": "[encoded data removed]",
      "text/plain": [
       "<Figure size 640x480 with 1 Axes>"
      ]
     },
     "metadata": {},
     "output_type": "display_data"
    }
   ],
   "source": [
    "import seaborn as sns\n",
    "\n",
    "sns.distplot(\n",
    "    salary['분기당_매출_금액']\n",
    ")\n",
    "\n",
    "plt.show()"
   ]
  }
 ],
 "metadata": {
  "kernelspec": {
   "display_name": "tensorflow",
   "language": "python",
   "name": "python3"
  },
  "language_info": {
   "codemirror_mode": {
    "name": "ipython",
    "version": 3
   },
   "file_extension": ".py",
   "mimetype": "text/x-python",
   "name": "python",
   "nbconvert_exporter": "python",
   "pygments_lexer": "ipython3",
   "version": "3.9.13"
  },
  "orig_nbformat": 4,
  "vscode": {
   "interpreter": {
    "hash": "a3680a952170aa4879024e73d39878b7aac962f0b16bced1a9689b2321800c8b"
   }
  }
 },
 "nbformat": 4,
 "nbformat_minor": 2
}
