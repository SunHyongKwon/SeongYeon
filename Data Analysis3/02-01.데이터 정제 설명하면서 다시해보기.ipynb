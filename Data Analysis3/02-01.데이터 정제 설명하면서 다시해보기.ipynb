{
 "cells": [
  {
   "cell_type": "code",
   "execution_count": 20,
   "metadata": {},
   "outputs": [],
   "source": [
    "import pandas as pd\n",
    "import numpy as np\n",
    "import matplotlib.pyplot as plt\n",
    "from matplotlib import font_manager, rc\n",
    "import platform\n",
    "import warnings\n",
    "\n",
    "# seaborn 사용하기\n",
    "import seaborn as sns\n",
    "\n",
    "plt.rcParams['axes.unicode_minus'] = False\n",
    "\n",
    "if platform.system() == 'Darwin':\n",
    "    rc('font', family='AppleGothic') # os가 macos\n",
    "elif platform.system() == 'Windows':\n",
    "    path = 'c:/Windows/Fonts/malgun.ttf' # os가 windows\n",
    "    font_name = font_manager.FontProperties(fname=path).get_name()\n",
    "    rc('font', family=font_name)\n",
    "else:\n",
    "    print(\"Unknown System\")\n",
    "\n",
    "warnings.filterwarnings('ignore')"
   ]
  },
  {
   "cell_type": "code",
   "execution_count": 21,
   "metadata": {},
   "outputs": [],
   "source": [
    "data=pd.read_csv('./Data/second_target.csv')\n",
    "target=data.iloc[:,:13]\n",
    "feature=data[['시간대_06~11_매출_비율','연령대_20_매출_비율','점포수']]\n",
    "feature.head()\n",
    "\n",
    "target=pd.concat([target,feature],axis=1)\n",
    "\n",
    "food=target[target['서비스_업종_코드_명'].isin(\n",
    "       ['한식음식점', '중식음식점', '일식음식점', '양식음식점',\n",
    "          '패스트푸드점', '분식전문점',\n",
    "          '치킨전문점','제과점','호프-간이주점','커피-음료'])]\n",
    "\n",
    "food.reset_index(drop=True,inplace=True)"
   ]
  },
  {
   "attachments": {},
   "cell_type": "markdown",
   "metadata": {},
   "source": [
    "### 순서\n",
    "1) 2014 - 2021년 데이터를 모두 합친다. <br><br>\n",
    "2) 업종 분류를 서울시에서 외식업, 서비스업, 소매업으로 나누는데 그중에 외식업을 타겟으로 하겠다. <br><br>\n",
    "3) 상권 분류 별로 분포 다른지 확인 <br><br>\n",
    "    - 히스토그램으로 표현 <br><br>\n",
    "4) 구 별로 분포가 다른지와 이 분포가 정규분포를 따르는지 <br><br>\n",
    "    - 추가적으로 구 별 업종 코드 별로 나누어서 이 분포가 정규분포를 따르는지 확인 , 데이터 개수 확인 <br><br>\n",
    "5) 동 별로 분포가 다른지와 이 분포가 정규분포를 따르는지 <br><br>\n",
    "    - 추가적으로 동 별 업종 코드 별로 나누어서 이 분포가 정규분포를 따르는지 확인 , 데이터 개수 확인 <br><br>\n",
    "6) 상권 별로 분포가 다른지와 이분포가 정규분포를 따르는지 <br><br>\n",
    "    - 추가적으로 동 별 업종 코드 별로 나누어서 이 분포가 정규분포를 따르는지 확인 , 데이터 개수 확인 <br><br>\n",
    "\n",
    "### 정규분포 따르는지 확인하는 방법 \n",
    "- 데이터의 분포가 너무 밑과 위에 쏠리는 경향이 있다. <br><br>\n",
    "- 그래서 밑에 10% , 위에 10% 제외하고 실행하도록 하자. <br><br>"
   ]
  },
  {
   "cell_type": "code",
   "execution_count": 79,
   "metadata": {},
   "outputs": [],
   "source": [
    "# 1-2번 한거 저장하기\n",
    "food.to_csv('./Data/food.csv',index=False)"
   ]
  },
  {
   "cell_type": "code",
   "execution_count": null,
   "metadata": {},
   "outputs": [],
   "source": []
  }
 ],
 "metadata": {
  "kernelspec": {
   "display_name": "tensorflow",
   "language": "python",
   "name": "python3"
  },
  "language_info": {
   "codemirror_mode": {
    "name": "ipython",
    "version": 3
   },
   "file_extension": ".py",
   "mimetype": "text/x-python",
   "name": "python",
   "nbconvert_exporter": "python",
   "pygments_lexer": "ipython3",
   "version": "3.9.13"
  },
  "orig_nbformat": 4,
  "vscode": {
   "interpreter": {
    "hash": "a3680a952170aa4879024e73d39878b7aac962f0b16bced1a9689b2321800c8b"
   }
  }
 },
 "nbformat": 4,
 "nbformat_minor": 2
}
