{
 "cells": [
  {
   "cell_type": "code",
   "execution_count": null,
   "metadata": {},
   "outputs": [],
   "source": [
    "data=pd.read_csv('./Data/second_target.csv')\n",
    "target=data.iloc[:,:13]\n",
    "feature=data[['시간대_06~11_매출_비율','연령대_20_매출_비율','점포수']]\n",
    "feature.head()\n",
    "\n",
    "target=pd.concat([target,feature],axis=1)\n",
    "\n",
    "food=target[target['서비스_업종_코드_명'].isin(\n",
    "       ['한식음식점', '중식음식점', '일식음식점', '양식음식점',\n",
    "          '패스트푸드점', '분식전문점',\n",
    "          '치킨전문점','제과점','호프-간이주점','커피-음료'])]\n",
    "\n",
    "food.reset_index(drop=True,inplace=True)"
   ]
  }
 ],
 "metadata": {
  "kernelspec": {
   "display_name": "tensorflow",
   "language": "python",
   "name": "python3"
  },
  "language_info": {
   "name": "python",
   "version": "3.9.13"
  },
  "orig_nbformat": 4,
  "vscode": {
   "interpreter": {
    "hash": "a3680a952170aa4879024e73d39878b7aac962f0b16bced1a9689b2321800c8b"
   }
  }
 },
 "nbformat": 4,
 "nbformat_minor": 2
}
