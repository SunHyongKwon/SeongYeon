{
 "cells": [
  {
   "cell_type": "code",
   "execution_count": 77,
   "metadata": {},
   "outputs": [],
   "source": [
    "import pandas as pd\n",
    "import numpy as np\n",
    "import matplotlib.pyplot as plt\n",
    "from matplotlib import font_manager, rc\n",
    "import platform\n",
    "import warnings\n",
    "\n",
    "# seaborn 사용하기\n",
    "import seaborn as sns\n",
    "\n",
    "plt.rcParams['axes.unicode_minus'] = False\n",
    "\n",
    "if platform.system() == 'Darwin':\n",
    "    rc('font', family='AppleGothic') # os가 macos\n",
    "elif platform.system() == 'Windows':\n",
    "    path = 'c:/Windows/Fonts/malgun.ttf' # os가 windows\n",
    "    font_name = font_manager.FontProperties(fname=path).get_name()\n",
    "    rc('font', family=font_name)\n",
    "else:\n",
    "    print(\"Unknown System\")\n",
    "\n",
    "warnings.filterwarnings('ignore')"
   ]
  },
  {
   "cell_type": "code",
   "execution_count": 78,
   "metadata": {},
   "outputs": [
    {
     "data": {
      "text/html": [
       "<div>\n",
       "<style scoped>\n",
       "    .dataframe tbody tr th:only-of-type {\n",
       "        vertical-align: middle;\n",
       "    }\n",
       "\n",
       "    .dataframe tbody tr th {\n",
       "        vertical-align: top;\n",
       "    }\n",
       "\n",
       "    .dataframe thead th {\n",
       "        text-align: right;\n",
       "    }\n",
       "</style>\n",
       "<table border=\"1\" class=\"dataframe\">\n",
       "  <thead>\n",
       "    <tr style=\"text-align: right;\">\n",
       "      <th></th>\n",
       "      <th>기준_년_코드</th>\n",
       "      <th>기준_분기_코드</th>\n",
       "      <th>상권_코드</th>\n",
       "      <th>상권_코드_명</th>\n",
       "      <th>서비스_업종_코드</th>\n",
       "      <th>서비스_업종_코드_명</th>\n",
       "      <th>분기당_매출_금액</th>\n",
       "      <th>점포수</th>\n",
       "      <th>한식음식점여부</th>\n",
       "      <th>프랜차이즈</th>\n",
       "      <th>clustering</th>\n",
       "    </tr>\n",
       "  </thead>\n",
       "  <tbody>\n",
       "    <tr>\n",
       "      <th>0</th>\n",
       "      <td>2021</td>\n",
       "      <td>1</td>\n",
       "      <td>1000466</td>\n",
       "      <td>동교로17길</td>\n",
       "      <td>CS100001</td>\n",
       "      <td>한식음식점</td>\n",
       "      <td>243935896</td>\n",
       "      <td>14</td>\n",
       "      <td>1</td>\n",
       "      <td>1</td>\n",
       "      <td>0</td>\n",
       "    </tr>\n",
       "    <tr>\n",
       "      <th>1</th>\n",
       "      <td>2021</td>\n",
       "      <td>1</td>\n",
       "      <td>1000466</td>\n",
       "      <td>동교로17길</td>\n",
       "      <td>CS100002</td>\n",
       "      <td>중식음식점</td>\n",
       "      <td>45393178</td>\n",
       "      <td>1</td>\n",
       "      <td>0</td>\n",
       "      <td>0</td>\n",
       "      <td>0</td>\n",
       "    </tr>\n",
       "    <tr>\n",
       "      <th>2</th>\n",
       "      <td>2021</td>\n",
       "      <td>1</td>\n",
       "      <td>1000466</td>\n",
       "      <td>동교로17길</td>\n",
       "      <td>CS100003</td>\n",
       "      <td>일식음식점</td>\n",
       "      <td>55589434</td>\n",
       "      <td>3</td>\n",
       "      <td>0</td>\n",
       "      <td>0</td>\n",
       "      <td>0</td>\n",
       "    </tr>\n",
       "    <tr>\n",
       "      <th>3</th>\n",
       "      <td>2021</td>\n",
       "      <td>1</td>\n",
       "      <td>1000466</td>\n",
       "      <td>동교로17길</td>\n",
       "      <td>CS100006</td>\n",
       "      <td>패스트푸드점</td>\n",
       "      <td>9925407</td>\n",
       "      <td>3</td>\n",
       "      <td>0</td>\n",
       "      <td>0</td>\n",
       "      <td>0</td>\n",
       "    </tr>\n",
       "    <tr>\n",
       "      <th>4</th>\n",
       "      <td>2021</td>\n",
       "      <td>1</td>\n",
       "      <td>1000466</td>\n",
       "      <td>동교로17길</td>\n",
       "      <td>CS100008</td>\n",
       "      <td>분식전문점</td>\n",
       "      <td>40136157</td>\n",
       "      <td>6</td>\n",
       "      <td>0</td>\n",
       "      <td>0</td>\n",
       "      <td>0</td>\n",
       "    </tr>\n",
       "  </tbody>\n",
       "</table>\n",
       "</div>"
      ],
      "text/plain": [
       "   기준_년_코드  기준_분기_코드    상권_코드 상권_코드_명 서비스_업종_코드 서비스_업종_코드_명  분기당_매출_금액  점포수  \\\n",
       "0     2021         1  1000466  동교로17길  CS100001       한식음식점  243935896   14   \n",
       "1     2021         1  1000466  동교로17길  CS100002       중식음식점   45393178    1   \n",
       "2     2021         1  1000466  동교로17길  CS100003       일식음식점   55589434    3   \n",
       "3     2021         1  1000466  동교로17길  CS100006      패스트푸드점    9925407    3   \n",
       "4     2021         1  1000466  동교로17길  CS100008       분식전문점   40136157    6   \n",
       "\n",
       "   한식음식점여부  프랜차이즈  clustering  \n",
       "0        1      1           0  \n",
       "1        0      0           0  \n",
       "2        0      0           0  \n",
       "3        0      0           0  \n",
       "4        0      0           0  "
      ]
     },
     "execution_count": 78,
     "metadata": {},
     "output_type": "execute_result"
    }
   ],
   "source": [
    "food = pd.read_csv('./Data/seogyodong+korean-ratio+franchise+hint.csv')\n",
    "food.head()"
   ]
  },
  {
   "attachments": {},
   "cell_type": "markdown",
   "metadata": {},
   "source": [
    "### 힌트를 통해 어떠한 데이터를 구하면 될지 보기"
   ]
  },
  {
   "cell_type": "code",
   "execution_count": 79,
   "metadata": {},
   "outputs": [],
   "source": [
    "zero=food[food['clustering']==0]\n",
    "one=food[food['clustering']==1]"
   ]
  },
  {
   "cell_type": "code",
   "execution_count": 80,
   "metadata": {},
   "outputs": [
    {
     "data": {
      "text/plain": [
       "array(['한식음식점', '중식음식점', '일식음식점', '패스트푸드점', '분식전문점', '커피-음료', '양식음식점',\n",
       "       '치킨전문점', '호프-간이주점', '제과점'], dtype=object)"
      ]
     },
     "execution_count": 80,
     "metadata": {},
     "output_type": "execute_result"
    }
   ],
   "source": [
    "zero['서비스_업종_코드_명'].unique()"
   ]
  },
  {
   "cell_type": "code",
   "execution_count": 81,
   "metadata": {},
   "outputs": [
    {
     "data": {
      "text/plain": [
       "[1,\n",
       " 2,\n",
       " 3,\n",
       " 4,\n",
       " 5,\n",
       " 6,\n",
       " 7,\n",
       " 8,\n",
       " 9,\n",
       " 10,\n",
       " 11,\n",
       " 12,\n",
       " 13,\n",
       " 14,\n",
       " 15,\n",
       " 16,\n",
       " 17,\n",
       " 18,\n",
       " 19,\n",
       " 20,\n",
       " 21,\n",
       " 22,\n",
       " 23,\n",
       " 24,\n",
       " 38]"
      ]
     },
     "execution_count": 81,
     "metadata": {},
     "output_type": "execute_result"
    }
   ],
   "source": [
    "a=list(zero['점포수'].unique())\n",
    "a.sort()\n",
    "a"
   ]
  },
  {
   "cell_type": "code",
   "execution_count": 82,
   "metadata": {},
   "outputs": [
    {
     "data": {
      "text/plain": [
       "[5,\n",
       " 6,\n",
       " 7,\n",
       " 8,\n",
       " 9,\n",
       " 10,\n",
       " 11,\n",
       " 12,\n",
       " 13,\n",
       " 14,\n",
       " 15,\n",
       " 16,\n",
       " 17,\n",
       " 18,\n",
       " 19,\n",
       " 20,\n",
       " 21,\n",
       " 22,\n",
       " 23,\n",
       " 24,\n",
       " 25,\n",
       " 27,\n",
       " 28,\n",
       " 30,\n",
       " 31,\n",
       " 32,\n",
       " 33,\n",
       " 34,\n",
       " 35,\n",
       " 36,\n",
       " 37,\n",
       " 38,\n",
       " 39,\n",
       " 40,\n",
       " 41]"
      ]
     },
     "execution_count": 82,
     "metadata": {},
     "output_type": "execute_result"
    }
   ],
   "source": [
    "a=list(one['점포수'].unique())\n",
    "a.sort()\n",
    "a"
   ]
  },
  {
   "cell_type": "code",
   "execution_count": 83,
   "metadata": {},
   "outputs": [
    {
     "data": {
      "text/plain": [
       "array([4, 2, 1, 3])"
      ]
     },
     "execution_count": 83,
     "metadata": {},
     "output_type": "execute_result"
    }
   ],
   "source": [
    "one['기준_분기_코드'].unique()"
   ]
  },
  {
   "cell_type": "code",
   "execution_count": 84,
   "metadata": {},
   "outputs": [
    {
     "data": {
      "text/plain": [
       "array([2021, 2015, 2014, 2016, 2017, 2018, 2019, 2020])"
      ]
     },
     "execution_count": 84,
     "metadata": {},
     "output_type": "execute_result"
    }
   ],
   "source": [
    "one['기준_년_코드'].unique()"
   ]
  },
  {
   "cell_type": "code",
   "execution_count": 85,
   "metadata": {},
   "outputs": [
    {
     "data": {
      "text/plain": [
       "array(['동교로17길', '동교로19길', '신촌로12길', '양화로11길', '와우산로29가길', '와우산로29길',\n",
       "       '월드컵로10길', '월드컵로16길', '월드컵로8길'], dtype=object)"
      ]
     },
     "execution_count": 85,
     "metadata": {},
     "output_type": "execute_result"
    }
   ],
   "source": [
    "zero['상권_코드_명'].unique()"
   ]
  },
  {
   "cell_type": "code",
   "execution_count": 86,
   "metadata": {},
   "outputs": [
    {
     "data": {
      "text/plain": [
       "array(['동교로17길', '동교로19길', '신촌로12길', '양화로11길', '와우산로29가길', '와우산로29길',\n",
       "       '월드컵로10길', '월드컵로16길', '월드컵로8길'], dtype=object)"
      ]
     },
     "execution_count": 86,
     "metadata": {},
     "output_type": "execute_result"
    }
   ],
   "source": [
    "food['상권_코드_명'].unique()"
   ]
  },
  {
   "cell_type": "code",
   "execution_count": 87,
   "metadata": {},
   "outputs": [
    {
     "data": {
      "text/plain": [
       "array(['한식음식점', '중식음식점', '일식음식점', '패스트푸드점', '분식전문점', '커피-음료', '양식음식점',\n",
       "       '치킨전문점', '호프-간이주점', '제과점'], dtype=object)"
      ]
     },
     "execution_count": 87,
     "metadata": {},
     "output_type": "execute_result"
    }
   ],
   "source": [
    "food['서비스_업종_코드_명'].unique()"
   ]
  },
  {
   "cell_type": "code",
   "execution_count": 88,
   "metadata": {},
   "outputs": [
    {
     "data": {
      "text/plain": [
       "array(['한식음식점', '중식음식점', '일식음식점', '패스트푸드점', '분식전문점', '커피-음료', '양식음식점',\n",
       "       '치킨전문점', '호프-간이주점', '제과점'], dtype=object)"
      ]
     },
     "execution_count": 88,
     "metadata": {},
     "output_type": "execute_result"
    }
   ],
   "source": [
    "zero['서비스_업종_코드_명'].unique()"
   ]
  },
  {
   "attachments": {},
   "cell_type": "markdown",
   "metadata": {},
   "source": [
    "### 약간의 특징을 발견했다. 25이상인 점포수면 힌트의 1번에 해당 되는 경우가 많다."
   ]
  },
  {
   "cell_type": "code",
   "execution_count": 89,
   "metadata": {},
   "outputs": [],
   "source": [
    "food['hint']=[1 if i >= 25 else 0 for i in food['점포수']]\n",
    "food['hint2']=[1 if i >= 1 else 0 for i in food['프랜차이즈']]"
   ]
  },
  {
   "cell_type": "code",
   "execution_count": 90,
   "metadata": {},
   "outputs": [
    {
     "data": {
      "image/png": "[encoded data removed]",
      "text/plain": [
       "<Figure size 640x480 with 1 Axes>"
      ]
     },
     "metadata": {},
     "output_type": "display_data"
    }
   ],
   "source": [
    "sns.swarmplot(\n",
    "    x='clustering',\n",
    "    y='분기당_매출_금액',\n",
    "    data=food\n",
    ")\n",
    "\n",
    "plt.show()"
   ]
  },
  {
   "cell_type": "code",
   "execution_count": 91,
   "metadata": {},
   "outputs": [
    {
     "data": {
      "text/plain": [
       "0    1315\n",
       "1     328\n",
       "Name: clustering, dtype: int64"
      ]
     },
     "execution_count": 91,
     "metadata": {},
     "output_type": "execute_result"
    }
   ],
   "source": [
    "food['clustering'].value_counts()"
   ]
  },
  {
   "cell_type": "code",
   "execution_count": 92,
   "metadata": {},
   "outputs": [],
   "source": [
    "feature = food[['점포수','한식음식점여부','hint2','hint']]\n",
    "target = food['분기당_매출_금액']"
   ]
  },
  {
   "cell_type": "code",
   "execution_count": 93,
   "metadata": {},
   "outputs": [
    {
     "name": "stdout",
     "output_type": "stream",
     "text": [
      "<class 'sklearn.neighbors._regression.KNeighborsRegressor'>\n",
      "train :  0.6554907643896026\n",
      "test :  0.5796573123174802\n",
      "--------------------------------------------------\n",
      "<class 'sklearn.linear_model._base.LinearRegression'>\n",
      "train :  0.6239332081168449\n",
      "test :  0.6080672866219559\n",
      "--------------------------------------------------\n",
      "<class 'sklearn.linear_model._ridge.Ridge'>\n",
      "train :  0.6239187405379815\n",
      "test :  0.6081372119044066\n",
      "--------------------------------------------------\n",
      "<class 'sklearn.linear_model._coordinate_descent.Lasso'>\n",
      "train :  0.6239332081168445\n",
      "test :  0.6080672868538267\n",
      "--------------------------------------------------\n",
      "<class 'sklearn.ensemble._forest.RandomForestRegressor'>\n",
      "train :  0.7030149004506819\n",
      "test :  0.6134007551061499\n",
      "--------------------------------------------------\n"
     ]
    }
   ],
   "source": [
    "from module.default import basic\n",
    "basic(feature,target)"
   ]
  },
  {
   "cell_type": "code",
   "execution_count": 94,
   "metadata": {},
   "outputs": [
    {
     "name": "stdout",
     "output_type": "stream",
     "text": [
      "<class 'sklearn.neighbors._regression.KNeighborsRegressor'>\n",
      "train :  0.6899158263766191\n",
      "test :  0.605638113182212\n",
      "--------------------------------------------------\n",
      "<class 'sklearn.linear_model._base.LinearRegression'>\n",
      "train :  0.6385883207355121\n",
      "test :  0.6334197410478285\n",
      "--------------------------------------------------\n",
      "<class 'sklearn.linear_model._ridge.Ridge'>\n",
      "train :  0.6385771204501124\n",
      "test :  0.6335769849892946\n",
      "--------------------------------------------------\n",
      "<class 'sklearn.linear_model._coordinate_descent.Lasso'>\n",
      "train :  0.638588320735512\n",
      "test :  0.6334197415096293\n",
      "--------------------------------------------------\n",
      "<class 'sklearn.ensemble._forest.RandomForestRegressor'>\n",
      "train :  0.7283420255669399\n",
      "test :  0.6352930994320005\n",
      "--------------------------------------------------\n",
      "-------------------------------------------------- alpha :  0.0001 --------------------------------------------------\n",
      "train : 0.6422081676342619\n",
      "val : 0.636673443825363\n",
      "test : 0.5442255217868814\n",
      "\n",
      "-------------------------------------------------- alpha :  0.001 --------------------------------------------------\n",
      "train : 0.6422081676117753\n",
      "val : 0.6366735299792936\n",
      "test : 0.5442260930382118\n",
      "\n",
      "-------------------------------------------------- alpha :  0.01 --------------------------------------------------\n",
      "train : 0.6422081653649705\n",
      "val : 0.6366743891277473\n",
      "test : 0.544231801479619\n",
      "\n",
      "-------------------------------------------------- alpha :  0.1 --------------------------------------------------\n",
      "train : 0.6422079425269297\n",
      "val : 0.6366827435512994\n",
      "test : 0.544288480772255\n",
      "\n",
      "-------------------------------------------------- alpha :  1 --------------------------------------------------\n",
      "train : 0.6421873723544825\n",
      "val : 0.6367444662244707\n",
      "test : 0.5448167322938859\n",
      "\n",
      "-------------------------------------------------- alpha :  10 --------------------------------------------------\n",
      "train : 0.6410878196588307\n",
      "val : 0.6362404141547475\n",
      "test : 0.5475600056998665\n",
      "\n",
      "-------------------------------------------------- alpha :  100 --------------------------------------------------\n",
      "train : 0.6264496461397638\n",
      "val : 0.6233946657147966\n",
      "test : 0.5361916825775228\n",
      "\n",
      "-------------------------------------------------- alpha :  1000 --------------------------------------------------\n",
      "train : 0.48911543747417036\n",
      "val : 0.4879756837911776\n",
      "test : 0.41507805903620154\n",
      "\n",
      "-------------------------------------------------- alpha :  10000 --------------------------------------------------\n",
      "train : 0.12636933194493366\n",
      "val : 0.12469431627159192\n",
      "test : 0.07965359178776332\n",
      "\n",
      "-------------------------------------------------- alpha :  0.0001 --------------------------------------------------\n",
      "train : 0.6414437018357841\n",
      "val : 0.6362103935608179\n",
      "test : 0.5868889181788508\n",
      "\n",
      "-------------------------------------------------- alpha :  0.001 --------------------------------------------------\n",
      "train : 0.6414437018357841\n",
      "val : 0.6362103935606249\n",
      "test : 0.5868889181775971\n",
      "\n",
      "-------------------------------------------------- alpha :  0.01 --------------------------------------------------\n",
      "train : 0.6414437018357841\n",
      "val : 0.6362103935576087\n",
      "test : 0.5868889181597964\n",
      "\n",
      "-------------------------------------------------- alpha :  0.1 --------------------------------------------------\n",
      "train : 0.6414437018357841\n",
      "val : 0.6362103935343452\n",
      "test : 0.5868889179772683\n",
      "\n",
      "-------------------------------------------------- alpha :  1 --------------------------------------------------\n",
      "train : 0.6414437018357837\n",
      "val : 0.6362103933547996\n",
      "test : 0.5868889161621784\n",
      "\n",
      "-------------------------------------------------- alpha :  10 --------------------------------------------------\n",
      "train : 0.6414437018357427\n",
      "val : 0.6362103915507742\n",
      "test : 0.5868888979942414\n",
      "\n",
      "-------------------------------------------------- alpha :  100 --------------------------------------------------\n",
      "train : 0.641443701832065\n",
      "val : 0.6362103706484803\n",
      "test : 0.5868887166387569\n",
      "\n",
      "-------------------------------------------------- alpha :  1000 --------------------------------------------------\n",
      "train : 0.6414437014875266\n",
      "val : 0.6362102096683222\n",
      "test : 0.5868869014290855\n",
      "\n",
      "-------------------------------------------------- alpha :  10000 --------------------------------------------------\n",
      "train : 0.6414436615471928\n",
      "val : 0.6362084524387667\n",
      "test : 0.5868690184137595\n",
      "\n"
     ]
    }
   ],
   "source": [
    "from module.machinelearning import ridge , lasso\n",
    "from sklearn.preprocessing import StandardScaler\n",
    "scaler = StandardScaler()\n",
    "\n",
    "food['점포수_스케일']=scaler.fit_transform(food['점포수'].to_numpy().reshape(-1,1))\n",
    "\n",
    "feature = food[['점포수_스케일','한식음식점여부','hint2','hint']]\n",
    "target = food['분기당_매출_금액']\n",
    "\n",
    "basic(feature,target)\n",
    "ridge(feature,target)\n",
    "lasso(feature,target)"
   ]
  },
  {
   "attachments": {},
   "cell_type": "markdown",
   "metadata": {},
   "source": [
    "### 안된다 새로운 데이터가 필요하다."
   ]
  },
  {
   "cell_type": "code",
   "execution_count": 95,
   "metadata": {},
   "outputs": [],
   "source": [
    "food['점포수**2'] = food['점포수']**2\n",
    "food['점포수**3'] = food['점포수']**3\n",
    "food['점포수**4'] = food['점포수']**4\n",
    "food['점포수**5'] = food['점포수']**5"
   ]
  },
  {
   "cell_type": "code",
   "execution_count": 97,
   "metadata": {},
   "outputs": [
    {
     "data": {
      "text/html": [
       "<div>\n",
       "<style scoped>\n",
       "    .dataframe tbody tr th:only-of-type {\n",
       "        vertical-align: middle;\n",
       "    }\n",
       "\n",
       "    .dataframe tbody tr th {\n",
       "        vertical-align: top;\n",
       "    }\n",
       "\n",
       "    .dataframe thead th {\n",
       "        text-align: right;\n",
       "    }\n",
       "</style>\n",
       "<table border=\"1\" class=\"dataframe\">\n",
       "  <thead>\n",
       "    <tr style=\"text-align: right;\">\n",
       "      <th></th>\n",
       "      <th>기준_년_코드</th>\n",
       "      <th>기준_분기_코드</th>\n",
       "      <th>상권_코드</th>\n",
       "      <th>상권_코드_명</th>\n",
       "      <th>서비스_업종_코드</th>\n",
       "      <th>서비스_업종_코드_명</th>\n",
       "      <th>분기당_매출_금액</th>\n",
       "      <th>점포수</th>\n",
       "      <th>한식음식점여부</th>\n",
       "      <th>프랜차이즈</th>\n",
       "      <th>clustering</th>\n",
       "      <th>hint</th>\n",
       "      <th>hint2</th>\n",
       "      <th>점포수_스케일</th>\n",
       "      <th>점포수**2</th>\n",
       "      <th>점포수**3</th>\n",
       "      <th>점포수**4</th>\n",
       "      <th>점포수**5</th>\n",
       "    </tr>\n",
       "  </thead>\n",
       "  <tbody>\n",
       "    <tr>\n",
       "      <th>0</th>\n",
       "      <td>2021</td>\n",
       "      <td>1</td>\n",
       "      <td>1000466</td>\n",
       "      <td>동교로17길</td>\n",
       "      <td>CS100001</td>\n",
       "      <td>한식음식점</td>\n",
       "      <td>243935896</td>\n",
       "      <td>14</td>\n",
       "      <td>1</td>\n",
       "      <td>1</td>\n",
       "      <td>0</td>\n",
       "      <td>0</td>\n",
       "      <td>1</td>\n",
       "      <td>0.722856</td>\n",
       "      <td>196</td>\n",
       "      <td>2744</td>\n",
       "      <td>38416</td>\n",
       "      <td>537824</td>\n",
       "    </tr>\n",
       "    <tr>\n",
       "      <th>1</th>\n",
       "      <td>2021</td>\n",
       "      <td>1</td>\n",
       "      <td>1000466</td>\n",
       "      <td>동교로17길</td>\n",
       "      <td>CS100002</td>\n",
       "      <td>중식음식점</td>\n",
       "      <td>45393178</td>\n",
       "      <td>1</td>\n",
       "      <td>0</td>\n",
       "      <td>0</td>\n",
       "      <td>0</td>\n",
       "      <td>0</td>\n",
       "      <td>0</td>\n",
       "      <td>-1.034826</td>\n",
       "      <td>1</td>\n",
       "      <td>1</td>\n",
       "      <td>1</td>\n",
       "      <td>1</td>\n",
       "    </tr>\n",
       "    <tr>\n",
       "      <th>2</th>\n",
       "      <td>2021</td>\n",
       "      <td>1</td>\n",
       "      <td>1000466</td>\n",
       "      <td>동교로17길</td>\n",
       "      <td>CS100003</td>\n",
       "      <td>일식음식점</td>\n",
       "      <td>55589434</td>\n",
       "      <td>3</td>\n",
       "      <td>0</td>\n",
       "      <td>0</td>\n",
       "      <td>0</td>\n",
       "      <td>0</td>\n",
       "      <td>0</td>\n",
       "      <td>-0.764414</td>\n",
       "      <td>9</td>\n",
       "      <td>27</td>\n",
       "      <td>81</td>\n",
       "      <td>243</td>\n",
       "    </tr>\n",
       "    <tr>\n",
       "      <th>3</th>\n",
       "      <td>2021</td>\n",
       "      <td>1</td>\n",
       "      <td>1000466</td>\n",
       "      <td>동교로17길</td>\n",
       "      <td>CS100006</td>\n",
       "      <td>패스트푸드점</td>\n",
       "      <td>9925407</td>\n",
       "      <td>3</td>\n",
       "      <td>0</td>\n",
       "      <td>0</td>\n",
       "      <td>0</td>\n",
       "      <td>0</td>\n",
       "      <td>0</td>\n",
       "      <td>-0.764414</td>\n",
       "      <td>9</td>\n",
       "      <td>27</td>\n",
       "      <td>81</td>\n",
       "      <td>243</td>\n",
       "    </tr>\n",
       "    <tr>\n",
       "      <th>4</th>\n",
       "      <td>2021</td>\n",
       "      <td>1</td>\n",
       "      <td>1000466</td>\n",
       "      <td>동교로17길</td>\n",
       "      <td>CS100008</td>\n",
       "      <td>분식전문점</td>\n",
       "      <td>40136157</td>\n",
       "      <td>6</td>\n",
       "      <td>0</td>\n",
       "      <td>0</td>\n",
       "      <td>0</td>\n",
       "      <td>0</td>\n",
       "      <td>0</td>\n",
       "      <td>-0.358795</td>\n",
       "      <td>36</td>\n",
       "      <td>216</td>\n",
       "      <td>1296</td>\n",
       "      <td>7776</td>\n",
       "    </tr>\n",
       "  </tbody>\n",
       "</table>\n",
       "</div>"
      ],
      "text/plain": [
       "   기준_년_코드  기준_분기_코드    상권_코드 상권_코드_명 서비스_업종_코드 서비스_업종_코드_명  분기당_매출_금액  점포수  \\\n",
       "0     2021         1  1000466  동교로17길  CS100001       한식음식점  243935896   14   \n",
       "1     2021         1  1000466  동교로17길  CS100002       중식음식점   45393178    1   \n",
       "2     2021         1  1000466  동교로17길  CS100003       일식음식점   55589434    3   \n",
       "3     2021         1  1000466  동교로17길  CS100006      패스트푸드점    9925407    3   \n",
       "4     2021         1  1000466  동교로17길  CS100008       분식전문점   40136157    6   \n",
       "\n",
       "   한식음식점여부  프랜차이즈  clustering  hint  hint2   점포수_스케일  점포수**2  점포수**3  점포수**4  \\\n",
       "0        1      1           0     0      1  0.722856     196    2744   38416   \n",
       "1        0      0           0     0      0 -1.034826       1       1       1   \n",
       "2        0      0           0     0      0 -0.764414       9      27      81   \n",
       "3        0      0           0     0      0 -0.764414       9      27      81   \n",
       "4        0      0           0     0      0 -0.358795      36     216    1296   \n",
       "\n",
       "   점포수**5  \n",
       "0  537824  \n",
       "1       1  \n",
       "2     243  \n",
       "3     243  \n",
       "4    7776  "
      ]
     },
     "execution_count": 97,
     "metadata": {},
     "output_type": "execute_result"
    }
   ],
   "source": [
    "food.head()"
   ]
  },
  {
   "attachments": {},
   "cell_type": "markdown",
   "metadata": {},
   "source": [
    "3,4 가 베스트\n"
   ]
  },
  {
   "cell_type": "code",
   "execution_count": 114,
   "metadata": {},
   "outputs": [
    {
     "name": "stdout",
     "output_type": "stream",
     "text": [
      "<class 'sklearn.neighbors._regression.KNeighborsRegressor'>\n",
      "train :  0.6903344080791507\n",
      "test :  0.6196341670783567\n",
      "--------------------------------------------------\n",
      "<class 'sklearn.linear_model._base.LinearRegression'>\n",
      "train :  0.6614701963072009\n",
      "test :  0.6392578832787114\n",
      "--------------------------------------------------\n",
      "<class 'sklearn.linear_model._ridge.Ridge'>\n",
      "train :  0.6614643146695245\n",
      "test :  0.6392835319678316\n",
      "--------------------------------------------------\n",
      "<class 'sklearn.linear_model._coordinate_descent.Lasso'>\n",
      "train :  0.6588149769104896\n",
      "test :  0.6393901124858019\n",
      "--------------------------------------------------\n",
      "<class 'sklearn.ensemble._forest.RandomForestRegressor'>\n",
      "train :  0.7373509878435665\n",
      "test :  0.64468700775385\n",
      "--------------------------------------------------\n",
      "-------------------------------------------------- alpha :  0.0001 --------------------------------------------------\n",
      "train : 0.640967804682588\n",
      "val : 0.6315746870210723\n",
      "test : 0.6490211456674557\n",
      "\n",
      "-------------------------------------------------- alpha :  0.001 --------------------------------------------------\n",
      "train : 0.6409678039705605\n",
      "val : 0.6315753641500444\n",
      "test : 0.6490216919334324\n",
      "\n",
      "-------------------------------------------------- alpha :  0.01 --------------------------------------------------\n",
      "train : 0.6409677335020157\n",
      "val : 0.6315820275256673\n",
      "test : 0.6490271058808679\n",
      "\n",
      "-------------------------------------------------- alpha :  0.1 --------------------------------------------------\n",
      "train : 0.6409613621991614\n",
      "val : 0.6316388156546996\n",
      "test : 0.6490767216646651\n",
      "\n",
      "-------------------------------------------------- alpha :  1 --------------------------------------------------\n",
      "train : 0.6406744683493903\n",
      "val : 0.6317326099841568\n",
      "test : 0.6493281299450085\n",
      "\n",
      "-------------------------------------------------- alpha :  10 --------------------------------------------------\n",
      "train : 0.6388329528473466\n",
      "val : 0.6304197137294262\n",
      "test : 0.6502274438522624\n",
      "\n",
      "-------------------------------------------------- alpha :  100 --------------------------------------------------\n",
      "train : 0.6205735429730371\n",
      "val : 0.6122278214398988\n",
      "test : 0.6475988804877151\n",
      "\n",
      "-------------------------------------------------- alpha :  1000 --------------------------------------------------\n",
      "train : 0.5749449263218086\n",
      "val : 0.5665425554771206\n",
      "test : 0.6188569524781181\n",
      "\n",
      "-------------------------------------------------- alpha :  10000 --------------------------------------------------\n",
      "train : 0.561710566366856\n",
      "val : 0.5535483272614564\n",
      "test : 0.6103012218355484\n",
      "\n",
      "-------------------------------------------------- alpha :  0.0001 --------------------------------------------------\n",
      "train : 0.6498128378167685\n",
      "val : 0.6402569588200688\n",
      "test : 0.6038400396610439\n",
      "\n",
      "-------------------------------------------------- alpha :  0.001 --------------------------------------------------\n",
      "train : 0.6498128378172526\n",
      "val : 0.6402569588206368\n",
      "test : 0.6038400396607659\n",
      "\n",
      "-------------------------------------------------- alpha :  0.01 --------------------------------------------------\n",
      "train : 0.6498128378220943\n",
      "val : 0.6402569588263157\n",
      "test : 0.6038400396579866\n",
      "\n",
      "-------------------------------------------------- alpha :  0.1 --------------------------------------------------\n",
      "train : 0.6498128378705111\n",
      "val : 0.6402569588831047\n",
      "test : 0.6038400396301926\n",
      "\n",
      "-------------------------------------------------- alpha :  1 --------------------------------------------------\n",
      "train : 0.6498128383546788\n",
      "val : 0.6402569594509945\n",
      "test : 0.6038400393522522\n",
      "\n",
      "-------------------------------------------------- alpha :  10 --------------------------------------------------\n",
      "train : 0.6498128431963405\n",
      "val : 0.6402569651298764\n",
      "test : 0.6038400365728287\n",
      "\n",
      "-------------------------------------------------- alpha :  100 --------------------------------------------------\n",
      "train : 0.6498128916114155\n",
      "val : 0.6402570219171327\n",
      "test : 0.6038400087767695\n",
      "\n",
      "-------------------------------------------------- alpha :  1000 --------------------------------------------------\n",
      "train : 0.6498133756079851\n",
      "val : 0.6402575896332435\n",
      "test : 0.603839730633672\n",
      "\n",
      "-------------------------------------------------- alpha :  10000 --------------------------------------------------\n",
      "train : 0.6498182001555322\n",
      "val : 0.6402632511491781\n",
      "test : 0.6038369309520354\n",
      "\n"
     ]
    }
   ],
   "source": [
    "feature = food[['점포수','한식음식점여부','프랜차이즈','점포수**4','점포수**3','점포수**2',\n",
    "                '점포수**5']]\n",
    "target = food['분기당_매출_금액']\n",
    "\n",
    "basic(feature,target)\n",
    "\n",
    "food['점포수_스케일']=scaler.fit_transform(food['점포수'].to_numpy().reshape(-1,1))\n",
    "\n",
    "feature = food[['점포수_스케일','한식음식점여부','프랜차이즈','점포수**4','점포수**3','점포수**5','점포수**2']]\n",
    "target = food['분기당_매출_금액']\n",
    "\n",
    "ridge(feature,target)\n",
    "lasso(feature,target)"
   ]
  },
  {
   "cell_type": "code",
   "execution_count": 115,
   "metadata": {},
   "outputs": [
    {
     "data": {
      "image/png": "[encoded data removed]",
      "text/plain": [
       "<Figure size 640x480 with 1 Axes>"
      ]
     },
     "metadata": {},
     "output_type": "display_data"
    },
    {
     "data": {
      "image/png": "[encoded data removed]",
      "text/plain": [
       "<Figure size 640x480 with 2 Axes>"
      ]
     },
     "metadata": {},
     "output_type": "display_data"
    }
   ],
   "source": [
    "import module.clustering as clu\n",
    "data = food[['점포수','점포수**4','점포수**3','점포수**5','점포수**2']]\n",
    "\n",
    "\n",
    "\n",
    "clu.visualize_elbowmethod(data,n=20)\n",
    "clu.visualize_silhouette_layer(data,n=20)"
   ]
  },
  {
   "cell_type": "code",
   "execution_count": 116,
   "metadata": {},
   "outputs": [
    {
     "data": {
      "image/png": "[encoded data removed]",
      "text/plain": [
       "<Figure size 640x480 with 1 Axes>"
      ]
     },
     "metadata": {},
     "output_type": "display_data"
    }
   ],
   "source": [
    "from sklearn.cluster import KMeans\n",
    "kmeans = KMeans(n_clusters=2)\n",
    "kmeans.fit(data)\n",
    "food['clustering2']=kmeans.labels_\n",
    "\n",
    "sns.swarmplot(\n",
    "    x='clustering2',\n",
    "    y='분기당_매출_금액',\n",
    "    data=food\n",
    ")\n",
    "\n",
    "plt.show()"
   ]
  },
  {
   "cell_type": "code",
   "execution_count": 120,
   "metadata": {},
   "outputs": [
    {
     "name": "stdout",
     "output_type": "stream",
     "text": [
      "<class 'sklearn.neighbors._regression.KNeighborsRegressor'>\n",
      "train :  0.6772566342552366\n",
      "test :  0.6185383607097825\n",
      "--------------------------------------------------\n",
      "<class 'sklearn.linear_model._base.LinearRegression'>\n",
      "train :  0.6318180427403575\n",
      "test :  0.6284524737946675\n",
      "--------------------------------------------------\n",
      "<class 'sklearn.linear_model._ridge.Ridge'>\n",
      "train :  0.6317982837310826\n",
      "test :  0.6285631605567944\n",
      "--------------------------------------------------\n",
      "<class 'sklearn.linear_model._coordinate_descent.Lasso'>\n",
      "train :  0.6318180427403572\n",
      "test :  0.6284524739681013\n",
      "--------------------------------------------------\n",
      "<class 'sklearn.ensemble._forest.RandomForestRegressor'>\n",
      "train :  0.7212653040438496\n",
      "test :  0.6445429590202258\n",
      "--------------------------------------------------\n",
      "-------------------------------------------------- alpha :  0.0001 --------------------------------------------------\n",
      "train : 0.6564112307916481\n",
      "val : 0.6437930204697558\n",
      "test : 0.5821403281728903\n",
      "\n",
      "-------------------------------------------------- alpha :  0.001 --------------------------------------------------\n",
      "train : 0.6564112306890605\n",
      "val : 0.6437940020319644\n",
      "test : 0.582140766588501\n",
      "\n",
      "-------------------------------------------------- alpha :  0.01 --------------------------------------------------\n",
      "train : 0.6564112204882859\n",
      "val : 0.6438037712053728\n",
      "test : 0.5821451387420329\n",
      "\n",
      "-------------------------------------------------- alpha :  0.1 --------------------------------------------------\n",
      "train : 0.656410255636416\n",
      "val : 0.6438970131614076\n",
      "test : 0.5821876930299654\n",
      "\n",
      "-------------------------------------------------- alpha :  1 --------------------------------------------------\n",
      "train : 0.6563500955320851\n",
      "val : 0.6445213520890423\n",
      "test : 0.5825222558316498\n",
      "\n",
      "-------------------------------------------------- alpha :  10 --------------------------------------------------\n",
      "train : 0.6553474024919341\n",
      "val : 0.6451335526964629\n",
      "test : 0.5833973401826478\n",
      "\n",
      "-------------------------------------------------- alpha :  100 --------------------------------------------------\n",
      "train : 0.6352987341561664\n",
      "val : 0.625834573870391\n",
      "test : 0.573363383781186\n",
      "\n",
      "-------------------------------------------------- alpha :  1000 --------------------------------------------------\n",
      "train : 0.5670319096762466\n",
      "val : 0.5554998874585577\n",
      "test : 0.5187971657395223\n",
      "\n",
      "-------------------------------------------------- alpha :  10000 --------------------------------------------------\n",
      "train : 0.5438832330012646\n",
      "val : 0.5315459385140276\n",
      "test : 0.49619479854952075\n",
      "\n",
      "-------------------------------------------------- alpha :  0.0001 --------------------------------------------------\n",
      "train : 0.6319427368298449\n",
      "val : 0.6231561354922484\n",
      "test : 0.667850755822976\n",
      "\n",
      "-------------------------------------------------- alpha :  0.001 --------------------------------------------------\n",
      "train : 0.6319427368298489\n",
      "val : 0.6231561354916036\n",
      "test : 0.6678507558244274\n",
      "\n",
      "-------------------------------------------------- alpha :  0.01 --------------------------------------------------\n",
      "train : 0.6319427368298877\n",
      "val : 0.6231561354851559\n",
      "test : 0.667850755838941\n",
      "\n",
      "-------------------------------------------------- alpha :  0.1 --------------------------------------------------\n",
      "train : 0.6319427368302765\n",
      "val : 0.6231561354206784\n",
      "test : 0.6678507559840777\n",
      "\n",
      "-------------------------------------------------- alpha :  1 --------------------------------------------------\n",
      "train : 0.6319427368341625\n",
      "val : 0.6231561347759026\n",
      "test : 0.667850757435442\n",
      "\n",
      "-------------------------------------------------- alpha :  10 --------------------------------------------------\n",
      "train : 0.6319427368728844\n",
      "val : 0.6231561283279854\n",
      "test : 0.6678507719488516\n",
      "\n",
      "-------------------------------------------------- alpha :  100 --------------------------------------------------\n",
      "train : 0.6319427372463243\n",
      "val : 0.6231560638330632\n",
      "test : 0.6678509170598923\n",
      "\n",
      "-------------------------------------------------- alpha :  1000 --------------------------------------------------\n",
      "train : 0.6319427396038406\n",
      "val : 0.6231554174313487\n",
      "test : 0.6678523658646267\n",
      "\n",
      "-------------------------------------------------- alpha :  10000 --------------------------------------------------\n",
      "train : 0.6319426254226864\n",
      "val : 0.623148800455666\n",
      "test : 0.6678666233447186\n",
      "\n"
     ]
    }
   ],
   "source": [
    "feature = food[['점포수','한식음식점여부','프랜차이즈','clustering2']]\n",
    "target = food['분기당_매출_금액']\n",
    "\n",
    "basic(feature,target)\n",
    "\n",
    "food['점포수_스케일']=scaler.fit_transform(food['점포수'].to_numpy().reshape(-1,1))\n",
    "\n",
    "feature = food[['점포수_스케일','한식음식점여부','프랜차이즈','점포수**4','점포수**3','clustering2']]\n",
    "target = food['분기당_매출_금액']\n",
    "\n",
    "ridge(feature,target)\n",
    "lasso(feature,target)"
   ]
  },
  {
   "cell_type": "code",
   "execution_count": null,
   "metadata": {},
   "outputs": [],
   "source": []
  }
 ],
 "metadata": {
  "kernelspec": {
   "display_name": "tensorflow",
   "language": "python",
   "name": "python3"
  },
  "language_info": {
   "codemirror_mode": {
    "name": "ipython",
    "version": 3
   },
   "file_extension": ".py",
   "mimetype": "text/x-python",
   "name": "python",
   "nbconvert_exporter": "python",
   "pygments_lexer": "ipython3",
   "version": "3.9.13"
  },
  "orig_nbformat": 4,
  "vscode": {
   "interpreter": {
    "hash": "a3680a952170aa4879024e73d39878b7aac962f0b16bced1a9689b2321800c8b"
   }
  }
 },
 "nbformat": 4,
 "nbformat_minor": 2
}
