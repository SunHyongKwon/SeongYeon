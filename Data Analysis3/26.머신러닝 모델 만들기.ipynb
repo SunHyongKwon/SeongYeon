{
 "cells": [
  {
   "cell_type": "code",
   "execution_count": 1,
   "metadata": {},
   "outputs": [],
   "source": [
    "import pandas as pd\n",
    "import numpy as np\n",
    "import matplotlib.pyplot as plt\n",
    "from matplotlib import font_manager, rc\n",
    "import platform\n",
    "import warnings\n",
    "\n",
    "# seaborn 사용하기\n",
    "import seaborn as sns\n",
    "\n",
    "plt.rcParams['axes.unicode_minus'] = False\n",
    "\n",
    "if platform.system() == 'Darwin':\n",
    "    rc('font', family='AppleGothic') # os가 macos\n",
    "elif platform.system() == 'Windows':\n",
    "    path = 'c:/Windows/Fonts/malgun.ttf' # os가 windows\n",
    "    font_name = font_manager.FontProperties(fname=path).get_name()\n",
    "    rc('font', family=font_name)\n",
    "else:\n",
    "    print(\"Unknown System\")\n",
    "\n",
    "warnings.filterwarnings('ignore')"
   ]
  },
  {
   "cell_type": "code",
   "execution_count": 2,
   "metadata": {},
   "outputs": [
    {
     "data": {
      "text/html": [
       "<div>\n",
       "<style scoped>\n",
       "    .dataframe tbody tr th:only-of-type {\n",
       "        vertical-align: middle;\n",
       "    }\n",
       "\n",
       "    .dataframe tbody tr th {\n",
       "        vertical-align: top;\n",
       "    }\n",
       "\n",
       "    .dataframe thead th {\n",
       "        text-align: right;\n",
       "    }\n",
       "</style>\n",
       "<table border=\"1\" class=\"dataframe\">\n",
       "  <thead>\n",
       "    <tr style=\"text-align: right;\">\n",
       "      <th></th>\n",
       "      <th>기준_년_코드</th>\n",
       "      <th>기준_분기_코드</th>\n",
       "      <th>상권_구분_코드</th>\n",
       "      <th>상권_구분_코드_명</th>\n",
       "      <th>시군구코드</th>\n",
       "      <th>시군구명</th>\n",
       "      <th>행정동_코드</th>\n",
       "      <th>상권_코드</th>\n",
       "      <th>상권_코드_명</th>\n",
       "      <th>점포매출액</th>\n",
       "      <th>...</th>\n",
       "      <th>행정동_코드_명_신사동</th>\n",
       "      <th>행정동_코드_명_신원동</th>\n",
       "      <th>행정동_코드_명_은천동</th>\n",
       "      <th>행정동_코드_명_인헌동</th>\n",
       "      <th>행정동_코드_명_조원동</th>\n",
       "      <th>행정동_코드_명_중앙동</th>\n",
       "      <th>행정동_코드_명_청룡동</th>\n",
       "      <th>행정동_코드_명_청림동</th>\n",
       "      <th>행정동_코드_명_행운동</th>\n",
       "      <th>행정동_코드_명</th>\n",
       "    </tr>\n",
       "  </thead>\n",
       "  <tbody>\n",
       "    <tr>\n",
       "      <th>0</th>\n",
       "      <td>2014</td>\n",
       "      <td>2</td>\n",
       "      <td>A</td>\n",
       "      <td>골목상권</td>\n",
       "      <td>11620</td>\n",
       "      <td>관악구</td>\n",
       "      <td>11620525</td>\n",
       "      <td>1000804</td>\n",
       "      <td>당곡길</td>\n",
       "      <td>5.713964e+08</td>\n",
       "      <td>...</td>\n",
       "      <td>0</td>\n",
       "      <td>0</td>\n",
       "      <td>0</td>\n",
       "      <td>0</td>\n",
       "      <td>0</td>\n",
       "      <td>0</td>\n",
       "      <td>0</td>\n",
       "      <td>0</td>\n",
       "      <td>0</td>\n",
       "      <td>보라매동</td>\n",
       "    </tr>\n",
       "    <tr>\n",
       "      <th>1</th>\n",
       "      <td>2014</td>\n",
       "      <td>2</td>\n",
       "      <td>A</td>\n",
       "      <td>골목상권</td>\n",
       "      <td>11620</td>\n",
       "      <td>관악구</td>\n",
       "      <td>11620525</td>\n",
       "      <td>1000811</td>\n",
       "      <td>봉천로13길</td>\n",
       "      <td>1.337315e+08</td>\n",
       "      <td>...</td>\n",
       "      <td>0</td>\n",
       "      <td>0</td>\n",
       "      <td>0</td>\n",
       "      <td>0</td>\n",
       "      <td>0</td>\n",
       "      <td>0</td>\n",
       "      <td>0</td>\n",
       "      <td>0</td>\n",
       "      <td>0</td>\n",
       "      <td>보라매동</td>\n",
       "    </tr>\n",
       "    <tr>\n",
       "      <th>2</th>\n",
       "      <td>2014</td>\n",
       "      <td>2</td>\n",
       "      <td>A</td>\n",
       "      <td>골목상권</td>\n",
       "      <td>11620</td>\n",
       "      <td>관악구</td>\n",
       "      <td>11620545</td>\n",
       "      <td>1000783</td>\n",
       "      <td>관악로30길</td>\n",
       "      <td>2.019276e+08</td>\n",
       "      <td>...</td>\n",
       "      <td>0</td>\n",
       "      <td>0</td>\n",
       "      <td>0</td>\n",
       "      <td>0</td>\n",
       "      <td>0</td>\n",
       "      <td>0</td>\n",
       "      <td>0</td>\n",
       "      <td>1</td>\n",
       "      <td>0</td>\n",
       "      <td>청림동</td>\n",
       "    </tr>\n",
       "    <tr>\n",
       "      <th>3</th>\n",
       "      <td>2014</td>\n",
       "      <td>2</td>\n",
       "      <td>A</td>\n",
       "      <td>골목상권</td>\n",
       "      <td>11620</td>\n",
       "      <td>관악구</td>\n",
       "      <td>11620545</td>\n",
       "      <td>1000835</td>\n",
       "      <td>청림3길</td>\n",
       "      <td>1.604613e+08</td>\n",
       "      <td>...</td>\n",
       "      <td>0</td>\n",
       "      <td>0</td>\n",
       "      <td>0</td>\n",
       "      <td>0</td>\n",
       "      <td>0</td>\n",
       "      <td>0</td>\n",
       "      <td>0</td>\n",
       "      <td>1</td>\n",
       "      <td>0</td>\n",
       "      <td>청림동</td>\n",
       "    </tr>\n",
       "    <tr>\n",
       "      <th>4</th>\n",
       "      <td>2014</td>\n",
       "      <td>2</td>\n",
       "      <td>A</td>\n",
       "      <td>골목상권</td>\n",
       "      <td>11620</td>\n",
       "      <td>관악구</td>\n",
       "      <td>11620565</td>\n",
       "      <td>1000786</td>\n",
       "      <td>구암길</td>\n",
       "      <td>3.152107e+07</td>\n",
       "      <td>...</td>\n",
       "      <td>0</td>\n",
       "      <td>0</td>\n",
       "      <td>0</td>\n",
       "      <td>0</td>\n",
       "      <td>0</td>\n",
       "      <td>0</td>\n",
       "      <td>0</td>\n",
       "      <td>0</td>\n",
       "      <td>0</td>\n",
       "      <td>성현동</td>\n",
       "    </tr>\n",
       "  </tbody>\n",
       "</table>\n",
       "<p>5 rows × 77 columns</p>\n",
       "</div>"
      ],
      "text/plain": [
       "   기준_년_코드  기준_분기_코드 상권_구분_코드 상권_구분_코드_명  시군구코드 시군구명    행정동_코드    상권_코드  \\\n",
       "0     2014         2        A       골목상권  11620  관악구  11620525  1000804   \n",
       "1     2014         2        A       골목상권  11620  관악구  11620525  1000811   \n",
       "2     2014         2        A       골목상권  11620  관악구  11620545  1000783   \n",
       "3     2014         2        A       골목상권  11620  관악구  11620545  1000835   \n",
       "4     2014         2        A       골목상권  11620  관악구  11620565  1000786   \n",
       "\n",
       "  상권_코드_명         점포매출액  ...  행정동_코드_명_신사동  행정동_코드_명_신원동  행정동_코드_명_은천동  \\\n",
       "0     당곡길  5.713964e+08  ...             0             0             0   \n",
       "1  봉천로13길  1.337315e+08  ...             0             0             0   \n",
       "2  관악로30길  2.019276e+08  ...             0             0             0   \n",
       "3    청림3길  1.604613e+08  ...             0             0             0   \n",
       "4     구암길  3.152107e+07  ...             0             0             0   \n",
       "\n",
       "   행정동_코드_명_인헌동  행정동_코드_명_조원동  행정동_코드_명_중앙동  행정동_코드_명_청룡동  행정동_코드_명_청림동  \\\n",
       "0             0             0             0             0             0   \n",
       "1             0             0             0             0             0   \n",
       "2             0             0             0             0             1   \n",
       "3             0             0             0             0             1   \n",
       "4             0             0             0             0             0   \n",
       "\n",
       "   행정동_코드_명_행운동  행정동_코드_명  \n",
       "0             0      보라매동  \n",
       "1             0      보라매동  \n",
       "2             0       청림동  \n",
       "3             0       청림동  \n",
       "4             0       성현동  \n",
       "\n",
       "[5 rows x 77 columns]"
      ]
     },
     "execution_count": 2,
     "metadata": {},
     "output_type": "execute_result"
    }
   ],
   "source": [
    "data = pd.read_csv('./Data2/final.csv')\n",
    "data.head()"
   ]
  },
  {
   "attachments": {},
   "cell_type": "markdown",
   "metadata": {},
   "source": [
    "### 순서 정리 하기"
   ]
  },
  {
   "cell_type": "code",
   "execution_count": 3,
   "metadata": {},
   "outputs": [],
   "source": [
    "desc1=data.iloc[:,:7]\n",
    "desc2=data['행정동_코드_명']\n",
    "desc3=data.iloc[:,7:9]\n",
    "target_feature=data.iloc[:,9:-1]"
   ]
  },
  {
   "cell_type": "code",
   "execution_count": 4,
   "metadata": {},
   "outputs": [
    {
     "data": {
<<<<<<< HEAD
      "text/plain": [
       "array(['보라매동', '청림동', '성현동', '행운동', '낙성대동', '청룡동', '은천동', '중앙동', '인헌동',\n",
       "       '남현동', '서원동', '신원동', '서림동', '신사동', '신림동', '난향동', '조원동', '대학동',\n",
       "       '삼성동', '미성동', '난곡동'], dtype=object)"
      ]
     },
     "execution_count": 4,
     "metadata": {},
     "output_type": "execute_result"
    }
   ],
   "source": [
    "desc2.unique()"
   ]
  },
  {
   "cell_type": "code",
   "execution_count": 5,
   "metadata": {},
   "outputs": [
    {
     "data": {
=======
>>>>>>> f5e2574c158a68d3fdd1de79f861ea83ed056aaa
      "text/html": [
       "<div>\n",
       "<style scoped>\n",
       "    .dataframe tbody tr th:only-of-type {\n",
       "        vertical-align: middle;\n",
       "    }\n",
       "\n",
       "    .dataframe tbody tr th {\n",
       "        vertical-align: top;\n",
       "    }\n",
       "\n",
       "    .dataframe thead th {\n",
       "        text-align: right;\n",
       "    }\n",
       "</style>\n",
       "<table border=\"1\" class=\"dataframe\">\n",
       "  <thead>\n",
       "    <tr style=\"text-align: right;\">\n",
       "      <th></th>\n",
       "      <th>기준_년_코드</th>\n",
       "      <th>기준_분기_코드</th>\n",
       "      <th>상권_구분_코드</th>\n",
       "      <th>상권_구분_코드_명</th>\n",
       "      <th>시군구코드</th>\n",
       "      <th>시군구명</th>\n",
       "      <th>행정동_코드</th>\n",
       "      <th>행정동_코드_명</th>\n",
       "      <th>상권_코드</th>\n",
       "      <th>상권_코드_명</th>\n",
       "      <th>...</th>\n",
       "      <th>행정동_코드_명_신림동</th>\n",
       "      <th>행정동_코드_명_신사동</th>\n",
       "      <th>행정동_코드_명_신원동</th>\n",
       "      <th>행정동_코드_명_은천동</th>\n",
       "      <th>행정동_코드_명_인헌동</th>\n",
       "      <th>행정동_코드_명_조원동</th>\n",
       "      <th>행정동_코드_명_중앙동</th>\n",
       "      <th>행정동_코드_명_청룡동</th>\n",
       "      <th>행정동_코드_명_청림동</th>\n",
       "      <th>행정동_코드_명_행운동</th>\n",
       "    </tr>\n",
       "  </thead>\n",
       "  <tbody>\n",
       "    <tr>\n",
       "      <th>0</th>\n",
       "      <td>2014</td>\n",
       "      <td>2</td>\n",
       "      <td>A</td>\n",
       "      <td>골목상권</td>\n",
       "      <td>11620</td>\n",
       "      <td>관악구</td>\n",
       "      <td>11620525</td>\n",
       "      <td>보라매동</td>\n",
       "      <td>1000804</td>\n",
       "      <td>당곡길</td>\n",
       "      <td>...</td>\n",
       "      <td>0</td>\n",
       "      <td>0</td>\n",
       "      <td>0</td>\n",
       "      <td>0</td>\n",
       "      <td>0</td>\n",
       "      <td>0</td>\n",
       "      <td>0</td>\n",
       "      <td>0</td>\n",
       "      <td>0</td>\n",
       "      <td>0</td>\n",
       "    </tr>\n",
       "    <tr>\n",
       "      <th>1</th>\n",
       "      <td>2014</td>\n",
       "      <td>2</td>\n",
       "      <td>A</td>\n",
       "      <td>골목상권</td>\n",
       "      <td>11620</td>\n",
       "      <td>관악구</td>\n",
       "      <td>11620525</td>\n",
       "      <td>보라매동</td>\n",
       "      <td>1000811</td>\n",
       "      <td>봉천로13길</td>\n",
       "      <td>...</td>\n",
       "      <td>0</td>\n",
       "      <td>0</td>\n",
       "      <td>0</td>\n",
       "      <td>0</td>\n",
       "      <td>0</td>\n",
       "      <td>0</td>\n",
       "      <td>0</td>\n",
       "      <td>0</td>\n",
       "      <td>0</td>\n",
       "      <td>0</td>\n",
       "    </tr>\n",
       "    <tr>\n",
       "      <th>2</th>\n",
       "      <td>2014</td>\n",
       "      <td>2</td>\n",
       "      <td>A</td>\n",
       "      <td>골목상권</td>\n",
       "      <td>11620</td>\n",
       "      <td>관악구</td>\n",
       "      <td>11620545</td>\n",
       "      <td>청림동</td>\n",
       "      <td>1000783</td>\n",
       "      <td>관악로30길</td>\n",
       "      <td>...</td>\n",
       "      <td>0</td>\n",
       "      <td>0</td>\n",
       "      <td>0</td>\n",
       "      <td>0</td>\n",
       "      <td>0</td>\n",
       "      <td>0</td>\n",
       "      <td>0</td>\n",
       "      <td>0</td>\n",
       "      <td>1</td>\n",
       "      <td>0</td>\n",
       "    </tr>\n",
       "    <tr>\n",
       "      <th>3</th>\n",
       "      <td>2014</td>\n",
       "      <td>2</td>\n",
       "      <td>A</td>\n",
       "      <td>골목상권</td>\n",
       "      <td>11620</td>\n",
       "      <td>관악구</td>\n",
       "      <td>11620545</td>\n",
       "      <td>청림동</td>\n",
       "      <td>1000835</td>\n",
       "      <td>청림3길</td>\n",
       "      <td>...</td>\n",
       "      <td>0</td>\n",
       "      <td>0</td>\n",
       "      <td>0</td>\n",
       "      <td>0</td>\n",
       "      <td>0</td>\n",
       "      <td>0</td>\n",
       "      <td>0</td>\n",
       "      <td>0</td>\n",
       "      <td>1</td>\n",
       "      <td>0</td>\n",
       "    </tr>\n",
       "    <tr>\n",
       "      <th>4</th>\n",
       "      <td>2014</td>\n",
       "      <td>2</td>\n",
       "      <td>A</td>\n",
       "      <td>골목상권</td>\n",
       "      <td>11620</td>\n",
       "      <td>관악구</td>\n",
       "      <td>11620565</td>\n",
       "      <td>성현동</td>\n",
       "      <td>1000786</td>\n",
       "      <td>구암길</td>\n",
       "      <td>...</td>\n",
       "      <td>0</td>\n",
       "      <td>0</td>\n",
       "      <td>0</td>\n",
       "      <td>0</td>\n",
       "      <td>0</td>\n",
       "      <td>0</td>\n",
       "      <td>0</td>\n",
       "      <td>0</td>\n",
       "      <td>0</td>\n",
       "      <td>0</td>\n",
       "    </tr>\n",
       "  </tbody>\n",
       "</table>\n",
       "<p>5 rows × 77 columns</p>\n",
       "</div>"
      ],
      "text/plain": [
       "   기준_년_코드  기준_분기_코드 상권_구분_코드 상권_구분_코드_명  시군구코드 시군구명    행정동_코드 행정동_코드_명  \\\n",
       "0     2014         2        A       골목상권  11620  관악구  11620525     보라매동   \n",
       "1     2014         2        A       골목상권  11620  관악구  11620525     보라매동   \n",
       "2     2014         2        A       골목상권  11620  관악구  11620545      청림동   \n",
       "3     2014         2        A       골목상권  11620  관악구  11620545      청림동   \n",
       "4     2014         2        A       골목상권  11620  관악구  11620565      성현동   \n",
       "\n",
       "     상권_코드 상권_코드_명  ...  행정동_코드_명_신림동  행정동_코드_명_신사동  행정동_코드_명_신원동  \\\n",
       "0  1000804     당곡길  ...             0             0             0   \n",
       "1  1000811  봉천로13길  ...             0             0             0   \n",
       "2  1000783  관악로30길  ...             0             0             0   \n",
       "3  1000835    청림3길  ...             0             0             0   \n",
       "4  1000786     구암길  ...             0             0             0   \n",
       "\n",
       "   행정동_코드_명_은천동  행정동_코드_명_인헌동  행정동_코드_명_조원동  행정동_코드_명_중앙동  행정동_코드_명_청룡동  \\\n",
       "0             0             0             0             0             0   \n",
       "1             0             0             0             0             0   \n",
       "2             0             0             0             0             0   \n",
       "3             0             0             0             0             0   \n",
       "4             0             0             0             0             0   \n",
       "\n",
       "   행정동_코드_명_청림동  행정동_코드_명_행운동  \n",
       "0             0             0  \n",
       "1             0             0  \n",
       "2             1             0  \n",
       "3             1             0  \n",
       "4             0             0  \n",
       "\n",
       "[5 rows x 77 columns]"
      ]
     },
<<<<<<< HEAD
     "execution_count": 5,
=======
     "execution_count": 4,
>>>>>>> f5e2574c158a68d3fdd1de79f861ea83ed056aaa
     "metadata": {},
     "output_type": "execute_result"
    }
   ],
   "source": [
    "data = pd.concat([desc1,desc2,desc3,target_feature],axis=1)\n",
    "data.head()"
   ]
  },
  {
   "cell_type": "code",
<<<<<<< HEAD
   "execution_count": 6,
=======
   "execution_count": 5,
>>>>>>> f5e2574c158a68d3fdd1de79f861ea83ed056aaa
   "metadata": {},
   "outputs": [
    {
     "data": {
      "text/plain": [
       "Index(['기준_년_코드', '기준_분기_코드', '상권_구분_코드', '상권_구분_코드_명', '시군구코드', '시군구명',\n",
       "       '행정동_코드', '행정동_코드_명', '상권_코드', '상권_코드_명', '점포매출액', '점포수', '개업_점포_수',\n",
       "       '프랜차이즈_점포_수', '총_직장_인구_수', '연령대_10_직장_인구_수', '점포수1', '개업_점포_수1',\n",
       "       '프랜차이즈_점포_수1', '총_직장_인구_수1', '연령대_10_직장_인구_수1', '점포수^21',\n",
       "       '점포수 개업_점포_수1', '점포수 프랜차이즈_점포_수1', '점포수 총_직장_인구_수1',\n",
       "       '점포수 연령대_10_직장_인구_수1', '개업_점포_수^21', '개업_점포_수 프랜차이즈_점포_수1',\n",
       "       '개업_점포_수 총_직장_인구_수1', '개업_점포_수 연령대_10_직장_인구_수1', '프랜차이즈_점포_수^21',\n",
       "       '프랜차이즈_점포_수 총_직장_인구_수1', '프랜차이즈_점포_수 연령대_10_직장_인구_수1', '총_직장_인구_수^21',\n",
       "       '총_직장_인구_수 연령대_10_직장_인구_수1', '연령대_10_직장_인구_수^21', '점포수2', '개업_점포_수2',\n",
       "       '프랜차이즈_점포_수2', '총_직장_인구_수2', '연령대_10_직장_인구_수2', '점포수^22',\n",
       "       '점포수 개업_점포_수2', '점포수 프랜차이즈_점포_수2', '점포수 총_직장_인구_수2',\n",
       "       '점포수 연령대_10_직장_인구_수2', '개업_점포_수^22', '개업_점포_수 프랜차이즈_점포_수2',\n",
       "       '개업_점포_수 총_직장_인구_수2', '개업_점포_수 연령대_10_직장_인구_수2', '프랜차이즈_점포_수^22',\n",
       "       '프랜차이즈_점포_수 총_직장_인구_수2', '프랜차이즈_점포_수 연령대_10_직장_인구_수2', '총_직장_인구_수^22',\n",
       "       '총_직장_인구_수 연령대_10_직장_인구_수2', '연령대_10_직장_인구_수^22', '행정동_코드_명_낙성대동',\n",
       "       '행정동_코드_명_난곡동', '행정동_코드_명_난향동', '행정동_코드_명_남현동', '행정동_코드_명_대학동',\n",
       "       '행정동_코드_명_미성동', '행정동_코드_명_보라매동', '행정동_코드_명_삼성동', '행정동_코드_명_서림동',\n",
       "       '행정동_코드_명_서원동', '행정동_코드_명_성현동', '행정동_코드_명_신림동', '행정동_코드_명_신사동',\n",
       "       '행정동_코드_명_신원동', '행정동_코드_명_은천동', '행정동_코드_명_인헌동', '행정동_코드_명_조원동',\n",
       "       '행정동_코드_명_중앙동', '행정동_코드_명_청룡동', '행정동_코드_명_청림동', '행정동_코드_명_행운동'],\n",
       "      dtype='object')"
      ]
     },
<<<<<<< HEAD
     "execution_count": 6,
=======
     "execution_count": 5,
>>>>>>> f5e2574c158a68d3fdd1de79f861ea83ed056aaa
     "metadata": {},
     "output_type": "execute_result"
    }
   ],
   "source": [
    "data.columns"
   ]
  },
  {
   "cell_type": "code",
<<<<<<< HEAD
   "execution_count": 7,
=======
   "execution_count": 6,
>>>>>>> f5e2574c158a68d3fdd1de79f861ea83ed056aaa
   "metadata": {},
   "outputs": [],
   "source": [
    "data.to_csv('./data2/final2.csv',index=False)"
   ]
  },
  {
   "attachments": {},
   "cell_type": "markdown",
   "metadata": {},
   "source": [
    "### 정규화 필요한 컬럼 따로 빼기"
   ]
  },
  {
   "cell_type": "code",
<<<<<<< HEAD
   "execution_count": 8,
=======
   "execution_count": 7,
>>>>>>> f5e2574c158a68d3fdd1de79f861ea83ed056aaa
   "metadata": {},
   "outputs": [],
   "source": [
    "normalize_feature = data.iloc[:,11:56]\n",
    "col_name = \"정규화-\" + data.columns[11:56] "
   ]
  },
  {
   "cell_type": "code",
<<<<<<< HEAD
   "execution_count": 9,
=======
   "execution_count": 8,
>>>>>>> f5e2574c158a68d3fdd1de79f861ea83ed056aaa
   "metadata": {},
   "outputs": [],
   "source": [
    "from sklearn.preprocessing import StandardScaler\n",
    "scaler = StandardScaler()\n",
    "feature_scaled =scaler.fit_transform(normalize_feature)\n",
    "feature_scaled_df=pd.DataFrame(feature_scaled,columns=col_name)"
   ]
  },
  {
   "cell_type": "code",
<<<<<<< HEAD
   "execution_count": 10,
=======
   "execution_count": 9,
>>>>>>> f5e2574c158a68d3fdd1de79f861ea83ed056aaa
   "metadata": {},
   "outputs": [],
   "source": [
    "data=pd.concat([data,feature_scaled_df],axis=1)"
   ]
  },
  {
   "attachments": {},
   "cell_type": "markdown",
   "metadata": {},
   "source": [
    "### 정규화 전후 비교하기"
   ]
  },
  {
   "cell_type": "code",
<<<<<<< HEAD
   "execution_count": 11,
=======
   "execution_count": 10,
>>>>>>> f5e2574c158a68d3fdd1de79f861ea83ed056aaa
   "metadata": {},
   "outputs": [
    {
     "data": {
      "text/plain": [
       "Index(['점포수', '개업_점포_수', '프랜차이즈_점포_수', '총_직장_인구_수', '연령대_10_직장_인구_수', '점포수1',\n",
       "       '개업_점포_수1', '프랜차이즈_점포_수1', '총_직장_인구_수1', '연령대_10_직장_인구_수1', '점포수^21',\n",
       "       '점포수 개업_점포_수1', '점포수 프랜차이즈_점포_수1', '점포수 총_직장_인구_수1',\n",
       "       '점포수 연령대_10_직장_인구_수1', '개업_점포_수^21', '개업_점포_수 프랜차이즈_점포_수1',\n",
       "       '개업_점포_수 총_직장_인구_수1', '개업_점포_수 연령대_10_직장_인구_수1', '프랜차이즈_점포_수^21',\n",
       "       '프랜차이즈_점포_수 총_직장_인구_수1', '프랜차이즈_점포_수 연령대_10_직장_인구_수1', '총_직장_인구_수^21',\n",
       "       '총_직장_인구_수 연령대_10_직장_인구_수1', '연령대_10_직장_인구_수^21', '점포수2', '개업_점포_수2',\n",
       "       '프랜차이즈_점포_수2', '총_직장_인구_수2', '연령대_10_직장_인구_수2', '점포수^22',\n",
       "       '점포수 개업_점포_수2', '점포수 프랜차이즈_점포_수2', '점포수 총_직장_인구_수2',\n",
       "       '점포수 연령대_10_직장_인구_수2', '개업_점포_수^22', '개업_점포_수 프랜차이즈_점포_수2',\n",
       "       '개업_점포_수 총_직장_인구_수2', '개업_점포_수 연령대_10_직장_인구_수2', '프랜차이즈_점포_수^22',\n",
       "       '프랜차이즈_점포_수 총_직장_인구_수2', '프랜차이즈_점포_수 연령대_10_직장_인구_수2', '총_직장_인구_수^22',\n",
       "       '총_직장_인구_수 연령대_10_직장_인구_수2', '연령대_10_직장_인구_수^22', '행정동_코드_명_낙성대동',\n",
       "       '행정동_코드_명_난곡동', '행정동_코드_명_난향동', '행정동_코드_명_남현동', '행정동_코드_명_대학동',\n",
       "       '행정동_코드_명_미성동', '행정동_코드_명_보라매동', '행정동_코드_명_삼성동', '행정동_코드_명_서림동',\n",
       "       '행정동_코드_명_서원동', '행정동_코드_명_성현동', '행정동_코드_명_신림동', '행정동_코드_명_신사동',\n",
       "       '행정동_코드_명_신원동', '행정동_코드_명_은천동', '행정동_코드_명_인헌동', '행정동_코드_명_조원동',\n",
       "       '행정동_코드_명_중앙동', '행정동_코드_명_청룡동', '행정동_코드_명_청림동', '행정동_코드_명_행운동',\n",
       "       '정규화-점포수', '정규화-개업_점포_수', '정규화-프랜차이즈_점포_수'],\n",
       "      dtype='object')"
      ]
     },
<<<<<<< HEAD
     "execution_count": 11,
=======
     "execution_count": 10,
>>>>>>> f5e2574c158a68d3fdd1de79f861ea83ed056aaa
     "metadata": {},
     "output_type": "execute_result"
    }
   ],
   "source": [
    "data.columns[11:80]"
   ]
  },
  {
   "cell_type": "code",
<<<<<<< HEAD
   "execution_count": 12,
=======
   "execution_count": 11,
>>>>>>> f5e2574c158a68d3fdd1de79f861ea83ed056aaa
   "metadata": {},
   "outputs": [],
   "source": [
    "feature = data[['점포수', '개업_점포_수', '프랜차이즈_점포_수', '총_직장_인구_수', '연령대_10_직장_인구_수', '점포수1',\n",
    "       '개업_점포_수1', '프랜차이즈_점포_수1', '총_직장_인구_수1', '연령대_10_직장_인구_수1', '점포수^21',\n",
    "       '점포수 개업_점포_수1', '점포수 프랜차이즈_점포_수1', '점포수 총_직장_인구_수1',\n",
    "       '점포수 연령대_10_직장_인구_수1', '개업_점포_수^21', '개업_점포_수 프랜차이즈_점포_수1',\n",
    "       '개업_점포_수 총_직장_인구_수1', '개업_점포_수 연령대_10_직장_인구_수1', '프랜차이즈_점포_수^21',\n",
    "       '프랜차이즈_점포_수 총_직장_인구_수1', '프랜차이즈_점포_수 연령대_10_직장_인구_수1', '총_직장_인구_수^21',\n",
    "       '총_직장_인구_수 연령대_10_직장_인구_수1', '연령대_10_직장_인구_수^21', '점포수2', '개업_점포_수2',\n",
    "       '프랜차이즈_점포_수2', '총_직장_인구_수2', '연령대_10_직장_인구_수2', '점포수^22',\n",
    "       '점포수 개업_점포_수2', '점포수 프랜차이즈_점포_수2', '점포수 총_직장_인구_수2',\n",
    "       '점포수 연령대_10_직장_인구_수2', '개업_점포_수^22', '개업_점포_수 프랜차이즈_점포_수2',\n",
    "       '개업_점포_수 총_직장_인구_수2', '개업_점포_수 연령대_10_직장_인구_수2', '프랜차이즈_점포_수^22',\n",
    "       '프랜차이즈_점포_수 총_직장_인구_수2', '프랜차이즈_점포_수 연령대_10_직장_인구_수2', '총_직장_인구_수^22',\n",
    "       '총_직장_인구_수 연령대_10_직장_인구_수2', '연령대_10_직장_인구_수^22', '행정동_코드_명_낙성대동',\n",
    "       '행정동_코드_명_난곡동', '행정동_코드_명_난향동', '행정동_코드_명_남현동', '행정동_코드_명_대학동',\n",
    "       '행정동_코드_명_미성동', '행정동_코드_명_보라매동', '행정동_코드_명_삼성동', '행정동_코드_명_서림동',\n",
    "       '행정동_코드_명_서원동', '행정동_코드_명_성현동', '행정동_코드_명_신림동', '행정동_코드_명_신사동',\n",
    "       '행정동_코드_명_신원동', '행정동_코드_명_은천동', '행정동_코드_명_인헌동', '행정동_코드_명_조원동',\n",
    "       '행정동_코드_명_중앙동', '행정동_코드_명_청룡동', '행정동_코드_명_청림동', '행정동_코드_명_행운동']]\n",
    "target = data['점포매출액']"
   ]
  },
  {
   "cell_type": "code",
<<<<<<< HEAD
   "execution_count": 13,
=======
   "execution_count": 12,
>>>>>>> f5e2574c158a68d3fdd1de79f861ea83ed056aaa
   "metadata": {},
   "outputs": [
    {
     "name": "stdout",
     "output_type": "stream",
     "text": [
      "<class 'sklearn.neighbors._regression.KNeighborsRegressor'>\n",
<<<<<<< HEAD
      "train :  0.8876895561240852\n",
      "test :  0.8166772767385672\n",
      "--------------------------------------------------\n",
      "<class 'sklearn.linear_model._base.LinearRegression'>\n",
      "train :  0.8193519263813365\n",
      "test :  0.7918302960034159\n",
      "--------------------------------------------------\n",
      "<class 'sklearn.linear_model._ridge.Ridge'>\n",
      "train :  0.8114285628464005\n",
      "test :  0.7842369612800079\n",
      "--------------------------------------------------\n",
      "<class 'sklearn.linear_model._coordinate_descent.Lasso'>\n",
      "train :  0.8113726662082865\n",
      "test :  0.7836076744223779\n",
      "--------------------------------------------------\n",
      "<class 'sklearn.ensemble._forest.RandomForestRegressor'>\n",
      "train :  0.9902571887530647\n",
      "test :  0.9358783583335086\n",
=======
      "train :  0.8849045667734347\n",
      "test :  0.8039992291520068\n",
      "--------------------------------------------------\n",
      "<class 'sklearn.linear_model._base.LinearRegression'>\n",
      "train :  0.8125859455999546\n",
      "test :  0.7859424145204926\n",
      "--------------------------------------------------\n",
      "<class 'sklearn.linear_model._ridge.Ridge'>\n",
      "train :  0.8069362948539591\n",
      "test :  0.7854800075979114\n",
      "--------------------------------------------------\n",
      "<class 'sklearn.linear_model._coordinate_descent.Lasso'>\n",
      "train :  0.8065749698250547\n",
      "test :  0.7846021500717596\n",
      "--------------------------------------------------\n",
      "<class 'sklearn.ensemble._forest.RandomForestRegressor'>\n",
      "train :  0.9898779758537157\n",
      "test :  0.9309803106747216\n",
>>>>>>> f5e2574c158a68d3fdd1de79f861ea83ed056aaa
      "--------------------------------------------------\n"
     ]
    },
    {
     "data": {
      "text/html": [
       "<div>\n",
       "<style scoped>\n",
       "    .dataframe tbody tr th:only-of-type {\n",
       "        vertical-align: middle;\n",
       "    }\n",
       "\n",
       "    .dataframe tbody tr th {\n",
       "        vertical-align: top;\n",
       "    }\n",
       "\n",
       "    .dataframe thead th {\n",
       "        text-align: right;\n",
       "    }\n",
       "</style>\n",
       "<table border=\"1\" class=\"dataframe\">\n",
       "  <thead>\n",
       "    <tr style=\"text-align: right;\">\n",
       "      <th></th>\n",
       "      <th>model_name</th>\n",
       "      <th>MSE</th>\n",
       "      <th>MAE</th>\n",
       "      <th>RMSE</th>\n",
       "      <th>R2Score</th>\n",
       "    </tr>\n",
       "  </thead>\n",
       "  <tbody>\n",
       "    <tr>\n",
       "      <th>0</th>\n",
       "      <td>lr</td>\n",
<<<<<<< HEAD
       "      <td>3.939228e+16</td>\n",
       "      <td>1.389923e+08</td>\n",
       "      <td>1.984749e+08</td>\n",
       "      <td>0.710822</td>\n",
=======
       "      <td>3.729192e+16</td>\n",
       "      <td>1.354728e+08</td>\n",
       "      <td>1.931112e+08</td>\n",
       "      <td>0.731637</td>\n",
>>>>>>> f5e2574c158a68d3fdd1de79f861ea83ed056aaa
       "    </tr>\n",
       "    <tr>\n",
       "      <th>0</th>\n",
       "      <td>rd</td>\n",
<<<<<<< HEAD
       "      <td>4.095748e+16</td>\n",
       "      <td>1.432587e+08</td>\n",
       "      <td>2.023796e+08</td>\n",
       "      <td>0.698282</td>\n",
=======
       "      <td>3.824608e+16</td>\n",
       "      <td>1.364908e+08</td>\n",
       "      <td>1.955661e+08</td>\n",
       "      <td>0.722117</td>\n",
>>>>>>> f5e2574c158a68d3fdd1de79f861ea83ed056aaa
       "    </tr>\n",
       "    <tr>\n",
       "      <th>0</th>\n",
       "      <td>ls</td>\n",
<<<<<<< HEAD
       "      <td>4.148057e+16</td>\n",
       "      <td>1.441662e+08</td>\n",
       "      <td>2.036678e+08</td>\n",
       "      <td>0.697369</td>\n",
=======
       "      <td>3.834751e+16</td>\n",
       "      <td>1.371375e+08</td>\n",
       "      <td>1.958252e+08</td>\n",
       "      <td>0.724667</td>\n",
>>>>>>> f5e2574c158a68d3fdd1de79f861ea83ed056aaa
       "    </tr>\n",
       "  </tbody>\n",
       "</table>\n",
       "</div>"
      ],
      "text/plain": [
       "  model_name           MSE           MAE          RMSE   R2Score\n",
<<<<<<< HEAD
       "0         lr  3.939228e+16  1.389923e+08  1.984749e+08  0.710822\n",
       "0         rd  4.095748e+16  1.432587e+08  2.023796e+08  0.698282\n",
       "0         ls  4.148057e+16  1.441662e+08  2.036678e+08  0.697369"
      ]
     },
     "execution_count": 13,
=======
       "0         lr  3.729192e+16  1.354728e+08  1.931112e+08  0.731637\n",
       "0         rd  3.824608e+16  1.364908e+08  1.955661e+08  0.722117\n",
       "0         ls  3.834751e+16  1.371375e+08  1.958252e+08  0.724667"
      ]
     },
     "execution_count": 12,
>>>>>>> f5e2574c158a68d3fdd1de79f861ea83ed056aaa
     "metadata": {},
     "output_type": "execute_result"
    }
   ],
   "source": [
    "from module.default import basic\n",
    "from module.error import model_err_measure\n",
    "basic(feature,target)\n",
    "model_err_measure(feature,target)"
   ]
  },
  {
   "cell_type": "code",
<<<<<<< HEAD
   "execution_count": 14,
=======
   "execution_count": 13,
>>>>>>> f5e2574c158a68d3fdd1de79f861ea83ed056aaa
   "metadata": {},
   "outputs": [],
   "source": [
    "feature=data[['행정동_코드_명_낙성대동', '행정동_코드_명_난곡동', '행정동_코드_명_난향동', '행정동_코드_명_남현동',\n",
    "       '행정동_코드_명_대학동', '행정동_코드_명_미성동', '행정동_코드_명_보라매동', '행정동_코드_명_삼성동',\n",
    "       '행정동_코드_명_서림동', '행정동_코드_명_서원동', '행정동_코드_명_성현동', '행정동_코드_명_신림동',\n",
    "       '행정동_코드_명_신사동', '행정동_코드_명_신원동', '행정동_코드_명_은천동', '행정동_코드_명_인헌동',\n",
    "       '행정동_코드_명_조원동', '행정동_코드_명_중앙동', '행정동_코드_명_청룡동', '행정동_코드_명_청림동',\n",
    "       '행정동_코드_명_행운동', '정규화-점포수', '정규화-개업_점포_수', '정규화-프랜차이즈_점포_수',\n",
    "       '정규화-총_직장_인구_수', '정규화-연령대_10_직장_인구_수', '정규화-점포수1', '정규화-개업_점포_수1',\n",
    "       '정규화-프랜차이즈_점포_수1', '정규화-총_직장_인구_수1', '정규화-연령대_10_직장_인구_수1',\n",
    "       '정규화-점포수^21', '정규화-점포수 개업_점포_수1', '정규화-점포수 프랜차이즈_점포_수1',\n",
    "       '정규화-점포수 총_직장_인구_수1', '정규화-점포수 연령대_10_직장_인구_수1', '정규화-개업_점포_수^21',\n",
    "       '정규화-개업_점포_수 프랜차이즈_점포_수1', '정규화-개업_점포_수 총_직장_인구_수1',\n",
    "       '정규화-개업_점포_수 연령대_10_직장_인구_수1', '정규화-프랜차이즈_점포_수^21',\n",
    "       '정규화-프랜차이즈_점포_수 총_직장_인구_수1', '정규화-프랜차이즈_점포_수 연령대_10_직장_인구_수1',\n",
    "       '정규화-총_직장_인구_수^21', '정규화-총_직장_인구_수 연령대_10_직장_인구_수1',\n",
    "       '정규화-연령대_10_직장_인구_수^21', '정규화-점포수2', '정규화-개업_점포_수2', '정규화-프랜차이즈_점포_수2',\n",
    "       '정규화-총_직장_인구_수2', '정규화-연령대_10_직장_인구_수2', '정규화-점포수^22',\n",
    "       '정규화-점포수 개업_점포_수2', '정규화-점포수 프랜차이즈_점포_수2', '정규화-점포수 총_직장_인구_수2',\n",
    "       '정규화-점포수 연령대_10_직장_인구_수2', '정규화-개업_점포_수^22', '정규화-개업_점포_수 프랜차이즈_점포_수2',\n",
    "       '정규화-개업_점포_수 총_직장_인구_수2', '정규화-개업_점포_수 연령대_10_직장_인구_수2',\n",
    "       '정규화-프랜차이즈_점포_수^22', '정규화-프랜차이즈_점포_수 총_직장_인구_수2',\n",
    "       '정규화-프랜차이즈_점포_수 연령대_10_직장_인구_수2', '정규화-총_직장_인구_수^22',\n",
    "       '정규화-총_직장_인구_수 연령대_10_직장_인구_수2', '정규화-연령대_10_직장_인구_수^22']]\n",
    "target = data['점포매출액']"
   ]
  },
  {
   "cell_type": "code",
<<<<<<< HEAD
   "execution_count": 15,
=======
   "execution_count": 14,
>>>>>>> f5e2574c158a68d3fdd1de79f861ea83ed056aaa
   "metadata": {},
   "outputs": [
    {
     "name": "stdout",
     "output_type": "stream",
     "text": [
      "<class 'sklearn.neighbors._regression.KNeighborsRegressor'>\n",
<<<<<<< HEAD
      "train :  0.8517311374348507\n",
      "test :  0.7415170139214297\n",
      "--------------------------------------------------\n",
      "<class 'sklearn.linear_model._base.LinearRegression'>\n",
      "train :  0.8179961942558037\n",
      "test :  0.7826510733287998\n",
      "--------------------------------------------------\n",
      "<class 'sklearn.linear_model._ridge.Ridge'>\n",
      "train :  0.8113853044166263\n",
      "test :  0.7874916400132654\n",
      "--------------------------------------------------\n",
      "<class 'sklearn.linear_model._coordinate_descent.Lasso'>\n",
      "train :  0.8115721501799632\n",
      "test :  0.7860102715609628\n",
      "--------------------------------------------------\n",
      "<class 'sklearn.ensemble._forest.RandomForestRegressor'>\n",
      "train :  0.9900678064012132\n",
      "test :  0.9341075193677286\n",
=======
      "train :  0.8616543333866131\n",
      "test :  0.7636548390318276\n",
      "--------------------------------------------------\n",
      "<class 'sklearn.linear_model._base.LinearRegression'>\n",
      "train :  0.8243602135736305\n",
      "test :  0.7999187490696346\n",
      "--------------------------------------------------\n",
      "<class 'sklearn.linear_model._ridge.Ridge'>\n",
      "train :  0.8175845189716687\n",
      "test :  0.7965701620636588\n",
      "--------------------------------------------------\n",
      "<class 'sklearn.linear_model._coordinate_descent.Lasso'>\n",
      "train :  0.818017851821953\n",
      "test :  0.7957608821081943\n",
      "--------------------------------------------------\n",
      "<class 'sklearn.ensemble._forest.RandomForestRegressor'>\n",
      "train :  0.9905042548282446\n",
      "test :  0.9367449707454092\n",
>>>>>>> f5e2574c158a68d3fdd1de79f861ea83ed056aaa
      "--------------------------------------------------\n"
     ]
    },
    {
     "data": {
      "text/html": [
       "<div>\n",
       "<style scoped>\n",
       "    .dataframe tbody tr th:only-of-type {\n",
       "        vertical-align: middle;\n",
       "    }\n",
       "\n",
       "    .dataframe tbody tr th {\n",
       "        vertical-align: top;\n",
       "    }\n",
       "\n",
       "    .dataframe thead th {\n",
       "        text-align: right;\n",
       "    }\n",
       "</style>\n",
       "<table border=\"1\" class=\"dataframe\">\n",
       "  <thead>\n",
       "    <tr style=\"text-align: right;\">\n",
       "      <th></th>\n",
       "      <th>model_name</th>\n",
       "      <th>MSE</th>\n",
       "      <th>MAE</th>\n",
       "      <th>RMSE</th>\n",
       "      <th>R2Score</th>\n",
       "    </tr>\n",
       "  </thead>\n",
       "  <tbody>\n",
       "    <tr>\n",
       "      <th>0</th>\n",
       "      <td>lr</td>\n",
<<<<<<< HEAD
       "      <td>3.100760e+16</td>\n",
       "      <td>1.295474e+08</td>\n",
       "      <td>1.760898e+08</td>\n",
       "      <td>0.786165</td>\n",
=======
       "      <td>3.357806e+16</td>\n",
       "      <td>1.314029e+08</td>\n",
       "      <td>1.832432e+08</td>\n",
       "      <td>0.747987</td>\n",
>>>>>>> f5e2574c158a68d3fdd1de79f861ea83ed056aaa
       "    </tr>\n",
       "    <tr>\n",
       "      <th>0</th>\n",
       "      <td>rd</td>\n",
<<<<<<< HEAD
       "      <td>3.182565e+16</td>\n",
       "      <td>1.297927e+08</td>\n",
       "      <td>1.783974e+08</td>\n",
       "      <td>0.776940</td>\n",
=======
       "      <td>3.392028e+16</td>\n",
       "      <td>1.306910e+08</td>\n",
       "      <td>1.841746e+08</td>\n",
       "      <td>0.740760</td>\n",
>>>>>>> f5e2574c158a68d3fdd1de79f861ea83ed056aaa
       "    </tr>\n",
       "    <tr>\n",
       "      <th>0</th>\n",
       "      <td>ls</td>\n",
<<<<<<< HEAD
       "      <td>3.225044e+16</td>\n",
       "      <td>1.305943e+08</td>\n",
       "      <td>1.795841e+08</td>\n",
       "      <td>0.777198</td>\n",
=======
       "      <td>3.438299e+16</td>\n",
       "      <td>1.313612e+08</td>\n",
       "      <td>1.854265e+08</td>\n",
       "      <td>0.740015</td>\n",
>>>>>>> f5e2574c158a68d3fdd1de79f861ea83ed056aaa
       "    </tr>\n",
       "  </tbody>\n",
       "</table>\n",
       "</div>"
      ],
      "text/plain": [
       "  model_name           MSE           MAE          RMSE   R2Score\n",
<<<<<<< HEAD
       "0         lr  3.100760e+16  1.295474e+08  1.760898e+08  0.786165\n",
       "0         rd  3.182565e+16  1.297927e+08  1.783974e+08  0.776940\n",
       "0         ls  3.225044e+16  1.305943e+08  1.795841e+08  0.777198"
      ]
     },
     "execution_count": 15,
=======
       "0         lr  3.357806e+16  1.314029e+08  1.832432e+08  0.747987\n",
       "0         rd  3.392028e+16  1.306910e+08  1.841746e+08  0.740760\n",
       "0         ls  3.438299e+16  1.313612e+08  1.854265e+08  0.740015"
      ]
     },
     "execution_count": 14,
>>>>>>> f5e2574c158a68d3fdd1de79f861ea83ed056aaa
     "metadata": {},
     "output_type": "execute_result"
    }
   ],
   "source": [
    "basic(feature,target)\n",
    "model_err_measure(feature,target)"
   ]
  },
  {
   "attachments": {},
   "cell_type": "markdown",
   "metadata": {},
   "source": [
    "### 정규화 안한거 쓰는게 예측률이 더 좋음"
   ]
  },
  {
   "cell_type": "code",
<<<<<<< HEAD
   "execution_count": 16,
=======
   "execution_count": 15,
>>>>>>> f5e2574c158a68d3fdd1de79f861ea83ed056aaa
   "metadata": {},
   "outputs": [],
   "source": [
    "feature = data[['점포수', '개업_점포_수', '프랜차이즈_점포_수', '총_직장_인구_수', '연령대_10_직장_인구_수', '점포수1',\n",
    "       '개업_점포_수1', '프랜차이즈_점포_수1', '총_직장_인구_수1', '연령대_10_직장_인구_수1', '점포수^21',\n",
    "       '점포수 개업_점포_수1', '점포수 프랜차이즈_점포_수1', '점포수 총_직장_인구_수1',\n",
    "       '점포수 연령대_10_직장_인구_수1', '개업_점포_수^21', '개업_점포_수 프랜차이즈_점포_수1',\n",
    "       '개업_점포_수 총_직장_인구_수1', '개업_점포_수 연령대_10_직장_인구_수1', '프랜차이즈_점포_수^21',\n",
    "       '프랜차이즈_점포_수 총_직장_인구_수1', '프랜차이즈_점포_수 연령대_10_직장_인구_수1', '총_직장_인구_수^21',\n",
    "       '총_직장_인구_수 연령대_10_직장_인구_수1', '연령대_10_직장_인구_수^21', '점포수2', '개업_점포_수2',\n",
    "       '프랜차이즈_점포_수2', '총_직장_인구_수2', '연령대_10_직장_인구_수2', '점포수^22',\n",
    "       '점포수 개업_점포_수2', '점포수 프랜차이즈_점포_수2', '점포수 총_직장_인구_수2',\n",
    "       '점포수 연령대_10_직장_인구_수2', '개업_점포_수^22', '개업_점포_수 프랜차이즈_점포_수2',\n",
    "       '개업_점포_수 총_직장_인구_수2', '개업_점포_수 연령대_10_직장_인구_수2', '프랜차이즈_점포_수^22',\n",
    "       '프랜차이즈_점포_수 총_직장_인구_수2', '프랜차이즈_점포_수 연령대_10_직장_인구_수2', '총_직장_인구_수^22',\n",
    "       '총_직장_인구_수 연령대_10_직장_인구_수2', '연령대_10_직장_인구_수^22', '행정동_코드_명_낙성대동',\n",
    "       '행정동_코드_명_난곡동', '행정동_코드_명_난향동', '행정동_코드_명_남현동', '행정동_코드_명_대학동',\n",
    "       '행정동_코드_명_미성동', '행정동_코드_명_보라매동', '행정동_코드_명_삼성동', '행정동_코드_명_서림동',\n",
    "       '행정동_코드_명_서원동', '행정동_코드_명_성현동', '행정동_코드_명_신림동', '행정동_코드_명_신사동',\n",
    "       '행정동_코드_명_신원동', '행정동_코드_명_은천동', '행정동_코드_명_인헌동', '행정동_코드_명_조원동',\n",
    "       '행정동_코드_명_중앙동', '행정동_코드_명_청룡동', '행정동_코드_명_청림동', '행정동_코드_명_행운동']]\n",
    "target = data['점포매출액']"
   ]
  },
  {
   "attachments": {},
   "cell_type": "markdown",
   "metadata": {},
   "source": [
    "### 그리드 서치 이용해서 최적의 하이퍼 파라미터 값 확인하기"
   ]
  },
  {
   "cell_type": "code",
<<<<<<< HEAD
   "execution_count": 17,
=======
   "execution_count": 16,
>>>>>>> f5e2574c158a68d3fdd1de79f861ea83ed056aaa
   "metadata": {},
   "outputs": [],
   "source": [
    "from sklearn.linear_model import LinearRegression , Ridge , Lasso\n",
    "from sklearn.model_selection import train_test_split , GridSearchCV"
   ]
  },
  {
   "cell_type": "code",
<<<<<<< HEAD
   "execution_count": 18,
=======
   "execution_count": 17,
>>>>>>> f5e2574c158a68d3fdd1de79f861ea83ed056aaa
   "metadata": {},
   "outputs": [],
   "source": [
    "params ={'alpha':[0.0001,0.001,0.01,0.1,1,10,100,1000,10000]}\n",
    "\n",
    "train_input, test_input, train_target , test_target  = \\\n",
    "    train_test_split(feature,target,test_size=0.2)"
   ]
  },
  {
   "cell_type": "code",
<<<<<<< HEAD
   "execution_count": 19,
=======
   "execution_count": 18,
>>>>>>> f5e2574c158a68d3fdd1de79f861ea83ed056aaa
   "metadata": {},
   "outputs": [
    {
     "data": {
      "text/plain": [
       "{'alpha': 0.01}"
      ]
     },
<<<<<<< HEAD
     "execution_count": 19,
=======
     "execution_count": 18,
>>>>>>> f5e2574c158a68d3fdd1de79f861ea83ed056aaa
     "metadata": {},
     "output_type": "execute_result"
    }
   ],
   "source": [
    "gs = GridSearchCV(\n",
    "    Ridge(),\n",
    "    params,\n",
    "    return_train_score=True\n",
    ")\n",
    "\n",
    "gs.fit(train_input,train_target)\n",
    "\n",
    "modelName = gs.best_estimator_\n",
    "modelName.score(test_input,test_target)\n",
    "gs.best_params_"
   ]
  },
  {
   "cell_type": "code",
<<<<<<< HEAD
   "execution_count": 20,
=======
   "execution_count": 19,
>>>>>>> f5e2574c158a68d3fdd1de79f861ea83ed056aaa
   "metadata": {},
   "outputs": [],
   "source": [
    "test = gs.cv_results_['mean_test_score']\n",
    "train = gs.cv_results_['mean_train_score']"
   ]
  },
  {
   "cell_type": "code",
<<<<<<< HEAD
   "execution_count": 21,
=======
   "execution_count": 20,
>>>>>>> f5e2574c158a68d3fdd1de79f861ea83ed056aaa
   "metadata": {},
   "outputs": [],
   "source": [
    "df=pd.concat([pd.Series(test),pd.Series(train)],axis=1)\n",
    "df.columns = ['test','train']"
   ]
  },
  {
   "cell_type": "code",
<<<<<<< HEAD
   "execution_count": 22,
=======
   "execution_count": 21,
>>>>>>> f5e2574c158a68d3fdd1de79f861ea83ed056aaa
   "metadata": {},
   "outputs": [],
   "source": [
    "df.index = np.log10(params['alpha'])"
   ]
  },
  {
   "cell_type": "code",
<<<<<<< HEAD
   "execution_count": 23,
=======
   "execution_count": 22,
>>>>>>> f5e2574c158a68d3fdd1de79f861ea83ed056aaa
   "metadata": {},
   "outputs": [
    {
     "data": {
      "text/html": [
       "<div>\n",
       "<style scoped>\n",
       "    .dataframe tbody tr th:only-of-type {\n",
       "        vertical-align: middle;\n",
       "    }\n",
       "\n",
       "    .dataframe tbody tr th {\n",
       "        vertical-align: top;\n",
       "    }\n",
       "\n",
       "    .dataframe thead th {\n",
       "        text-align: right;\n",
       "    }\n",
       "</style>\n",
       "<table border=\"1\" class=\"dataframe\">\n",
       "  <thead>\n",
       "    <tr style=\"text-align: right;\">\n",
       "      <th></th>\n",
       "      <th>test</th>\n",
       "      <th>train</th>\n",
       "    </tr>\n",
       "  </thead>\n",
       "  <tbody>\n",
       "    <tr>\n",
       "      <th>-4.0</th>\n",
<<<<<<< HEAD
       "      <td>0.781146</td>\n",
       "      <td>0.812799</td>\n",
       "    </tr>\n",
       "    <tr>\n",
       "      <th>-3.0</th>\n",
       "      <td>0.781957</td>\n",
       "      <td>0.812708</td>\n",
       "    </tr>\n",
       "    <tr>\n",
       "      <th>-2.0</th>\n",
       "      <td>0.783865</td>\n",
       "      <td>0.811813</td>\n",
       "    </tr>\n",
       "    <tr>\n",
       "      <th>-1.0</th>\n",
       "      <td>0.783537</td>\n",
       "      <td>0.809408</td>\n",
       "    </tr>\n",
       "    <tr>\n",
       "      <th>0.0</th>\n",
       "      <td>0.782263</td>\n",
       "      <td>0.806974</td>\n",
       "    </tr>\n",
       "    <tr>\n",
       "      <th>1.0</th>\n",
       "      <td>0.776402</td>\n",
       "      <td>0.799438</td>\n",
       "    </tr>\n",
       "    <tr>\n",
       "      <th>2.0</th>\n",
       "      <td>0.716936</td>\n",
       "      <td>0.735883</td>\n",
       "    </tr>\n",
       "    <tr>\n",
       "      <th>3.0</th>\n",
       "      <td>0.647338</td>\n",
       "      <td>0.661368</td>\n",
       "    </tr>\n",
       "    <tr>\n",
       "      <th>4.0</th>\n",
       "      <td>0.625908</td>\n",
       "      <td>0.636444</td>\n",
=======
       "      <td>0.792414</td>\n",
       "      <td>0.818441</td>\n",
       "    </tr>\n",
       "    <tr>\n",
       "      <th>-3.0</th>\n",
       "      <td>0.792845</td>\n",
       "      <td>0.818369</td>\n",
       "    </tr>\n",
       "    <tr>\n",
       "      <th>-2.0</th>\n",
       "      <td>0.794049</td>\n",
       "      <td>0.817643</td>\n",
       "    </tr>\n",
       "    <tr>\n",
       "      <th>-1.0</th>\n",
       "      <td>0.793722</td>\n",
       "      <td>0.815256</td>\n",
       "    </tr>\n",
       "    <tr>\n",
       "      <th>0.0</th>\n",
       "      <td>0.792930</td>\n",
       "      <td>0.812672</td>\n",
       "    </tr>\n",
       "    <tr>\n",
       "      <th>1.0</th>\n",
       "      <td>0.787708</td>\n",
       "      <td>0.805255</td>\n",
       "    </tr>\n",
       "    <tr>\n",
       "      <th>2.0</th>\n",
       "      <td>0.723651</td>\n",
       "      <td>0.740344</td>\n",
       "    </tr>\n",
       "    <tr>\n",
       "      <th>3.0</th>\n",
       "      <td>0.649611</td>\n",
       "      <td>0.662764</td>\n",
       "    </tr>\n",
       "    <tr>\n",
       "      <th>4.0</th>\n",
       "      <td>0.626250</td>\n",
       "      <td>0.636146</td>\n",
>>>>>>> f5e2574c158a68d3fdd1de79f861ea83ed056aaa
       "    </tr>\n",
       "  </tbody>\n",
       "</table>\n",
       "</div>"
      ],
      "text/plain": [
       "          test     train\n",
<<<<<<< HEAD
       "-4.0  0.781146  0.812799\n",
       "-3.0  0.781957  0.812708\n",
       "-2.0  0.783865  0.811813\n",
       "-1.0  0.783537  0.809408\n",
       " 0.0  0.782263  0.806974\n",
       " 1.0  0.776402  0.799438\n",
       " 2.0  0.716936  0.735883\n",
       " 3.0  0.647338  0.661368\n",
       " 4.0  0.625908  0.636444"
      ]
     },
     "execution_count": 23,
=======
       "-4.0  0.792414  0.818441\n",
       "-3.0  0.792845  0.818369\n",
       "-2.0  0.794049  0.817643\n",
       "-1.0  0.793722  0.815256\n",
       " 0.0  0.792930  0.812672\n",
       " 1.0  0.787708  0.805255\n",
       " 2.0  0.723651  0.740344\n",
       " 3.0  0.649611  0.662764\n",
       " 4.0  0.626250  0.636146"
      ]
     },
     "execution_count": 22,
>>>>>>> f5e2574c158a68d3fdd1de79f861ea83ed056aaa
     "metadata": {},
     "output_type": "execute_result"
    }
   ],
   "source": [
    "df"
   ]
  },
  {
   "cell_type": "code",
<<<<<<< HEAD
   "execution_count": 24,
=======
   "execution_count": 23,
>>>>>>> f5e2574c158a68d3fdd1de79f861ea83ed056aaa
   "metadata": {},
   "outputs": [
    {
     "data": {
<<<<<<< HEAD
      "image/png": "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",
=======
      "image/png": "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",
>>>>>>> f5e2574c158a68d3fdd1de79f861ea83ed056aaa
      "text/plain": [
       "<Figure size 640x480 with 1 Axes>"
      ]
     },
     "metadata": {},
     "output_type": "display_data"
    }
   ],
   "source": [
    "df['train'].plot(\n",
    "    legend='train'\n",
    ")\n",
    "df['test'].plot(\n",
    "    legend='test'\n",
    ")\n",
    "\n",
    "plt.title('Ridge 모델 최적의 하이퍼파라미터 찾기')\n",
    "\n",
    "plt.legend()\n",
    "plt.xlabel('log alpha 값')\n",
    "plt.ylabel('예측률')\n",
    "\n",
    "plt.show()"
   ]
  },
  {
   "cell_type": "code",
<<<<<<< HEAD
   "execution_count": 25,
=======
   "execution_count": 24,
>>>>>>> f5e2574c158a68d3fdd1de79f861ea83ed056aaa
   "metadata": {},
   "outputs": [],
   "source": [
    "params ={'alpha':[0.1,1,10,10**2,10**3,10**4,10**5,10**6,10**7,10**8,10**9,10**10]}"
   ]
  },
  {
   "cell_type": "code",
<<<<<<< HEAD
   "execution_count": 26,
=======
   "execution_count": 25,
>>>>>>> f5e2574c158a68d3fdd1de79f861ea83ed056aaa
   "metadata": {},
   "outputs": [
    {
     "data": {
      "text/plain": [
<<<<<<< HEAD
       "{'alpha': 10000}"
      ]
     },
     "execution_count": 26,
=======
       "{'alpha': 100000}"
      ]
     },
     "execution_count": 25,
>>>>>>> f5e2574c158a68d3fdd1de79f861ea83ed056aaa
     "metadata": {},
     "output_type": "execute_result"
    }
   ],
   "source": [
    "gs = GridSearchCV(\n",
    "    Lasso(),\n",
    "    params,\n",
    "    return_train_score=True\n",
    ")\n",
    "\n",
    "gs.fit(train_input,train_target)\n",
    "\n",
    "modelName = gs.best_estimator_\n",
    "modelName.score(test_input,test_target)\n",
    "gs.best_params_"
   ]
  },
  {
   "cell_type": "code",
<<<<<<< HEAD
   "execution_count": 27,
=======
   "execution_count": 26,
>>>>>>> f5e2574c158a68d3fdd1de79f861ea83ed056aaa
   "metadata": {},
   "outputs": [],
   "source": [
    "test = gs.cv_results_['mean_test_score']\n",
    "train = gs.cv_results_['mean_train_score']\n",
    "df=pd.concat([pd.Series(test),pd.Series(train)],axis=1)\n",
    "df.columns = ['test','train']\n",
    "df.index = np.log10(params['alpha'])"
   ]
  },
  {
   "cell_type": "code",
<<<<<<< HEAD
   "execution_count": 28,
=======
   "execution_count": 27,
>>>>>>> f5e2574c158a68d3fdd1de79f861ea83ed056aaa
   "metadata": {},
   "outputs": [
    {
     "data": {
      "text/html": [
       "<div>\n",
       "<style scoped>\n",
       "    .dataframe tbody tr th:only-of-type {\n",
       "        vertical-align: middle;\n",
       "    }\n",
       "\n",
       "    .dataframe tbody tr th {\n",
       "        vertical-align: top;\n",
       "    }\n",
       "\n",
       "    .dataframe thead th {\n",
       "        text-align: right;\n",
       "    }\n",
       "</style>\n",
       "<table border=\"1\" class=\"dataframe\">\n",
       "  <thead>\n",
       "    <tr style=\"text-align: right;\">\n",
       "      <th></th>\n",
       "      <th>test</th>\n",
       "      <th>train</th>\n",
       "    </tr>\n",
       "  </thead>\n",
       "  <tbody>\n",
       "    <tr>\n",
       "      <th>-1.0</th>\n",
<<<<<<< HEAD
       "      <td>0.780867</td>\n",
       "      <td>0.806692</td>\n",
       "    </tr>\n",
       "    <tr>\n",
       "      <th>0.0</th>\n",
       "      <td>0.780867</td>\n",
       "      <td>0.806692</td>\n",
       "    </tr>\n",
       "    <tr>\n",
       "      <th>1.0</th>\n",
       "      <td>0.780867</td>\n",
       "      <td>0.806692</td>\n",
       "    </tr>\n",
       "    <tr>\n",
       "      <th>2.0</th>\n",
       "      <td>0.780867</td>\n",
       "      <td>0.806692</td>\n",
       "    </tr>\n",
       "    <tr>\n",
       "      <th>3.0</th>\n",
       "      <td>0.780869</td>\n",
       "      <td>0.806689</td>\n",
       "    </tr>\n",
       "    <tr>\n",
       "      <th>4.0</th>\n",
       "      <td>0.780894</td>\n",
       "      <td>0.806658</td>\n",
       "    </tr>\n",
       "    <tr>\n",
       "      <th>5.0</th>\n",
       "      <td>0.780871</td>\n",
       "      <td>0.806117</td>\n",
       "    </tr>\n",
       "    <tr>\n",
       "      <th>6.0</th>\n",
       "      <td>0.776942</td>\n",
       "      <td>0.797938</td>\n",
       "    </tr>\n",
       "    <tr>\n",
       "      <th>7.0</th>\n",
       "      <td>0.701262</td>\n",
       "      <td>0.719834</td>\n",
       "    </tr>\n",
       "    <tr>\n",
       "      <th>8.0</th>\n",
       "      <td>0.611127</td>\n",
       "      <td>0.619800</td>\n",
       "    </tr>\n",
       "    <tr>\n",
       "      <th>9.0</th>\n",
       "      <td>0.595458</td>\n",
       "      <td>0.600939</td>\n",
       "    </tr>\n",
       "    <tr>\n",
       "      <th>10.0</th>\n",
       "      <td>0.270150</td>\n",
       "      <td>0.272230</td>\n",
=======
       "      <td>0.792292</td>\n",
       "      <td>0.812299</td>\n",
       "    </tr>\n",
       "    <tr>\n",
       "      <th>0.0</th>\n",
       "      <td>0.792292</td>\n",
       "      <td>0.812299</td>\n",
       "    </tr>\n",
       "    <tr>\n",
       "      <th>1.0</th>\n",
       "      <td>0.792292</td>\n",
       "      <td>0.812299</td>\n",
       "    </tr>\n",
       "    <tr>\n",
       "      <th>2.0</th>\n",
       "      <td>0.792292</td>\n",
       "      <td>0.812298</td>\n",
       "    </tr>\n",
       "    <tr>\n",
       "      <th>3.0</th>\n",
       "      <td>0.792293</td>\n",
       "      <td>0.812295</td>\n",
       "    </tr>\n",
       "    <tr>\n",
       "      <th>4.0</th>\n",
       "      <td>0.792312</td>\n",
       "      <td>0.812256</td>\n",
       "    </tr>\n",
       "    <tr>\n",
       "      <th>5.0</th>\n",
       "      <td>0.792791</td>\n",
       "      <td>0.811728</td>\n",
       "    </tr>\n",
       "    <tr>\n",
       "      <th>6.0</th>\n",
       "      <td>0.790286</td>\n",
       "      <td>0.804079</td>\n",
       "    </tr>\n",
       "    <tr>\n",
       "      <th>7.0</th>\n",
       "      <td>0.719714</td>\n",
       "      <td>0.728756</td>\n",
       "    </tr>\n",
       "    <tr>\n",
       "      <th>8.0</th>\n",
       "      <td>0.608624</td>\n",
       "      <td>0.617302</td>\n",
       "    </tr>\n",
       "    <tr>\n",
       "      <th>9.0</th>\n",
       "      <td>0.588954</td>\n",
       "      <td>0.594782</td>\n",
       "    </tr>\n",
       "    <tr>\n",
       "      <th>10.0</th>\n",
       "      <td>0.263429</td>\n",
       "      <td>0.269390</td>\n",
>>>>>>> f5e2574c158a68d3fdd1de79f861ea83ed056aaa
       "    </tr>\n",
       "  </tbody>\n",
       "</table>\n",
       "</div>"
      ],
      "text/plain": [
       "           test     train\n",
<<<<<<< HEAD
       "-1.0   0.780867  0.806692\n",
       " 0.0   0.780867  0.806692\n",
       " 1.0   0.780867  0.806692\n",
       " 2.0   0.780867  0.806692\n",
       " 3.0   0.780869  0.806689\n",
       " 4.0   0.780894  0.806658\n",
       " 5.0   0.780871  0.806117\n",
       " 6.0   0.776942  0.797938\n",
       " 7.0   0.701262  0.719834\n",
       " 8.0   0.611127  0.619800\n",
       " 9.0   0.595458  0.600939\n",
       " 10.0  0.270150  0.272230"
      ]
     },
     "execution_count": 28,
=======
       "-1.0   0.792292  0.812299\n",
       " 0.0   0.792292  0.812299\n",
       " 1.0   0.792292  0.812299\n",
       " 2.0   0.792292  0.812298\n",
       " 3.0   0.792293  0.812295\n",
       " 4.0   0.792312  0.812256\n",
       " 5.0   0.792791  0.811728\n",
       " 6.0   0.790286  0.804079\n",
       " 7.0   0.719714  0.728756\n",
       " 8.0   0.608624  0.617302\n",
       " 9.0   0.588954  0.594782\n",
       " 10.0  0.263429  0.269390"
      ]
     },
     "execution_count": 27,
>>>>>>> f5e2574c158a68d3fdd1de79f861ea83ed056aaa
     "metadata": {},
     "output_type": "execute_result"
    }
   ],
   "source": [
    "df"
   ]
  },
  {
   "cell_type": "code",
<<<<<<< HEAD
   "execution_count": 29,
=======
   "execution_count": 28,
>>>>>>> f5e2574c158a68d3fdd1de79f861ea83ed056aaa
   "metadata": {},
   "outputs": [
    {
     "data": {
<<<<<<< HEAD
      "image/png": "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",
=======
      "image/png": "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",
>>>>>>> f5e2574c158a68d3fdd1de79f861ea83ed056aaa
      "text/plain": [
       "<Figure size 640x480 with 1 Axes>"
      ]
     },
     "metadata": {},
     "output_type": "display_data"
    }
   ],
   "source": [
    "df['train'].plot(\n",
    "    legend='train'\n",
    ")\n",
    "df['test'].plot(\n",
    "    legend='test'\n",
    ")\n",
    "\n",
    "plt.title('Lasso 모델 최적의 하이퍼파라미터 찾기')\n",
    "\n",
    "plt.legend()\n",
    "plt.xlabel('log alpha 값')\n",
    "plt.ylabel('예측률')\n",
    "\n",
    "plt.show()"
   ]
  },
  {
   "attachments": {},
   "cell_type": "markdown",
   "metadata": {},
   "source": [
    "### Ridge 로 사용할 경우 alpah = 10\n",
    "### Lasso 로 사용할 경우 alpha = 10**6"
   ]
  },
  {
   "attachments": {},
   "cell_type": "markdown",
   "metadata": {},
   "source": [
    "### 머신러닝 모델 만들어서 저장하기"
   ]
  },
  {
   "attachments": {},
   "cell_type": "markdown",
   "metadata": {},
   "source": [
    "### 모델 만들기"
   ]
  },
  {
   "cell_type": "code",
<<<<<<< HEAD
   "execution_count": 30,
=======
   "execution_count": 29,
>>>>>>> f5e2574c158a68d3fdd1de79f861ea83ed056aaa
   "metadata": {},
   "outputs": [],
   "source": [
    "feature_com=feature.to_numpy()\n",
    "target_com=target.to_numpy()"
   ]
  },
  {
   "cell_type": "code",
<<<<<<< HEAD
   "execution_count": 31,
=======
   "execution_count": 30,
>>>>>>> f5e2574c158a68d3fdd1de79f861ea83ed056aaa
   "metadata": {},
   "outputs": [],
   "source": [
    "ridge=Ridge(alpha=10)\n",
    "lasso=Lasso(alpha=10**6)"
   ]
  },
  {
   "cell_type": "code",
<<<<<<< HEAD
   "execution_count": 32,
=======
   "execution_count": 31,
>>>>>>> f5e2574c158a68d3fdd1de79f861ea83ed056aaa
   "metadata": {},
   "outputs": [
    {
     "data": {
      "text/html": [
       "<style>#sk-container-id-1 {color: black;background-color: white;}#sk-container-id-1 pre{padding: 0;}#sk-container-id-1 div.sk-toggleable {background-color: white;}#sk-container-id-1 label.sk-toggleable__label {cursor: pointer;display: block;width: 100%;margin-bottom: 0;padding: 0.3em;box-sizing: border-box;text-align: center;}#sk-container-id-1 label.sk-toggleable__label-arrow:before {content: \"▸\";float: left;margin-right: 0.25em;color: #696969;}#sk-container-id-1 label.sk-toggleable__label-arrow:hover:before {color: black;}#sk-container-id-1 div.sk-estimator:hover label.sk-toggleable__label-arrow:before {color: black;}#sk-container-id-1 div.sk-toggleable__content {max-height: 0;max-width: 0;overflow: hidden;text-align: left;background-color: #f0f8ff;}#sk-container-id-1 div.sk-toggleable__content pre {margin: 0.2em;color: black;border-radius: 0.25em;background-color: #f0f8ff;}#sk-container-id-1 input.sk-toggleable__control:checked~div.sk-toggleable__content {max-height: 200px;max-width: 100%;overflow: auto;}#sk-container-id-1 input.sk-toggleable__control:checked~label.sk-toggleable__label-arrow:before {content: \"▾\";}#sk-container-id-1 div.sk-estimator input.sk-toggleable__control:checked~label.sk-toggleable__label {background-color: #d4ebff;}#sk-container-id-1 div.sk-label input.sk-toggleable__control:checked~label.sk-toggleable__label {background-color: #d4ebff;}#sk-container-id-1 input.sk-hidden--visually {border: 0;clip: rect(1px 1px 1px 1px);clip: rect(1px, 1px, 1px, 1px);height: 1px;margin: -1px;overflow: hidden;padding: 0;position: absolute;width: 1px;}#sk-container-id-1 div.sk-estimator {font-family: monospace;background-color: #f0f8ff;border: 1px dotted black;border-radius: 0.25em;box-sizing: border-box;margin-bottom: 0.5em;}#sk-container-id-1 div.sk-estimator:hover {background-color: #d4ebff;}#sk-container-id-1 div.sk-parallel-item::after {content: \"\";width: 100%;border-bottom: 1px solid gray;flex-grow: 1;}#sk-container-id-1 div.sk-label:hover label.sk-toggleable__label {background-color: #d4ebff;}#sk-container-id-1 div.sk-serial::before {content: \"\";position: absolute;border-left: 1px solid gray;box-sizing: border-box;top: 0;bottom: 0;left: 50%;z-index: 0;}#sk-container-id-1 div.sk-serial {display: flex;flex-direction: column;align-items: center;background-color: white;padding-right: 0.2em;padding-left: 0.2em;position: relative;}#sk-container-id-1 div.sk-item {position: relative;z-index: 1;}#sk-container-id-1 div.sk-parallel {display: flex;align-items: stretch;justify-content: center;background-color: white;position: relative;}#sk-container-id-1 div.sk-item::before, #sk-container-id-1 div.sk-parallel-item::before {content: \"\";position: absolute;border-left: 1px solid gray;box-sizing: border-box;top: 0;bottom: 0;left: 50%;z-index: -1;}#sk-container-id-1 div.sk-parallel-item {display: flex;flex-direction: column;z-index: 1;position: relative;background-color: white;}#sk-container-id-1 div.sk-parallel-item:first-child::after {align-self: flex-end;width: 50%;}#sk-container-id-1 div.sk-parallel-item:last-child::after {align-self: flex-start;width: 50%;}#sk-container-id-1 div.sk-parallel-item:only-child::after {width: 0;}#sk-container-id-1 div.sk-dashed-wrapped {border: 1px dashed gray;margin: 0 0.4em 0.5em 0.4em;box-sizing: border-box;padding-bottom: 0.4em;background-color: white;}#sk-container-id-1 div.sk-label label {font-family: monospace;font-weight: bold;display: inline-block;line-height: 1.2em;}#sk-container-id-1 div.sk-label-container {text-align: center;}#sk-container-id-1 div.sk-container {/* jupyter's `normalize.less` sets `[hidden] { display: none; }` but bootstrap.min.css set `[hidden] { display: none !important; }` so we also need the `!important` here to be able to override the default hidden behavior on the sphinx rendered scikit-learn.org. See: https://github.com/scikit-learn/scikit-learn/issues/21755 */display: inline-block !important;position: relative;}#sk-container-id-1 div.sk-text-repr-fallback {display: none;}</style><div id=\"sk-container-id-1\" class=\"sk-top-container\"><div class=\"sk-text-repr-fallback\"><pre>Lasso(alpha=1000000)</pre><b>In a Jupyter environment, please rerun this cell to show the HTML representation or trust the notebook. <br />On GitHub, the HTML representation is unable to render, please try loading this page with nbviewer.org.</b></div><div class=\"sk-container\" hidden><div class=\"sk-item\"><div class=\"sk-estimator sk-toggleable\"><input class=\"sk-toggleable__control sk-hidden--visually\" id=\"sk-estimator-id-1\" type=\"checkbox\" checked><label for=\"sk-estimator-id-1\" class=\"sk-toggleable__label sk-toggleable__label-arrow\">Lasso</label><div class=\"sk-toggleable__content\"><pre>Lasso(alpha=1000000)</pre></div></div></div></div></div>"
      ],
      "text/plain": [
       "Lasso(alpha=1000000)"
      ]
     },
<<<<<<< HEAD
     "execution_count": 32,
=======
     "execution_count": 31,
>>>>>>> f5e2574c158a68d3fdd1de79f861ea83ed056aaa
     "metadata": {},
     "output_type": "execute_result"
    }
   ],
   "source": [
    "ridge.fit(feature_com,target_com)\n",
    "lasso.fit(feature_com,target_com)"
   ]
  },
  {
   "attachments": {},
   "cell_type": "markdown",
   "metadata": {},
   "source": [
    "### 저장하기"
   ]
  },
  {
   "cell_type": "code",
<<<<<<< HEAD
   "execution_count": 33,
=======
   "execution_count": 32,
>>>>>>> f5e2574c158a68d3fdd1de79f861ea83ed056aaa
   "metadata": {},
   "outputs": [],
   "source": [
    "import joblib"
   ]
  },
  {
   "cell_type": "code",
<<<<<<< HEAD
   "execution_count": 34,
=======
   "execution_count": 33,
>>>>>>> f5e2574c158a68d3fdd1de79f861ea83ed056aaa
   "metadata": {},
   "outputs": [
    {
     "data": {
      "text/plain": [
       "['./Data2/gwanak_ridge_model.h5']"
      ]
     },
<<<<<<< HEAD
     "execution_count": 34,
=======
     "execution_count": 33,
>>>>>>> f5e2574c158a68d3fdd1de79f861ea83ed056aaa
     "metadata": {},
     "output_type": "execute_result"
    }
   ],
   "source": [
    "filename = './Data2/gwanak_ridge_model.h5'\n",
    "joblib.dump(ridge,filename=filename)"
   ]
  },
  {
   "cell_type": "code",
<<<<<<< HEAD
   "execution_count": 35,
=======
   "execution_count": 34,
>>>>>>> f5e2574c158a68d3fdd1de79f861ea83ed056aaa
   "metadata": {},
   "outputs": [
    {
     "data": {
      "text/plain": [
       "['./Data2/gwanak_lasso_model.h5']"
      ]
     },
<<<<<<< HEAD
     "execution_count": 35,
=======
     "execution_count": 34,
>>>>>>> f5e2574c158a68d3fdd1de79f861ea83ed056aaa
     "metadata": {},
     "output_type": "execute_result"
    }
   ],
   "source": [
    "filename = './Data2/gwanak_lasso_model.h5'\n",
    "joblib.dump(lasso,filename=filename)"
   ]
  },
  {
   "cell_type": "code",
<<<<<<< HEAD
   "execution_count": 36,
=======
   "execution_count": 35,
>>>>>>> f5e2574c158a68d3fdd1de79f861ea83ed056aaa
   "metadata": {},
   "outputs": [],
   "source": [
    "model = joblib.load('./Data2/gwanak_lasso_model.h5')"
   ]
  },
  {
   "cell_type": "code",
<<<<<<< HEAD
   "execution_count": 37,
=======
   "execution_count": 36,
>>>>>>> f5e2574c158a68d3fdd1de79f861ea83ed056aaa
   "metadata": {},
   "outputs": [],
   "source": [
    "test=data.iloc[3,56:].to_numpy()\n",
    "answer=data.iloc[3,10:11].to_numpy()"
   ]
  },
  {
   "cell_type": "code",
<<<<<<< HEAD
   "execution_count": 38,
=======
   "execution_count": 37,
>>>>>>> f5e2574c158a68d3fdd1de79f861ea83ed056aaa
   "metadata": {},
   "outputs": [],
   "source": [
    "predict=model.predict([test])"
   ]
  },
  {
   "cell_type": "code",
<<<<<<< HEAD
   "execution_count": 39,
=======
   "execution_count": 38,
>>>>>>> f5e2574c158a68d3fdd1de79f861ea83ed056aaa
   "metadata": {},
   "outputs": [
    {
     "data": {
      "text/plain": [
       "array([1034261967.9693904], dtype=object)"
      ]
     },
<<<<<<< HEAD
     "execution_count": 39,
=======
     "execution_count": 38,
>>>>>>> f5e2574c158a68d3fdd1de79f861ea83ed056aaa
     "metadata": {},
     "output_type": "execute_result"
    }
   ],
   "source": [
    "answer - predict"
   ]
  },
  {
   "cell_type": "code",
<<<<<<< HEAD
   "execution_count": 40,
=======
   "execution_count": 39,
>>>>>>> f5e2574c158a68d3fdd1de79f861ea83ed056aaa
   "metadata": {},
   "outputs": [
    {
     "data": {
      "text/plain": [
       "Index(['점포수', '개업_점포_수', '프랜차이즈_점포_수', '총_직장_인구_수', '연령대_10_직장_인구_수', '점포수1',\n",
       "       '개업_점포_수1', '프랜차이즈_점포_수1', '총_직장_인구_수1', '연령대_10_직장_인구_수1', '점포수^21',\n",
       "       '점포수 개업_점포_수1', '점포수 프랜차이즈_점포_수1', '점포수 총_직장_인구_수1',\n",
       "       '점포수 연령대_10_직장_인구_수1', '개업_점포_수^21', '개업_점포_수 프랜차이즈_점포_수1',\n",
       "       '개업_점포_수 총_직장_인구_수1', '개업_점포_수 연령대_10_직장_인구_수1', '프랜차이즈_점포_수^21',\n",
       "       '프랜차이즈_점포_수 총_직장_인구_수1', '프랜차이즈_점포_수 연령대_10_직장_인구_수1', '총_직장_인구_수^21',\n",
       "       '총_직장_인구_수 연령대_10_직장_인구_수1', '연령대_10_직장_인구_수^21', '점포수2', '개업_점포_수2',\n",
       "       '프랜차이즈_점포_수2', '총_직장_인구_수2', '연령대_10_직장_인구_수2', '점포수^22',\n",
       "       '점포수 개업_점포_수2', '점포수 프랜차이즈_점포_수2', '점포수 총_직장_인구_수2',\n",
       "       '점포수 연령대_10_직장_인구_수2', '개업_점포_수^22', '개업_점포_수 프랜차이즈_점포_수2',\n",
       "       '개업_점포_수 총_직장_인구_수2', '개업_점포_수 연령대_10_직장_인구_수2', '프랜차이즈_점포_수^22',\n",
       "       '프랜차이즈_점포_수 총_직장_인구_수2', '프랜차이즈_점포_수 연령대_10_직장_인구_수2', '총_직장_인구_수^22',\n",
       "       '총_직장_인구_수 연령대_10_직장_인구_수2', '연령대_10_직장_인구_수^22', '행정동_코드_명_낙성대동',\n",
       "       '행정동_코드_명_난곡동', '행정동_코드_명_난향동', '행정동_코드_명_남현동', '행정동_코드_명_대학동',\n",
       "       '행정동_코드_명_미성동', '행정동_코드_명_보라매동', '행정동_코드_명_삼성동', '행정동_코드_명_서림동',\n",
       "       '행정동_코드_명_서원동', '행정동_코드_명_성현동', '행정동_코드_명_신림동', '행정동_코드_명_신사동',\n",
       "       '행정동_코드_명_신원동', '행정동_코드_명_은천동', '행정동_코드_명_인헌동', '행정동_코드_명_조원동',\n",
       "       '행정동_코드_명_중앙동', '행정동_코드_명_청룡동', '행정동_코드_명_청림동', '행정동_코드_명_행운동'],\n",
       "      dtype='object')"
      ]
     },
<<<<<<< HEAD
     "execution_count": 40,
=======
     "execution_count": 39,
>>>>>>> f5e2574c158a68d3fdd1de79f861ea83ed056aaa
     "metadata": {},
     "output_type": "execute_result"
    }
   ],
   "source": [
    "feature.columns"
   ]
  },
  {
   "attachments": {},
   "cell_type": "markdown",
   "metadata": {},
   "source": [
    "### .tflite 만들기"
   ]
  },
  {
   "attachments": {},
   "cell_type": "markdown",
   "metadata": {},
   "source": [
    "#### Keras 모델 만들기"
   ]
  },
  {
   "cell_type": "code",
<<<<<<< HEAD
   "execution_count": 41,
=======
   "execution_count": 40,
>>>>>>> f5e2574c158a68d3fdd1de79f861ea83ed056aaa
   "metadata": {},
   "outputs": [],
   "source": [
    "# from keras.models import Sequential\n",
    "# from keras.layers import Dense"
   ]
  },
  {
   "cell_type": "code",
<<<<<<< HEAD
   "execution_count": 42,
=======
   "execution_count": 41,
>>>>>>> f5e2574c158a68d3fdd1de79f861ea83ed056aaa
   "metadata": {},
   "outputs": [],
   "source": [
    "# model = Sequential()\n",
    "# model.add(Dense(5, input_dim=66, activation='relu'))"
   ]
  },
  {
   "cell_type": "code",
<<<<<<< HEAD
   "execution_count": 43,
=======
   "execution_count": 42,
>>>>>>> f5e2574c158a68d3fdd1de79f861ea83ed056aaa
   "metadata": {},
   "outputs": [],
   "source": [
    "# model.add(Dense(3))"
   ]
  },
  {
   "cell_type": "code",
<<<<<<< HEAD
   "execution_count": 44,
=======
   "execution_count": 43,
>>>>>>> f5e2574c158a68d3fdd1de79f861ea83ed056aaa
   "metadata": {},
   "outputs": [],
   "source": [
    "# model.add(Dense(1))"
   ]
  },
  {
   "cell_type": "code",
<<<<<<< HEAD
   "execution_count": 45,
=======
   "execution_count": 44,
>>>>>>> f5e2574c158a68d3fdd1de79f861ea83ed056aaa
   "metadata": {},
   "outputs": [],
   "source": [
    "# model.compile(loss='mse', optimizer='adam')"
   ]
  },
  {
   "cell_type": "code",
<<<<<<< HEAD
   "execution_count": 46,
=======
   "execution_count": 45,
>>>>>>> f5e2574c158a68d3fdd1de79f861ea83ed056aaa
   "metadata": {},
   "outputs": [],
   "source": [
    "# model.fit(feature, target, epochs=100, batch_size=1)"
   ]
  },
  {
   "cell_type": "code",
<<<<<<< HEAD
   "execution_count": 47,
=======
   "execution_count": 46,
>>>>>>> f5e2574c158a68d3fdd1de79f861ea83ed056aaa
   "metadata": {},
   "outputs": [],
   "source": [
    "# import tensorflow as tf\n",
    "\n",
    "# converter = tf.lite.TFLiteConverter.from_keras_model(model)\n",
    "# tflite_model = converter.convert()\n",
    "\n",
    "# # Save the model.\n",
    "# with open('model.tflite', 'wb') as f:\n",
    "#   f.write(tflite_model)"
   ]
  },
  {
   "cell_type": "code",
<<<<<<< HEAD
   "execution_count": 48,
=======
   "execution_count": 47,
>>>>>>> f5e2574c158a68d3fdd1de79f861ea83ed056aaa
   "metadata": {},
   "outputs": [],
   "source": [
    "# model.predict(feature.iloc[0:1,:])"
   ]
  },
  {
   "cell_type": "code",
<<<<<<< HEAD
   "execution_count": 49,
=======
   "execution_count": 48,
>>>>>>> f5e2574c158a68d3fdd1de79f861ea83ed056aaa
   "metadata": {},
   "outputs": [
    {
     "data": {
      "text/plain": [
       "537692400.0"
      ]
     },
<<<<<<< HEAD
     "execution_count": 49,
=======
     "execution_count": 48,
>>>>>>> f5e2574c158a68d3fdd1de79f861ea83ed056aaa
     "metadata": {},
     "output_type": "execute_result"
    }
   ],
   "source": [
    "5.376924e+08"
   ]
  },
  {
   "cell_type": "code",
<<<<<<< HEAD
   "execution_count": 50,
=======
   "execution_count": 49,
>>>>>>> f5e2574c158a68d3fdd1de79f861ea83ed056aaa
   "metadata": {},
   "outputs": [
    {
     "data": {
      "text/plain": [
       "array([[ 73.        ,   3.        ,   7.        , 333.        ,\n",
       "          0.        ,   4.30406509,   1.38629436,   2.07944154,\n",
       "          5.81114099,   0.        ,   8.58110652,   5.39362755,\n",
       "          6.23832463,  10.09864307,   0.        ,   2.30258509,\n",
       "          3.09104245,   6.90775528,   0.        ,   3.91202301,\n",
       "          7.75448155,   0.        ,  11.616294  ,   0.        ,\n",
       "          0.        ,   8.54400375,   1.73205081,   2.64575131,\n",
       "         18.24828759,   0.        ,  73.        ,  14.79864859,\n",
       "         22.60530911, 155.91343752,   0.        ,   3.        ,\n",
       "          4.58257569,  31.60696126,   0.        ,   7.        ,\n",
       "         48.28043082,   0.        , 333.        ,   0.        ,\n",
       "          0.        ,   0.        ,   0.        ,   0.        ,\n",
       "          0.        ,   0.        ,   0.        ,   1.        ,\n",
       "          0.        ,   0.        ,   0.        ,   0.        ,\n",
       "          0.        ,   0.        ,   0.        ,   0.        ,\n",
       "          0.        ,   0.        ,   0.        ,   0.        ,\n",
       "          0.        ,   0.        ]])"
      ]
     },
<<<<<<< HEAD
     "execution_count": 50,
=======
     "execution_count": 49,
>>>>>>> f5e2574c158a68d3fdd1de79f861ea83ed056aaa
     "metadata": {},
     "output_type": "execute_result"
    }
   ],
   "source": [
    "feature.iloc[0:1,:].to_numpy()"
   ]
  },
  {
   "cell_type": "code",
   "execution_count": null,
   "metadata": {},
   "outputs": [],
   "source": []
  }
 ],
 "metadata": {
  "kernelspec": {
   "display_name": "tensorflow",
   "language": "python",
   "name": "python3"
  },
  "language_info": {
   "codemirror_mode": {
    "name": "ipython",
    "version": 3
   },
   "file_extension": ".py",
   "mimetype": "text/x-python",
   "name": "python",
   "nbconvert_exporter": "python",
   "pygments_lexer": "ipython3",
   "version": "3.9.13"
  },
  "orig_nbformat": 4,
  "vscode": {
   "interpreter": {
    "hash": "a3680a952170aa4879024e73d39878b7aac962f0b16bced1a9689b2321800c8b"
   }
  }
 },
 "nbformat": 4,
 "nbformat_minor": 2
}
