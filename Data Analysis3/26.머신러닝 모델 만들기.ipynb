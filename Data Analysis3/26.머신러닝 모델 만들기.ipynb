{
 "cells": [
  {
   "cell_type": "code",
   "execution_count": 1,
   "metadata": {},
   "outputs": [],
   "source": [
    "import pandas as pd\n",
    "import numpy as np\n",
    "import matplotlib.pyplot as plt\n",
    "from matplotlib import font_manager, rc\n",
    "import platform\n",
    "import warnings\n",
    "\n",
    "# seaborn 사용하기\n",
    "import seaborn as sns\n",
    "\n",
    "plt.rcParams['axes.unicode_minus'] = False\n",
    "\n",
    "if platform.system() == 'Darwin':\n",
    "    rc('font', family='AppleGothic') # os가 macos\n",
    "elif platform.system() == 'Windows':\n",
    "    path = 'c:/Windows/Fonts/malgun.ttf' # os가 windows\n",
    "    font_name = font_manager.FontProperties(fname=path).get_name()\n",
    "    rc('font', family=font_name)\n",
    "else:\n",
    "    print(\"Unknown System\")\n",
    "\n",
    "warnings.filterwarnings('ignore')"
   ]
  },
  {
   "cell_type": "code",
   "execution_count": 2,
   "metadata": {},
   "outputs": [
    {
     "data": {
      "text/html": [
       "<div>\n",
       "<style scoped>\n",
       "    .dataframe tbody tr th:only-of-type {\n",
       "        vertical-align: middle;\n",
       "    }\n",
       "\n",
       "    .dataframe tbody tr th {\n",
       "        vertical-align: top;\n",
       "    }\n",
       "\n",
       "    .dataframe thead th {\n",
       "        text-align: right;\n",
       "    }\n",
       "</style>\n",
       "<table border=\"1\" class=\"dataframe\">\n",
       "  <thead>\n",
       "    <tr style=\"text-align: right;\">\n",
       "      <th></th>\n",
       "      <th>기준_년_코드</th>\n",
       "      <th>기준_분기_코드</th>\n",
       "      <th>상권_구분_코드</th>\n",
       "      <th>상권_구분_코드_명</th>\n",
       "      <th>시군구코드</th>\n",
       "      <th>시군구명</th>\n",
       "      <th>행정동_코드</th>\n",
       "      <th>상권_코드</th>\n",
       "      <th>상권_코드_명</th>\n",
       "      <th>점포매출액</th>\n",
       "      <th>...</th>\n",
       "      <th>행정동_코드_명_신사동</th>\n",
       "      <th>행정동_코드_명_신원동</th>\n",
       "      <th>행정동_코드_명_은천동</th>\n",
       "      <th>행정동_코드_명_인헌동</th>\n",
       "      <th>행정동_코드_명_조원동</th>\n",
       "      <th>행정동_코드_명_중앙동</th>\n",
       "      <th>행정동_코드_명_청룡동</th>\n",
       "      <th>행정동_코드_명_청림동</th>\n",
       "      <th>행정동_코드_명_행운동</th>\n",
       "      <th>행정동_코드_명</th>\n",
       "    </tr>\n",
       "  </thead>\n",
       "  <tbody>\n",
       "    <tr>\n",
       "      <th>0</th>\n",
       "      <td>2014</td>\n",
       "      <td>2</td>\n",
       "      <td>A</td>\n",
       "      <td>골목상권</td>\n",
       "      <td>11620</td>\n",
       "      <td>관악구</td>\n",
       "      <td>11620525</td>\n",
       "      <td>1000804</td>\n",
       "      <td>당곡길</td>\n",
       "      <td>5.713964e+08</td>\n",
       "      <td>...</td>\n",
       "      <td>0</td>\n",
       "      <td>0</td>\n",
       "      <td>0</td>\n",
       "      <td>0</td>\n",
       "      <td>0</td>\n",
       "      <td>0</td>\n",
       "      <td>0</td>\n",
       "      <td>0</td>\n",
       "      <td>0</td>\n",
       "      <td>보라매동</td>\n",
       "    </tr>\n",
       "    <tr>\n",
       "      <th>1</th>\n",
       "      <td>2014</td>\n",
       "      <td>2</td>\n",
       "      <td>A</td>\n",
       "      <td>골목상권</td>\n",
       "      <td>11620</td>\n",
       "      <td>관악구</td>\n",
       "      <td>11620525</td>\n",
       "      <td>1000811</td>\n",
       "      <td>봉천로13길</td>\n",
       "      <td>1.337315e+08</td>\n",
       "      <td>...</td>\n",
       "      <td>0</td>\n",
       "      <td>0</td>\n",
       "      <td>0</td>\n",
       "      <td>0</td>\n",
       "      <td>0</td>\n",
       "      <td>0</td>\n",
       "      <td>0</td>\n",
       "      <td>0</td>\n",
       "      <td>0</td>\n",
       "      <td>보라매동</td>\n",
       "    </tr>\n",
       "    <tr>\n",
       "      <th>2</th>\n",
       "      <td>2014</td>\n",
       "      <td>2</td>\n",
       "      <td>A</td>\n",
       "      <td>골목상권</td>\n",
       "      <td>11620</td>\n",
       "      <td>관악구</td>\n",
       "      <td>11620545</td>\n",
       "      <td>1000783</td>\n",
       "      <td>관악로30길</td>\n",
       "      <td>2.019276e+08</td>\n",
       "      <td>...</td>\n",
       "      <td>0</td>\n",
       "      <td>0</td>\n",
       "      <td>0</td>\n",
       "      <td>0</td>\n",
       "      <td>0</td>\n",
       "      <td>0</td>\n",
       "      <td>0</td>\n",
       "      <td>1</td>\n",
       "      <td>0</td>\n",
       "      <td>청림동</td>\n",
       "    </tr>\n",
       "    <tr>\n",
       "      <th>3</th>\n",
       "      <td>2014</td>\n",
       "      <td>2</td>\n",
       "      <td>A</td>\n",
       "      <td>골목상권</td>\n",
       "      <td>11620</td>\n",
       "      <td>관악구</td>\n",
       "      <td>11620545</td>\n",
       "      <td>1000835</td>\n",
       "      <td>청림3길</td>\n",
       "      <td>1.604613e+08</td>\n",
       "      <td>...</td>\n",
       "      <td>0</td>\n",
       "      <td>0</td>\n",
       "      <td>0</td>\n",
       "      <td>0</td>\n",
       "      <td>0</td>\n",
       "      <td>0</td>\n",
       "      <td>0</td>\n",
       "      <td>1</td>\n",
       "      <td>0</td>\n",
       "      <td>청림동</td>\n",
       "    </tr>\n",
       "    <tr>\n",
       "      <th>4</th>\n",
       "      <td>2014</td>\n",
       "      <td>2</td>\n",
       "      <td>A</td>\n",
       "      <td>골목상권</td>\n",
       "      <td>11620</td>\n",
       "      <td>관악구</td>\n",
       "      <td>11620565</td>\n",
       "      <td>1000786</td>\n",
       "      <td>구암길</td>\n",
       "      <td>3.152107e+07</td>\n",
       "      <td>...</td>\n",
       "      <td>0</td>\n",
       "      <td>0</td>\n",
       "      <td>0</td>\n",
       "      <td>0</td>\n",
       "      <td>0</td>\n",
       "      <td>0</td>\n",
       "      <td>0</td>\n",
       "      <td>0</td>\n",
       "      <td>0</td>\n",
       "      <td>성현동</td>\n",
       "    </tr>\n",
       "  </tbody>\n",
       "</table>\n",
       "<p>5 rows × 77 columns</p>\n",
       "</div>"
      ],
      "text/plain": [
       "   기준_년_코드  기준_분기_코드 상권_구분_코드 상권_구분_코드_명  시군구코드 시군구명    행정동_코드    상권_코드  \\\n",
       "0     2014         2        A       골목상권  11620  관악구  11620525  1000804   \n",
       "1     2014         2        A       골목상권  11620  관악구  11620525  1000811   \n",
       "2     2014         2        A       골목상권  11620  관악구  11620545  1000783   \n",
       "3     2014         2        A       골목상권  11620  관악구  11620545  1000835   \n",
       "4     2014         2        A       골목상권  11620  관악구  11620565  1000786   \n",
       "\n",
       "  상권_코드_명         점포매출액  ...  행정동_코드_명_신사동  행정동_코드_명_신원동  행정동_코드_명_은천동  \\\n",
       "0     당곡길  5.713964e+08  ...             0             0             0   \n",
       "1  봉천로13길  1.337315e+08  ...             0             0             0   \n",
       "2  관악로30길  2.019276e+08  ...             0             0             0   \n",
       "3    청림3길  1.604613e+08  ...             0             0             0   \n",
       "4     구암길  3.152107e+07  ...             0             0             0   \n",
       "\n",
       "   행정동_코드_명_인헌동  행정동_코드_명_조원동  행정동_코드_명_중앙동  행정동_코드_명_청룡동  행정동_코드_명_청림동  \\\n",
       "0             0             0             0             0             0   \n",
       "1             0             0             0             0             0   \n",
       "2             0             0             0             0             1   \n",
       "3             0             0             0             0             1   \n",
       "4             0             0             0             0             0   \n",
       "\n",
       "   행정동_코드_명_행운동  행정동_코드_명  \n",
       "0             0      보라매동  \n",
       "1             0      보라매동  \n",
       "2             0       청림동  \n",
       "3             0       청림동  \n",
       "4             0       성현동  \n",
       "\n",
       "[5 rows x 77 columns]"
      ]
     },
     "execution_count": 2,
     "metadata": {},
     "output_type": "execute_result"
    }
   ],
   "source": [
    "data = pd.read_csv('./Data2/final.csv')\n",
    "data.head()"
   ]
  },
  {
   "attachments": {},
   "cell_type": "markdown",
   "metadata": {},
   "source": [
    "### 순서 정리 하기"
   ]
  },
  {
   "cell_type": "code",
   "execution_count": 3,
   "metadata": {},
   "outputs": [],
   "source": [
    "desc1=data.iloc[:,:7]\n",
    "desc2=data['행정동_코드_명']\n",
    "desc3=data.iloc[:,7:9]\n",
    "target_feature=data.iloc[:,9:-1]"
   ]
  },
  {
   "cell_type": "code",
   "execution_count": 4,
   "metadata": {},
   "outputs": [
    {
     "data": {
      "text/plain": [
       "array(['보라매동', '청림동', '성현동', '행운동', '낙성대동', '청룡동', '은천동', '중앙동', '인헌동',\n",
       "       '남현동', '서원동', '신원동', '서림동', '신사동', '신림동', '난향동', '조원동', '대학동',\n",
       "       '삼성동', '미성동', '난곡동'], dtype=object)"
      ]
     },
     "execution_count": 4,
     "metadata": {},
     "output_type": "execute_result"
    }
   ],
   "source": [
    "desc2.unique()"
   ]
  },
  {
   "cell_type": "code",
   "execution_count": 5,
   "metadata": {},
   "outputs": [
    {
     "data": {
      "text/html": [
       "<div>\n",
       "<style scoped>\n",
       "    .dataframe tbody tr th:only-of-type {\n",
       "        vertical-align: middle;\n",
       "    }\n",
       "\n",
       "    .dataframe tbody tr th {\n",
       "        vertical-align: top;\n",
       "    }\n",
       "\n",
       "    .dataframe thead th {\n",
       "        text-align: right;\n",
       "    }\n",
       "</style>\n",
       "<table border=\"1\" class=\"dataframe\">\n",
       "  <thead>\n",
       "    <tr style=\"text-align: right;\">\n",
       "      <th></th>\n",
       "      <th>기준_년_코드</th>\n",
       "      <th>기준_분기_코드</th>\n",
       "      <th>상권_구분_코드</th>\n",
       "      <th>상권_구분_코드_명</th>\n",
       "      <th>시군구코드</th>\n",
       "      <th>시군구명</th>\n",
       "      <th>행정동_코드</th>\n",
       "      <th>행정동_코드_명</th>\n",
       "      <th>상권_코드</th>\n",
       "      <th>상권_코드_명</th>\n",
       "      <th>...</th>\n",
       "      <th>행정동_코드_명_신림동</th>\n",
       "      <th>행정동_코드_명_신사동</th>\n",
       "      <th>행정동_코드_명_신원동</th>\n",
       "      <th>행정동_코드_명_은천동</th>\n",
       "      <th>행정동_코드_명_인헌동</th>\n",
       "      <th>행정동_코드_명_조원동</th>\n",
       "      <th>행정동_코드_명_중앙동</th>\n",
       "      <th>행정동_코드_명_청룡동</th>\n",
       "      <th>행정동_코드_명_청림동</th>\n",
       "      <th>행정동_코드_명_행운동</th>\n",
       "    </tr>\n",
       "  </thead>\n",
       "  <tbody>\n",
       "    <tr>\n",
       "      <th>0</th>\n",
       "      <td>2014</td>\n",
       "      <td>2</td>\n",
       "      <td>A</td>\n",
       "      <td>골목상권</td>\n",
       "      <td>11620</td>\n",
       "      <td>관악구</td>\n",
       "      <td>11620525</td>\n",
       "      <td>보라매동</td>\n",
       "      <td>1000804</td>\n",
       "      <td>당곡길</td>\n",
       "      <td>...</td>\n",
       "      <td>0</td>\n",
       "      <td>0</td>\n",
       "      <td>0</td>\n",
       "      <td>0</td>\n",
       "      <td>0</td>\n",
       "      <td>0</td>\n",
       "      <td>0</td>\n",
       "      <td>0</td>\n",
       "      <td>0</td>\n",
       "      <td>0</td>\n",
       "    </tr>\n",
       "    <tr>\n",
       "      <th>1</th>\n",
       "      <td>2014</td>\n",
       "      <td>2</td>\n",
       "      <td>A</td>\n",
       "      <td>골목상권</td>\n",
       "      <td>11620</td>\n",
       "      <td>관악구</td>\n",
       "      <td>11620525</td>\n",
       "      <td>보라매동</td>\n",
       "      <td>1000811</td>\n",
       "      <td>봉천로13길</td>\n",
       "      <td>...</td>\n",
       "      <td>0</td>\n",
       "      <td>0</td>\n",
       "      <td>0</td>\n",
       "      <td>0</td>\n",
       "      <td>0</td>\n",
       "      <td>0</td>\n",
       "      <td>0</td>\n",
       "      <td>0</td>\n",
       "      <td>0</td>\n",
       "      <td>0</td>\n",
       "    </tr>\n",
       "    <tr>\n",
       "      <th>2</th>\n",
       "      <td>2014</td>\n",
       "      <td>2</td>\n",
       "      <td>A</td>\n",
       "      <td>골목상권</td>\n",
       "      <td>11620</td>\n",
       "      <td>관악구</td>\n",
       "      <td>11620545</td>\n",
       "      <td>청림동</td>\n",
       "      <td>1000783</td>\n",
       "      <td>관악로30길</td>\n",
       "      <td>...</td>\n",
       "      <td>0</td>\n",
       "      <td>0</td>\n",
       "      <td>0</td>\n",
       "      <td>0</td>\n",
       "      <td>0</td>\n",
       "      <td>0</td>\n",
       "      <td>0</td>\n",
       "      <td>0</td>\n",
       "      <td>1</td>\n",
       "      <td>0</td>\n",
       "    </tr>\n",
       "    <tr>\n",
       "      <th>3</th>\n",
       "      <td>2014</td>\n",
       "      <td>2</td>\n",
       "      <td>A</td>\n",
       "      <td>골목상권</td>\n",
       "      <td>11620</td>\n",
       "      <td>관악구</td>\n",
       "      <td>11620545</td>\n",
       "      <td>청림동</td>\n",
       "      <td>1000835</td>\n",
       "      <td>청림3길</td>\n",
       "      <td>...</td>\n",
       "      <td>0</td>\n",
       "      <td>0</td>\n",
       "      <td>0</td>\n",
       "      <td>0</td>\n",
       "      <td>0</td>\n",
       "      <td>0</td>\n",
       "      <td>0</td>\n",
       "      <td>0</td>\n",
       "      <td>1</td>\n",
       "      <td>0</td>\n",
       "    </tr>\n",
       "    <tr>\n",
       "      <th>4</th>\n",
       "      <td>2014</td>\n",
       "      <td>2</td>\n",
       "      <td>A</td>\n",
       "      <td>골목상권</td>\n",
       "      <td>11620</td>\n",
       "      <td>관악구</td>\n",
       "      <td>11620565</td>\n",
       "      <td>성현동</td>\n",
       "      <td>1000786</td>\n",
       "      <td>구암길</td>\n",
       "      <td>...</td>\n",
       "      <td>0</td>\n",
       "      <td>0</td>\n",
       "      <td>0</td>\n",
       "      <td>0</td>\n",
       "      <td>0</td>\n",
       "      <td>0</td>\n",
       "      <td>0</td>\n",
       "      <td>0</td>\n",
       "      <td>0</td>\n",
       "      <td>0</td>\n",
       "    </tr>\n",
       "  </tbody>\n",
       "</table>\n",
       "<p>5 rows × 77 columns</p>\n",
       "</div>"
      ],
      "text/plain": [
       "   기준_년_코드  기준_분기_코드 상권_구분_코드 상권_구분_코드_명  시군구코드 시군구명    행정동_코드 행정동_코드_명  \\\n",
       "0     2014         2        A       골목상권  11620  관악구  11620525     보라매동   \n",
       "1     2014         2        A       골목상권  11620  관악구  11620525     보라매동   \n",
       "2     2014         2        A       골목상권  11620  관악구  11620545      청림동   \n",
       "3     2014         2        A       골목상권  11620  관악구  11620545      청림동   \n",
       "4     2014         2        A       골목상권  11620  관악구  11620565      성현동   \n",
       "\n",
       "     상권_코드 상권_코드_명  ...  행정동_코드_명_신림동  행정동_코드_명_신사동  행정동_코드_명_신원동  \\\n",
       "0  1000804     당곡길  ...             0             0             0   \n",
       "1  1000811  봉천로13길  ...             0             0             0   \n",
       "2  1000783  관악로30길  ...             0             0             0   \n",
       "3  1000835    청림3길  ...             0             0             0   \n",
       "4  1000786     구암길  ...             0             0             0   \n",
       "\n",
       "   행정동_코드_명_은천동  행정동_코드_명_인헌동  행정동_코드_명_조원동  행정동_코드_명_중앙동  행정동_코드_명_청룡동  \\\n",
       "0             0             0             0             0             0   \n",
       "1             0             0             0             0             0   \n",
       "2             0             0             0             0             0   \n",
       "3             0             0             0             0             0   \n",
       "4             0             0             0             0             0   \n",
       "\n",
       "   행정동_코드_명_청림동  행정동_코드_명_행운동  \n",
       "0             0             0  \n",
       "1             0             0  \n",
       "2             1             0  \n",
       "3             1             0  \n",
       "4             0             0  \n",
       "\n",
       "[5 rows x 77 columns]"
      ]
     },
     "execution_count": 5,
     "metadata": {},
     "output_type": "execute_result"
    }
   ],
   "source": [
    "data = pd.concat([desc1,desc2,desc3,target_feature],axis=1)\n",
    "data.head()"
   ]
  },
  {
   "cell_type": "code",
   "execution_count": 6,
   "metadata": {},
   "outputs": [
    {
     "data": {
      "text/plain": [
       "Index(['기준_년_코드', '기준_분기_코드', '상권_구분_코드', '상권_구분_코드_명', '시군구코드', '시군구명',\n",
       "       '행정동_코드', '행정동_코드_명', '상권_코드', '상권_코드_명', '점포매출액', '점포수', '개업_점포_수',\n",
       "       '프랜차이즈_점포_수', '총_직장_인구_수', '연령대_10_직장_인구_수', '점포수1', '개업_점포_수1',\n",
       "       '프랜차이즈_점포_수1', '총_직장_인구_수1', '연령대_10_직장_인구_수1', '점포수^21',\n",
       "       '점포수 개업_점포_수1', '점포수 프랜차이즈_점포_수1', '점포수 총_직장_인구_수1',\n",
       "       '점포수 연령대_10_직장_인구_수1', '개업_점포_수^21', '개업_점포_수 프랜차이즈_점포_수1',\n",
       "       '개업_점포_수 총_직장_인구_수1', '개업_점포_수 연령대_10_직장_인구_수1', '프랜차이즈_점포_수^21',\n",
       "       '프랜차이즈_점포_수 총_직장_인구_수1', '프랜차이즈_점포_수 연령대_10_직장_인구_수1', '총_직장_인구_수^21',\n",
       "       '총_직장_인구_수 연령대_10_직장_인구_수1', '연령대_10_직장_인구_수^21', '점포수2', '개업_점포_수2',\n",
       "       '프랜차이즈_점포_수2', '총_직장_인구_수2', '연령대_10_직장_인구_수2', '점포수^22',\n",
       "       '점포수 개업_점포_수2', '점포수 프랜차이즈_점포_수2', '점포수 총_직장_인구_수2',\n",
       "       '점포수 연령대_10_직장_인구_수2', '개업_점포_수^22', '개업_점포_수 프랜차이즈_점포_수2',\n",
       "       '개업_점포_수 총_직장_인구_수2', '개업_점포_수 연령대_10_직장_인구_수2', '프랜차이즈_점포_수^22',\n",
       "       '프랜차이즈_점포_수 총_직장_인구_수2', '프랜차이즈_점포_수 연령대_10_직장_인구_수2', '총_직장_인구_수^22',\n",
       "       '총_직장_인구_수 연령대_10_직장_인구_수2', '연령대_10_직장_인구_수^22', '행정동_코드_명_낙성대동',\n",
       "       '행정동_코드_명_난곡동', '행정동_코드_명_난향동', '행정동_코드_명_남현동', '행정동_코드_명_대학동',\n",
       "       '행정동_코드_명_미성동', '행정동_코드_명_보라매동', '행정동_코드_명_삼성동', '행정동_코드_명_서림동',\n",
       "       '행정동_코드_명_서원동', '행정동_코드_명_성현동', '행정동_코드_명_신림동', '행정동_코드_명_신사동',\n",
       "       '행정동_코드_명_신원동', '행정동_코드_명_은천동', '행정동_코드_명_인헌동', '행정동_코드_명_조원동',\n",
       "       '행정동_코드_명_중앙동', '행정동_코드_명_청룡동', '행정동_코드_명_청림동', '행정동_코드_명_행운동'],\n",
       "      dtype='object')"
      ]
     },
     "execution_count": 6,
     "metadata": {},
     "output_type": "execute_result"
    }
   ],
   "source": [
    "data.columns"
   ]
  },
  {
   "cell_type": "code",
   "execution_count": 7,
   "metadata": {},
   "outputs": [],
   "source": [
    "data.to_csv('./data2/final2.csv',index=False)"
   ]
  },
  {
   "attachments": {},
   "cell_type": "markdown",
   "metadata": {},
   "source": [
    "### 정규화 필요한 컬럼 따로 빼기"
   ]
  },
  {
   "cell_type": "code",
   "execution_count": 8,
   "metadata": {},
   "outputs": [],
   "source": [
    "normalize_feature = data.iloc[:,11:56]\n",
    "col_name = \"정규화-\" + data.columns[11:56] "
   ]
  },
  {
   "cell_type": "code",
   "execution_count": 9,
   "metadata": {},
   "outputs": [],
   "source": [
    "from sklearn.preprocessing import StandardScaler\n",
    "scaler = StandardScaler()\n",
    "feature_scaled =scaler.fit_transform(normalize_feature)\n",
    "feature_scaled_df=pd.DataFrame(feature_scaled,columns=col_name)"
   ]
  },
  {
   "cell_type": "code",
   "execution_count": 10,
   "metadata": {},
   "outputs": [],
   "source": [
    "data=pd.concat([data,feature_scaled_df],axis=1)"
   ]
  },
  {
   "attachments": {},
   "cell_type": "markdown",
   "metadata": {},
   "source": [
    "### 정규화 전후 비교하기"
   ]
  },
  {
   "cell_type": "code",
   "execution_count": 11,
   "metadata": {},
   "outputs": [
    {
     "data": {
      "text/plain": [
       "Index(['점포수', '개업_점포_수', '프랜차이즈_점포_수', '총_직장_인구_수', '연령대_10_직장_인구_수', '점포수1',\n",
       "       '개업_점포_수1', '프랜차이즈_점포_수1', '총_직장_인구_수1', '연령대_10_직장_인구_수1', '점포수^21',\n",
       "       '점포수 개업_점포_수1', '점포수 프랜차이즈_점포_수1', '점포수 총_직장_인구_수1',\n",
       "       '점포수 연령대_10_직장_인구_수1', '개업_점포_수^21', '개업_점포_수 프랜차이즈_점포_수1',\n",
       "       '개업_점포_수 총_직장_인구_수1', '개업_점포_수 연령대_10_직장_인구_수1', '프랜차이즈_점포_수^21',\n",
       "       '프랜차이즈_점포_수 총_직장_인구_수1', '프랜차이즈_점포_수 연령대_10_직장_인구_수1', '총_직장_인구_수^21',\n",
       "       '총_직장_인구_수 연령대_10_직장_인구_수1', '연령대_10_직장_인구_수^21', '점포수2', '개업_점포_수2',\n",
       "       '프랜차이즈_점포_수2', '총_직장_인구_수2', '연령대_10_직장_인구_수2', '점포수^22',\n",
       "       '점포수 개업_점포_수2', '점포수 프랜차이즈_점포_수2', '점포수 총_직장_인구_수2',\n",
       "       '점포수 연령대_10_직장_인구_수2', '개업_점포_수^22', '개업_점포_수 프랜차이즈_점포_수2',\n",
       "       '개업_점포_수 총_직장_인구_수2', '개업_점포_수 연령대_10_직장_인구_수2', '프랜차이즈_점포_수^22',\n",
       "       '프랜차이즈_점포_수 총_직장_인구_수2', '프랜차이즈_점포_수 연령대_10_직장_인구_수2', '총_직장_인구_수^22',\n",
       "       '총_직장_인구_수 연령대_10_직장_인구_수2', '연령대_10_직장_인구_수^22', '행정동_코드_명_낙성대동',\n",
       "       '행정동_코드_명_난곡동', '행정동_코드_명_난향동', '행정동_코드_명_남현동', '행정동_코드_명_대학동',\n",
       "       '행정동_코드_명_미성동', '행정동_코드_명_보라매동', '행정동_코드_명_삼성동', '행정동_코드_명_서림동',\n",
       "       '행정동_코드_명_서원동', '행정동_코드_명_성현동', '행정동_코드_명_신림동', '행정동_코드_명_신사동',\n",
       "       '행정동_코드_명_신원동', '행정동_코드_명_은천동', '행정동_코드_명_인헌동', '행정동_코드_명_조원동',\n",
       "       '행정동_코드_명_중앙동', '행정동_코드_명_청룡동', '행정동_코드_명_청림동', '행정동_코드_명_행운동',\n",
       "       '정규화-점포수', '정규화-개업_점포_수', '정규화-프랜차이즈_점포_수'],\n",
       "      dtype='object')"
      ]
     },
     "execution_count": 11,
     "metadata": {},
     "output_type": "execute_result"
    }
   ],
   "source": [
    "data.columns[11:80]"
   ]
  },
  {
   "cell_type": "code",
   "execution_count": 12,
   "metadata": {},
   "outputs": [],
   "source": [
    "feature = data[['점포수', '개업_점포_수', '프랜차이즈_점포_수', '총_직장_인구_수', '연령대_10_직장_인구_수', '점포수1',\n",
    "       '개업_점포_수1', '프랜차이즈_점포_수1', '총_직장_인구_수1', '연령대_10_직장_인구_수1', '점포수^21',\n",
    "       '점포수 개업_점포_수1', '점포수 프랜차이즈_점포_수1', '점포수 총_직장_인구_수1',\n",
    "       '점포수 연령대_10_직장_인구_수1', '개업_점포_수^21', '개업_점포_수 프랜차이즈_점포_수1',\n",
    "       '개업_점포_수 총_직장_인구_수1', '개업_점포_수 연령대_10_직장_인구_수1', '프랜차이즈_점포_수^21',\n",
    "       '프랜차이즈_점포_수 총_직장_인구_수1', '프랜차이즈_점포_수 연령대_10_직장_인구_수1', '총_직장_인구_수^21',\n",
    "       '총_직장_인구_수 연령대_10_직장_인구_수1', '연령대_10_직장_인구_수^21', '점포수2', '개업_점포_수2',\n",
    "       '프랜차이즈_점포_수2', '총_직장_인구_수2', '연령대_10_직장_인구_수2', '점포수^22',\n",
    "       '점포수 개업_점포_수2', '점포수 프랜차이즈_점포_수2', '점포수 총_직장_인구_수2',\n",
    "       '점포수 연령대_10_직장_인구_수2', '개업_점포_수^22', '개업_점포_수 프랜차이즈_점포_수2',\n",
    "       '개업_점포_수 총_직장_인구_수2', '개업_점포_수 연령대_10_직장_인구_수2', '프랜차이즈_점포_수^22',\n",
    "       '프랜차이즈_점포_수 총_직장_인구_수2', '프랜차이즈_점포_수 연령대_10_직장_인구_수2', '총_직장_인구_수^22',\n",
    "       '총_직장_인구_수 연령대_10_직장_인구_수2', '연령대_10_직장_인구_수^22', '행정동_코드_명_낙성대동',\n",
    "       '행정동_코드_명_난곡동', '행정동_코드_명_난향동', '행정동_코드_명_남현동', '행정동_코드_명_대학동',\n",
    "       '행정동_코드_명_미성동', '행정동_코드_명_보라매동', '행정동_코드_명_삼성동', '행정동_코드_명_서림동',\n",
    "       '행정동_코드_명_서원동', '행정동_코드_명_성현동', '행정동_코드_명_신림동', '행정동_코드_명_신사동',\n",
    "       '행정동_코드_명_신원동', '행정동_코드_명_은천동', '행정동_코드_명_인헌동', '행정동_코드_명_조원동',\n",
    "       '행정동_코드_명_중앙동', '행정동_코드_명_청룡동', '행정동_코드_명_청림동', '행정동_코드_명_행운동']]\n",
    "target = data['점포매출액']"
   ]
  },
  {
   "cell_type": "code",
   "execution_count": 13,
   "metadata": {},
   "outputs": [
    {
     "name": "stdout",
     "output_type": "stream",
     "text": [
      "<class 'sklearn.neighbors._regression.KNeighborsRegressor'>\n",
      "train :  0.8876895561240852\n",
      "test :  0.8166772767385672\n",
      "--------------------------------------------------\n",
      "<class 'sklearn.linear_model._base.LinearRegression'>\n",
      "train :  0.8193519263813365\n",
      "test :  0.7918302960034159\n",
      "--------------------------------------------------\n",
      "<class 'sklearn.linear_model._ridge.Ridge'>\n",
      "train :  0.8114285628464005\n",
      "test :  0.7842369612800079\n",
      "--------------------------------------------------\n",
      "<class 'sklearn.linear_model._coordinate_descent.Lasso'>\n",
      "train :  0.8113726662082865\n",
      "test :  0.7836076744223779\n",
      "--------------------------------------------------\n",
      "<class 'sklearn.ensemble._forest.RandomForestRegressor'>\n",
      "train :  0.9902571887530647\n",
      "test :  0.9358783583335086\n",
      "--------------------------------------------------\n"
     ]
    },
    {
     "data": {
      "text/html": [
       "<div>\n",
       "<style scoped>\n",
       "    .dataframe tbody tr th:only-of-type {\n",
       "        vertical-align: middle;\n",
       "    }\n",
       "\n",
       "    .dataframe tbody tr th {\n",
       "        vertical-align: top;\n",
       "    }\n",
       "\n",
       "    .dataframe thead th {\n",
       "        text-align: right;\n",
       "    }\n",
       "</style>\n",
       "<table border=\"1\" class=\"dataframe\">\n",
       "  <thead>\n",
       "    <tr style=\"text-align: right;\">\n",
       "      <th></th>\n",
       "      <th>model_name</th>\n",
       "      <th>MSE</th>\n",
       "      <th>MAE</th>\n",
       "      <th>RMSE</th>\n",
       "      <th>R2Score</th>\n",
       "    </tr>\n",
       "  </thead>\n",
       "  <tbody>\n",
       "    <tr>\n",
       "      <th>0</th>\n",
       "      <td>lr</td>\n",
       "      <td>3.939228e+16</td>\n",
       "      <td>1.389923e+08</td>\n",
       "      <td>1.984749e+08</td>\n",
       "      <td>0.710822</td>\n",
       "    </tr>\n",
       "    <tr>\n",
       "      <th>0</th>\n",
       "      <td>rd</td>\n",
       "      <td>4.095748e+16</td>\n",
       "      <td>1.432587e+08</td>\n",
       "      <td>2.023796e+08</td>\n",
       "      <td>0.698282</td>\n",
       "    </tr>\n",
       "    <tr>\n",
       "      <th>0</th>\n",
       "      <td>ls</td>\n",
       "      <td>4.148057e+16</td>\n",
       "      <td>1.441662e+08</td>\n",
       "      <td>2.036678e+08</td>\n",
       "      <td>0.697369</td>\n",
       "    </tr>\n",
       "  </tbody>\n",
       "</table>\n",
       "</div>"
      ],
      "text/plain": [
       "  model_name           MSE           MAE          RMSE   R2Score\n",
       "0         lr  3.939228e+16  1.389923e+08  1.984749e+08  0.710822\n",
       "0         rd  4.095748e+16  1.432587e+08  2.023796e+08  0.698282\n",
       "0         ls  4.148057e+16  1.441662e+08  2.036678e+08  0.697369"
      ]
     },
     "execution_count": 13,
     "metadata": {},
     "output_type": "execute_result"
    }
   ],
   "source": [
    "from module.default import basic\n",
    "from module.error import model_err_measure\n",
    "basic(feature,target)\n",
    "model_err_measure(feature,target)"
   ]
  },
  {
   "cell_type": "code",
   "execution_count": 14,
   "metadata": {},
   "outputs": [],
   "source": [
    "feature=data[['행정동_코드_명_낙성대동', '행정동_코드_명_난곡동', '행정동_코드_명_난향동', '행정동_코드_명_남현동',\n",
    "       '행정동_코드_명_대학동', '행정동_코드_명_미성동', '행정동_코드_명_보라매동', '행정동_코드_명_삼성동',\n",
    "       '행정동_코드_명_서림동', '행정동_코드_명_서원동', '행정동_코드_명_성현동', '행정동_코드_명_신림동',\n",
    "       '행정동_코드_명_신사동', '행정동_코드_명_신원동', '행정동_코드_명_은천동', '행정동_코드_명_인헌동',\n",
    "       '행정동_코드_명_조원동', '행정동_코드_명_중앙동', '행정동_코드_명_청룡동', '행정동_코드_명_청림동',\n",
    "       '행정동_코드_명_행운동', '정규화-점포수', '정규화-개업_점포_수', '정규화-프랜차이즈_점포_수',\n",
    "       '정규화-총_직장_인구_수', '정규화-연령대_10_직장_인구_수', '정규화-점포수1', '정규화-개업_점포_수1',\n",
    "       '정규화-프랜차이즈_점포_수1', '정규화-총_직장_인구_수1', '정규화-연령대_10_직장_인구_수1',\n",
    "       '정규화-점포수^21', '정규화-점포수 개업_점포_수1', '정규화-점포수 프랜차이즈_점포_수1',\n",
    "       '정규화-점포수 총_직장_인구_수1', '정규화-점포수 연령대_10_직장_인구_수1', '정규화-개업_점포_수^21',\n",
    "       '정규화-개업_점포_수 프랜차이즈_점포_수1', '정규화-개업_점포_수 총_직장_인구_수1',\n",
    "       '정규화-개업_점포_수 연령대_10_직장_인구_수1', '정규화-프랜차이즈_점포_수^21',\n",
    "       '정규화-프랜차이즈_점포_수 총_직장_인구_수1', '정규화-프랜차이즈_점포_수 연령대_10_직장_인구_수1',\n",
    "       '정규화-총_직장_인구_수^21', '정규화-총_직장_인구_수 연령대_10_직장_인구_수1',\n",
    "       '정규화-연령대_10_직장_인구_수^21', '정규화-점포수2', '정규화-개업_점포_수2', '정규화-프랜차이즈_점포_수2',\n",
    "       '정규화-총_직장_인구_수2', '정규화-연령대_10_직장_인구_수2', '정규화-점포수^22',\n",
    "       '정규화-점포수 개업_점포_수2', '정규화-점포수 프랜차이즈_점포_수2', '정규화-점포수 총_직장_인구_수2',\n",
    "       '정규화-점포수 연령대_10_직장_인구_수2', '정규화-개업_점포_수^22', '정규화-개업_점포_수 프랜차이즈_점포_수2',\n",
    "       '정규화-개업_점포_수 총_직장_인구_수2', '정규화-개업_점포_수 연령대_10_직장_인구_수2',\n",
    "       '정규화-프랜차이즈_점포_수^22', '정규화-프랜차이즈_점포_수 총_직장_인구_수2',\n",
    "       '정규화-프랜차이즈_점포_수 연령대_10_직장_인구_수2', '정규화-총_직장_인구_수^22',\n",
    "       '정규화-총_직장_인구_수 연령대_10_직장_인구_수2', '정규화-연령대_10_직장_인구_수^22']]\n",
    "target = data['점포매출액']"
   ]
  },
  {
   "cell_type": "code",
   "execution_count": 15,
   "metadata": {},
   "outputs": [
    {
     "name": "stdout",
     "output_type": "stream",
     "text": [
      "<class 'sklearn.neighbors._regression.KNeighborsRegressor'>\n",
      "train :  0.8517311374348507\n",
      "test :  0.7415170139214297\n",
      "--------------------------------------------------\n",
      "<class 'sklearn.linear_model._base.LinearRegression'>\n",
      "train :  0.8179961942558037\n",
      "test :  0.7826510733287998\n",
      "--------------------------------------------------\n",
      "<class 'sklearn.linear_model._ridge.Ridge'>\n",
      "train :  0.8113853044166263\n",
      "test :  0.7874916400132654\n",
      "--------------------------------------------------\n",
      "<class 'sklearn.linear_model._coordinate_descent.Lasso'>\n",
      "train :  0.8115721501799632\n",
      "test :  0.7860102715609628\n",
      "--------------------------------------------------\n",
      "<class 'sklearn.ensemble._forest.RandomForestRegressor'>\n",
      "train :  0.9900678064012132\n",
      "test :  0.9341075193677286\n",
      "--------------------------------------------------\n"
     ]
    },
    {
     "data": {
      "text/html": [
       "<div>\n",
       "<style scoped>\n",
       "    .dataframe tbody tr th:only-of-type {\n",
       "        vertical-align: middle;\n",
       "    }\n",
       "\n",
       "    .dataframe tbody tr th {\n",
       "        vertical-align: top;\n",
       "    }\n",
       "\n",
       "    .dataframe thead th {\n",
       "        text-align: right;\n",
       "    }\n",
       "</style>\n",
       "<table border=\"1\" class=\"dataframe\">\n",
       "  <thead>\n",
       "    <tr style=\"text-align: right;\">\n",
       "      <th></th>\n",
       "      <th>model_name</th>\n",
       "      <th>MSE</th>\n",
       "      <th>MAE</th>\n",
       "      <th>RMSE</th>\n",
       "      <th>R2Score</th>\n",
       "    </tr>\n",
       "  </thead>\n",
       "  <tbody>\n",
       "    <tr>\n",
       "      <th>0</th>\n",
       "      <td>lr</td>\n",
       "      <td>3.100760e+16</td>\n",
       "      <td>1.295474e+08</td>\n",
       "      <td>1.760898e+08</td>\n",
       "      <td>0.786165</td>\n",
       "    </tr>\n",
       "    <tr>\n",
       "      <th>0</th>\n",
       "      <td>rd</td>\n",
       "      <td>3.182565e+16</td>\n",
       "      <td>1.297927e+08</td>\n",
       "      <td>1.783974e+08</td>\n",
       "      <td>0.776940</td>\n",
       "    </tr>\n",
       "    <tr>\n",
       "      <th>0</th>\n",
       "      <td>ls</td>\n",
       "      <td>3.225044e+16</td>\n",
       "      <td>1.305943e+08</td>\n",
       "      <td>1.795841e+08</td>\n",
       "      <td>0.777198</td>\n",
       "    </tr>\n",
       "  </tbody>\n",
       "</table>\n",
       "</div>"
      ],
      "text/plain": [
       "  model_name           MSE           MAE          RMSE   R2Score\n",
       "0         lr  3.100760e+16  1.295474e+08  1.760898e+08  0.786165\n",
       "0         rd  3.182565e+16  1.297927e+08  1.783974e+08  0.776940\n",
       "0         ls  3.225044e+16  1.305943e+08  1.795841e+08  0.777198"
      ]
     },
     "execution_count": 15,
     "metadata": {},
     "output_type": "execute_result"
    }
   ],
   "source": [
    "basic(feature,target)\n",
    "model_err_measure(feature,target)"
   ]
  },
  {
   "attachments": {},
   "cell_type": "markdown",
   "metadata": {},
   "source": [
    "### 정규화 안한거 쓰는게 예측률이 더 좋음"
   ]
  },
  {
   "cell_type": "code",
   "execution_count": 16,
   "metadata": {},
   "outputs": [],
   "source": [
    "feature = data[['점포수', '개업_점포_수', '프랜차이즈_점포_수', '총_직장_인구_수', '연령대_10_직장_인구_수', '점포수1',\n",
    "       '개업_점포_수1', '프랜차이즈_점포_수1', '총_직장_인구_수1', '연령대_10_직장_인구_수1', '점포수^21',\n",
    "       '점포수 개업_점포_수1', '점포수 프랜차이즈_점포_수1', '점포수 총_직장_인구_수1',\n",
    "       '점포수 연령대_10_직장_인구_수1', '개업_점포_수^21', '개업_점포_수 프랜차이즈_점포_수1',\n",
    "       '개업_점포_수 총_직장_인구_수1', '개업_점포_수 연령대_10_직장_인구_수1', '프랜차이즈_점포_수^21',\n",
    "       '프랜차이즈_점포_수 총_직장_인구_수1', '프랜차이즈_점포_수 연령대_10_직장_인구_수1', '총_직장_인구_수^21',\n",
    "       '총_직장_인구_수 연령대_10_직장_인구_수1', '연령대_10_직장_인구_수^21', '점포수2', '개업_점포_수2',\n",
    "       '프랜차이즈_점포_수2', '총_직장_인구_수2', '연령대_10_직장_인구_수2', '점포수^22',\n",
    "       '점포수 개업_점포_수2', '점포수 프랜차이즈_점포_수2', '점포수 총_직장_인구_수2',\n",
    "       '점포수 연령대_10_직장_인구_수2', '개업_점포_수^22', '개업_점포_수 프랜차이즈_점포_수2',\n",
    "       '개업_점포_수 총_직장_인구_수2', '개업_점포_수 연령대_10_직장_인구_수2', '프랜차이즈_점포_수^22',\n",
    "       '프랜차이즈_점포_수 총_직장_인구_수2', '프랜차이즈_점포_수 연령대_10_직장_인구_수2', '총_직장_인구_수^22',\n",
    "       '총_직장_인구_수 연령대_10_직장_인구_수2', '연령대_10_직장_인구_수^22', '행정동_코드_명_낙성대동',\n",
    "       '행정동_코드_명_난곡동', '행정동_코드_명_난향동', '행정동_코드_명_남현동', '행정동_코드_명_대학동',\n",
    "       '행정동_코드_명_미성동', '행정동_코드_명_보라매동', '행정동_코드_명_삼성동', '행정동_코드_명_서림동',\n",
    "       '행정동_코드_명_서원동', '행정동_코드_명_성현동', '행정동_코드_명_신림동', '행정동_코드_명_신사동',\n",
    "       '행정동_코드_명_신원동', '행정동_코드_명_은천동', '행정동_코드_명_인헌동', '행정동_코드_명_조원동',\n",
    "       '행정동_코드_명_중앙동', '행정동_코드_명_청룡동', '행정동_코드_명_청림동', '행정동_코드_명_행운동']]\n",
    "target = data['점포매출액']"
   ]
  },
  {
   "attachments": {},
   "cell_type": "markdown",
   "metadata": {},
   "source": [
    "### 그리드 서치 이용해서 최적의 하이퍼 파라미터 값 확인하기"
   ]
  },
  {
   "cell_type": "code",
   "execution_count": 17,
   "metadata": {},
   "outputs": [],
   "source": [
    "from sklearn.linear_model import LinearRegression , Ridge , Lasso\n",
    "from sklearn.model_selection import train_test_split , GridSearchCV"
   ]
  },
  {
   "cell_type": "code",
   "execution_count": 18,
   "metadata": {},
   "outputs": [],
   "source": [
    "params ={'alpha':[0.0001,0.001,0.01,0.1,1,10,100,1000,10000]}\n",
    "\n",
    "train_input, test_input, train_target , test_target  = \\\n",
    "    train_test_split(feature,target,test_size=0.2)"
   ]
  },
  {
   "cell_type": "code",
   "execution_count": 19,
   "metadata": {},
   "outputs": [
    {
     "data": {
      "text/plain": [
       "{'alpha': 0.01}"
      ]
     },
     "execution_count": 19,
     "metadata": {},
     "output_type": "execute_result"
    }
   ],
   "source": [
    "gs = GridSearchCV(\n",
    "    Ridge(),\n",
    "    params,\n",
    "    return_train_score=True\n",
    ")\n",
    "\n",
    "gs.fit(train_input,train_target)\n",
    "\n",
    "modelName = gs.best_estimator_\n",
    "modelName.score(test_input,test_target)\n",
    "gs.best_params_"
   ]
  },
  {
   "cell_type": "code",
   "execution_count": 20,
   "metadata": {},
   "outputs": [],
   "source": [
    "test = gs.cv_results_['mean_test_score']\n",
    "train = gs.cv_results_['mean_train_score']"
   ]
  },
  {
   "cell_type": "code",
   "execution_count": 21,
   "metadata": {},
   "outputs": [],
   "source": [
    "df=pd.concat([pd.Series(test),pd.Series(train)],axis=1)\n",
    "df.columns = ['test','train']"
   ]
  },
  {
   "cell_type": "code",
   "execution_count": 22,
   "metadata": {},
   "outputs": [],
   "source": [
    "df.index = np.log10(params['alpha'])"
   ]
  },
  {
   "cell_type": "code",
   "execution_count": 23,
   "metadata": {},
   "outputs": [
    {
     "data": {
      "text/html": [
       "<div>\n",
       "<style scoped>\n",
       "    .dataframe tbody tr th:only-of-type {\n",
       "        vertical-align: middle;\n",
       "    }\n",
       "\n",
       "    .dataframe tbody tr th {\n",
       "        vertical-align: top;\n",
       "    }\n",
       "\n",
       "    .dataframe thead th {\n",
       "        text-align: right;\n",
       "    }\n",
       "</style>\n",
       "<table border=\"1\" class=\"dataframe\">\n",
       "  <thead>\n",
       "    <tr style=\"text-align: right;\">\n",
       "      <th></th>\n",
       "      <th>test</th>\n",
       "      <th>train</th>\n",
       "    </tr>\n",
       "  </thead>\n",
       "  <tbody>\n",
       "    <tr>\n",
       "      <th>-4.0</th>\n",
       "      <td>0.781146</td>\n",
       "      <td>0.812799</td>\n",
       "    </tr>\n",
       "    <tr>\n",
       "      <th>-3.0</th>\n",
       "      <td>0.781957</td>\n",
       "      <td>0.812708</td>\n",
       "    </tr>\n",
       "    <tr>\n",
       "      <th>-2.0</th>\n",
       "      <td>0.783865</td>\n",
       "      <td>0.811813</td>\n",
       "    </tr>\n",
       "    <tr>\n",
       "      <th>-1.0</th>\n",
       "      <td>0.783537</td>\n",
       "      <td>0.809408</td>\n",
       "    </tr>\n",
       "    <tr>\n",
       "      <th>0.0</th>\n",
       "      <td>0.782263</td>\n",
       "      <td>0.806974</td>\n",
       "    </tr>\n",
       "    <tr>\n",
       "      <th>1.0</th>\n",
       "      <td>0.776402</td>\n",
       "      <td>0.799438</td>\n",
       "    </tr>\n",
       "    <tr>\n",
       "      <th>2.0</th>\n",
       "      <td>0.716936</td>\n",
       "      <td>0.735883</td>\n",
       "    </tr>\n",
       "    <tr>\n",
       "      <th>3.0</th>\n",
       "      <td>0.647338</td>\n",
       "      <td>0.661368</td>\n",
       "    </tr>\n",
       "    <tr>\n",
       "      <th>4.0</th>\n",
       "      <td>0.625908</td>\n",
       "      <td>0.636444</td>\n",
       "    </tr>\n",
       "  </tbody>\n",
       "</table>\n",
       "</div>"
      ],
      "text/plain": [
       "          test     train\n",
       "-4.0  0.781146  0.812799\n",
       "-3.0  0.781957  0.812708\n",
       "-2.0  0.783865  0.811813\n",
       "-1.0  0.783537  0.809408\n",
       " 0.0  0.782263  0.806974\n",
       " 1.0  0.776402  0.799438\n",
       " 2.0  0.716936  0.735883\n",
       " 3.0  0.647338  0.661368\n",
       " 4.0  0.625908  0.636444"
      ]
     },
     "execution_count": 23,
     "metadata": {},
     "output_type": "execute_result"
    }
   ],
   "source": [
    "df"
   ]
  },
  {
   "cell_type": "code",
   "execution_count": 24,
   "metadata": {},
   "outputs": [
    {
     "data": {
      "image/png": "[encoded data removed]",
      "text/plain": [
       "<Figure size 640x480 with 1 Axes>"
      ]
     },
     "metadata": {},
     "output_type": "display_data"
    }
   ],
   "source": [
    "df['train'].plot(\n",
    "    legend='train'\n",
    ")\n",
    "df['test'].plot(\n",
    "    legend='test'\n",
    ")\n",
    "\n",
    "plt.title('Ridge 모델 최적의 하이퍼파라미터 찾기')\n",
    "\n",
    "plt.legend()\n",
    "plt.xlabel('log alpha 값')\n",
    "plt.ylabel('예측률')\n",
    "\n",
    "plt.show()"
   ]
  },
  {
   "cell_type": "code",
   "execution_count": 25,
   "metadata": {},
   "outputs": [],
   "source": [
    "params ={'alpha':[0.1,1,10,10**2,10**3,10**4,10**5,10**6,10**7,10**8,10**9,10**10]}"
   ]
  },
  {
   "cell_type": "code",
   "execution_count": 26,
   "metadata": {},
   "outputs": [
    {
     "data": {
      "text/plain": [
       "{'alpha': 10000}"
      ]
     },
     "execution_count": 26,
     "metadata": {},
     "output_type": "execute_result"
    }
   ],
   "source": [
    "gs = GridSearchCV(\n",
    "    Lasso(),\n",
    "    params,\n",
    "    return_train_score=True\n",
    ")\n",
    "\n",
    "gs.fit(train_input,train_target)\n",
    "\n",
    "modelName = gs.best_estimator_\n",
    "modelName.score(test_input,test_target)\n",
    "gs.best_params_"
   ]
  },
  {
   "cell_type": "code",
   "execution_count": 27,
   "metadata": {},
   "outputs": [],
   "source": [
    "test = gs.cv_results_['mean_test_score']\n",
    "train = gs.cv_results_['mean_train_score']\n",
    "df=pd.concat([pd.Series(test),pd.Series(train)],axis=1)\n",
    "df.columns = ['test','train']\n",
    "df.index = np.log10(params['alpha'])"
   ]
  },
  {
   "cell_type": "code",
   "execution_count": 28,
   "metadata": {},
   "outputs": [
    {
     "data": {
      "text/html": [
       "<div>\n",
       "<style scoped>\n",
       "    .dataframe tbody tr th:only-of-type {\n",
       "        vertical-align: middle;\n",
       "    }\n",
       "\n",
       "    .dataframe tbody tr th {\n",
       "        vertical-align: top;\n",
       "    }\n",
       "\n",
       "    .dataframe thead th {\n",
       "        text-align: right;\n",
       "    }\n",
       "</style>\n",
       "<table border=\"1\" class=\"dataframe\">\n",
       "  <thead>\n",
       "    <tr style=\"text-align: right;\">\n",
       "      <th></th>\n",
       "      <th>test</th>\n",
       "      <th>train</th>\n",
       "    </tr>\n",
       "  </thead>\n",
       "  <tbody>\n",
       "    <tr>\n",
       "      <th>-1.0</th>\n",
       "      <td>0.780867</td>\n",
       "      <td>0.806692</td>\n",
       "    </tr>\n",
       "    <tr>\n",
       "      <th>0.0</th>\n",
       "      <td>0.780867</td>\n",
       "      <td>0.806692</td>\n",
       "    </tr>\n",
       "    <tr>\n",
       "      <th>1.0</th>\n",
       "      <td>0.780867</td>\n",
       "      <td>0.806692</td>\n",
       "    </tr>\n",
       "    <tr>\n",
       "      <th>2.0</th>\n",
       "      <td>0.780867</td>\n",
       "      <td>0.806692</td>\n",
       "    </tr>\n",
       "    <tr>\n",
       "      <th>3.0</th>\n",
       "      <td>0.780869</td>\n",
       "      <td>0.806689</td>\n",
       "    </tr>\n",
       "    <tr>\n",
       "      <th>4.0</th>\n",
       "      <td>0.780894</td>\n",
       "      <td>0.806658</td>\n",
       "    </tr>\n",
       "    <tr>\n",
       "      <th>5.0</th>\n",
       "      <td>0.780871</td>\n",
       "      <td>0.806117</td>\n",
       "    </tr>\n",
       "    <tr>\n",
       "      <th>6.0</th>\n",
       "      <td>0.776942</td>\n",
       "      <td>0.797938</td>\n",
       "    </tr>\n",
       "    <tr>\n",
       "      <th>7.0</th>\n",
       "      <td>0.701262</td>\n",
       "      <td>0.719834</td>\n",
       "    </tr>\n",
       "    <tr>\n",
       "      <th>8.0</th>\n",
       "      <td>0.611127</td>\n",
       "      <td>0.619800</td>\n",
       "    </tr>\n",
       "    <tr>\n",
       "      <th>9.0</th>\n",
       "      <td>0.595458</td>\n",
       "      <td>0.600939</td>\n",
       "    </tr>\n",
       "    <tr>\n",
       "      <th>10.0</th>\n",
       "      <td>0.270150</td>\n",
       "      <td>0.272230</td>\n",
       "    </tr>\n",
       "  </tbody>\n",
       "</table>\n",
       "</div>"
      ],
      "text/plain": [
       "           test     train\n",
       "-1.0   0.780867  0.806692\n",
       " 0.0   0.780867  0.806692\n",
       " 1.0   0.780867  0.806692\n",
       " 2.0   0.780867  0.806692\n",
       " 3.0   0.780869  0.806689\n",
       " 4.0   0.780894  0.806658\n",
       " 5.0   0.780871  0.806117\n",
       " 6.0   0.776942  0.797938\n",
       " 7.0   0.701262  0.719834\n",
       " 8.0   0.611127  0.619800\n",
       " 9.0   0.595458  0.600939\n",
       " 10.0  0.270150  0.272230"
      ]
     },
     "execution_count": 28,
     "metadata": {},
     "output_type": "execute_result"
    }
   ],
   "source": [
    "df"
   ]
  },
  {
   "cell_type": "code",
   "execution_count": 29,
   "metadata": {},
   "outputs": [
    {
     "data": {
      "image/png": "[encoded data removed]",
      "text/plain": [
       "<Figure size 640x480 with 1 Axes>"
      ]
     },
     "metadata": {},
     "output_type": "display_data"
    }
   ],
   "source": [
    "df['train'].plot(\n",
    "    legend='train'\n",
    ")\n",
    "df['test'].plot(\n",
    "    legend='test'\n",
    ")\n",
    "\n",
    "plt.title('Lasso 모델 최적의 하이퍼파라미터 찾기')\n",
    "\n",
    "plt.legend()\n",
    "plt.xlabel('log alpha 값')\n",
    "plt.ylabel('예측률')\n",
    "\n",
    "plt.show()"
   ]
  },
  {
   "attachments": {},
   "cell_type": "markdown",
   "metadata": {},
   "source": [
    "### Ridge 로 사용할 경우 alpah = 10\n",
    "### Lasso 로 사용할 경우 alpha = 10**6"
   ]
  },
  {
   "attachments": {},
   "cell_type": "markdown",
   "metadata": {},
   "source": [
    "### 머신러닝 모델 만들어서 저장하기"
   ]
  },
  {
   "attachments": {},
   "cell_type": "markdown",
   "metadata": {},
   "source": [
    "### 모델 만들기"
   ]
  },
  {
   "cell_type": "code",
   "execution_count": 30,
   "metadata": {},
   "outputs": [],
   "source": [
    "feature_com=feature.to_numpy()\n",
    "target_com=target.to_numpy()"
   ]
  },
  {
   "cell_type": "code",
   "execution_count": 31,
   "metadata": {},
   "outputs": [],
   "source": [
    "ridge=Ridge(alpha=10)\n",
    "lasso=Lasso(alpha=10**6)"
   ]
  },
  {
   "cell_type": "code",
   "execution_count": 32,
   "metadata": {},
   "outputs": [
    {
     "data": {
      "text/html": [
       "<style>#sk-container-id-1 {color: black;background-color: white;}#sk-container-id-1 pre{padding: 0;}#sk-container-id-1 div.sk-toggleable {background-color: white;}#sk-container-id-1 label.sk-toggleable__label {cursor: pointer;display: block;width: 100%;margin-bottom: 0;padding: 0.3em;box-sizing: border-box;text-align: center;}#sk-container-id-1 label.sk-toggleable__label-arrow:before {content: \"▸\";float: left;margin-right: 0.25em;color: #696969;}#sk-container-id-1 label.sk-toggleable__label-arrow:hover:before {color: black;}#sk-container-id-1 div.sk-estimator:hover label.sk-toggleable__label-arrow:before {color: black;}#sk-container-id-1 div.sk-toggleable__content {max-height: 0;max-width: 0;overflow: hidden;text-align: left;background-color: #f0f8ff;}#sk-container-id-1 div.sk-toggleable__content pre {margin: 0.2em;color: black;border-radius: 0.25em;background-color: #f0f8ff;}#sk-container-id-1 input.sk-toggleable__control:checked~div.sk-toggleable__content {max-height: 200px;max-width: 100%;overflow: auto;}#sk-container-id-1 input.sk-toggleable__control:checked~label.sk-toggleable__label-arrow:before {content: \"▾\";}#sk-container-id-1 div.sk-estimator input.sk-toggleable__control:checked~label.sk-toggleable__label {background-color: #d4ebff;}#sk-container-id-1 div.sk-label input.sk-toggleable__control:checked~label.sk-toggleable__label {background-color: #d4ebff;}#sk-container-id-1 input.sk-hidden--visually {border: 0;clip: rect(1px 1px 1px 1px);clip: rect(1px, 1px, 1px, 1px);height: 1px;margin: -1px;overflow: hidden;padding: 0;position: absolute;width: 1px;}#sk-container-id-1 div.sk-estimator {font-family: monospace;background-color: #f0f8ff;border: 1px dotted black;border-radius: 0.25em;box-sizing: border-box;margin-bottom: 0.5em;}#sk-container-id-1 div.sk-estimator:hover {background-color: #d4ebff;}#sk-container-id-1 div.sk-parallel-item::after {content: \"\";width: 100%;border-bottom: 1px solid gray;flex-grow: 1;}#sk-container-id-1 div.sk-label:hover label.sk-toggleable__label {background-color: #d4ebff;}#sk-container-id-1 div.sk-serial::before {content: \"\";position: absolute;border-left: 1px solid gray;box-sizing: border-box;top: 0;bottom: 0;left: 50%;z-index: 0;}#sk-container-id-1 div.sk-serial {display: flex;flex-direction: column;align-items: center;background-color: white;padding-right: 0.2em;padding-left: 0.2em;position: relative;}#sk-container-id-1 div.sk-item {position: relative;z-index: 1;}#sk-container-id-1 div.sk-parallel {display: flex;align-items: stretch;justify-content: center;background-color: white;position: relative;}#sk-container-id-1 div.sk-item::before, #sk-container-id-1 div.sk-parallel-item::before {content: \"\";position: absolute;border-left: 1px solid gray;box-sizing: border-box;top: 0;bottom: 0;left: 50%;z-index: -1;}#sk-container-id-1 div.sk-parallel-item {display: flex;flex-direction: column;z-index: 1;position: relative;background-color: white;}#sk-container-id-1 div.sk-parallel-item:first-child::after {align-self: flex-end;width: 50%;}#sk-container-id-1 div.sk-parallel-item:last-child::after {align-self: flex-start;width: 50%;}#sk-container-id-1 div.sk-parallel-item:only-child::after {width: 0;}#sk-container-id-1 div.sk-dashed-wrapped {border: 1px dashed gray;margin: 0 0.4em 0.5em 0.4em;box-sizing: border-box;padding-bottom: 0.4em;background-color: white;}#sk-container-id-1 div.sk-label label {font-family: monospace;font-weight: bold;display: inline-block;line-height: 1.2em;}#sk-container-id-1 div.sk-label-container {text-align: center;}#sk-container-id-1 div.sk-container {/* jupyter's `normalize.less` sets `[hidden] { display: none; }` but bootstrap.min.css set `[hidden] { display: none !important; }` so we also need the `!important` here to be able to override the default hidden behavior on the sphinx rendered scikit-learn.org. See: https://github.com/scikit-learn/scikit-learn/issues/21755 */display: inline-block !important;position: relative;}#sk-container-id-1 div.sk-text-repr-fallback {display: none;}</style><div id=\"sk-container-id-1\" class=\"sk-top-container\"><div class=\"sk-text-repr-fallback\"><pre>Lasso(alpha=1000000)</pre><b>In a Jupyter environment, please rerun this cell to show the HTML representation or trust the notebook. <br />On GitHub, the HTML representation is unable to render, please try loading this page with nbviewer.org.</b></div><div class=\"sk-container\" hidden><div class=\"sk-item\"><div class=\"sk-estimator sk-toggleable\"><input class=\"sk-toggleable__control sk-hidden--visually\" id=\"sk-estimator-id-1\" type=\"checkbox\" checked><label for=\"sk-estimator-id-1\" class=\"sk-toggleable__label sk-toggleable__label-arrow\">Lasso</label><div class=\"sk-toggleable__content\"><pre>Lasso(alpha=1000000)</pre></div></div></div></div></div>"
      ],
      "text/plain": [
       "Lasso(alpha=1000000)"
      ]
     },
     "execution_count": 32,
     "metadata": {},
     "output_type": "execute_result"
    }
   ],
   "source": [
    "ridge.fit(feature_com,target_com)\n",
    "lasso.fit(feature_com,target_com)"
   ]
  },
  {
   "attachments": {},
   "cell_type": "markdown",
   "metadata": {},
   "source": [
    "### 저장하기"
   ]
  },
  {
   "cell_type": "code",
   "execution_count": 33,
   "metadata": {},
   "outputs": [],
   "source": [
    "import joblib"
   ]
  },
  {
   "cell_type": "code",
   "execution_count": 34,
   "metadata": {},
   "outputs": [
    {
     "data": {
      "text/plain": [
       "['./Data2/gwanak_ridge_model.h5']"
      ]
     },
     "execution_count": 34,
     "metadata": {},
     "output_type": "execute_result"
    }
   ],
   "source": [
    "filename = './Data2/gwanak_ridge_model.h5'\n",
    "joblib.dump(ridge,filename=filename)"
   ]
  },
  {
   "cell_type": "code",
   "execution_count": 35,
   "metadata": {},
   "outputs": [
    {
     "data": {
      "text/plain": [
       "['./Data2/gwanak_lasso_model.h5']"
      ]
     },
     "execution_count": 35,
     "metadata": {},
     "output_type": "execute_result"
    }
   ],
   "source": [
    "filename = './Data2/gwanak_lasso_model.h5'\n",
    "joblib.dump(lasso,filename=filename)"
   ]
  },
  {
   "cell_type": "code",
   "execution_count": 36,
   "metadata": {},
   "outputs": [],
   "source": [
    "model = joblib.load('./Data2/gwanak_lasso_model.h5')"
   ]
  },
  {
   "cell_type": "code",
   "execution_count": 37,
   "metadata": {},
   "outputs": [],
   "source": [
    "test=data.iloc[3,56:].to_numpy()\n",
    "answer=data.iloc[3,10:11].to_numpy()"
   ]
  },
  {
   "cell_type": "code",
   "execution_count": 38,
   "metadata": {},
   "outputs": [],
   "source": [
    "predict=model.predict([test])"
   ]
  },
  {
   "cell_type": "code",
   "execution_count": 39,
   "metadata": {},
   "outputs": [
    {
     "data": {
      "text/plain": [
       "array([1034261967.9693904], dtype=object)"
      ]
     },
     "execution_count": 39,
     "metadata": {},
     "output_type": "execute_result"
    }
   ],
   "source": [
    "answer - predict"
   ]
  },
  {
   "cell_type": "code",
   "execution_count": 40,
   "metadata": {},
   "outputs": [
    {
     "data": {
      "text/plain": [
       "Index(['점포수', '개업_점포_수', '프랜차이즈_점포_수', '총_직장_인구_수', '연령대_10_직장_인구_수', '점포수1',\n",
       "       '개업_점포_수1', '프랜차이즈_점포_수1', '총_직장_인구_수1', '연령대_10_직장_인구_수1', '점포수^21',\n",
       "       '점포수 개업_점포_수1', '점포수 프랜차이즈_점포_수1', '점포수 총_직장_인구_수1',\n",
       "       '점포수 연령대_10_직장_인구_수1', '개업_점포_수^21', '개업_점포_수 프랜차이즈_점포_수1',\n",
       "       '개업_점포_수 총_직장_인구_수1', '개업_점포_수 연령대_10_직장_인구_수1', '프랜차이즈_점포_수^21',\n",
       "       '프랜차이즈_점포_수 총_직장_인구_수1', '프랜차이즈_점포_수 연령대_10_직장_인구_수1', '총_직장_인구_수^21',\n",
       "       '총_직장_인구_수 연령대_10_직장_인구_수1', '연령대_10_직장_인구_수^21', '점포수2', '개업_점포_수2',\n",
       "       '프랜차이즈_점포_수2', '총_직장_인구_수2', '연령대_10_직장_인구_수2', '점포수^22',\n",
       "       '점포수 개업_점포_수2', '점포수 프랜차이즈_점포_수2', '점포수 총_직장_인구_수2',\n",
       "       '점포수 연령대_10_직장_인구_수2', '개업_점포_수^22', '개업_점포_수 프랜차이즈_점포_수2',\n",
       "       '개업_점포_수 총_직장_인구_수2', '개업_점포_수 연령대_10_직장_인구_수2', '프랜차이즈_점포_수^22',\n",
       "       '프랜차이즈_점포_수 총_직장_인구_수2', '프랜차이즈_점포_수 연령대_10_직장_인구_수2', '총_직장_인구_수^22',\n",
       "       '총_직장_인구_수 연령대_10_직장_인구_수2', '연령대_10_직장_인구_수^22', '행정동_코드_명_낙성대동',\n",
       "       '행정동_코드_명_난곡동', '행정동_코드_명_난향동', '행정동_코드_명_남현동', '행정동_코드_명_대학동',\n",
       "       '행정동_코드_명_미성동', '행정동_코드_명_보라매동', '행정동_코드_명_삼성동', '행정동_코드_명_서림동',\n",
       "       '행정동_코드_명_서원동', '행정동_코드_명_성현동', '행정동_코드_명_신림동', '행정동_코드_명_신사동',\n",
       "       '행정동_코드_명_신원동', '행정동_코드_명_은천동', '행정동_코드_명_인헌동', '행정동_코드_명_조원동',\n",
       "       '행정동_코드_명_중앙동', '행정동_코드_명_청룡동', '행정동_코드_명_청림동', '행정동_코드_명_행운동'],\n",
       "      dtype='object')"
      ]
     },
     "execution_count": 40,
     "metadata": {},
     "output_type": "execute_result"
    }
   ],
   "source": [
    "feature.columns"
   ]
  },
  {
   "attachments": {},
   "cell_type": "markdown",
   "metadata": {},
   "source": [
    "### .tflite 만들기"
   ]
  },
  {
   "attachments": {},
   "cell_type": "markdown",
   "metadata": {},
   "source": [
    "#### Keras 모델 만들기"
   ]
  },
  {
   "cell_type": "code",
   "execution_count": 41,
   "metadata": {},
   "outputs": [],
   "source": [
    "# from keras.models import Sequential\n",
    "# from keras.layers import Dense"
   ]
  },
  {
   "cell_type": "code",
   "execution_count": 42,
   "metadata": {},
   "outputs": [],
   "source": [
    "# model = Sequential()\n",
    "# model.add(Dense(5, input_dim=66, activation='relu'))"
   ]
  },
  {
   "cell_type": "code",
   "execution_count": 43,
   "metadata": {},
   "outputs": [],
   "source": [
    "# model.add(Dense(3))"
   ]
  },
  {
   "cell_type": "code",
   "execution_count": 44,
   "metadata": {},
   "outputs": [],
   "source": [
    "# model.add(Dense(1))"
   ]
  },
  {
   "cell_type": "code",
   "execution_count": 45,
   "metadata": {},
   "outputs": [],
   "source": [
    "# model.compile(loss='mse', optimizer='adam')"
   ]
  },
  {
   "cell_type": "code",
   "execution_count": 46,
   "metadata": {},
   "outputs": [],
   "source": [
    "# model.fit(feature, target, epochs=100, batch_size=1)"
   ]
  },
  {
   "cell_type": "code",
   "execution_count": 47,
   "metadata": {},
   "outputs": [],
   "source": [
    "# import tensorflow as tf\n",
    "\n",
    "# converter = tf.lite.TFLiteConverter.from_keras_model(model)\n",
    "# tflite_model = converter.convert()\n",
    "\n",
    "# # Save the model.\n",
    "# with open('model.tflite', 'wb') as f:\n",
    "#   f.write(tflite_model)"
   ]
  },
  {
   "cell_type": "code",
   "execution_count": 48,
   "metadata": {},
   "outputs": [],
   "source": [
    "# model.predict(feature.iloc[0:1,:])"
   ]
  },
  {
   "cell_type": "code",
   "execution_count": 49,
   "metadata": {},
   "outputs": [
    {
     "data": {
      "text/plain": [
       "537692400.0"
      ]
     },
     "execution_count": 49,
     "metadata": {},
     "output_type": "execute_result"
    }
   ],
   "source": [
    "5.376924e+08"
   ]
  },
  {
   "cell_type": "code",
   "execution_count": 50,
   "metadata": {},
   "outputs": [
    {
     "data": {
      "text/plain": [
       "array([[ 73.        ,   3.        ,   7.        , 333.        ,\n",
       "          0.        ,   4.30406509,   1.38629436,   2.07944154,\n",
       "          5.81114099,   0.        ,   8.58110652,   5.39362755,\n",
       "          6.23832463,  10.09864307,   0.        ,   2.30258509,\n",
       "          3.09104245,   6.90775528,   0.        ,   3.91202301,\n",
       "          7.75448155,   0.        ,  11.616294  ,   0.        ,\n",
       "          0.        ,   8.54400375,   1.73205081,   2.64575131,\n",
       "         18.24828759,   0.        ,  73.        ,  14.79864859,\n",
       "         22.60530911, 155.91343752,   0.        ,   3.        ,\n",
       "          4.58257569,  31.60696126,   0.        ,   7.        ,\n",
       "         48.28043082,   0.        , 333.        ,   0.        ,\n",
       "          0.        ,   0.        ,   0.        ,   0.        ,\n",
       "          0.        ,   0.        ,   0.        ,   1.        ,\n",
       "          0.        ,   0.        ,   0.        ,   0.        ,\n",
       "          0.        ,   0.        ,   0.        ,   0.        ,\n",
       "          0.        ,   0.        ,   0.        ,   0.        ,\n",
       "          0.        ,   0.        ]])"
      ]
     },
     "execution_count": 50,
     "metadata": {},
     "output_type": "execute_result"
    }
   ],
   "source": [
    "feature.iloc[0:1,:].to_numpy()"
   ]
  },
  {
   "cell_type": "code",
   "execution_count": null,
   "metadata": {},
   "outputs": [],
   "source": []
  }
 ],
 "metadata": {
  "kernelspec": {
   "display_name": "tensorflow",
   "language": "python",
   "name": "python3"
  },
  "language_info": {
   "codemirror_mode": {
    "name": "ipython",
    "version": 3
   },
   "file_extension": ".py",
   "mimetype": "text/x-python",
   "name": "python",
   "nbconvert_exporter": "python",
   "pygments_lexer": "ipython3",
   "version": "3.9.13"
  },
  "orig_nbformat": 4,
  "vscode": {
   "interpreter": {
    "hash": "a3680a952170aa4879024e73d39878b7aac962f0b16bced1a9689b2321800c8b"
   }
  }
 },
 "nbformat": 4,
 "nbformat_minor": 2
}
