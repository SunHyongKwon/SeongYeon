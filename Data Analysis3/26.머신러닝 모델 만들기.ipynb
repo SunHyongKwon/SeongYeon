{
 "cells": [
  {
   "cell_type": "code",
   "execution_count": 1,
   "metadata": {},
   "outputs": [],
   "source": [
    "import pandas as pd\n",
    "import numpy as np\n",
    "import matplotlib.pyplot as plt\n",
    "from matplotlib import font_manager, rc\n",
    "import platform\n",
    "import warnings\n",
    "\n",
    "# seaborn 사용하기\n",
    "import seaborn as sns\n",
    "\n",
    "plt.rcParams['axes.unicode_minus'] = False\n",
    "\n",
    "if platform.system() == 'Darwin':\n",
    "    rc('font', family='AppleGothic') # os가 macos\n",
    "elif platform.system() == 'Windows':\n",
    "    path = 'c:/Windows/Fonts/malgun.ttf' # os가 windows\n",
    "    font_name = font_manager.FontProperties(fname=path).get_name()\n",
    "    rc('font', family=font_name)\n",
    "else:\n",
    "    print(\"Unknown System\")\n",
    "\n",
    "warnings.filterwarnings('ignore')"
   ]
  },
  {
   "cell_type": "code",
   "execution_count": 2,
   "metadata": {},
   "outputs": [
    {
     "data": {
      "text/html": [
       "<div>\n",
       "<style scoped>\n",
       "    .dataframe tbody tr th:only-of-type {\n",
       "        vertical-align: middle;\n",
       "    }\n",
       "\n",
       "    .dataframe tbody tr th {\n",
       "        vertical-align: top;\n",
       "    }\n",
       "\n",
       "    .dataframe thead th {\n",
       "        text-align: right;\n",
       "    }\n",
       "</style>\n",
       "<table border=\"1\" class=\"dataframe\">\n",
       "  <thead>\n",
       "    <tr style=\"text-align: right;\">\n",
       "      <th></th>\n",
       "      <th>기준_년_코드</th>\n",
       "      <th>기준_분기_코드</th>\n",
       "      <th>상권_구분_코드</th>\n",
       "      <th>상권_구분_코드_명</th>\n",
       "      <th>시군구코드</th>\n",
       "      <th>시군구명</th>\n",
       "      <th>행정동_코드</th>\n",
       "      <th>상권_코드</th>\n",
       "      <th>상권_코드_명</th>\n",
       "      <th>점포매출액</th>\n",
       "      <th>...</th>\n",
       "      <th>행정동_코드_명_신사동</th>\n",
       "      <th>행정동_코드_명_신원동</th>\n",
       "      <th>행정동_코드_명_은천동</th>\n",
       "      <th>행정동_코드_명_인헌동</th>\n",
       "      <th>행정동_코드_명_조원동</th>\n",
       "      <th>행정동_코드_명_중앙동</th>\n",
       "      <th>행정동_코드_명_청룡동</th>\n",
       "      <th>행정동_코드_명_청림동</th>\n",
       "      <th>행정동_코드_명_행운동</th>\n",
       "      <th>행정동_코드_명</th>\n",
       "    </tr>\n",
       "  </thead>\n",
       "  <tbody>\n",
       "    <tr>\n",
       "      <th>0</th>\n",
       "      <td>2014</td>\n",
       "      <td>2</td>\n",
       "      <td>A</td>\n",
       "      <td>골목상권</td>\n",
       "      <td>11620</td>\n",
       "      <td>관악구</td>\n",
       "      <td>11620525</td>\n",
       "      <td>1000804</td>\n",
       "      <td>당곡길</td>\n",
       "      <td>5.713964e+08</td>\n",
       "      <td>...</td>\n",
       "      <td>0</td>\n",
       "      <td>0</td>\n",
       "      <td>0</td>\n",
       "      <td>0</td>\n",
       "      <td>0</td>\n",
       "      <td>0</td>\n",
       "      <td>0</td>\n",
       "      <td>0</td>\n",
       "      <td>0</td>\n",
       "      <td>보라매동</td>\n",
       "    </tr>\n",
       "    <tr>\n",
       "      <th>1</th>\n",
       "      <td>2014</td>\n",
       "      <td>2</td>\n",
       "      <td>A</td>\n",
       "      <td>골목상권</td>\n",
       "      <td>11620</td>\n",
       "      <td>관악구</td>\n",
       "      <td>11620525</td>\n",
       "      <td>1000811</td>\n",
       "      <td>봉천로13길</td>\n",
       "      <td>1.337315e+08</td>\n",
       "      <td>...</td>\n",
       "      <td>0</td>\n",
       "      <td>0</td>\n",
       "      <td>0</td>\n",
       "      <td>0</td>\n",
       "      <td>0</td>\n",
       "      <td>0</td>\n",
       "      <td>0</td>\n",
       "      <td>0</td>\n",
       "      <td>0</td>\n",
       "      <td>보라매동</td>\n",
       "    </tr>\n",
       "    <tr>\n",
       "      <th>2</th>\n",
       "      <td>2014</td>\n",
       "      <td>2</td>\n",
       "      <td>A</td>\n",
       "      <td>골목상권</td>\n",
       "      <td>11620</td>\n",
       "      <td>관악구</td>\n",
       "      <td>11620545</td>\n",
       "      <td>1000783</td>\n",
       "      <td>관악로30길</td>\n",
       "      <td>2.019276e+08</td>\n",
       "      <td>...</td>\n",
       "      <td>0</td>\n",
       "      <td>0</td>\n",
       "      <td>0</td>\n",
       "      <td>0</td>\n",
       "      <td>0</td>\n",
       "      <td>0</td>\n",
       "      <td>0</td>\n",
       "      <td>1</td>\n",
       "      <td>0</td>\n",
       "      <td>청림동</td>\n",
       "    </tr>\n",
       "    <tr>\n",
       "      <th>3</th>\n",
       "      <td>2014</td>\n",
       "      <td>2</td>\n",
       "      <td>A</td>\n",
       "      <td>골목상권</td>\n",
       "      <td>11620</td>\n",
       "      <td>관악구</td>\n",
       "      <td>11620545</td>\n",
       "      <td>1000835</td>\n",
       "      <td>청림3길</td>\n",
       "      <td>1.604613e+08</td>\n",
       "      <td>...</td>\n",
       "      <td>0</td>\n",
       "      <td>0</td>\n",
       "      <td>0</td>\n",
       "      <td>0</td>\n",
       "      <td>0</td>\n",
       "      <td>0</td>\n",
       "      <td>0</td>\n",
       "      <td>1</td>\n",
       "      <td>0</td>\n",
       "      <td>청림동</td>\n",
       "    </tr>\n",
       "    <tr>\n",
       "      <th>4</th>\n",
       "      <td>2014</td>\n",
       "      <td>2</td>\n",
       "      <td>A</td>\n",
       "      <td>골목상권</td>\n",
       "      <td>11620</td>\n",
       "      <td>관악구</td>\n",
       "      <td>11620565</td>\n",
       "      <td>1000786</td>\n",
       "      <td>구암길</td>\n",
       "      <td>3.152107e+07</td>\n",
       "      <td>...</td>\n",
       "      <td>0</td>\n",
       "      <td>0</td>\n",
       "      <td>0</td>\n",
       "      <td>0</td>\n",
       "      <td>0</td>\n",
       "      <td>0</td>\n",
       "      <td>0</td>\n",
       "      <td>0</td>\n",
       "      <td>0</td>\n",
       "      <td>성현동</td>\n",
       "    </tr>\n",
       "  </tbody>\n",
       "</table>\n",
       "<p>5 rows × 77 columns</p>\n",
       "</div>"
      ],
      "text/plain": [
       "   기준_년_코드  기준_분기_코드 상권_구분_코드 상권_구분_코드_명  시군구코드 시군구명    행정동_코드    상권_코드  \\\n",
       "0     2014         2        A       골목상권  11620  관악구  11620525  1000804   \n",
       "1     2014         2        A       골목상권  11620  관악구  11620525  1000811   \n",
       "2     2014         2        A       골목상권  11620  관악구  11620545  1000783   \n",
       "3     2014         2        A       골목상권  11620  관악구  11620545  1000835   \n",
       "4     2014         2        A       골목상권  11620  관악구  11620565  1000786   \n",
       "\n",
       "  상권_코드_명         점포매출액  ...  행정동_코드_명_신사동  행정동_코드_명_신원동  행정동_코드_명_은천동  \\\n",
       "0     당곡길  5.713964e+08  ...             0             0             0   \n",
       "1  봉천로13길  1.337315e+08  ...             0             0             0   \n",
       "2  관악로30길  2.019276e+08  ...             0             0             0   \n",
       "3    청림3길  1.604613e+08  ...             0             0             0   \n",
       "4     구암길  3.152107e+07  ...             0             0             0   \n",
       "\n",
       "   행정동_코드_명_인헌동  행정동_코드_명_조원동  행정동_코드_명_중앙동  행정동_코드_명_청룡동  행정동_코드_명_청림동  \\\n",
       "0             0             0             0             0             0   \n",
       "1             0             0             0             0             0   \n",
       "2             0             0             0             0             1   \n",
       "3             0             0             0             0             1   \n",
       "4             0             0             0             0             0   \n",
       "\n",
       "   행정동_코드_명_행운동  행정동_코드_명  \n",
       "0             0      보라매동  \n",
       "1             0      보라매동  \n",
       "2             0       청림동  \n",
       "3             0       청림동  \n",
       "4             0       성현동  \n",
       "\n",
       "[5 rows x 77 columns]"
      ]
     },
     "execution_count": 2,
     "metadata": {},
     "output_type": "execute_result"
    }
   ],
   "source": [
    "data = pd.read_csv('./Data2/final.csv')\n",
    "data.head()"
   ]
  },
  {
   "attachments": {},
   "cell_type": "markdown",
   "metadata": {},
   "source": [
    "### 순서 정리 하기"
   ]
  },
  {
   "cell_type": "code",
   "execution_count": 3,
   "metadata": {},
   "outputs": [],
   "source": [
    "desc1=data.iloc[:,:7]\n",
    "desc2=data['행정동_코드_명']\n",
    "desc3=data.iloc[:,7:9]\n",
    "target_feature=data.iloc[:,9:-1]"
   ]
  },
  {
   "cell_type": "code",
   "execution_count": 4,
   "metadata": {},
   "outputs": [
    {
     "data": {
      "text/html": [
       "<div>\n",
       "<style scoped>\n",
       "    .dataframe tbody tr th:only-of-type {\n",
       "        vertical-align: middle;\n",
       "    }\n",
       "\n",
       "    .dataframe tbody tr th {\n",
       "        vertical-align: top;\n",
       "    }\n",
       "\n",
       "    .dataframe thead th {\n",
       "        text-align: right;\n",
       "    }\n",
       "</style>\n",
       "<table border=\"1\" class=\"dataframe\">\n",
       "  <thead>\n",
       "    <tr style=\"text-align: right;\">\n",
       "      <th></th>\n",
       "      <th>기준_년_코드</th>\n",
       "      <th>기준_분기_코드</th>\n",
       "      <th>상권_구분_코드</th>\n",
       "      <th>상권_구분_코드_명</th>\n",
       "      <th>시군구코드</th>\n",
       "      <th>시군구명</th>\n",
       "      <th>행정동_코드</th>\n",
       "      <th>행정동_코드_명</th>\n",
       "      <th>상권_코드</th>\n",
       "      <th>상권_코드_명</th>\n",
       "      <th>...</th>\n",
       "      <th>행정동_코드_명_신림동</th>\n",
       "      <th>행정동_코드_명_신사동</th>\n",
       "      <th>행정동_코드_명_신원동</th>\n",
       "      <th>행정동_코드_명_은천동</th>\n",
       "      <th>행정동_코드_명_인헌동</th>\n",
       "      <th>행정동_코드_명_조원동</th>\n",
       "      <th>행정동_코드_명_중앙동</th>\n",
       "      <th>행정동_코드_명_청룡동</th>\n",
       "      <th>행정동_코드_명_청림동</th>\n",
       "      <th>행정동_코드_명_행운동</th>\n",
       "    </tr>\n",
       "  </thead>\n",
       "  <tbody>\n",
       "    <tr>\n",
       "      <th>0</th>\n",
       "      <td>2014</td>\n",
       "      <td>2</td>\n",
       "      <td>A</td>\n",
       "      <td>골목상권</td>\n",
       "      <td>11620</td>\n",
       "      <td>관악구</td>\n",
       "      <td>11620525</td>\n",
       "      <td>보라매동</td>\n",
       "      <td>1000804</td>\n",
       "      <td>당곡길</td>\n",
       "      <td>...</td>\n",
       "      <td>0</td>\n",
       "      <td>0</td>\n",
       "      <td>0</td>\n",
       "      <td>0</td>\n",
       "      <td>0</td>\n",
       "      <td>0</td>\n",
       "      <td>0</td>\n",
       "      <td>0</td>\n",
       "      <td>0</td>\n",
       "      <td>0</td>\n",
       "    </tr>\n",
       "    <tr>\n",
       "      <th>1</th>\n",
       "      <td>2014</td>\n",
       "      <td>2</td>\n",
       "      <td>A</td>\n",
       "      <td>골목상권</td>\n",
       "      <td>11620</td>\n",
       "      <td>관악구</td>\n",
       "      <td>11620525</td>\n",
       "      <td>보라매동</td>\n",
       "      <td>1000811</td>\n",
       "      <td>봉천로13길</td>\n",
       "      <td>...</td>\n",
       "      <td>0</td>\n",
       "      <td>0</td>\n",
       "      <td>0</td>\n",
       "      <td>0</td>\n",
       "      <td>0</td>\n",
       "      <td>0</td>\n",
       "      <td>0</td>\n",
       "      <td>0</td>\n",
       "      <td>0</td>\n",
       "      <td>0</td>\n",
       "    </tr>\n",
       "    <tr>\n",
       "      <th>2</th>\n",
       "      <td>2014</td>\n",
       "      <td>2</td>\n",
       "      <td>A</td>\n",
       "      <td>골목상권</td>\n",
       "      <td>11620</td>\n",
       "      <td>관악구</td>\n",
       "      <td>11620545</td>\n",
       "      <td>청림동</td>\n",
       "      <td>1000783</td>\n",
       "      <td>관악로30길</td>\n",
       "      <td>...</td>\n",
       "      <td>0</td>\n",
       "      <td>0</td>\n",
       "      <td>0</td>\n",
       "      <td>0</td>\n",
       "      <td>0</td>\n",
       "      <td>0</td>\n",
       "      <td>0</td>\n",
       "      <td>0</td>\n",
       "      <td>1</td>\n",
       "      <td>0</td>\n",
       "    </tr>\n",
       "    <tr>\n",
       "      <th>3</th>\n",
       "      <td>2014</td>\n",
       "      <td>2</td>\n",
       "      <td>A</td>\n",
       "      <td>골목상권</td>\n",
       "      <td>11620</td>\n",
       "      <td>관악구</td>\n",
       "      <td>11620545</td>\n",
       "      <td>청림동</td>\n",
       "      <td>1000835</td>\n",
       "      <td>청림3길</td>\n",
       "      <td>...</td>\n",
       "      <td>0</td>\n",
       "      <td>0</td>\n",
       "      <td>0</td>\n",
       "      <td>0</td>\n",
       "      <td>0</td>\n",
       "      <td>0</td>\n",
       "      <td>0</td>\n",
       "      <td>0</td>\n",
       "      <td>1</td>\n",
       "      <td>0</td>\n",
       "    </tr>\n",
       "    <tr>\n",
       "      <th>4</th>\n",
       "      <td>2014</td>\n",
       "      <td>2</td>\n",
       "      <td>A</td>\n",
       "      <td>골목상권</td>\n",
       "      <td>11620</td>\n",
       "      <td>관악구</td>\n",
       "      <td>11620565</td>\n",
       "      <td>성현동</td>\n",
       "      <td>1000786</td>\n",
       "      <td>구암길</td>\n",
       "      <td>...</td>\n",
       "      <td>0</td>\n",
       "      <td>0</td>\n",
       "      <td>0</td>\n",
       "      <td>0</td>\n",
       "      <td>0</td>\n",
       "      <td>0</td>\n",
       "      <td>0</td>\n",
       "      <td>0</td>\n",
       "      <td>0</td>\n",
       "      <td>0</td>\n",
       "    </tr>\n",
       "  </tbody>\n",
       "</table>\n",
       "<p>5 rows × 77 columns</p>\n",
       "</div>"
      ],
      "text/plain": [
       "   기준_년_코드  기준_분기_코드 상권_구분_코드 상권_구분_코드_명  시군구코드 시군구명    행정동_코드 행정동_코드_명  \\\n",
       "0     2014         2        A       골목상권  11620  관악구  11620525     보라매동   \n",
       "1     2014         2        A       골목상권  11620  관악구  11620525     보라매동   \n",
       "2     2014         2        A       골목상권  11620  관악구  11620545      청림동   \n",
       "3     2014         2        A       골목상권  11620  관악구  11620545      청림동   \n",
       "4     2014         2        A       골목상권  11620  관악구  11620565      성현동   \n",
       "\n",
       "     상권_코드 상권_코드_명  ...  행정동_코드_명_신림동  행정동_코드_명_신사동  행정동_코드_명_신원동  \\\n",
       "0  1000804     당곡길  ...             0             0             0   \n",
       "1  1000811  봉천로13길  ...             0             0             0   \n",
       "2  1000783  관악로30길  ...             0             0             0   \n",
       "3  1000835    청림3길  ...             0             0             0   \n",
       "4  1000786     구암길  ...             0             0             0   \n",
       "\n",
       "   행정동_코드_명_은천동  행정동_코드_명_인헌동  행정동_코드_명_조원동  행정동_코드_명_중앙동  행정동_코드_명_청룡동  \\\n",
       "0             0             0             0             0             0   \n",
       "1             0             0             0             0             0   \n",
       "2             0             0             0             0             0   \n",
       "3             0             0             0             0             0   \n",
       "4             0             0             0             0             0   \n",
       "\n",
       "   행정동_코드_명_청림동  행정동_코드_명_행운동  \n",
       "0             0             0  \n",
       "1             0             0  \n",
       "2             1             0  \n",
       "3             1             0  \n",
       "4             0             0  \n",
       "\n",
       "[5 rows x 77 columns]"
      ]
     },
     "execution_count": 4,
     "metadata": {},
     "output_type": "execute_result"
    }
   ],
   "source": [
    "data = pd.concat([desc1,desc2,desc3,target_feature],axis=1)\n",
    "data.head()"
   ]
  },
  {
   "cell_type": "code",
   "execution_count": 5,
   "metadata": {},
   "outputs": [
    {
     "data": {
      "text/plain": [
       "Index(['기준_년_코드', '기준_분기_코드', '상권_구분_코드', '상권_구분_코드_명', '시군구코드', '시군구명',\n",
       "       '행정동_코드', '행정동_코드_명', '상권_코드', '상권_코드_명', '점포매출액', '점포수', '개업_점포_수',\n",
       "       '프랜차이즈_점포_수', '총_직장_인구_수', '연령대_10_직장_인구_수', '점포수1', '개업_점포_수1',\n",
       "       '프랜차이즈_점포_수1', '총_직장_인구_수1', '연령대_10_직장_인구_수1', '점포수^21',\n",
       "       '점포수 개업_점포_수1', '점포수 프랜차이즈_점포_수1', '점포수 총_직장_인구_수1',\n",
       "       '점포수 연령대_10_직장_인구_수1', '개업_점포_수^21', '개업_점포_수 프랜차이즈_점포_수1',\n",
       "       '개업_점포_수 총_직장_인구_수1', '개업_점포_수 연령대_10_직장_인구_수1', '프랜차이즈_점포_수^21',\n",
       "       '프랜차이즈_점포_수 총_직장_인구_수1', '프랜차이즈_점포_수 연령대_10_직장_인구_수1', '총_직장_인구_수^21',\n",
       "       '총_직장_인구_수 연령대_10_직장_인구_수1', '연령대_10_직장_인구_수^21', '점포수2', '개업_점포_수2',\n",
       "       '프랜차이즈_점포_수2', '총_직장_인구_수2', '연령대_10_직장_인구_수2', '점포수^22',\n",
       "       '점포수 개업_점포_수2', '점포수 프랜차이즈_점포_수2', '점포수 총_직장_인구_수2',\n",
       "       '점포수 연령대_10_직장_인구_수2', '개업_점포_수^22', '개업_점포_수 프랜차이즈_점포_수2',\n",
       "       '개업_점포_수 총_직장_인구_수2', '개업_점포_수 연령대_10_직장_인구_수2', '프랜차이즈_점포_수^22',\n",
       "       '프랜차이즈_점포_수 총_직장_인구_수2', '프랜차이즈_점포_수 연령대_10_직장_인구_수2', '총_직장_인구_수^22',\n",
       "       '총_직장_인구_수 연령대_10_직장_인구_수2', '연령대_10_직장_인구_수^22', '행정동_코드_명_낙성대동',\n",
       "       '행정동_코드_명_난곡동', '행정동_코드_명_난향동', '행정동_코드_명_남현동', '행정동_코드_명_대학동',\n",
       "       '행정동_코드_명_미성동', '행정동_코드_명_보라매동', '행정동_코드_명_삼성동', '행정동_코드_명_서림동',\n",
       "       '행정동_코드_명_서원동', '행정동_코드_명_성현동', '행정동_코드_명_신림동', '행정동_코드_명_신사동',\n",
       "       '행정동_코드_명_신원동', '행정동_코드_명_은천동', '행정동_코드_명_인헌동', '행정동_코드_명_조원동',\n",
       "       '행정동_코드_명_중앙동', '행정동_코드_명_청룡동', '행정동_코드_명_청림동', '행정동_코드_명_행운동'],\n",
       "      dtype='object')"
      ]
     },
     "execution_count": 5,
     "metadata": {},
     "output_type": "execute_result"
    }
   ],
   "source": [
    "data.columns"
   ]
  },
  {
   "cell_type": "code",
   "execution_count": 6,
   "metadata": {},
   "outputs": [],
   "source": [
    "data.to_csv('./data2/final2.csv',index=False)"
   ]
  },
  {
   "attachments": {},
   "cell_type": "markdown",
   "metadata": {},
   "source": [
    "### 정규화 필요한 컬럼 따로 빼기"
   ]
  },
  {
   "cell_type": "code",
   "execution_count": 7,
   "metadata": {},
   "outputs": [],
   "source": [
    "normalize_feature = data.iloc[:,11:56]\n",
    "col_name = \"정규화-\" + data.columns[11:56] "
   ]
  },
  {
   "cell_type": "code",
   "execution_count": 8,
   "metadata": {},
   "outputs": [],
   "source": [
    "from sklearn.preprocessing import StandardScaler\n",
    "scaler = StandardScaler()\n",
    "feature_scaled =scaler.fit_transform(normalize_feature)\n",
    "feature_scaled_df=pd.DataFrame(feature_scaled,columns=col_name)"
   ]
  },
  {
   "cell_type": "code",
   "execution_count": 9,
   "metadata": {},
   "outputs": [],
   "source": [
    "data=pd.concat([data,feature_scaled_df],axis=1)"
   ]
  },
  {
   "attachments": {},
   "cell_type": "markdown",
   "metadata": {},
   "source": [
    "### 정규화 전후 비교하기"
   ]
  },
  {
   "cell_type": "code",
   "execution_count": 10,
   "metadata": {},
   "outputs": [
    {
     "data": {
      "text/plain": [
       "Index(['점포수', '개업_점포_수', '프랜차이즈_점포_수', '총_직장_인구_수', '연령대_10_직장_인구_수', '점포수1',\n",
       "       '개업_점포_수1', '프랜차이즈_점포_수1', '총_직장_인구_수1', '연령대_10_직장_인구_수1', '점포수^21',\n",
       "       '점포수 개업_점포_수1', '점포수 프랜차이즈_점포_수1', '점포수 총_직장_인구_수1',\n",
       "       '점포수 연령대_10_직장_인구_수1', '개업_점포_수^21', '개업_점포_수 프랜차이즈_점포_수1',\n",
       "       '개업_점포_수 총_직장_인구_수1', '개업_점포_수 연령대_10_직장_인구_수1', '프랜차이즈_점포_수^21',\n",
       "       '프랜차이즈_점포_수 총_직장_인구_수1', '프랜차이즈_점포_수 연령대_10_직장_인구_수1', '총_직장_인구_수^21',\n",
       "       '총_직장_인구_수 연령대_10_직장_인구_수1', '연령대_10_직장_인구_수^21', '점포수2', '개업_점포_수2',\n",
       "       '프랜차이즈_점포_수2', '총_직장_인구_수2', '연령대_10_직장_인구_수2', '점포수^22',\n",
       "       '점포수 개업_점포_수2', '점포수 프랜차이즈_점포_수2', '점포수 총_직장_인구_수2',\n",
       "       '점포수 연령대_10_직장_인구_수2', '개업_점포_수^22', '개업_점포_수 프랜차이즈_점포_수2',\n",
       "       '개업_점포_수 총_직장_인구_수2', '개업_점포_수 연령대_10_직장_인구_수2', '프랜차이즈_점포_수^22',\n",
       "       '프랜차이즈_점포_수 총_직장_인구_수2', '프랜차이즈_점포_수 연령대_10_직장_인구_수2', '총_직장_인구_수^22',\n",
       "       '총_직장_인구_수 연령대_10_직장_인구_수2', '연령대_10_직장_인구_수^22', '행정동_코드_명_낙성대동',\n",
       "       '행정동_코드_명_난곡동', '행정동_코드_명_난향동', '행정동_코드_명_남현동', '행정동_코드_명_대학동',\n",
       "       '행정동_코드_명_미성동', '행정동_코드_명_보라매동', '행정동_코드_명_삼성동', '행정동_코드_명_서림동',\n",
       "       '행정동_코드_명_서원동', '행정동_코드_명_성현동', '행정동_코드_명_신림동', '행정동_코드_명_신사동',\n",
       "       '행정동_코드_명_신원동', '행정동_코드_명_은천동', '행정동_코드_명_인헌동', '행정동_코드_명_조원동',\n",
       "       '행정동_코드_명_중앙동', '행정동_코드_명_청룡동', '행정동_코드_명_청림동', '행정동_코드_명_행운동',\n",
       "       '정규화-점포수', '정규화-개업_점포_수', '정규화-프랜차이즈_점포_수'],\n",
       "      dtype='object')"
      ]
     },
     "execution_count": 10,
     "metadata": {},
     "output_type": "execute_result"
    }
   ],
   "source": [
    "data.columns[11:80]"
   ]
  },
  {
   "cell_type": "code",
   "execution_count": 11,
   "metadata": {},
   "outputs": [],
   "source": [
    "feature = data[['점포수', '개업_점포_수', '프랜차이즈_점포_수', '총_직장_인구_수', '연령대_10_직장_인구_수', '점포수1',\n",
    "       '개업_점포_수1', '프랜차이즈_점포_수1', '총_직장_인구_수1', '연령대_10_직장_인구_수1', '점포수^21',\n",
    "       '점포수 개업_점포_수1', '점포수 프랜차이즈_점포_수1', '점포수 총_직장_인구_수1',\n",
    "       '점포수 연령대_10_직장_인구_수1', '개업_점포_수^21', '개업_점포_수 프랜차이즈_점포_수1',\n",
    "       '개업_점포_수 총_직장_인구_수1', '개업_점포_수 연령대_10_직장_인구_수1', '프랜차이즈_점포_수^21',\n",
    "       '프랜차이즈_점포_수 총_직장_인구_수1', '프랜차이즈_점포_수 연령대_10_직장_인구_수1', '총_직장_인구_수^21',\n",
    "       '총_직장_인구_수 연령대_10_직장_인구_수1', '연령대_10_직장_인구_수^21', '점포수2', '개업_점포_수2',\n",
    "       '프랜차이즈_점포_수2', '총_직장_인구_수2', '연령대_10_직장_인구_수2', '점포수^22',\n",
    "       '점포수 개업_점포_수2', '점포수 프랜차이즈_점포_수2', '점포수 총_직장_인구_수2',\n",
    "       '점포수 연령대_10_직장_인구_수2', '개업_점포_수^22', '개업_점포_수 프랜차이즈_점포_수2',\n",
    "       '개업_점포_수 총_직장_인구_수2', '개업_점포_수 연령대_10_직장_인구_수2', '프랜차이즈_점포_수^22',\n",
    "       '프랜차이즈_점포_수 총_직장_인구_수2', '프랜차이즈_점포_수 연령대_10_직장_인구_수2', '총_직장_인구_수^22',\n",
    "       '총_직장_인구_수 연령대_10_직장_인구_수2', '연령대_10_직장_인구_수^22', '행정동_코드_명_낙성대동',\n",
    "       '행정동_코드_명_난곡동', '행정동_코드_명_난향동', '행정동_코드_명_남현동', '행정동_코드_명_대학동',\n",
    "       '행정동_코드_명_미성동', '행정동_코드_명_보라매동', '행정동_코드_명_삼성동', '행정동_코드_명_서림동',\n",
    "       '행정동_코드_명_서원동', '행정동_코드_명_성현동', '행정동_코드_명_신림동', '행정동_코드_명_신사동',\n",
    "       '행정동_코드_명_신원동', '행정동_코드_명_은천동', '행정동_코드_명_인헌동', '행정동_코드_명_조원동',\n",
    "       '행정동_코드_명_중앙동', '행정동_코드_명_청룡동', '행정동_코드_명_청림동', '행정동_코드_명_행운동']]\n",
    "target = data['점포매출액']"
   ]
  },
  {
   "cell_type": "code",
   "execution_count": 12,
   "metadata": {},
   "outputs": [
    {
     "name": "stdout",
     "output_type": "stream",
     "text": [
      "<class 'sklearn.neighbors._regression.KNeighborsRegressor'>\n",
      "train :  0.891131217059342\n",
      "test :  0.8236004075670168\n",
      "--------------------------------------------------\n",
      "<class 'sklearn.linear_model._base.LinearRegression'>\n",
      "train :  0.8188681898134934\n",
      "test :  0.7918264934839211\n",
      "--------------------------------------------------\n",
      "<class 'sklearn.linear_model._ridge.Ridge'>\n",
      "train :  0.8136087673577052\n",
      "test :  0.7937900436473914\n",
      "--------------------------------------------------\n",
      "<class 'sklearn.linear_model._coordinate_descent.Lasso'>\n",
      "train :  0.8130405658438541\n",
      "test :  0.7934887275324517\n",
      "--------------------------------------------------\n",
      "<class 'sklearn.ensemble._forest.RandomForestRegressor'>\n",
      "train :  0.9895992241583368\n",
      "test :  0.9306761003373571\n",
      "--------------------------------------------------\n"
     ]
    },
    {
     "data": {
      "text/html": [
       "<div>\n",
       "<style scoped>\n",
       "    .dataframe tbody tr th:only-of-type {\n",
       "        vertical-align: middle;\n",
       "    }\n",
       "\n",
       "    .dataframe tbody tr th {\n",
       "        vertical-align: top;\n",
       "    }\n",
       "\n",
       "    .dataframe thead th {\n",
       "        text-align: right;\n",
       "    }\n",
       "</style>\n",
       "<table border=\"1\" class=\"dataframe\">\n",
       "  <thead>\n",
       "    <tr style=\"text-align: right;\">\n",
       "      <th></th>\n",
       "      <th>model_name</th>\n",
       "      <th>MSE</th>\n",
       "      <th>MAE</th>\n",
       "      <th>RMSE</th>\n",
       "      <th>R2Score</th>\n",
       "    </tr>\n",
       "  </thead>\n",
       "  <tbody>\n",
       "    <tr>\n",
       "      <th>0</th>\n",
       "      <td>lr</td>\n",
       "      <td>3.718602e+16</td>\n",
       "      <td>1.351990e+08</td>\n",
       "      <td>1.928368e+08</td>\n",
       "      <td>0.740568</td>\n",
       "    </tr>\n",
       "    <tr>\n",
       "      <th>0</th>\n",
       "      <td>rd</td>\n",
       "      <td>3.774049e+16</td>\n",
       "      <td>1.364881e+08</td>\n",
       "      <td>1.942691e+08</td>\n",
       "      <td>0.734925</td>\n",
       "    </tr>\n",
       "    <tr>\n",
       "      <th>0</th>\n",
       "      <td>ls</td>\n",
       "      <td>3.767760e+16</td>\n",
       "      <td>1.366258e+08</td>\n",
       "      <td>1.941072e+08</td>\n",
       "      <td>0.737867</td>\n",
       "    </tr>\n",
       "  </tbody>\n",
       "</table>\n",
       "</div>"
      ],
      "text/plain": [
       "  model_name           MSE           MAE          RMSE   R2Score\n",
       "0         lr  3.718602e+16  1.351990e+08  1.928368e+08  0.740568\n",
       "0         rd  3.774049e+16  1.364881e+08  1.942691e+08  0.734925\n",
       "0         ls  3.767760e+16  1.366258e+08  1.941072e+08  0.737867"
      ]
     },
     "execution_count": 12,
     "metadata": {},
     "output_type": "execute_result"
    }
   ],
   "source": [
    "from module.default import basic\n",
    "from module.error import model_err_measure\n",
    "basic(feature,target)\n",
    "model_err_measure(feature,target)"
   ]
  },
  {
   "cell_type": "code",
   "execution_count": 13,
   "metadata": {},
   "outputs": [],
   "source": [
    "feature=data[['행정동_코드_명_낙성대동', '행정동_코드_명_난곡동', '행정동_코드_명_난향동', '행정동_코드_명_남현동',\n",
    "       '행정동_코드_명_대학동', '행정동_코드_명_미성동', '행정동_코드_명_보라매동', '행정동_코드_명_삼성동',\n",
    "       '행정동_코드_명_서림동', '행정동_코드_명_서원동', '행정동_코드_명_성현동', '행정동_코드_명_신림동',\n",
    "       '행정동_코드_명_신사동', '행정동_코드_명_신원동', '행정동_코드_명_은천동', '행정동_코드_명_인헌동',\n",
    "       '행정동_코드_명_조원동', '행정동_코드_명_중앙동', '행정동_코드_명_청룡동', '행정동_코드_명_청림동',\n",
    "       '행정동_코드_명_행운동', '정규화-점포수', '정규화-개업_점포_수', '정규화-프랜차이즈_점포_수',\n",
    "       '정규화-총_직장_인구_수', '정규화-연령대_10_직장_인구_수', '정규화-점포수1', '정규화-개업_점포_수1',\n",
    "       '정규화-프랜차이즈_점포_수1', '정규화-총_직장_인구_수1', '정규화-연령대_10_직장_인구_수1',\n",
    "       '정규화-점포수^21', '정규화-점포수 개업_점포_수1', '정규화-점포수 프랜차이즈_점포_수1',\n",
    "       '정규화-점포수 총_직장_인구_수1', '정규화-점포수 연령대_10_직장_인구_수1', '정규화-개업_점포_수^21',\n",
    "       '정규화-개업_점포_수 프랜차이즈_점포_수1', '정규화-개업_점포_수 총_직장_인구_수1',\n",
    "       '정규화-개업_점포_수 연령대_10_직장_인구_수1', '정규화-프랜차이즈_점포_수^21',\n",
    "       '정규화-프랜차이즈_점포_수 총_직장_인구_수1', '정규화-프랜차이즈_점포_수 연령대_10_직장_인구_수1',\n",
    "       '정규화-총_직장_인구_수^21', '정규화-총_직장_인구_수 연령대_10_직장_인구_수1',\n",
    "       '정규화-연령대_10_직장_인구_수^21', '정규화-점포수2', '정규화-개업_점포_수2', '정규화-프랜차이즈_점포_수2',\n",
    "       '정규화-총_직장_인구_수2', '정규화-연령대_10_직장_인구_수2', '정규화-점포수^22',\n",
    "       '정규화-점포수 개업_점포_수2', '정규화-점포수 프랜차이즈_점포_수2', '정규화-점포수 총_직장_인구_수2',\n",
    "       '정규화-점포수 연령대_10_직장_인구_수2', '정규화-개업_점포_수^22', '정규화-개업_점포_수 프랜차이즈_점포_수2',\n",
    "       '정규화-개업_점포_수 총_직장_인구_수2', '정규화-개업_점포_수 연령대_10_직장_인구_수2',\n",
    "       '정규화-프랜차이즈_점포_수^22', '정규화-프랜차이즈_점포_수 총_직장_인구_수2',\n",
    "       '정규화-프랜차이즈_점포_수 연령대_10_직장_인구_수2', '정규화-총_직장_인구_수^22',\n",
    "       '정규화-총_직장_인구_수 연령대_10_직장_인구_수2', '정규화-연령대_10_직장_인구_수^22']]\n",
    "target = data['점포매출액']"
   ]
  },
  {
   "cell_type": "code",
   "execution_count": 14,
   "metadata": {},
   "outputs": [
    {
     "name": "stdout",
     "output_type": "stream",
     "text": [
      "<class 'sklearn.neighbors._regression.KNeighborsRegressor'>\n",
      "train :  0.8441797054804688\n",
      "test :  0.767851807271944\n",
      "--------------------------------------------------\n",
      "<class 'sklearn.linear_model._base.LinearRegression'>\n",
      "train :  0.8142355959359149\n",
      "test :  0.792197301156358\n",
      "--------------------------------------------------\n",
      "<class 'sklearn.linear_model._ridge.Ridge'>\n",
      "train :  0.8069219841496688\n",
      "test :  0.7891838307331323\n",
      "--------------------------------------------------\n",
      "<class 'sklearn.linear_model._coordinate_descent.Lasso'>\n",
      "train :  0.8072553617419107\n",
      "test :  0.7880137509333384\n",
      "--------------------------------------------------\n",
      "<class 'sklearn.ensemble._forest.RandomForestRegressor'>\n",
      "train :  0.9892971989284879\n",
      "test :  0.9330649852472697\n",
      "--------------------------------------------------\n"
     ]
    },
    {
     "data": {
      "text/html": [
       "<div>\n",
       "<style scoped>\n",
       "    .dataframe tbody tr th:only-of-type {\n",
       "        vertical-align: middle;\n",
       "    }\n",
       "\n",
       "    .dataframe tbody tr th {\n",
       "        vertical-align: top;\n",
       "    }\n",
       "\n",
       "    .dataframe thead th {\n",
       "        text-align: right;\n",
       "    }\n",
       "</style>\n",
       "<table border=\"1\" class=\"dataframe\">\n",
       "  <thead>\n",
       "    <tr style=\"text-align: right;\">\n",
       "      <th></th>\n",
       "      <th>model_name</th>\n",
       "      <th>MSE</th>\n",
       "      <th>MAE</th>\n",
       "      <th>RMSE</th>\n",
       "      <th>R2Score</th>\n",
       "    </tr>\n",
       "  </thead>\n",
       "  <tbody>\n",
       "    <tr>\n",
       "      <th>0</th>\n",
       "      <td>lr</td>\n",
       "      <td>3.654891e+16</td>\n",
       "      <td>1.408177e+08</td>\n",
       "      <td>1.911777e+08</td>\n",
       "      <td>0.717476</td>\n",
       "    </tr>\n",
       "    <tr>\n",
       "      <th>0</th>\n",
       "      <td>rd</td>\n",
       "      <td>3.846157e+16</td>\n",
       "      <td>1.450342e+08</td>\n",
       "      <td>1.961162e+08</td>\n",
       "      <td>0.698896</td>\n",
       "    </tr>\n",
       "    <tr>\n",
       "      <th>0</th>\n",
       "      <td>ls</td>\n",
       "      <td>3.895159e+16</td>\n",
       "      <td>1.455510e+08</td>\n",
       "      <td>1.973616e+08</td>\n",
       "      <td>0.699323</td>\n",
       "    </tr>\n",
       "  </tbody>\n",
       "</table>\n",
       "</div>"
      ],
      "text/plain": [
       "  model_name           MSE           MAE          RMSE   R2Score\n",
       "0         lr  3.654891e+16  1.408177e+08  1.911777e+08  0.717476\n",
       "0         rd  3.846157e+16  1.450342e+08  1.961162e+08  0.698896\n",
       "0         ls  3.895159e+16  1.455510e+08  1.973616e+08  0.699323"
      ]
     },
     "execution_count": 14,
     "metadata": {},
     "output_type": "execute_result"
    }
   ],
   "source": [
    "basic(feature,target)\n",
    "model_err_measure(feature,target)"
   ]
  },
  {
   "attachments": {},
   "cell_type": "markdown",
   "metadata": {},
   "source": [
    "### 정규화 안한거 쓰는게 예측률이 더 좋음"
   ]
  },
  {
   "cell_type": "code",
   "execution_count": 15,
   "metadata": {},
   "outputs": [],
   "source": [
    "feature = data[['점포수', '개업_점포_수', '프랜차이즈_점포_수', '총_직장_인구_수', '연령대_10_직장_인구_수', '점포수1',\n",
    "       '개업_점포_수1', '프랜차이즈_점포_수1', '총_직장_인구_수1', '연령대_10_직장_인구_수1', '점포수^21',\n",
    "       '점포수 개업_점포_수1', '점포수 프랜차이즈_점포_수1', '점포수 총_직장_인구_수1',\n",
    "       '점포수 연령대_10_직장_인구_수1', '개업_점포_수^21', '개업_점포_수 프랜차이즈_점포_수1',\n",
    "       '개업_점포_수 총_직장_인구_수1', '개업_점포_수 연령대_10_직장_인구_수1', '프랜차이즈_점포_수^21',\n",
    "       '프랜차이즈_점포_수 총_직장_인구_수1', '프랜차이즈_점포_수 연령대_10_직장_인구_수1', '총_직장_인구_수^21',\n",
    "       '총_직장_인구_수 연령대_10_직장_인구_수1', '연령대_10_직장_인구_수^21', '점포수2', '개업_점포_수2',\n",
    "       '프랜차이즈_점포_수2', '총_직장_인구_수2', '연령대_10_직장_인구_수2', '점포수^22',\n",
    "       '점포수 개업_점포_수2', '점포수 프랜차이즈_점포_수2', '점포수 총_직장_인구_수2',\n",
    "       '점포수 연령대_10_직장_인구_수2', '개업_점포_수^22', '개업_점포_수 프랜차이즈_점포_수2',\n",
    "       '개업_점포_수 총_직장_인구_수2', '개업_점포_수 연령대_10_직장_인구_수2', '프랜차이즈_점포_수^22',\n",
    "       '프랜차이즈_점포_수 총_직장_인구_수2', '프랜차이즈_점포_수 연령대_10_직장_인구_수2', '총_직장_인구_수^22',\n",
    "       '총_직장_인구_수 연령대_10_직장_인구_수2', '연령대_10_직장_인구_수^22', '행정동_코드_명_낙성대동',\n",
    "       '행정동_코드_명_난곡동', '행정동_코드_명_난향동', '행정동_코드_명_남현동', '행정동_코드_명_대학동',\n",
    "       '행정동_코드_명_미성동', '행정동_코드_명_보라매동', '행정동_코드_명_삼성동', '행정동_코드_명_서림동',\n",
    "       '행정동_코드_명_서원동', '행정동_코드_명_성현동', '행정동_코드_명_신림동', '행정동_코드_명_신사동',\n",
    "       '행정동_코드_명_신원동', '행정동_코드_명_은천동', '행정동_코드_명_인헌동', '행정동_코드_명_조원동',\n",
    "       '행정동_코드_명_중앙동', '행정동_코드_명_청룡동', '행정동_코드_명_청림동', '행정동_코드_명_행운동']]\n",
    "target = data['점포매출액']"
   ]
  },
  {
   "attachments": {},
   "cell_type": "markdown",
   "metadata": {},
   "source": [
    "### 그리드 서치 이용해서 최적의 하이퍼 파라미터 값 확인하기"
   ]
  },
  {
   "cell_type": "code",
   "execution_count": 16,
   "metadata": {},
   "outputs": [],
   "source": [
    "from sklearn.linear_model import LinearRegression , Ridge , Lasso\n",
    "from sklearn.model_selection import train_test_split , GridSearchCV"
   ]
  },
  {
   "cell_type": "code",
   "execution_count": 17,
   "metadata": {},
   "outputs": [],
   "source": [
    "params ={'alpha':[0.0001,0.001,0.01,0.1,1,10,100,1000,10000]}\n",
    "\n",
    "train_input, test_input, train_target , test_target  = \\\n",
    "    train_test_split(feature,target,test_size=0.2)"
   ]
  },
  {
   "cell_type": "code",
   "execution_count": 18,
   "metadata": {},
   "outputs": [
    {
     "data": {
      "text/plain": [
       "{'alpha': 0.01}"
      ]
     },
     "execution_count": 18,
     "metadata": {},
     "output_type": "execute_result"
    }
   ],
   "source": [
    "gs = GridSearchCV(\n",
    "    Ridge(),\n",
    "    params,\n",
    "    return_train_score=True\n",
    ")\n",
    "\n",
    "gs.fit(train_input,train_target)\n",
    "\n",
    "modelName = gs.best_estimator_\n",
    "modelName.score(test_input,test_target)\n",
    "gs.best_params_"
   ]
  },
  {
   "cell_type": "code",
   "execution_count": 19,
   "metadata": {},
   "outputs": [],
   "source": [
    "test = gs.cv_results_['mean_test_score']\n",
    "train = gs.cv_results_['mean_train_score']"
   ]
  },
  {
   "cell_type": "code",
   "execution_count": 20,
   "metadata": {},
   "outputs": [],
   "source": [
    "df=pd.concat([pd.Series(test),pd.Series(train)],axis=1)\n",
    "df.columns = ['test','train']"
   ]
  },
  {
   "cell_type": "code",
   "execution_count": 21,
   "metadata": {},
   "outputs": [],
   "source": [
    "df.index = np.log10(params['alpha'])"
   ]
  },
  {
   "cell_type": "code",
   "execution_count": 22,
   "metadata": {},
   "outputs": [
    {
     "data": {
      "text/html": [
       "<div>\n",
       "<style scoped>\n",
       "    .dataframe tbody tr th:only-of-type {\n",
       "        vertical-align: middle;\n",
       "    }\n",
       "\n",
       "    .dataframe tbody tr th {\n",
       "        vertical-align: top;\n",
       "    }\n",
       "\n",
       "    .dataframe thead th {\n",
       "        text-align: right;\n",
       "    }\n",
       "</style>\n",
       "<table border=\"1\" class=\"dataframe\">\n",
       "  <thead>\n",
       "    <tr style=\"text-align: right;\">\n",
       "      <th></th>\n",
       "      <th>test</th>\n",
       "      <th>train</th>\n",
       "    </tr>\n",
       "  </thead>\n",
       "  <tbody>\n",
       "    <tr>\n",
       "      <th>-4.0</th>\n",
       "      <td>0.777528</td>\n",
       "      <td>0.810281</td>\n",
       "    </tr>\n",
       "    <tr>\n",
       "      <th>-3.0</th>\n",
       "      <td>0.777974</td>\n",
       "      <td>0.810210</td>\n",
       "    </tr>\n",
       "    <tr>\n",
       "      <th>-2.0</th>\n",
       "      <td>0.779002</td>\n",
       "      <td>0.809437</td>\n",
       "    </tr>\n",
       "    <tr>\n",
       "      <th>-1.0</th>\n",
       "      <td>0.777474</td>\n",
       "      <td>0.806757</td>\n",
       "    </tr>\n",
       "    <tr>\n",
       "      <th>0.0</th>\n",
       "      <td>0.775439</td>\n",
       "      <td>0.803970</td>\n",
       "    </tr>\n",
       "    <tr>\n",
       "      <th>1.0</th>\n",
       "      <td>0.771196</td>\n",
       "      <td>0.796694</td>\n",
       "    </tr>\n",
       "    <tr>\n",
       "      <th>2.0</th>\n",
       "      <td>0.715257</td>\n",
       "      <td>0.733827</td>\n",
       "    </tr>\n",
       "    <tr>\n",
       "      <th>3.0</th>\n",
       "      <td>0.646990</td>\n",
       "      <td>0.658452</td>\n",
       "    </tr>\n",
       "    <tr>\n",
       "      <th>4.0</th>\n",
       "      <td>0.624809</td>\n",
       "      <td>0.633055</td>\n",
       "    </tr>\n",
       "  </tbody>\n",
       "</table>\n",
       "</div>"
      ],
      "text/plain": [
       "          test     train\n",
       "-4.0  0.777528  0.810281\n",
       "-3.0  0.777974  0.810210\n",
       "-2.0  0.779002  0.809437\n",
       "-1.0  0.777474  0.806757\n",
       " 0.0  0.775439  0.803970\n",
       " 1.0  0.771196  0.796694\n",
       " 2.0  0.715257  0.733827\n",
       " 3.0  0.646990  0.658452\n",
       " 4.0  0.624809  0.633055"
      ]
     },
     "execution_count": 22,
     "metadata": {},
     "output_type": "execute_result"
    }
   ],
   "source": [
    "df"
   ]
  },
  {
   "cell_type": "code",
   "execution_count": 23,
   "metadata": {},
   "outputs": [
    {
     "data": {
      "image/png": "[encoded data removed]",
      "text/plain": [
       "<Figure size 640x480 with 1 Axes>"
      ]
     },
     "metadata": {},
     "output_type": "display_data"
    }
   ],
   "source": [
    "df['train'].plot(\n",
    "    legend='train'\n",
    ")\n",
    "df['test'].plot(\n",
    "    legend='test'\n",
    ")\n",
    "\n",
    "plt.title('Ridge 모델 최적의 하이퍼파라미터 찾기')\n",
    "\n",
    "plt.legend()\n",
    "plt.xlabel('log alpha 값')\n",
    "plt.ylabel('예측률')\n",
    "\n",
    "plt.show()"
   ]
  },
  {
   "cell_type": "code",
   "execution_count": 24,
   "metadata": {},
   "outputs": [],
   "source": [
    "params ={'alpha':[0.1,1,10,10**2,10**3,10**4,10**5,10**6,10**7,10**8,10**9,10**10]}"
   ]
  },
  {
   "cell_type": "code",
   "execution_count": 25,
   "metadata": {},
   "outputs": [
    {
     "data": {
      "text/plain": [
       "{'alpha': 100000}"
      ]
     },
     "execution_count": 25,
     "metadata": {},
     "output_type": "execute_result"
    }
   ],
   "source": [
    "gs = GridSearchCV(\n",
    "    Lasso(),\n",
    "    params,\n",
    "    return_train_score=True\n",
    ")\n",
    "\n",
    "gs.fit(train_input,train_target)\n",
    "\n",
    "modelName = gs.best_estimator_\n",
    "modelName.score(test_input,test_target)\n",
    "gs.best_params_"
   ]
  },
  {
   "cell_type": "code",
   "execution_count": 26,
   "metadata": {},
   "outputs": [],
   "source": [
    "test = gs.cv_results_['mean_test_score']\n",
    "train = gs.cv_results_['mean_train_score']\n",
    "df=pd.concat([pd.Series(test),pd.Series(train)],axis=1)\n",
    "df.columns = ['test','train']\n",
    "df.index = np.log10(params['alpha'])"
   ]
  },
  {
   "cell_type": "code",
   "execution_count": 27,
   "metadata": {},
   "outputs": [
    {
     "data": {
      "text/html": [
       "<div>\n",
       "<style scoped>\n",
       "    .dataframe tbody tr th:only-of-type {\n",
       "        vertical-align: middle;\n",
       "    }\n",
       "\n",
       "    .dataframe tbody tr th {\n",
       "        vertical-align: top;\n",
       "    }\n",
       "\n",
       "    .dataframe thead th {\n",
       "        text-align: right;\n",
       "    }\n",
       "</style>\n",
       "<table border=\"1\" class=\"dataframe\">\n",
       "  <thead>\n",
       "    <tr style=\"text-align: right;\">\n",
       "      <th></th>\n",
       "      <th>test</th>\n",
       "      <th>train</th>\n",
       "    </tr>\n",
       "  </thead>\n",
       "  <tbody>\n",
       "    <tr>\n",
       "      <th>-1.0</th>\n",
       "      <td>0.774750</td>\n",
       "      <td>0.803554</td>\n",
       "    </tr>\n",
       "    <tr>\n",
       "      <th>0.0</th>\n",
       "      <td>0.774750</td>\n",
       "      <td>0.803554</td>\n",
       "    </tr>\n",
       "    <tr>\n",
       "      <th>1.0</th>\n",
       "      <td>0.774750</td>\n",
       "      <td>0.803554</td>\n",
       "    </tr>\n",
       "    <tr>\n",
       "      <th>2.0</th>\n",
       "      <td>0.774750</td>\n",
       "      <td>0.803554</td>\n",
       "    </tr>\n",
       "    <tr>\n",
       "      <th>3.0</th>\n",
       "      <td>0.774751</td>\n",
       "      <td>0.803551</td>\n",
       "    </tr>\n",
       "    <tr>\n",
       "      <th>4.0</th>\n",
       "      <td>0.774761</td>\n",
       "      <td>0.803519</td>\n",
       "    </tr>\n",
       "    <tr>\n",
       "      <th>5.0</th>\n",
       "      <td>0.774859</td>\n",
       "      <td>0.802970</td>\n",
       "    </tr>\n",
       "    <tr>\n",
       "      <th>6.0</th>\n",
       "      <td>0.772235</td>\n",
       "      <td>0.795104</td>\n",
       "    </tr>\n",
       "    <tr>\n",
       "      <th>7.0</th>\n",
       "      <td>0.706546</td>\n",
       "      <td>0.721201</td>\n",
       "    </tr>\n",
       "    <tr>\n",
       "      <th>8.0</th>\n",
       "      <td>0.609402</td>\n",
       "      <td>0.614732</td>\n",
       "    </tr>\n",
       "    <tr>\n",
       "      <th>9.0</th>\n",
       "      <td>0.588484</td>\n",
       "      <td>0.592091</td>\n",
       "    </tr>\n",
       "    <tr>\n",
       "      <th>10.0</th>\n",
       "      <td>0.243966</td>\n",
       "      <td>0.251653</td>\n",
       "    </tr>\n",
       "  </tbody>\n",
       "</table>\n",
       "</div>"
      ],
      "text/plain": [
       "           test     train\n",
       "-1.0   0.774750  0.803554\n",
       " 0.0   0.774750  0.803554\n",
       " 1.0   0.774750  0.803554\n",
       " 2.0   0.774750  0.803554\n",
       " 3.0   0.774751  0.803551\n",
       " 4.0   0.774761  0.803519\n",
       " 5.0   0.774859  0.802970\n",
       " 6.0   0.772235  0.795104\n",
       " 7.0   0.706546  0.721201\n",
       " 8.0   0.609402  0.614732\n",
       " 9.0   0.588484  0.592091\n",
       " 10.0  0.243966  0.251653"
      ]
     },
     "execution_count": 27,
     "metadata": {},
     "output_type": "execute_result"
    }
   ],
   "source": [
    "df"
   ]
  },
  {
   "cell_type": "code",
   "execution_count": 28,
   "metadata": {},
   "outputs": [
    {
     "data": {
      "image/png": "[encoded data removed]",
      "text/plain": [
       "<Figure size 640x480 with 1 Axes>"
      ]
     },
     "metadata": {},
     "output_type": "display_data"
    }
   ],
   "source": [
    "df['train'].plot(\n",
    "    legend='train'\n",
    ")\n",
    "df['test'].plot(\n",
    "    legend='test'\n",
    ")\n",
    "\n",
    "plt.title('Lasso 모델 최적의 하이퍼파라미터 찾기')\n",
    "\n",
    "plt.legend()\n",
    "plt.xlabel('log alpha 값')\n",
    "plt.ylabel('예측률')\n",
    "\n",
    "plt.show()"
   ]
  },
  {
   "attachments": {},
   "cell_type": "markdown",
   "metadata": {},
   "source": [
    "### Ridge 로 사용할 경우 alpah = 10\n",
    "### Lasso 로 사용할 경우 alpha = 10**6"
   ]
  },
  {
   "attachments": {},
   "cell_type": "markdown",
   "metadata": {},
   "source": [
    "### 머신러닝 모델 만들어서 저장하기"
   ]
  },
  {
   "attachments": {},
   "cell_type": "markdown",
   "metadata": {},
   "source": [
    "### 모델 만들기"
   ]
  },
  {
   "cell_type": "code",
   "execution_count": 29,
   "metadata": {},
   "outputs": [],
   "source": [
    "feature_com=feature.to_numpy()\n",
    "target_com=target.to_numpy()"
   ]
  },
  {
   "cell_type": "code",
   "execution_count": 30,
   "metadata": {},
   "outputs": [],
   "source": [
    "ridge=Ridge(alpha=10)\n",
    "lasso=Lasso(alpha=10**6)"
   ]
  },
  {
   "cell_type": "code",
   "execution_count": 31,
   "metadata": {},
   "outputs": [
    {
     "data": {
      "text/html": [
       "<style>#sk-container-id-1 {color: black;background-color: white;}#sk-container-id-1 pre{padding: 0;}#sk-container-id-1 div.sk-toggleable {background-color: white;}#sk-container-id-1 label.sk-toggleable__label {cursor: pointer;display: block;width: 100%;margin-bottom: 0;padding: 0.3em;box-sizing: border-box;text-align: center;}#sk-container-id-1 label.sk-toggleable__label-arrow:before {content: \"▸\";float: left;margin-right: 0.25em;color: #696969;}#sk-container-id-1 label.sk-toggleable__label-arrow:hover:before {color: black;}#sk-container-id-1 div.sk-estimator:hover label.sk-toggleable__label-arrow:before {color: black;}#sk-container-id-1 div.sk-toggleable__content {max-height: 0;max-width: 0;overflow: hidden;text-align: left;background-color: #f0f8ff;}#sk-container-id-1 div.sk-toggleable__content pre {margin: 0.2em;color: black;border-radius: 0.25em;background-color: #f0f8ff;}#sk-container-id-1 input.sk-toggleable__control:checked~div.sk-toggleable__content {max-height: 200px;max-width: 100%;overflow: auto;}#sk-container-id-1 input.sk-toggleable__control:checked~label.sk-toggleable__label-arrow:before {content: \"▾\";}#sk-container-id-1 div.sk-estimator input.sk-toggleable__control:checked~label.sk-toggleable__label {background-color: #d4ebff;}#sk-container-id-1 div.sk-label input.sk-toggleable__control:checked~label.sk-toggleable__label {background-color: #d4ebff;}#sk-container-id-1 input.sk-hidden--visually {border: 0;clip: rect(1px 1px 1px 1px);clip: rect(1px, 1px, 1px, 1px);height: 1px;margin: -1px;overflow: hidden;padding: 0;position: absolute;width: 1px;}#sk-container-id-1 div.sk-estimator {font-family: monospace;background-color: #f0f8ff;border: 1px dotted black;border-radius: 0.25em;box-sizing: border-box;margin-bottom: 0.5em;}#sk-container-id-1 div.sk-estimator:hover {background-color: #d4ebff;}#sk-container-id-1 div.sk-parallel-item::after {content: \"\";width: 100%;border-bottom: 1px solid gray;flex-grow: 1;}#sk-container-id-1 div.sk-label:hover label.sk-toggleable__label {background-color: #d4ebff;}#sk-container-id-1 div.sk-serial::before {content: \"\";position: absolute;border-left: 1px solid gray;box-sizing: border-box;top: 0;bottom: 0;left: 50%;z-index: 0;}#sk-container-id-1 div.sk-serial {display: flex;flex-direction: column;align-items: center;background-color: white;padding-right: 0.2em;padding-left: 0.2em;position: relative;}#sk-container-id-1 div.sk-item {position: relative;z-index: 1;}#sk-container-id-1 div.sk-parallel {display: flex;align-items: stretch;justify-content: center;background-color: white;position: relative;}#sk-container-id-1 div.sk-item::before, #sk-container-id-1 div.sk-parallel-item::before {content: \"\";position: absolute;border-left: 1px solid gray;box-sizing: border-box;top: 0;bottom: 0;left: 50%;z-index: -1;}#sk-container-id-1 div.sk-parallel-item {display: flex;flex-direction: column;z-index: 1;position: relative;background-color: white;}#sk-container-id-1 div.sk-parallel-item:first-child::after {align-self: flex-end;width: 50%;}#sk-container-id-1 div.sk-parallel-item:last-child::after {align-self: flex-start;width: 50%;}#sk-container-id-1 div.sk-parallel-item:only-child::after {width: 0;}#sk-container-id-1 div.sk-dashed-wrapped {border: 1px dashed gray;margin: 0 0.4em 0.5em 0.4em;box-sizing: border-box;padding-bottom: 0.4em;background-color: white;}#sk-container-id-1 div.sk-label label {font-family: monospace;font-weight: bold;display: inline-block;line-height: 1.2em;}#sk-container-id-1 div.sk-label-container {text-align: center;}#sk-container-id-1 div.sk-container {/* jupyter's `normalize.less` sets `[hidden] { display: none; }` but bootstrap.min.css set `[hidden] { display: none !important; }` so we also need the `!important` here to be able to override the default hidden behavior on the sphinx rendered scikit-learn.org. See: https://github.com/scikit-learn/scikit-learn/issues/21755 */display: inline-block !important;position: relative;}#sk-container-id-1 div.sk-text-repr-fallback {display: none;}</style><div id=\"sk-container-id-1\" class=\"sk-top-container\"><div class=\"sk-text-repr-fallback\"><pre>Lasso(alpha=1000000)</pre><b>In a Jupyter environment, please rerun this cell to show the HTML representation or trust the notebook. <br />On GitHub, the HTML representation is unable to render, please try loading this page with nbviewer.org.</b></div><div class=\"sk-container\" hidden><div class=\"sk-item\"><div class=\"sk-estimator sk-toggleable\"><input class=\"sk-toggleable__control sk-hidden--visually\" id=\"sk-estimator-id-1\" type=\"checkbox\" checked><label for=\"sk-estimator-id-1\" class=\"sk-toggleable__label sk-toggleable__label-arrow\">Lasso</label><div class=\"sk-toggleable__content\"><pre>Lasso(alpha=1000000)</pre></div></div></div></div></div>"
      ],
      "text/plain": [
       "Lasso(alpha=1000000)"
      ]
     },
     "execution_count": 31,
     "metadata": {},
     "output_type": "execute_result"
    }
   ],
   "source": [
    "ridge.fit(feature_com,target_com)\n",
    "lasso.fit(feature_com,target_com)"
   ]
  },
  {
   "attachments": {},
   "cell_type": "markdown",
   "metadata": {},
   "source": [
    "### 저장하기"
   ]
  },
  {
   "cell_type": "code",
   "execution_count": 32,
   "metadata": {},
   "outputs": [],
   "source": [
    "import joblib"
   ]
  },
  {
   "cell_type": "code",
   "execution_count": 33,
   "metadata": {},
   "outputs": [
    {
     "data": {
      "text/plain": [
       "['./Data2/gwanak_ridge_model.h5']"
      ]
     },
     "execution_count": 33,
     "metadata": {},
     "output_type": "execute_result"
    }
   ],
   "source": [
    "filename = './Data2/gwanak_ridge_model.h5'\n",
    "joblib.dump(ridge,filename=filename)"
   ]
  },
  {
   "cell_type": "code",
   "execution_count": 34,
   "metadata": {},
   "outputs": [
    {
     "data": {
      "text/plain": [
       "['./Data2/gwanak_lasso_model.h5']"
      ]
     },
     "execution_count": 34,
     "metadata": {},
     "output_type": "execute_result"
    }
   ],
   "source": [
    "filename = './Data2/gwanak_lasso_model.h5'\n",
    "joblib.dump(lasso,filename=filename)"
   ]
  },
  {
   "cell_type": "code",
   "execution_count": 35,
   "metadata": {},
   "outputs": [],
   "source": [
    "model = joblib.load('./Data2/gwanak_lasso_model.h5')"
   ]
  },
  {
   "cell_type": "code",
   "execution_count": 36,
   "metadata": {},
   "outputs": [],
   "source": [
    "test=data.iloc[3,56:].to_numpy()\n",
    "answer=data.iloc[3,10:11].to_numpy()"
   ]
  },
  {
   "cell_type": "code",
   "execution_count": 37,
   "metadata": {},
   "outputs": [],
   "source": [
    "predict=model.predict([test])"
   ]
  },
  {
   "cell_type": "code",
   "execution_count": 38,
   "metadata": {},
   "outputs": [
    {
     "data": {
      "text/plain": [
       "array([1034261967.9693904], dtype=object)"
      ]
     },
     "execution_count": 38,
     "metadata": {},
     "output_type": "execute_result"
    }
   ],
   "source": [
    "answer - predict"
   ]
  },
  {
   "attachments": {},
   "cell_type": "markdown",
   "metadata": {},
   "source": [
    "### .tflite 만들기"
   ]
  },
  {
   "attachments": {},
   "cell_type": "markdown",
   "metadata": {},
   "source": [
    "#### Keras 모델 만들기"
   ]
  },
  {
   "cell_type": "code",
   "execution_count": 44,
   "metadata": {},
   "outputs": [],
   "source": [
    "from keras.models import Sequential\n",
    "from keras.layers import Dense"
   ]
  },
  {
   "cell_type": "code",
   "execution_count": 45,
   "metadata": {},
   "outputs": [],
   "source": [
    "model = Sequential()\n",
    "model.add(Dense(5, input_dim=66, activation='relu'))"
   ]
  },
  {
   "cell_type": "code",
   "execution_count": 46,
   "metadata": {},
   "outputs": [],
   "source": [
    "model.add(Dense(3))"
   ]
  },
  {
   "cell_type": "code",
   "execution_count": 47,
   "metadata": {},
   "outputs": [],
   "source": [
    "model.add(Dense(1))"
   ]
  },
  {
   "cell_type": "code",
   "execution_count": 48,
   "metadata": {},
   "outputs": [],
   "source": [
    "model.compile(loss='mse', optimizer='adam')"
   ]
  },
  {
   "cell_type": "code",
   "execution_count": 49,
   "metadata": {},
   "outputs": [
    {
     "name": "stdout",
     "output_type": "stream",
     "text": [
      "Epoch 1/100\n"
     ]
    },
    {
     "name": "stderr",
     "output_type": "stream",
     "text": [
      "2023-02-21 00:58:45.735858: W tensorflow/core/platform/profile_utils/cpu_utils.cc:128] Failed to get CPU frequency: 0 Hz\n",
      "2023-02-21 00:58:45.926875: I tensorflow/core/grappler/optimizers/custom_graph_optimizer_registry.cc:113] Plugin optimizer for device_type GPU is enabled.\n"
     ]
    },
    {
     "name": "stdout",
     "output_type": "stream",
     "text": [
      "1852/1852 [==============================] - 8s 4ms/step - loss: 346108462079410176.0000\n",
      "Epoch 2/100\n",
      "1852/1852 [==============================] - 7s 4ms/step - loss: 345906151939899392.0000\n",
      "Epoch 3/100\n",
      "1852/1852 [==============================] - 7s 4ms/step - loss: 345363405512638464.0000\n",
      "Epoch 4/100\n",
      "1852/1852 [==============================] - 7s 4ms/step - loss: 344430195018563584.0000\n",
      "Epoch 5/100\n",
      "1852/1852 [==============================] - 8s 4ms/step - loss: 343060547127738368.0000\n",
      "Epoch 6/100\n",
      "1852/1852 [==============================] - 7s 4ms/step - loss: 341161072071278592.0000\n",
      "Epoch 7/100\n",
      "1852/1852 [==============================] - 7s 4ms/step - loss: 338709745256890368.0000\n",
      "Epoch 8/100\n",
      "1852/1852 [==============================] - 6s 3ms/step - loss: 335606923443306496.0000\n",
      "Epoch 9/100\n",
      "1852/1852 [==============================] - 6s 3ms/step - loss: 331950669323829248.0000\n",
      "Epoch 10/100\n",
      "1852/1852 [==============================] - 6s 3ms/step - loss: 327585298923913216.0000\n",
      "Epoch 11/100\n",
      "1852/1852 [==============================] - 7s 4ms/step - loss: 322453294041530368.0000\n",
      "Epoch 12/100\n",
      "1852/1852 [==============================] - 7s 4ms/step - loss: 316679071289311232.0000\n",
      "Epoch 13/100\n",
      "1852/1852 [==============================] - 7s 4ms/step - loss: 310299395587309568.0000\n",
      "Epoch 14/100\n",
      "1852/1852 [==============================] - 7s 4ms/step - loss: 303174319721152512.0000\n",
      "Epoch 15/100\n",
      "1852/1852 [==============================] - 6s 3ms/step - loss: 295662902956785664.0000\n",
      "Epoch 16/100\n",
      "1852/1852 [==============================] - 6s 3ms/step - loss: 287577283424681984.0000\n",
      "Epoch 17/100\n",
      "1852/1852 [==============================] - 7s 4ms/step - loss: 279217610619355136.0000\n",
      "Epoch 18/100\n",
      "1852/1852 [==============================] - 7s 4ms/step - loss: 270601700065148928.0000\n",
      "Epoch 19/100\n",
      "1852/1852 [==============================] - 7s 4ms/step - loss: 261740529698471936.0000\n",
      "Epoch 20/100\n",
      "1852/1852 [==============================] - 7s 4ms/step - loss: 252907843554902016.0000\n",
      "Epoch 21/100\n",
      "1852/1852 [==============================] - 7s 4ms/step - loss: 244386886137675776.0000\n",
      "Epoch 22/100\n",
      "1852/1852 [==============================] - 7s 4ms/step - loss: 236150977109950464.0000\n",
      "Epoch 23/100\n",
      "1852/1852 [==============================] - 8s 4ms/step - loss: 228244234375790592.0000\n",
      "Epoch 24/100\n",
      "1852/1852 [==============================] - 8s 4ms/step - loss: 220917999421358080.0000\n",
      "Epoch 25/100\n",
      "1852/1852 [==============================] - 8s 4ms/step - loss: 214068797894557696.0000\n",
      "Epoch 26/100\n",
      "1852/1852 [==============================] - 7s 4ms/step - loss: 207875747111501824.0000\n",
      "Epoch 27/100\n",
      "1852/1852 [==============================] - 7s 4ms/step - loss: 202353140723351552.0000\n",
      "Epoch 28/100\n",
      "1852/1852 [==============================] - 7s 4ms/step - loss: 197391027567329280.0000\n",
      "Epoch 29/100\n",
      "1852/1852 [==============================] - 7s 4ms/step - loss: 192895897615466496.0000\n",
      "Epoch 30/100\n",
      "1852/1852 [==============================] - 7s 4ms/step - loss: 188910391303077888.0000\n",
      "Epoch 31/100\n",
      "1852/1852 [==============================] - 7s 4ms/step - loss: 185431742671224832.0000\n",
      "Epoch 32/100\n",
      "1852/1852 [==============================] - 7s 4ms/step - loss: 182374172633071616.0000\n",
      "Epoch 33/100\n",
      "1852/1852 [==============================] - 7s 4ms/step - loss: 179619981904838656.0000\n",
      "Epoch 34/100\n",
      "1852/1852 [==============================] - 7s 4ms/step - loss: 177215332795023360.0000\n",
      "Epoch 35/100\n",
      "1852/1852 [==============================] - 7s 4ms/step - loss: 175076232923185152.0000\n",
      "Epoch 36/100\n",
      "1852/1852 [==============================] - 7s 4ms/step - loss: 173152431171960832.0000\n",
      "Epoch 37/100\n",
      "1852/1852 [==============================] - 7s 4ms/step - loss: 171423724015190016.0000\n",
      "Epoch 38/100\n",
      "1852/1852 [==============================] - 7s 4ms/step - loss: 169849068745392128.0000\n",
      "Epoch 39/100\n",
      "1852/1852 [==============================] - 7s 4ms/step - loss: 168397507238297600.0000\n",
      "Epoch 40/100\n",
      "1852/1852 [==============================] - 7s 4ms/step - loss: 167043029171961856.0000\n",
      "Epoch 41/100\n",
      "1852/1852 [==============================] - 6s 4ms/step - loss: 165794928855613440.0000\n",
      "Epoch 42/100\n",
      "1852/1852 [==============================] - 6s 3ms/step - loss: 164615771354300416.0000\n",
      "Epoch 43/100\n",
      "1852/1852 [==============================] - 6s 3ms/step - loss: 163515950488879104.0000\n",
      "Epoch 44/100\n",
      "1852/1852 [==============================] - 6s 3ms/step - loss: 162487632239001600.0000\n",
      "Epoch 45/100\n",
      "1852/1852 [==============================] - 6s 3ms/step - loss: 161492144719134720.0000\n",
      "Epoch 46/100\n",
      "1852/1852 [==============================] - 6s 3ms/step - loss: 160536256797736960.0000\n",
      "Epoch 47/100\n",
      "1852/1852 [==============================] - 7s 4ms/step - loss: 159627046580912128.0000\n",
      "Epoch 48/100\n",
      "1852/1852 [==============================] - 7s 4ms/step - loss: 158747128041046016.0000\n",
      "Epoch 49/100\n",
      "1852/1852 [==============================] - 8s 4ms/step - loss: 157888873316220928.0000\n",
      "Epoch 50/100\n",
      "1852/1852 [==============================] - 9s 5ms/step - loss: 157043005277077504.0000\n",
      "Epoch 51/100\n",
      "1852/1852 [==============================] - 8s 4ms/step - loss: 156215760216129536.0000\n",
      "Epoch 52/100\n",
      "1852/1852 [==============================] - 7s 4ms/step - loss: 155397122269642752.0000\n",
      "Epoch 53/100\n",
      "1852/1852 [==============================] - 7s 4ms/step - loss: 154617276467773440.0000\n",
      "Epoch 54/100\n",
      "1852/1852 [==============================] - 8s 4ms/step - loss: 153828033277460480.0000\n",
      "Epoch 55/100\n",
      "1852/1852 [==============================] - 7s 4ms/step - loss: 153037192359313408.0000\n",
      "Epoch 56/100\n",
      "1852/1852 [==============================] - 7s 4ms/step - loss: 152254099562168320.0000\n",
      "Epoch 57/100\n",
      "1852/1852 [==============================] - 7s 4ms/step - loss: 151495316279918592.0000\n",
      "Epoch 58/100\n",
      "1852/1852 [==============================] - 7s 4ms/step - loss: 150734746291273728.0000\n",
      "Epoch 59/100\n",
      "1852/1852 [==============================] - 7s 4ms/step - loss: 149981460567162880.0000\n",
      "Epoch 60/100\n",
      "1852/1852 [==============================] - 7s 4ms/step - loss: 149239169959329792.0000\n",
      "Epoch 61/100\n",
      "1852/1852 [==============================] - 7s 4ms/step - loss: 148488151977951232.0000\n",
      "Epoch 62/100\n",
      "1852/1852 [==============================] - 7s 4ms/step - loss: 147735020872663040.0000\n",
      "Epoch 63/100\n",
      "1852/1852 [==============================] - 7s 4ms/step - loss: 146995479043899392.0000\n",
      "Epoch 64/100\n",
      "1852/1852 [==============================] - 7s 4ms/step - loss: 146262603004379136.0000\n",
      "Epoch 65/100\n",
      "1852/1852 [==============================] - 7s 4ms/step - loss: 145524366845673472.0000\n",
      "Epoch 66/100\n",
      "1852/1852 [==============================] - 7s 4ms/step - loss: 144793036994379776.0000\n",
      "Epoch 67/100\n",
      "1852/1852 [==============================] - 7s 4ms/step - loss: 144054620447047680.0000\n",
      "Epoch 68/100\n",
      "1852/1852 [==============================] - 7s 4ms/step - loss: 143341003040882688.0000\n",
      "Epoch 69/100\n",
      "1852/1852 [==============================] - 7s 4ms/step - loss: 142609578700308480.0000\n",
      "Epoch 70/100\n",
      "1852/1852 [==============================] - 7s 4ms/step - loss: 141881031987822592.0000\n",
      "Epoch 71/100\n",
      "1852/1852 [==============================] - 7s 4ms/step - loss: 141153524657422336.0000\n",
      "Epoch 72/100\n",
      "1852/1852 [==============================] - 7s 4ms/step - loss: 140436308068663296.0000\n",
      "Epoch 73/100\n",
      "1852/1852 [==============================] - 7s 4ms/step - loss: 139728445918674944.0000\n",
      "Epoch 74/100\n",
      "1852/1852 [==============================] - 7s 4ms/step - loss: 139014630944014336.0000\n",
      "Epoch 75/100\n",
      "1852/1852 [==============================] - 7s 4ms/step - loss: 138294236079456256.0000\n",
      "Epoch 76/100\n",
      "1852/1852 [==============================] - 7s 4ms/step - loss: 137576254986518528.0000\n",
      "Epoch 77/100\n",
      "1852/1852 [==============================] - 7s 4ms/step - loss: 136862517321269248.0000\n",
      "Epoch 78/100\n",
      "1852/1852 [==============================] - 7s 4ms/step - loss: 136166998907289600.0000\n",
      "Epoch 79/100\n",
      "1852/1852 [==============================] - 7s 4ms/step - loss: 135440917506031616.0000\n",
      "Epoch 80/100\n",
      "1852/1852 [==============================] - 7s 4ms/step - loss: 134727308689801216.0000\n",
      "Epoch 81/100\n",
      "1852/1852 [==============================] - 7s 4ms/step - loss: 134021353505292288.0000\n",
      "Epoch 82/100\n",
      "1852/1852 [==============================] - 7s 4ms/step - loss: 133322141419438080.0000\n",
      "Epoch 83/100\n",
      "1852/1852 [==============================] - 7s 4ms/step - loss: 132613643614289920.0000\n",
      "Epoch 84/100\n",
      "1852/1852 [==============================] - 7s 4ms/step - loss: 131883636612923392.0000\n",
      "Epoch 85/100\n",
      "1852/1852 [==============================] - 7s 4ms/step - loss: 131188650774888448.0000\n",
      "Epoch 86/100\n",
      "1852/1852 [==============================] - 7s 4ms/step - loss: 130493398648881152.0000\n",
      "Epoch 87/100\n",
      "1852/1852 [==============================] - 7s 4ms/step - loss: 129780623056306176.0000\n",
      "Epoch 88/100\n",
      "1852/1852 [==============================] - 7s 4ms/step - loss: 129080895574376448.0000\n",
      "Epoch 89/100\n",
      "1852/1852 [==============================] - 7s 4ms/step - loss: 128373016244518912.0000\n",
      "Epoch 90/100\n",
      "1852/1852 [==============================] - 7s 4ms/step - loss: 127661640811282432.0000\n",
      "Epoch 91/100\n",
      "1852/1852 [==============================] - 7s 4ms/step - loss: 126959216089890816.0000\n",
      "Epoch 92/100\n",
      "1852/1852 [==============================] - 7s 4ms/step - loss: 126255674677002240.0000\n",
      "Epoch 93/100\n",
      "1852/1852 [==============================] - 7s 4ms/step - loss: 125560044593872896.0000\n",
      "Epoch 94/100\n",
      "1852/1852 [==============================] - 7s 4ms/step - loss: 124851881796173824.0000\n",
      "Epoch 95/100\n",
      "1852/1852 [==============================] - 7s 4ms/step - loss: 124153090617114624.0000\n",
      "Epoch 96/100\n",
      "1852/1852 [==============================] - 7s 4ms/step - loss: 123472303940960256.0000\n",
      "Epoch 97/100\n",
      "1852/1852 [==============================] - 7s 4ms/step - loss: 122777206433775616.0000\n",
      "Epoch 98/100\n",
      "1852/1852 [==============================] - 7s 4ms/step - loss: 122077745239818240.0000\n",
      "Epoch 99/100\n",
      "1852/1852 [==============================] - 7s 4ms/step - loss: 121385284842553344.0000\n",
      "Epoch 100/100\n",
      "1852/1852 [==============================] - 7s 4ms/step - loss: 120690273234714624.0000\n"
     ]
    },
    {
     "data": {
      "text/plain": [
       "<keras.callbacks.History at 0x2a934f460>"
      ]
     },
     "execution_count": 49,
     "metadata": {},
     "output_type": "execute_result"
    }
   ],
   "source": [
    "model.fit(feature, target, epochs=100, batch_size=1)"
   ]
  },
  {
   "cell_type": "code",
   "execution_count": 50,
   "metadata": {},
   "outputs": [
    {
     "name": "stdout",
     "output_type": "stream",
     "text": [
      "INFO:tensorflow:Assets written to: /var/folders/vf/8xq5853s7zdffbbxdf_fk_xc0000gn/T/tmp69h83zo7/assets\n"
     ]
    },
    {
     "name": "stderr",
     "output_type": "stream",
     "text": [
      "2023-02-21 01:10:21.496808: W tensorflow/compiler/mlir/lite/python/tf_tfl_flatbuffer_helpers.cc:362] Ignored output_format.\n",
      "2023-02-21 01:10:21.496965: W tensorflow/compiler/mlir/lite/python/tf_tfl_flatbuffer_helpers.cc:365] Ignored drop_control_dependency.\n",
      "2023-02-21 01:10:21.499731: I tensorflow/cc/saved_model/reader.cc:43] Reading SavedModel from: /var/folders/vf/8xq5853s7zdffbbxdf_fk_xc0000gn/T/tmp69h83zo7\n",
      "2023-02-21 01:10:21.502552: I tensorflow/cc/saved_model/reader.cc:81] Reading meta graph with tags { serve }\n",
      "2023-02-21 01:10:21.502559: I tensorflow/cc/saved_model/reader.cc:122] Reading SavedModel debug info (if present) from: /var/folders/vf/8xq5853s7zdffbbxdf_fk_xc0000gn/T/tmp69h83zo7\n",
      "2023-02-21 01:10:21.506378: I tensorflow/compiler/mlir/mlir_graph_optimization_pass.cc:354] MLIR V1 optimization pass is not enabled\n",
      "2023-02-21 01:10:21.509035: I tensorflow/cc/saved_model/loader.cc:228] Restoring SavedModel bundle.\n",
      "2023-02-21 01:10:21.564430: I tensorflow/cc/saved_model/loader.cc:212] Running initialization op on SavedModel bundle at path: /var/folders/vf/8xq5853s7zdffbbxdf_fk_xc0000gn/T/tmp69h83zo7\n",
      "2023-02-21 01:10:21.573425: I tensorflow/cc/saved_model/loader.cc:301] SavedModel load for tags { serve }; Status: success: OK. Took 73816 microseconds.\n",
      "2023-02-21 01:10:21.608183: I tensorflow/compiler/mlir/tensorflow/utils/dump_mlir_util.cc:263] disabling MLIR crash reproducer, set env var `MLIR_CRASH_REPRODUCER_DIRECTORY` to enable.\n"
     ]
    }
   ],
   "source": [
    "import tensorflow as tf\n",
    "\n",
    "converter = tf.lite.TFLiteConverter.from_keras_model(model)\n",
    "tflite_model = converter.convert()\n",
    "\n",
    "# Save the model.\n",
    "with open('model.tflite', 'wb') as f:\n",
    "  f.write(tflite_model)"
   ]
  },
  {
   "cell_type": "code",
   "execution_count": 57,
   "metadata": {},
   "outputs": [
    {
     "name": "stdout",
     "output_type": "stream",
     "text": [
      "1/1 [==============================] - 0s 73ms/step\n"
     ]
    },
    {
     "name": "stderr",
     "output_type": "stream",
     "text": [
      "2023-02-21 01:11:31.113566: I tensorflow/core/grappler/optimizers/custom_graph_optimizer_registry.cc:113] Plugin optimizer for device_type GPU is enabled.\n"
     ]
    },
    {
     "data": {
      "text/plain": [
       "array([[5.376924e+08]], dtype=float32)"
      ]
     },
     "execution_count": 57,
     "metadata": {},
     "output_type": "execute_result"
    }
   ],
   "source": [
    "model.predict(feature.iloc[0:1,:])"
   ]
  },
  {
   "cell_type": "code",
   "execution_count": 59,
   "metadata": {},
   "outputs": [
    {
     "data": {
      "text/plain": [
       "0       5.713964e+08\n",
       "1       1.337315e+08\n",
       "2       2.019276e+08\n",
       "3       1.604613e+08\n",
       "4       3.152107e+07\n",
       "            ...     \n",
       "1847    5.277256e+07\n",
       "1848    1.057875e+08\n",
       "1849    1.531167e+08\n",
       "1850    2.410726e+07\n",
       "1851    2.761950e+08\n",
       "Name: 점포매출액, Length: 1852, dtype: float64"
      ]
     },
     "execution_count": 59,
     "metadata": {},
     "output_type": "execute_result"
    }
   ],
   "source": [
    "target"
   ]
  },
  {
   "cell_type": "code",
   "execution_count": null,
   "metadata": {},
   "outputs": [],
   "source": [
    "5.376924e+08"
   ]
  }
 ],
 "metadata": {
  "kernelspec": {
   "display_name": "tensorflow",
   "language": "python",
   "name": "python3"
  },
  "language_info": {
   "codemirror_mode": {
    "name": "ipython",
    "version": 3
   },
   "file_extension": ".py",
   "mimetype": "text/x-python",
   "name": "python",
   "nbconvert_exporter": "python",
   "pygments_lexer": "ipython3",
   "version": "3.9.13"
  },
  "orig_nbformat": 4,
  "vscode": {
   "interpreter": {
    "hash": "a3680a952170aa4879024e73d39878b7aac962f0b16bced1a9689b2321800c8b"
   }
  }
 },
 "nbformat": 4,
 "nbformat_minor": 2
}
