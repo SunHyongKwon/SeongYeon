{
 "cells": [
  {
   "cell_type": "code",
   "execution_count": 1,
   "metadata": {},
   "outputs": [],
   "source": [
    "import pandas as pd\n",
    "import numpy as np\n",
    "import matplotlib.pyplot as plt\n",
    "from matplotlib import font_manager, rc\n",
    "import platform\n",
    "import warnings\n",
    "\n",
    "# seaborn 사용하기\n",
    "import seaborn as sns\n",
    "\n",
    "plt.rcParams['axes.unicode_minus'] = False\n",
    "\n",
    "if platform.system() == 'Darwin':\n",
    "    rc('font', family='AppleGothic') # os가 macos\n",
    "elif platform.system() == 'Windows':\n",
    "    path = 'c:/Windows/Fonts/malgun.ttf' # os가 windows\n",
    "    font_name = font_manager.FontProperties(fname=path).get_name()\n",
    "    rc('font', family=font_name)\n",
    "else:\n",
    "    print(\"Unknown System\")\n",
    "\n",
    "warnings.filterwarnings('ignore')"
   ]
  },
  {
   "cell_type": "code",
   "execution_count": 2,
   "metadata": {},
   "outputs": [
    {
     "data": {
      "text/html": [
       "<div>\n",
       "<style scoped>\n",
       "    .dataframe tbody tr th:only-of-type {\n",
       "        vertical-align: middle;\n",
       "    }\n",
       "\n",
       "    .dataframe tbody tr th {\n",
       "        vertical-align: top;\n",
       "    }\n",
       "\n",
       "    .dataframe thead th {\n",
       "        text-align: right;\n",
       "    }\n",
       "</style>\n",
       "<table border=\"1\" class=\"dataframe\">\n",
       "  <thead>\n",
       "    <tr style=\"text-align: right;\">\n",
       "      <th></th>\n",
       "      <th>기준_년_코드</th>\n",
       "      <th>기준_분기_코드</th>\n",
       "      <th>상권_구분_코드</th>\n",
       "      <th>상권_구분_코드_명</th>\n",
       "      <th>시군구코드</th>\n",
       "      <th>시군구명</th>\n",
       "      <th>행정동_코드</th>\n",
       "      <th>상권_코드</th>\n",
       "      <th>상권_코드_명</th>\n",
       "      <th>점포매출액</th>\n",
       "      <th>...</th>\n",
       "      <th>행정동_코드_명_신사동</th>\n",
       "      <th>행정동_코드_명_신원동</th>\n",
       "      <th>행정동_코드_명_은천동</th>\n",
       "      <th>행정동_코드_명_인헌동</th>\n",
       "      <th>행정동_코드_명_조원동</th>\n",
       "      <th>행정동_코드_명_중앙동</th>\n",
       "      <th>행정동_코드_명_청룡동</th>\n",
       "      <th>행정동_코드_명_청림동</th>\n",
       "      <th>행정동_코드_명_행운동</th>\n",
       "      <th>행정동_코드_명</th>\n",
       "    </tr>\n",
       "  </thead>\n",
       "  <tbody>\n",
       "    <tr>\n",
       "      <th>0</th>\n",
       "      <td>2014</td>\n",
       "      <td>2</td>\n",
       "      <td>A</td>\n",
       "      <td>골목상권</td>\n",
       "      <td>11620</td>\n",
       "      <td>관악구</td>\n",
       "      <td>11620525</td>\n",
       "      <td>1000804</td>\n",
       "      <td>당곡길</td>\n",
       "      <td>5.713964e+08</td>\n",
       "      <td>...</td>\n",
       "      <td>0</td>\n",
       "      <td>0</td>\n",
       "      <td>0</td>\n",
       "      <td>0</td>\n",
       "      <td>0</td>\n",
       "      <td>0</td>\n",
       "      <td>0</td>\n",
       "      <td>0</td>\n",
       "      <td>0</td>\n",
       "      <td>보라매동</td>\n",
       "    </tr>\n",
       "    <tr>\n",
       "      <th>1</th>\n",
       "      <td>2014</td>\n",
       "      <td>2</td>\n",
       "      <td>A</td>\n",
       "      <td>골목상권</td>\n",
       "      <td>11620</td>\n",
       "      <td>관악구</td>\n",
       "      <td>11620525</td>\n",
       "      <td>1000811</td>\n",
       "      <td>봉천로13길</td>\n",
       "      <td>1.337315e+08</td>\n",
       "      <td>...</td>\n",
       "      <td>0</td>\n",
       "      <td>0</td>\n",
       "      <td>0</td>\n",
       "      <td>0</td>\n",
       "      <td>0</td>\n",
       "      <td>0</td>\n",
       "      <td>0</td>\n",
       "      <td>0</td>\n",
       "      <td>0</td>\n",
       "      <td>보라매동</td>\n",
       "    </tr>\n",
       "    <tr>\n",
       "      <th>2</th>\n",
       "      <td>2014</td>\n",
       "      <td>2</td>\n",
       "      <td>A</td>\n",
       "      <td>골목상권</td>\n",
       "      <td>11620</td>\n",
       "      <td>관악구</td>\n",
       "      <td>11620545</td>\n",
       "      <td>1000783</td>\n",
       "      <td>관악로30길</td>\n",
       "      <td>2.019276e+08</td>\n",
       "      <td>...</td>\n",
       "      <td>0</td>\n",
       "      <td>0</td>\n",
       "      <td>0</td>\n",
       "      <td>0</td>\n",
       "      <td>0</td>\n",
       "      <td>0</td>\n",
       "      <td>0</td>\n",
       "      <td>1</td>\n",
       "      <td>0</td>\n",
       "      <td>청림동</td>\n",
       "    </tr>\n",
       "    <tr>\n",
       "      <th>3</th>\n",
       "      <td>2014</td>\n",
       "      <td>2</td>\n",
       "      <td>A</td>\n",
       "      <td>골목상권</td>\n",
       "      <td>11620</td>\n",
       "      <td>관악구</td>\n",
       "      <td>11620545</td>\n",
       "      <td>1000835</td>\n",
       "      <td>청림3길</td>\n",
       "      <td>1.604613e+08</td>\n",
       "      <td>...</td>\n",
       "      <td>0</td>\n",
       "      <td>0</td>\n",
       "      <td>0</td>\n",
       "      <td>0</td>\n",
       "      <td>0</td>\n",
       "      <td>0</td>\n",
       "      <td>0</td>\n",
       "      <td>1</td>\n",
       "      <td>0</td>\n",
       "      <td>청림동</td>\n",
       "    </tr>\n",
       "    <tr>\n",
       "      <th>4</th>\n",
       "      <td>2014</td>\n",
       "      <td>2</td>\n",
       "      <td>A</td>\n",
       "      <td>골목상권</td>\n",
       "      <td>11620</td>\n",
       "      <td>관악구</td>\n",
       "      <td>11620565</td>\n",
       "      <td>1000786</td>\n",
       "      <td>구암길</td>\n",
       "      <td>3.152107e+07</td>\n",
       "      <td>...</td>\n",
       "      <td>0</td>\n",
       "      <td>0</td>\n",
       "      <td>0</td>\n",
       "      <td>0</td>\n",
       "      <td>0</td>\n",
       "      <td>0</td>\n",
       "      <td>0</td>\n",
       "      <td>0</td>\n",
       "      <td>0</td>\n",
       "      <td>성현동</td>\n",
       "    </tr>\n",
       "  </tbody>\n",
       "</table>\n",
       "<p>5 rows × 77 columns</p>\n",
       "</div>"
      ],
      "text/plain": [
       "   기준_년_코드  기준_분기_코드 상권_구분_코드 상권_구분_코드_명  시군구코드 시군구명    행정동_코드    상권_코드  \\\n",
       "0     2014         2        A       골목상권  11620  관악구  11620525  1000804   \n",
       "1     2014         2        A       골목상권  11620  관악구  11620525  1000811   \n",
       "2     2014         2        A       골목상권  11620  관악구  11620545  1000783   \n",
       "3     2014         2        A       골목상권  11620  관악구  11620545  1000835   \n",
       "4     2014         2        A       골목상권  11620  관악구  11620565  1000786   \n",
       "\n",
       "  상권_코드_명         점포매출액  ...  행정동_코드_명_신사동  행정동_코드_명_신원동  행정동_코드_명_은천동  \\\n",
       "0     당곡길  5.713964e+08  ...             0             0             0   \n",
       "1  봉천로13길  1.337315e+08  ...             0             0             0   \n",
       "2  관악로30길  2.019276e+08  ...             0             0             0   \n",
       "3    청림3길  1.604613e+08  ...             0             0             0   \n",
       "4     구암길  3.152107e+07  ...             0             0             0   \n",
       "\n",
       "   행정동_코드_명_인헌동  행정동_코드_명_조원동  행정동_코드_명_중앙동  행정동_코드_명_청룡동  행정동_코드_명_청림동  \\\n",
       "0             0             0             0             0             0   \n",
       "1             0             0             0             0             0   \n",
       "2             0             0             0             0             1   \n",
       "3             0             0             0             0             1   \n",
       "4             0             0             0             0             0   \n",
       "\n",
       "   행정동_코드_명_행운동  행정동_코드_명  \n",
       "0             0      보라매동  \n",
       "1             0      보라매동  \n",
       "2             0       청림동  \n",
       "3             0       청림동  \n",
       "4             0       성현동  \n",
       "\n",
       "[5 rows x 77 columns]"
      ]
     },
     "execution_count": 2,
     "metadata": {},
     "output_type": "execute_result"
    }
   ],
   "source": [
    "data = pd.read_csv('./Data2/final.csv')\n",
    "data.head()"
   ]
  },
  {
   "cell_type": "code",
   "execution_count": 3,
   "metadata": {},
   "outputs": [
    {
     "data": {
      "text/plain": [
       "신사동     155\n",
       "청룡동     155\n",
       "난곡동     149\n",
       "미성동     124\n",
       "대학동     124\n",
       "서림동     124\n",
       "남현동     107\n",
       "신림동     105\n",
       "행운동      93\n",
       "낙성대동     93\n",
       "인헌동      93\n",
       "조원동      93\n",
       "삼성동      65\n",
       "보라매동     62\n",
       "청림동      62\n",
       "중앙동      62\n",
       "성현동      62\n",
       "신원동      31\n",
       "난향동      31\n",
       "은천동      31\n",
       "서원동      31\n",
       "Name: 행정동_코드_명, dtype: int64"
      ]
     },
     "execution_count": 3,
     "metadata": {},
     "output_type": "execute_result"
    }
   ],
   "source": []
  },
  {
   "cell_type": "code",
   "execution_count": 4,
   "metadata": {},
   "outputs": [
    {
     "data": {
      "text/plain": [
       "Index(['기준_년_코드', '기준_분기_코드', '상권_구분_코드', '상권_구분_코드_명', '시군구코드', '시군구명',\n",
       "       '행정동_코드', '상권_코드', '상권_코드_명', '점포매출액', '점포수', '개업_점포_수', '프랜차이즈_점포_수',\n",
       "       '총_직장_인구_수', '연령대_10_직장_인구_수', '점포수1', '개업_점포_수1', '프랜차이즈_점포_수1',\n",
       "       '총_직장_인구_수1', '연령대_10_직장_인구_수1', '점포수^21', '점포수 개업_점포_수1',\n",
       "       '점포수 프랜차이즈_점포_수1', '점포수 총_직장_인구_수1', '점포수 연령대_10_직장_인구_수1',\n",
       "       '개업_점포_수^21', '개업_점포_수 프랜차이즈_점포_수1', '개업_점포_수 총_직장_인구_수1',\n",
       "       '개업_점포_수 연령대_10_직장_인구_수1', '프랜차이즈_점포_수^21', '프랜차이즈_점포_수 총_직장_인구_수1',\n",
       "       '프랜차이즈_점포_수 연령대_10_직장_인구_수1', '총_직장_인구_수^21',\n",
       "       '총_직장_인구_수 연령대_10_직장_인구_수1', '연령대_10_직장_인구_수^21', '점포수2', '개업_점포_수2',\n",
       "       '프랜차이즈_점포_수2', '총_직장_인구_수2', '연령대_10_직장_인구_수2', '점포수^22',\n",
       "       '점포수 개업_점포_수2', '점포수 프랜차이즈_점포_수2', '점포수 총_직장_인구_수2',\n",
       "       '점포수 연령대_10_직장_인구_수2', '개업_점포_수^22', '개업_점포_수 프랜차이즈_점포_수2',\n",
       "       '개업_점포_수 총_직장_인구_수2', '개업_점포_수 연령대_10_직장_인구_수2', '프랜차이즈_점포_수^22',\n",
       "       '프랜차이즈_점포_수 총_직장_인구_수2', '프랜차이즈_점포_수 연령대_10_직장_인구_수2', '총_직장_인구_수^22',\n",
       "       '총_직장_인구_수 연령대_10_직장_인구_수2', '연령대_10_직장_인구_수^22', '행정동_코드_명_낙성대동',\n",
       "       '행정동_코드_명_난곡동', '행정동_코드_명_난향동', '행정동_코드_명_남현동', '행정동_코드_명_대학동',\n",
       "       '행정동_코드_명_미성동', '행정동_코드_명_보라매동', '행정동_코드_명_삼성동', '행정동_코드_명_서림동',\n",
       "       '행정동_코드_명_서원동', '행정동_코드_명_성현동', '행정동_코드_명_신림동', '행정동_코드_명_신사동',\n",
       "       '행정동_코드_명_신원동', '행정동_코드_명_은천동', '행정동_코드_명_인헌동', '행정동_코드_명_조원동',\n",
       "       '행정동_코드_명_중앙동', '행정동_코드_명_청룡동', '행정동_코드_명_청림동', '행정동_코드_명_행운동',\n",
       "       '행정동_코드_명'],\n",
       "      dtype='object')"
      ]
     },
     "execution_count": 4,
     "metadata": {},
     "output_type": "execute_result"
    }
   ],
   "source": [
    "data.columns"
   ]
  },
  {
   "cell_type": "code",
   "execution_count": 5,
   "metadata": {},
   "outputs": [],
   "source": [
    "data['총매출액'] = data['점포매출액'] * data['점포수']"
   ]
  },
  {
   "cell_type": "code",
   "execution_count": 8,
   "metadata": {},
   "outputs": [],
   "source": [
    "table = data.pivot_table(index=['기준_년_코드', '기준_분기_코드', '상권_구분_코드', '상권_구분_코드_명', '시군구코드', '시군구명',\n",
    "       '행정동_코드','행정동_코드_명'],values=['총매출액','점포수'],aggfunc=np.sum)"
   ]
  },
  {
   "cell_type": "code",
   "execution_count": 9,
   "metadata": {},
   "outputs": [],
   "source": [
    "table.reset_index(inplace=True)"
   ]
  },
  {
   "cell_type": "code",
   "execution_count": 11,
   "metadata": {},
   "outputs": [],
   "source": [
    "table['점포매출액'] = table['총매출액'] / table['점포수']"
   ]
  },
  {
   "cell_type": "code",
   "execution_count": 14,
   "metadata": {},
   "outputs": [
    {
     "data": {
      "image/png": "[encoded data removed]",
      "text/plain": [
       "<Figure size 640x480 with 1 Axes>"
      ]
     },
     "metadata": {},
     "output_type": "display_data"
    }
   ],
   "source": [
    "sns.boxplot(\n",
    "    x='행정동_코드_명',\n",
    "    y='점포매출액',\n",
    "    data=table\n",
    ")\n",
    "\n",
    "plt.xticks(rotation = 90)\n",
    "\n",
    "plt.show()"
   ]
  },
  {
   "cell_type": "code",
   "execution_count": 15,
   "metadata": {},
   "outputs": [
    {
     "data": {
      "text/plain": [
       "신사동     155\n",
       "청룡동     155\n",
       "난곡동     149\n",
       "미성동     124\n",
       "대학동     124\n",
       "서림동     124\n",
       "남현동     107\n",
       "신림동     105\n",
       "행운동      93\n",
       "낙성대동     93\n",
       "인헌동      93\n",
       "조원동      93\n",
       "삼성동      65\n",
       "보라매동     62\n",
       "청림동      62\n",
       "중앙동      62\n",
       "성현동      62\n",
       "신원동      31\n",
       "난향동      31\n",
       "은천동      31\n",
       "서원동      31\n",
       "Name: 행정동_코드_명, dtype: int64"
      ]
     },
     "execution_count": 15,
     "metadata": {},
     "output_type": "execute_result"
    }
   ],
   "source": [
    "data['행정동_코드_명'].value_counts()\n",
    "\n",
    "# 대학동으로 선정"
   ]
  },
  {
   "cell_type": "code",
   "execution_count": 16,
   "metadata": {},
   "outputs": [
    {
     "data": {
      "text/plain": [
       "Index(['기준_년_코드', '기준_분기_코드', '상권_구분_코드', '상권_구분_코드_명', '시군구코드', '시군구명',\n",
       "       '행정동_코드', '상권_코드', '상권_코드_명', '점포매출액', '점포수', '개업_점포_수', '프랜차이즈_점포_수',\n",
       "       '총_직장_인구_수', '연령대_10_직장_인구_수', '점포수1', '개업_점포_수1', '프랜차이즈_점포_수1',\n",
       "       '총_직장_인구_수1', '연령대_10_직장_인구_수1', '점포수^21', '점포수 개업_점포_수1',\n",
       "       '점포수 프랜차이즈_점포_수1', '점포수 총_직장_인구_수1', '점포수 연령대_10_직장_인구_수1',\n",
       "       '개업_점포_수^21', '개업_점포_수 프랜차이즈_점포_수1', '개업_점포_수 총_직장_인구_수1',\n",
       "       '개업_점포_수 연령대_10_직장_인구_수1', '프랜차이즈_점포_수^21', '프랜차이즈_점포_수 총_직장_인구_수1',\n",
       "       '프랜차이즈_점포_수 연령대_10_직장_인구_수1', '총_직장_인구_수^21',\n",
       "       '총_직장_인구_수 연령대_10_직장_인구_수1', '연령대_10_직장_인구_수^21', '점포수2', '개업_점포_수2',\n",
       "       '프랜차이즈_점포_수2', '총_직장_인구_수2', '연령대_10_직장_인구_수2', '점포수^22',\n",
       "       '점포수 개업_점포_수2', '점포수 프랜차이즈_점포_수2', '점포수 총_직장_인구_수2',\n",
       "       '점포수 연령대_10_직장_인구_수2', '개업_점포_수^22', '개업_점포_수 프랜차이즈_점포_수2',\n",
       "       '개업_점포_수 총_직장_인구_수2', '개업_점포_수 연령대_10_직장_인구_수2', '프랜차이즈_점포_수^22',\n",
       "       '프랜차이즈_점포_수 총_직장_인구_수2', '프랜차이즈_점포_수 연령대_10_직장_인구_수2', '총_직장_인구_수^22',\n",
       "       '총_직장_인구_수 연령대_10_직장_인구_수2', '연령대_10_직장_인구_수^22', '행정동_코드_명_낙성대동',\n",
       "       '행정동_코드_명_난곡동', '행정동_코드_명_난향동', '행정동_코드_명_남현동', '행정동_코드_명_대학동',\n",
       "       '행정동_코드_명_미성동', '행정동_코드_명_보라매동', '행정동_코드_명_삼성동', '행정동_코드_명_서림동',\n",
       "       '행정동_코드_명_서원동', '행정동_코드_명_성현동', '행정동_코드_명_신림동', '행정동_코드_명_신사동',\n",
       "       '행정동_코드_명_신원동', '행정동_코드_명_은천동', '행정동_코드_명_인헌동', '행정동_코드_명_조원동',\n",
       "       '행정동_코드_명_중앙동', '행정동_코드_명_청룡동', '행정동_코드_명_청림동', '행정동_코드_명_행운동',\n",
       "       '행정동_코드_명', '총매출액'],\n",
       "      dtype='object')"
      ]
     },
     "execution_count": 16,
     "metadata": {},
     "output_type": "execute_result"
    }
   ],
   "source": [
    "data.columns"
   ]
  },
  {
   "cell_type": "code",
   "execution_count": 21,
   "metadata": {},
   "outputs": [
    {
     "data": {
      "text/plain": [
       "0.5556155507559395"
      ]
     },
     "execution_count": 21,
     "metadata": {},
     "output_type": "execute_result"
    }
   ],
   "source": [
    "data['연령대_10_직장_인구_수'].mean()"
   ]
  },
  {
   "cell_type": "code",
   "execution_count": null,
   "metadata": {},
   "outputs": [],
   "source": []
  }
 ],
 "metadata": {
  "kernelspec": {
   "display_name": "tensorflow",
   "language": "python",
   "name": "python3"
  },
  "language_info": {
   "codemirror_mode": {
    "name": "ipython",
    "version": 3
   },
   "file_extension": ".py",
   "mimetype": "text/x-python",
   "name": "python",
   "nbconvert_exporter": "python",
   "pygments_lexer": "ipython3",
   "version": "3.9.13"
  },
  "orig_nbformat": 4,
  "vscode": {
   "interpreter": {
    "hash": "a3680a952170aa4879024e73d39878b7aac962f0b16bced1a9689b2321800c8b"
   }
  }
 },
 "nbformat": 4,
 "nbformat_minor": 2
}
